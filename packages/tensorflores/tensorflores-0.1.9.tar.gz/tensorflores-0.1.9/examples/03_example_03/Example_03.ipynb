{
 "cells": [
  {
   "cell_type": "markdown",
   "metadata": {},
   "source": [
    "# TensorFlores - Example 3"
   ]
  },
  {
   "cell_type": "markdown",
   "metadata": {},
   "source": [
    "## 1. Importing libraries"
   ]
  },
  {
   "cell_type": "code",
   "execution_count": null,
   "metadata": {},
   "outputs": [],
   "source": [
    "import sys, os\n",
    "path = os.getcwd().split('\\\\examples')[0]\n",
    "sys.path.append(path)"
   ]
  },
  {
   "cell_type": "code",
   "execution_count": null,
   "metadata": {},
   "outputs": [],
   "source": [
    "#!pip install seaborn"
   ]
  },
  {
   "cell_type": "code",
   "execution_count": null,
   "metadata": {},
   "outputs": [],
   "source": [
    "import pandas as pd\n",
    "import numpy as np\n",
    "import matplotlib.pyplot as plt\n",
    "import seaborn as sns\n",
    "\n",
    "from tensorflores.utils.clustering import ClusteringMethods\n",
    "from tensorflores.utils.quantization import Quantization\n",
    "from tensorflores.utils.cpp_generation import CppGeneration\n",
    "from tensorflores.utils.json_handle import JsonHandle"
   ]
  },
  {
   "cell_type": "markdown",
   "metadata": {},
   "source": [
    "## 2.  Create the TensorFlores class"
   ]
  },
  {
   "cell_type": "markdown",
   "metadata": {},
   "source": [
    "## 3. Load model from json"
   ]
  },
  {
   "cell_type": "code",
   "execution_count": null,
   "metadata": {},
   "outputs": [],
   "source": [
    "model_as_json = JsonHandle().load_json_model('./tensorflores_without_quant')\n",
    "model_as_json"
   ]
  },
  {
   "cell_type": "markdown",
   "metadata": {},
   "source": [
    "## 4. Post-Training Quantization"
   ]
  },
  {
   "cell_type": "markdown",
   "metadata": {},
   "source": [
    "### 4.1 Evolving post-training quantization"
   ]
  },
  {
   "cell_type": "markdown",
   "metadata": {},
   "source": [
    "#### 4.1.1 Choose the quantization method\n",
    "\n",
    "- Autocloud \n",
    "    - bias_clustering_method = Clustering_method.autocloud_biases(threshold_biases = 1.4148)\n",
    "    - weight_clustering_method = Clustering_method.autocloud_weight(threshold_weights = 1.4148)\n",
    "\n",
    "- Meanshift\n",
    "    - weight_clustering_method = Clustering_method.meanshift_weight(bandwidth_weights = 0.005)\n",
    "    - bias_clustering_method = Clustering_method.meanshift_biases(bandwidth_biases = 0.005)\n",
    "\n",
    "- Affinity Propagation\n",
    "    - weight_clustering_method = Clustering_method.affinity_propagation_weight(affinityprop_damping_bias = 0.65)\n",
    "    - bias_clustering_method = Clustering_method.affinity_propagation_biases(affinityprop_damping_weight = 0.7)\n",
    "\n",
    "- DBSTREAM\n",
    "    - weight_clustering_method = Clustering_method.dbstream_weight(clustering_threshold_bias = 0.8)\n",
    "    - bias_clustering_method = Clustering_method.dbstream_biases(clustering_threshold_weight = 0.1)"
   ]
  },
  {
   "cell_type": "code",
   "execution_count": null,
   "metadata": {},
   "outputs": [],
   "source": [
    "Clustering_method = ClusteringMethods()\n",
    "\n",
    "bias_clustering_method = Clustering_method.autocloud_biases(threshold_biases = 1.4)\n",
    "weight_clustering_method = Clustering_method.autocloud_weight(threshold_weights = 1.4)"
   ]
  },
  {
   "cell_type": "markdown",
   "metadata": {},
   "source": [
    "#### 4.1.2 Define the metric to calculate the distance between the centroids of the clusters and the values of weights and/or biases\n",
    "\n",
    "- \"euclidean\"\n",
    "- \"manhattan\"\n",
    "- \"minkowski\"\n",
    "- \"chebyshev\"\n",
    "- \"cosine\"\n",
    "- \"hamming\"\n",
    "- \"bray_curtis\"\n",
    "- \"jaccard\"\n",
    "- \"wasserstein\"\n",
    "- \"dtw\""
   ]
  },
  {
   "cell_type": "code",
   "execution_count": null,
   "metadata": {},
   "outputs": [],
   "source": [
    "model_as_json_quant = Quantization().post_training_quantization(json_data = model_as_json,\n",
    "                                        quantization_type = 'evolving', \n",
    "                                        distance_metric = \"dtw\", \n",
    "                                        bias_clustering_method = bias_clustering_method,\n",
    "                                        weight_clustering_method = weight_clustering_method)"
   ]
  },
  {
   "cell_type": "code",
   "execution_count": null,
   "metadata": {},
   "outputs": [],
   "source": [
    "model_as_json_quant"
   ]
  },
  {
   "cell_type": "markdown",
   "metadata": {},
   "source": [
    "#### 4.1.3 Save model as C++"
   ]
  },
  {
   "cell_type": "code",
   "execution_count": null,
   "metadata": {},
   "outputs": [],
   "source": [
    "cpp_model = CppGeneration().generate_cpp_from_json(json_data = model_as_json_quant, file_name = 'tensorflores_evolving_PQT')\n",
    "cpp_model"
   ]
  },
  {
   "cell_type": "markdown",
   "metadata": {},
   "source": [
    "### 4.2 Int8 post-training quantization"
   ]
  },
  {
   "cell_type": "markdown",
   "metadata": {},
   "source": [
    "#### 4.2.1 Apply int8 quantizaion"
   ]
  },
  {
   "cell_type": "code",
   "execution_count": null,
   "metadata": {},
   "outputs": [],
   "source": [
    "model_as_json_int8 = Quantization().post_training_quantization(json_data = model_as_json,\n",
    "                                        quantization_type = 'int8')"
   ]
  },
  {
   "cell_type": "markdown",
   "metadata": {},
   "source": [
    "#### 4.2.2 Save model as C++"
   ]
  },
  {
   "cell_type": "code",
   "execution_count": null,
   "metadata": {},
   "outputs": [],
   "source": [
    "model_as_json_int8"
   ]
  },
  {
   "cell_type": "code",
   "execution_count": null,
   "metadata": {},
   "outputs": [],
   "source": [
    "cpp_model_int8 = CppGeneration().generate_cpp_from_json(json_data = model_as_json_int8, file_name = 'tensorflores_int8_PQT')"
   ]
  },
  {
   "cell_type": "code",
   "execution_count": null,
   "metadata": {},
   "outputs": [],
   "source": [
    "df = pd.read_csv('./result/output_PQT_int8.csv', sep=';')"
   ]
  },
  {
   "cell_type": "code",
   "execution_count": null,
   "metadata": {},
   "outputs": [],
   "source": [
    "error = df['Predicted'].values - df['Real'].values "
   ]
  },
  {
   "cell_type": "code",
   "execution_count": null,
   "metadata": {},
   "outputs": [],
   "source": [
    "df['Time (us)'].values[1:].mean()"
   ]
  },
  {
   "cell_type": "code",
   "execution_count": null,
   "metadata": {},
   "outputs": [],
   "source": [
    "# Estatísticas\n",
    "error_mean = np.mean(error)\n",
    "error_std = np.std(error)\n",
    "error_max = np.max(error)\n",
    "error_min = np.min(error)\n",
    "\n",
    "# Criando a figura e os eixos\n",
    "fig, ax = plt.subplots(figsize=(8, 6))\n",
    "\n",
    "# Estilo do gráfico\n",
    "plt.style.use('ggplot')\n",
    "\n",
    "# Plotando histograma com KDE (Densidade) sem legenda\n",
    "sns.histplot(error, bins=30, color='coral', edgecolor='black', stat=\"density\", kde=True, legend=False, ax=ax)\n",
    "\n",
    "# Configuração dos eixos\n",
    "ax.set_xlabel('Error', fontsize=14)\n",
    "ax.set_ylabel('Density', fontsize=14)\n",
    "#ax.set_title('Error Distribution', fontsize=15)\n",
    "ax.tick_params(labelsize=14)\n",
    "ax.grid(True)\n",
    "\n",
    "# Definindo limites do eixo X\n",
    "#ax.set_xlim(error_min, error_max)\n",
    "\n",
    "# Exibir os valores estatísticos no gráfico\n",
    "textstr = '\\n'.join((\n",
    "    f'Max: {error_max:.4f}',\n",
    "    f'Min: {error_min:.4f}',\n",
    "    f'Mean: {error_mean:.4f}',\n",
    "    f'2x Std: {2 * error_std:.4f}'\n",
    "))\n",
    "props = dict(boxstyle='round', facecolor='gray', alpha=0.5)\n",
    "ax.text(0.95, 0.95, textstr, transform=ax.transAxes, fontsize=12,\n",
    "        verticalalignment='top', horizontalalignment='right', bbox=props)\n",
    "\n",
    "plt.savefig('./figures/example_04_float32.pdf', bbox_inches='tight', pad_inches=0, dpi=300)\n",
    "# Exibir gráfico\n",
    "plt.show()"
   ]
  },
  {
   "cell_type": "code",
   "execution_count": null,
   "metadata": {},
   "outputs": [],
   "source": [
    "df = pd.read_csv('./result/output_PQT_evolving.csv', sep=';')"
   ]
  },
  {
   "cell_type": "code",
   "execution_count": null,
   "metadata": {},
   "outputs": [],
   "source": [
    "error = df['Predicted'].values - df['Real'].values "
   ]
  },
  {
   "cell_type": "code",
   "execution_count": null,
   "metadata": {},
   "outputs": [],
   "source": [
    "# Estatísticas\n",
    "error_mean = np.mean(error)\n",
    "error_std = np.std(error)\n",
    "error_max = np.max(error)\n",
    "error_min = np.min(error)\n",
    "\n",
    "# Criando a figura e os eixos\n",
    "fig, ax = plt.subplots(figsize=(8, 6))\n",
    "\n",
    "# Estilo do gráfico\n",
    "plt.style.use('ggplot')\n",
    "\n",
    "# Plotando histograma com KDE (Densidade) sem legenda\n",
    "sns.histplot(error, bins=30, color='coral', edgecolor='black', stat=\"density\", kde=True, legend=False, ax=ax)\n",
    "\n",
    "# Configuração dos eixos\n",
    "ax.set_xlabel('Error', fontsize=14)\n",
    "ax.set_ylabel('Density', fontsize=14)\n",
    "#ax.set_title('Error Distribution', fontsize=15)\n",
    "ax.tick_params(labelsize=14)\n",
    "ax.grid(True)\n",
    "\n",
    "# Definindo limites do eixo X\n",
    "#ax.set_xlim(error_min, error_max)\n",
    "\n",
    "# Exibir os valores estatísticos no gráfico\n",
    "textstr = '\\n'.join((\n",
    "    f'Max: {error_max:.4f}',\n",
    "    f'Min: {error_min:.4f}',\n",
    "    f'Mean: {error_mean:.4f}',\n",
    "    f'2x Std: {2 * error_std:.4f}'\n",
    "))\n",
    "props = dict(boxstyle='round', facecolor='gray', alpha=0.5)\n",
    "ax.text(0.95, 0.95, textstr, transform=ax.transAxes, fontsize=12,\n",
    "        verticalalignment='top', horizontalalignment='right', bbox=props)\n",
    "\n",
    "plt.savefig('./figures/example_03_evolving.pdf', bbox_inches='tight', pad_inches=0, dpi=300)\n",
    "# Exibir gráfico\n",
    "plt.show()"
   ]
  }
 ],
 "metadata": {
  "kernelspec": {
   "display_name": ".venv",
   "language": "python",
   "name": "python3"
  },
  "language_info": {
   "codemirror_mode": {
    "name": "ipython",
    "version": 3
   },
   "file_extension": ".py",
   "mimetype": "text/x-python",
   "name": "python",
   "nbconvert_exporter": "python",
   "pygments_lexer": "ipython3",
   "version": "3.9.6"
  }
 },
 "nbformat": 4,
 "nbformat_minor": 2
}
