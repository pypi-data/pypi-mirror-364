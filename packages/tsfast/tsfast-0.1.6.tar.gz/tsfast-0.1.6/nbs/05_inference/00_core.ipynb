{
 "cells": [
  {
   "cell_type": "raw",
   "metadata": {},
   "source": [
    "---\n",
    "description: Pytorch Modules for Training Models for sequential data\n",
    "output-file: core.html\n",
    "title: Inference\n",
    "\n",
    "---\n",
    "\n"
   ]
  },
  {
   "cell_type": "code",
   "execution_count": null,
   "metadata": {},
   "outputs": [],
   "source": [
    "#| default_exp inference.core\n",
    "#| default_cls_lvl 3"
   ]
  },
  {
   "cell_type": "code",
   "execution_count": null,
   "metadata": {},
   "outputs": [],
   "source": [
    "#| export\n",
    "from tsfast.datasets.core import extract_mean_std_from_dls\n",
    "from tsfast.data.loader import reset_model_state\n",
    "from tsfast.models.layers import NormalizedModel\n",
    "import warnings\n",
    "from tsfast.prediction.core import PredictionCallback\n",
    "from fastai.learner import Learner\n",
    "import numpy as np\n",
    "import torch"
   ]
  },
  {
   "cell_type": "code",
   "execution_count": null,
   "metadata": {},
   "outputs": [],
   "source": [
    "#| export\n",
    "class InferenceWrapper:\n",
    "    def __init__(self,\n",
    "                 learner: Learner, # The trained fastai Learner object.\n",
    "                 device: str | torch.device = 'cpu' # Device for inference ('cpu', 'cuda').\n",
    "                ):\n",
    "        if not isinstance(learner, Learner) or not hasattr(learner, 'model') or not hasattr(learner, 'dls'): raise TypeError(\"Input 'learner' must be a valid fastai Learner with model and dls.\")\n",
    "        self.device = torch.device(device)\n",
    "        self.core_model = learner.model.to(self.device).eval() # Ensure model is on correct device and in eval mode\n",
    "        self._pred_cb: PredictionCallback | None = next((cb for cb in learner.cbs if isinstance(cb, PredictionCallback) and hasattr(cb, 'norm') and cb.norm is not None), None) # Find the first valid PredictionCallback\n",
    "        try:\n",
    "            mean, std = extract_mean_std_from_dls(learner.dls) # Extract normalization stats applied last during training\n",
    "            if mean is None or std is None: raise ValueError(\"Could not extract mean/std from learner.dls.\")\n",
    "\n",
    "            if self._pred_cb:\n",
    "                mean = torch.cat((mean,self._pred_cb.norm.mean.to(mean.device)),dim=-1)\n",
    "                std = torch.cat((std,self._pred_cb.norm.std.to(std.device)),dim=-1)\n",
    "\n",
    "            self.norm_model = NormalizedModel(self.core_model, mean, std).to(self.device).eval() # Wrap core model with the main normalization\n",
    "            self.expected_total_features = mean.shape[-1] # Store the feature dimension expected by the final normalization layer\n",
    "        except Exception as e: raise RuntimeError(f\"Failed to extract main normalization parameters from learner.dls: {e}\")\n",
    "\n",
    "    def _prepare_tensor(self, np_array: np.ndarray, name: str) -> torch.Tensor: # Converts numpy array to a 3D tensor [1, seq_len, features] on the correct device.\n",
    "        if not isinstance(np_array, np.ndarray): raise TypeError(f\"{name} must be a NumPy array.\")\n",
    "        if np_array.ndim == 1: np_array = np_array[None, :, None] # [seq_len] -> [1, seq_len, 1]\n",
    "        elif np_array.ndim == 2: np_array = np_array[None, :, :] # [seq_len, features] -> [1, seq_len, features]\n",
    "        elif np_array.ndim != 3 or np_array.shape[0] != 1: raise ValueError(f\"{name} must be 1D, 2D, or 3D with batch_size=1. Got shape: {np_array.shape}\")\n",
    "        return torch.from_numpy(np_array).float().to(self.device)\n",
    "\n",
    "    def _adjust_seq_len(self, tensor: torch.Tensor, target_len: int, name: str) -> torch.Tensor: # Adjusts sequence length (dim 1) of a [1, seq_len, features] tensor.\n",
    "        current_len = tensor.shape[1]\n",
    "        if current_len == target_len: return tensor\n",
    "        if current_len < target_len: return torch.nn.functional.pad(tensor, (0, 0, 0, target_len - current_len)) # Pads dim 1 (sequence) on the right\n",
    "        warnings.warn(f\"Truncating {name} seq len from {current_len} to {target_len}.\", UserWarning)\n",
    "        return tensor[:, :target_len, :] # Truncate sequence dimension\n",
    "\n",
    "    @torch.no_grad() # Disable gradients for inference\n",
    "    def inference(self,\n",
    "                  np_input: np.ndarray, # Input time series (u). Shape [seq_len], [seq_len, u_features], or [1, seq_len, u_features].\n",
    "                  np_output_init: np.ndarray | None = None # Initial output series (y_init). Required if trained with PredictionCallback or in Dataloader Prediction mode. Defaults to None.\n",
    "                 ) -> np.ndarray: # Prediction as numpy array. Shape: [seq_len, out_features].\n",
    "        u_tensor = self._prepare_tensor(np_input, \"np_input\")\n",
    "        input_seq_len = u_tensor.shape[1]\n",
    "        y_init_tensor = self._prepare_tensor(np_output_init, \"np_output_init\") if np_output_init is not None else None\n",
    "        \n",
    "        final_input = None\n",
    "        if self._pred_cb: # Mode: PredictionCallback Was Used During Training\n",
    "            if y_init_tensor is None: raise ValueError(\"Model trained with PredictionCallback requires 'np_output_init'.\")\n",
    "            if input_seq_len - self._pred_cb.t_offset <= 0: raise ValueError(f\"Input seq len ({input_seq_len}) too short for offset ({self._pred_cb.t_offset}).\")\n",
    "            if self._pred_cb.t_offset > 0:\n",
    "                u_tensor = u_tensor[:, self._pred_cb.t_offset:, :] # Apply offset to u\n",
    "                y_init_tensor = y_init_tensor[:, :-self._pred_cb.t_offset, :] # Adjust y length to match offset u\n",
    "            y_init_tensor = self._adjust_seq_len(y_init_tensor, input_seq_len, \"y_init\") # Adjust y length to match u\n",
    "            final_input = torch.cat((u_tensor, y_init_tensor), dim=-1)\n",
    "        elif y_init_tensor is not None and u_tensor.shape[-1] > self.expected_total_features: # Mode: No PredCB, but y_init provided (Dataloader Prediction)\n",
    "            y_init_tensor = self._adjust_seq_len(y_init_tensor, input_seq_len, \"y_init\") # Adjust y length to match u\n",
    "            final_input = torch.cat((u_tensor, y_init_tensor), dim=-1)\n",
    "        else: # Mode: No PredCB, no y_init provided (Simulation)\n",
    "            final_input = u_tensor\n",
    "\n",
    "        if final_input.shape[-1] != self.expected_total_features: raise ValueError(f\"Prepared input features ({final_input.shape[-1]}) != expected ({self.expected_total_features}).\")\n",
    "        reset_model_state(self.core_model) # Reset stateful layers (RNNs, etc.) before running the model\n",
    "        model_output = self.norm_model(final_input) # Apply main normalization and get model output\n",
    "        output_tensor = model_output[0] if isinstance(model_output, tuple) else model_output # Handle potential tuple output\n",
    "        if not isinstance(output_tensor, torch.Tensor): raise RuntimeError(f\"Model output is not a tensor. Type: {type(output_tensor)}\")\n",
    "        return output_tensor.squeeze(0).cpu().numpy() # Squeeze batch dim, move to CPU, convert to numpy\n",
    "\n",
    "    def __call__(self, np_input: np.ndarray, np_output_init: np.ndarray | None = None) -> np.ndarray: # Convenience method to call inference directly.\n",
    "        return self.inference(np_input, np_output_init)"
   ]
  },
  {
   "cell_type": "code",
   "execution_count": null,
   "metadata": {},
   "outputs": [],
   "source": [
    "from tsfast.datasets.core import create_dls_test\n",
    "from tsfast.learner import RNNLearner\n",
    "from tsfast.prediction import FranSysLearner"
   ]
  },
  {
   "cell_type": "code",
   "execution_count": null,
   "metadata": {},
   "outputs": [],
   "source": [
    "dls = create_dls_test().cpu()\n",
    "lrn = RNNLearner(dls)\n",
    "model = InferenceWrapper(lrn)"
   ]
  },
  {
   "cell_type": "code",
   "execution_count": null,
   "metadata": {},
   "outputs": [
    {
     "data": {
      "text/plain": [
       "(100, 1)"
      ]
     },
     "execution_count": null,
     "metadata": {},
     "output_type": "execute_result"
    }
   ],
   "source": [
    "model(np.random.randn(100, 1)).shape"
   ]
  },
  {
   "cell_type": "code",
   "execution_count": null,
   "metadata": {},
   "outputs": [
    {
     "data": {
      "text/plain": [
       "(100, 1)"
      ]
     },
     "execution_count": null,
     "metadata": {},
     "output_type": "execute_result"
    }
   ],
   "source": [
    "model(np.random.randn(100)).shape"
   ]
  },
  {
   "cell_type": "code",
   "execution_count": null,
   "metadata": {},
   "outputs": [
    {
     "data": {
      "text/plain": [
       "(100, 1)"
      ]
     },
     "execution_count": null,
     "metadata": {},
     "output_type": "execute_result"
    }
   ],
   "source": [
    "model(np.random.randn(1,100,1)).shape"
   ]
  },
  {
   "cell_type": "code",
   "execution_count": null,
   "metadata": {},
   "outputs": [],
   "source": [
    "lrn = FranSysLearner(dls.cpu(),10,attach_output=True)\n",
    "model = InferenceWrapper(lrn)"
   ]
  },
  {
   "cell_type": "code",
   "execution_count": null,
   "metadata": {},
   "outputs": [
    {
     "data": {
      "text/html": [
       "\n",
       "<style>\n",
       "    /* Turns off some styling */\n",
       "    progress {\n",
       "        /* gets rid of default border in Firefox and Opera. */\n",
       "        border: none;\n",
       "        /* Needs to be in here for Safari polyfill so background images work as expected. */\n",
       "        background-size: auto;\n",
       "    }\n",
       "    progress:not([value]), progress:not([value])::-webkit-progress-bar {\n",
       "        background: repeating-linear-gradient(45deg, #7e7e7e, #7e7e7e 10px, #5c5c5c 10px, #5c5c5c 20px);\n",
       "    }\n",
       "    .progress-bar-interrupted, .progress-bar-interrupted::-webkit-progress-bar {\n",
       "        background: #F44336;\n",
       "    }\n",
       "</style>\n"
      ],
      "text/plain": [
       "<IPython.core.display.HTML object>"
      ]
     },
     "metadata": {},
     "output_type": "display_data"
    },
    {
     "data": {
      "text/html": [],
      "text/plain": [
       "<IPython.core.display.HTML object>"
      ]
     },
     "metadata": {},
     "output_type": "display_data"
    }
   ],
   "source": [
    "#check output of model equivalent to lrn\n",
    "y_pred,y_true =lrn.get_preds(ds_idx=-1)"
   ]
  },
  {
   "cell_type": "code",
   "execution_count": null,
   "metadata": {},
   "outputs": [],
   "source": [
    "from tsfast.data import hdf_extract_sequence"
   ]
  },
  {
   "cell_type": "code",
   "execution_count": null,
   "metadata": {},
   "outputs": [],
   "source": [
    "#get raw sequence from test set without normalization\n",
    "test_path=dls[-1].items[0]['path']\n",
    "u = hdf_extract_sequence(test_path,['u'])\n",
    "y = hdf_extract_sequence(test_path,['y'])"
   ]
  },
  {
   "cell_type": "code",
   "execution_count": null,
   "metadata": {},
   "outputs": [],
   "source": [
    "from matplotlib import pyplot as plt"
   ]
  },
  {
   "cell_type": "code",
   "execution_count": null,
   "metadata": {},
   "outputs": [
    {
     "data": {
      "text/plain": [
       "(0.0, 100.0)"
      ]
     },
     "execution_count": null,
     "metadata": {},
     "output_type": "execute_result"
    },
    {
     "data": {
      "image/png": "[encoded data removed]",
      "text/plain": [
       "<Figure size 640x480 with 1 Axes>"
      ]
     },
     "metadata": {},
     "output_type": "display_data"
    }
   ],
   "source": [
    "plt.plot(y_pred[0])\n",
    "plt.plot(model(u,y))\n",
    "plt.xlim(0,100)"
   ]
  },
  {
   "cell_type": "code",
   "execution_count": null,
   "metadata": {},
   "outputs": [
    {
     "data": {
      "text/plain": [
       "(100, 1)"
      ]
     },
     "execution_count": null,
     "metadata": {},
     "output_type": "execute_result"
    }
   ],
   "source": [
    "model(np.random.randn(100, 1),np.random.randn(100, 1)).shape"
   ]
  },
  {
   "cell_type": "code",
   "execution_count": null,
   "metadata": {},
   "outputs": [],
   "source": [
    "lrn = FranSysLearner(dls,10,attach_output=False)\n",
    "model = InferenceWrapper(lrn)"
   ]
  },
  {
   "cell_type": "code",
   "execution_count": null,
   "metadata": {},
   "outputs": [
    {
     "data": {
      "text/plain": [
       "(100, 1)"
      ]
     },
     "execution_count": null,
     "metadata": {},
     "output_type": "execute_result"
    }
   ],
   "source": [
    "lrn = FranSysLearner(dls,10,attach_output=True)\n",
    "model = InferenceWrapper(lrn)\n",
    "model(np.random.randn(100, 1),np.random.randn(10, 1)).shape"
   ]
  },
  {
   "cell_type": "code",
   "execution_count": null,
   "metadata": {},
   "outputs": [],
   "source": [
    "#| include: false\n",
    "import nbdev; nbdev.nbdev_export()"
   ]
  }
 ],
 "metadata": {
  "kernelspec": {
   "display_name": "python3",
   "language": "python",
   "name": "python3"
  }
 },
 "nbformat": 4,
 "nbformat_minor": 4
}
