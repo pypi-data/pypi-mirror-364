{
 "cells": [
  {
   "cell_type": "markdown",
   "id": "c1ff544b",
   "metadata": {},
   "source": [
    "## Tuning VkFFT\n",
    "This is a quick demonstration of how to tune low-level VkFFT parameters to achieve the best possible performance - here illustrated on an Apple M1 pro GPU.\n",
    "\n",
    "*Remember: this is only useful for intensive applications, e.g. when using FFTs during a long iterative process. Otherwise, tuning is usually overkill !*"
   ]
  },
  {
   "cell_type": "markdown",
   "id": "60a9fc56",
   "metadata": {},
   "source": [
    "### Imports & test data\n",
    "Let's try a 2D transform of a (250,250,250) array:"
   ]
  },
  {
   "cell_type": "code",
   "execution_count": 1,
   "id": "e11faae5",
   "metadata": {},
   "outputs": [],
   "source": [
    "import timeit\n",
    "import numpy as np\n",
    "import pyopencl as cl\n",
    "import pyopencl.array as cla\n",
    "from pyvkfft.fft import fftn, ifftn\n",
    "from pyvkfft.opencl import VkFFTApp\n",
    "from pyvkfft.benchmark import bench_pyvkfft_opencl"
   ]
  },
  {
   "cell_type": "code",
   "execution_count": 2,
   "id": "728be9df",
   "metadata": {},
   "outputs": [
    {
     "name": "stdout",
     "output_type": "stream",
     "text": [
      "GPU: Apple M1 Pro\n"
     ]
    }
   ],
   "source": [
    "ctx = cl.create_some_context()\n",
    "gpu_name = ctx.devices[0].name\n",
    "print(\"GPU:\", gpu_name)\n",
    "cq = cl.CommandQueue(ctx)\n",
    "\n",
    "n = 250"
   ]
  },
  {
   "cell_type": "markdown",
   "id": "7a6fe691",
   "metadata": {},
   "source": [
    "### Using the benchmark function\n",
    "This function executes the tests in a separate process, so it should avoid issues consuming GPU resources. The drawback is that it is relatively slow (need to re-initialise the GPU context for every test)."
   ]
  },
  {
   "cell_type": "code",
   "execution_count": 3,
   "id": "7327f40a",
   "metadata": {},
   "outputs": [
    {
     "name": "stdout",
     "output_type": "stream",
     "text": [
      "Speed with default parameters:  107.4 Gbytes/s\n"
     ]
    }
   ],
   "source": [
    "res = bench_pyvkfft_opencl((n,n,n),ndim=2,gpu_name=gpu_name)\n",
    "print(f\"Speed with default parameters: {res[1]:6.1f} Gbytes/s\")"
   ]
  },
  {
   "cell_type": "markdown",
   "id": "aeb3e28b",
   "metadata": {},
   "source": [
    "Now try changing the `coalescedMemory` parameter (default is 32 for nvidia/amd, 64 for others) - test 4 values"
   ]
  },
  {
   "cell_type": "code",
   "execution_count": 4,
   "id": "2139c460",
   "metadata": {},
   "outputs": [
    {
     "name": "stdout",
     "output_type": "stream",
     "text": [
      "Speed:  109.3 Gbytes/s\n"
     ]
    }
   ],
   "source": [
    "args = {'tune_config':{'backend':'pyopencl',\n",
    "                       'coalescedMemory':[16,32,64,128]}}\n",
    "res = bench_pyvkfft_opencl((n,n,n),ndim=2,gpu_name=gpu_name, args=args)\n",
    "print(f\"Speed: {res[1]:6.1f} Gbytes/s\")\n"
   ]
  },
  {
   "cell_type": "markdown",
   "id": "6468e0aa",
   "metadata": {},
   "source": [
    "This did not work on the M1 pro - no real improvement.\n",
    "\n",
    "Let's try instead tuning the `aimThreads` parameter (defaults at 128)."
   ]
  },
  {
   "cell_type": "code",
   "execution_count": 5,
   "id": "f0245a8e",
   "metadata": {},
   "outputs": [
    {
     "name": "stdout",
     "output_type": "stream",
     "text": [
      "Speed:  156.9 Gbytes/s\n"
     ]
    }
   ],
   "source": [
    "args = {'tune_config':{'backend':'pyopencl',\n",
    "                       'aimThreads':[32, 64, 128]}}\n",
    "res = bench_pyvkfft_opencl((n,n,n),ndim=2,gpu_name=gpu_name, args=args)\n",
    "print(f\"Speed: {res[1]:6.1f} Gbytes/s\")\n"
   ]
  },
  {
   "cell_type": "markdown",
   "id": "a24b2c25",
   "metadata": {},
   "source": [
    "**Much better - 50% faster** !"
   ]
  },
  {
   "cell_type": "markdown",
   "id": "d4070669",
   "metadata": {},
   "source": [
    "### Using the simple FFT interface\n",
    "Some default tuning options can be used just by passing `tune=True` to the simple fft API functions.\n",
    "\n",
    "This will automatically test a few parameters (depending on the GPU) and choose the one yielding the best speed. This was tested on a few types of GPUs.\n",
    "\n",
    "Let's try first without tuning:"
   ]
  },
  {
   "cell_type": "code",
   "execution_count": 6,
   "id": "5f2887df",
   "metadata": {},
   "outputs": [
    {
     "name": "stdout",
     "output_type": "stream",
     "text": [
      "Without tuning: dt= 0.42657s\n"
     ]
    }
   ],
   "source": [
    "a= cla.empty(cq,(n,n,n), dtype=np.complex64)\n",
    "\n",
    "cq.finish()\n",
    "t0 = timeit.default_timer()\n",
    "for i in range(100):\n",
    "    a = fftn(a,a, ndim=2)\n",
    "cq.finish()\n",
    "dt = timeit.default_timer()-t0\n",
    "print(f\"Without tuning: dt={dt:8.5f}s\")"
   ]
  },
  {
   "cell_type": "markdown",
   "id": "7cca196c",
   "metadata": {},
   "source": [
    "Now with tuning (we do it twice, the first will cache the result)"
   ]
  },
  {
   "cell_type": "code",
   "execution_count": 7,
   "id": "abe04b99",
   "metadata": {},
   "outputs": [
    {
     "name": "stdout",
     "output_type": "stream",
     "text": [
      "With tuning: dt= 0.27237s\n"
     ]
    }
   ],
   "source": [
    "a = fftn(a,a, ndim=2, tune=True)\n",
    "cq.finish()\n",
    "t0 = timeit.default_timer()\n",
    "for i in range(100):\n",
    "    a = fftn(a,a, ndim=2, tune=True)\n",
    "cq.finish()\n",
    "dt = timeit.default_timer()-t0\n",
    "print(f\"With tuning: dt={dt:8.5f}s\")\n"
   ]
  },
  {
   "cell_type": "markdown",
   "id": "f4f409af",
   "metadata": {},
   "source": [
    "### Using the VkFFTApp API\n",
    "This allows either to:\n",
    "\n",
    "* choose a set of parameters to tune (similarly to `tune=True` in the simple fft API)\n",
    "* or pass directly some parameters\n",
    "\n",
    "Let's try first without tuning:"
   ]
  },
  {
   "cell_type": "code",
   "execution_count": 8,
   "id": "c7e035ad",
   "metadata": {},
   "outputs": [
    {
     "name": "stdout",
     "output_type": "stream",
     "text": [
      "Without tuning: dt= 0.40874s\n"
     ]
    }
   ],
   "source": [
    "a= cla.zeros(cq,(n,n,n), dtype=np.complex64)\n",
    "app = VkFFTApp(a.shape, a.dtype, cq, ndim=2, inplace=True)\n",
    "\n",
    "cq.finish()\n",
    "t0 = timeit.default_timer()\n",
    "for i in range(100):\n",
    "    a = app.fft(a,a)\n",
    "cq.finish()\n",
    "dt = timeit.default_timer()-t0\n",
    "print(f\"Without tuning: dt={dt:8.5f}s\")\n"
   ]
  },
  {
   "cell_type": "markdown",
   "id": "4f5bc116",
   "metadata": {},
   "source": [
    "Now with automatic tuning. The tuning part will be done immediately when creating the VkFFTApp, by creating temporary arrays."
   ]
  },
  {
   "cell_type": "code",
   "execution_count": 9,
   "id": "48dc8122",
   "metadata": {},
   "outputs": [
    {
     "name": "stdout",
     "output_type": "stream",
     "text": [
      "With auto-tuning: dt= 0.27309s\n"
     ]
    }
   ],
   "source": [
    " a= cla.zeros(cq,(n,n,n), dtype=np.complex64)\n",
    "app = VkFFTApp(a.shape, a.dtype, cq, ndim=2, inplace=True,\n",
    "              tune_config={'backend':'pyopencl',\n",
    "                           'aimThreads':[32, 64, 128]})\n",
    "\n",
    "cq.finish()\n",
    "t0 = timeit.default_timer()\n",
    "for i in range(100):\n",
    "    a = app.fft(a,a)\n",
    "cq.finish()\n",
    "dt = timeit.default_timer()-t0\n",
    "print(f\"With auto-tuning: dt={dt:8.5f}s\")\n"
   ]
  },
  {
   "cell_type": "markdown",
   "id": "250876da",
   "metadata": {},
   "source": [
    "The other approach consists in directly giving the known optimised parameter:"
   ]
  },
  {
   "cell_type": "code",
   "execution_count": 10,
   "id": "f5035008",
   "metadata": {},
   "outputs": [
    {
     "name": "stdout",
     "output_type": "stream",
     "text": [
      "With tuned parameter: dt= 0.27962s\n"
     ]
    }
   ],
   "source": [
    "a= cla.empty(cq,(n,n,n), dtype=np.complex64)\n",
    "app = VkFFTApp(a.shape, a.dtype, cq, ndim=2, inplace=True, aimThreads=64)\n",
    "\n",
    "cq.finish()\n",
    "t0 = timeit.default_timer()\n",
    "for i in range(100):\n",
    "    a = app.fft(a,a)\n",
    "cq.finish()\n",
    "dt = timeit.default_timer()-t0\n",
    "print(f\"With tuned parameter: dt={dt:8.5f}s\")\n"
   ]
  }
 ],
 "metadata": {
  "kernelspec": {
   "display_name": "Python 3 (ipykernel)",
   "language": "python",
   "name": "python3"
  },
  "language_info": {
   "codemirror_mode": {
    "name": "ipython",
    "version": 3
   },
   "file_extension": ".py",
   "mimetype": "text/x-python",
   "name": "python",
   "nbconvert_exporter": "python",
   "pygments_lexer": "ipython3",
   "version": "3.10.6"
  }
 },
 "nbformat": 4,
 "nbformat_minor": 5
}
