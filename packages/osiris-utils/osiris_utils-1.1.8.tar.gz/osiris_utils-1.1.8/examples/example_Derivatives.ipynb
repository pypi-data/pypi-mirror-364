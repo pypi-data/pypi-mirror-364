{
 "cells": [
  {
   "cell_type": "code",
   "execution_count": null,
   "metadata": {},
   "outputs": [],
   "source": [
    "import osiris_utils as ou \n",
    "import numpy as np\n",
    "import matplotlib.pyplot as plt\n",
    "from matplotlib.colors import LogNorm"
   ]
  },
  {
   "cell_type": "markdown",
   "metadata": {},
   "source": [
    "# Derivatives using `Derivative_Simulation` object\n",
    "\n",
    "In this notebook we will show how to use the `Derivative_Simulation` object to compute derivatives of a function with respect to the time and space coordinates. \n",
    "\n",
    "As an example, we will compute the residual of the continuity equation of a thermal plasma, in the x-direction, this is, the LHS of:"
   ]
  },
  {
   "cell_type": "markdown",
   "metadata": {},
   "source": [
    "$$\n",
    "\\frac{\\partial n}{\\partial t} + \\frac{\\partial}{\\partial x}(n v_1) = 0\n",
    "$$"
   ]
  },
  {
   "cell_type": "markdown",
   "metadata": {},
   "source": [
    "For this, we need the derivatives of the density `n` and the velocity `v1` with respect to the time and space coordinates. The `Derivative_Simulation` object will compute these derivatives using finite differences."
   ]
  },
  {
   "cell_type": "markdown",
   "metadata": {},
   "source": [
    "Initialize the simulation object:"
   ]
  },
  {
   "cell_type": "code",
   "execution_count": null,
   "metadata": {},
   "outputs": [],
   "source": [
    "sim = ou.Simulation(input_deck_path=\"example_data/thermal.1d\")"
   ]
  },
  {
   "cell_type": "markdown",
   "metadata": {},
   "source": [
    "Initialize the `Derivative_Simulation` objects with respect to the time and $x_1$ coordinate, since these are the derivatives that we want to compute."
   ]
  },
  {
   "cell_type": "code",
   "execution_count": null,
   "metadata": {},
   "outputs": [],
   "source": [
    "d_dt = ou.Derivative_Simulation(sim, \"t\")\n",
    "d_dx1 = ou.Derivative_Simulation(sim, \"x1\")"
   ]
  },
  {
   "cell_type": "markdown",
   "metadata": {},
   "source": [
    "Note that the derivative with respect to $x_1$ is applied not to one diagnostic, but to the product of two diagnostics. We can take advantage of the operations between diagnostics to compute this \"new\" diagnostic, the product of the density and the fluid velocity."
   ]
  },
  {
   "cell_type": "code",
   "execution_count": null,
   "metadata": {},
   "outputs": [],
   "source": [
    "# Create a new diagnostic n * vfl1\n",
    "nVfl1 = sim[\"electrons\"][\"n\"] * sim[\"electrons\"][\"vfl1\"] \n",
    "# Add this to the simulation (electrons)\n",
    "sim[\"electrons\"].add_diagnostic(nVfl1, \"nVfl1\")"
   ]
  },
  {
   "cell_type": "markdown",
   "metadata": {},
   "source": [
    "Now that we have the diagnostics needed in our `Simulation` object, we can directly reconstruct the equation desired:"
   ]
  },
  {
   "cell_type": "code",
   "execution_count": null,
   "metadata": {},
   "outputs": [],
   "source": [
    "continuity = d_dt[\"electrons\"][\"n\"] + d_dx1[\"electrons\"][\"nVfl1\"]"
   ]
  },
  {
   "cell_type": "markdown",
   "metadata": {},
   "source": [
    "This is a new diagnostic, and we can now access to its iterations using indexing"
   ]
  },
  {
   "cell_type": "code",
   "execution_count": null,
   "metadata": {},
   "outputs": [],
   "source": [
    "plt.figure(figsize=(8, 6))\n",
    "plt.title(\"Continuity equation residuals\")\n",
    "plt.xlabel(continuity.axis[0][\"plot_label\"])\n",
    "\n",
    "plt.plot(continuity.x, continuity[10], label=\"Continuity equation\")\n",
    "plt.legend()\n",
    "plt.xlim(continuity.x[0], continuity.x[-1])\n",
    "plt.show()"
   ]
  },
  {
   "cell_type": "code",
   "execution_count": null,
   "metadata": {},
   "outputs": [],
   "source": [
    "plt.plot(continuity.x, ou.integrate(continuity[10], continuity.dx), label=r\"$\\int \\partial_t n + \\partial_x( n v_{fl1}) dx$\")\n",
    "plt.legend()\n",
    "plt.xlim(continuity.x[0], continuity.x[-1])\n",
    "plt.show()"
   ]
  }
 ],
 "metadata": {
  "kernelspec": {
   "display_name": "tese-env",
   "language": "python",
   "name": "python3"
  },
  "language_info": {
   "codemirror_mode": {
    "name": "ipython",
    "version": 3
   },
   "file_extension": ".py",
   "mimetype": "text/x-python",
   "name": "python",
   "nbconvert_exporter": "python",
   "pygments_lexer": "ipython3",
   "version": "3.12.8"
  }
 },
 "nbformat": 4,
 "nbformat_minor": 2
}
