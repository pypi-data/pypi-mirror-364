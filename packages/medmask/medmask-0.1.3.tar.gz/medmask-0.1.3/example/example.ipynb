{
 "cells": [
  {
   "cell_type": "markdown",
   "metadata": {
    "vscode": {
     "languageId": "raw"
    }
   },
   "source": [
    "# MedMask Library Advantages Demo\n",
    "\n",
    "This example demonstrates the advantages of MedMask library for medical image segmentation mask processing.\n",
    "\n",
    "## Core Benefits\n",
    "\n",
    "1. **File Management** - 117 scattered files → 1 archive file\n",
    "2. **Storage Optimization** - Zstandard compression, significant space reduction\n",
    "3. **Semantic Mapping** - Built-in bidirectional name-to-label mapping\n",
    "4. **Performance Boost** - Optimized I/O and batch operations\n",
    "5. **Simple API** - Complex operations in one line of code\n",
    "6. **Overlapping Masks** - Multi-granularity mask combinations\n",
    "\n",
    "## Data\n",
    "\n",
    "Using TotalSegmentator's 117 organ segmentation results to compare two processing approaches.\n"
   ]
  },
  {
   "cell_type": "code",
   "execution_count": 2,
   "metadata": {},
   "outputs": [
    {
     "name": "stdout",
     "output_type": "stream",
     "text": [
      "Data: 117 organ files\n",
      "Image: (294, 192, 179) @ 1.5mm\n",
      "Traditional total size: 5.12 MB\n"
     ]
    }
   ],
   "source": [
    "import os\n",
    "import time\n",
    "import numpy as np\n",
    "import nibabel as nib\n",
    "from pathlib import Path\n",
    "\n",
    "# Import MedMask library\n",
    "import sys\n",
    "sys.path.append('../')\n",
    "from medmask import SegmentationMask, MaskArchive\n",
    "from spacetransformer import Space\n",
    "\n",
    "# Data preparation\n",
    "data_dir = Path(\"s0000\")\n",
    "all_files = sorted(data_dir.glob(\"*.nii.gz\"))\n",
    "first_file = nib.load(all_files[0])\n",
    "space = Space.from_nifti(first_file)\n",
    "\n",
    "print(f\"Data: {len(all_files)} organ files\")\n",
    "print(f\"Image: {first_file.get_fdata().shape} @ {space.spacing[0]:.1f}mm\")\n",
    "\n",
    "# Calculate traditional approach total size\n",
    "traditional_size = sum(f.stat().st_size for f in all_files)\n",
    "print(f\"Traditional total size: {traditional_size / (1024*1024):.2f} MB\")\n"
   ]
  },
  {
   "cell_type": "markdown",
   "metadata": {
    "vscode": {
     "languageId": "raw"
    }
   },
   "source": [
    "## Two Processing Approaches Comparison\n",
    "\n",
    "### Approach 1: Independent Semantic Masks\n",
    "Each organ as independent `SegmentationMask`, easier individual access and modification, larger size, suitable for overlapping mask management\n",
    "\n",
    "### Approach 2: Merged Multi-label Mask  \n",
    "All organs merged into one multi-label mask, using `add_label()` for unified management, smaller size, suitable for non-overlapping mask management\n"
   ]
  },
  {
   "cell_type": "code",
   "execution_count": 3,
   "metadata": {},
   "outputs": [
    {
     "name": "stdout",
     "output_type": "stream",
     "text": [
      "Approach 1: Creating independent mask archive...\n"
     ]
    },
    {
     "name": "stderr",
     "output_type": "stream",
     "text": [
      "/tmp/ipykernel_3141567/4062836606.py:8: DeprecationWarning: __array__ implementation doesn't accept a copy keyword, so passing copy=False failed. __array__ must implement 'dtype' and 'copy' keyword arguments. To learn more, see the migration guide https://numpy.org/devdocs/numpy_2_0_migration_guide.html#adapting-to-changes-in-the-copy-keyword\n",
      "  mask_data = np.array(nii.dataobj)\n"
     ]
    },
    {
     "name": "stdout",
     "output_type": "stream",
     "text": [
      "Approach 2: Creating merged mask archive...\n",
      "\n",
      "Creation time: Approach 1 8.1s, Approach 2 6.4s\n",
      "File size: Approach 1 158KB, Approach 2 91KB\n",
      "Compression ratio: Approach 1 33.1:1, Approach 2 57.6:1\n"
     ]
    }
   ],
   "source": [
    "# Approach 1: Independent semantic masks\n",
    "print(\"Approach 1: Creating independent mask archive...\")\n",
    "\n",
    "read_time = time.time()\n",
    "all_mask_data = {}\n",
    "for i, organ_file in enumerate(all_files):\n",
    "    nii = nib.load(organ_file)\n",
    "    mask_data = np.array(nii.dataobj)\n",
    "    all_mask_data[organ_file] = mask_data\n",
    "read_time = time.time() - read_time\n",
    "\n",
    "start_time = time.time()\n",
    "archive1 = MaskArchive(\"organs_individual.mska\", mode=\"w\", space=space)\n",
    "for i, organ_file in enumerate(all_files):\n",
    "    mask_data = all_mask_data[organ_file]\n",
    "    organ_name = organ_file.stem.replace('.nii', '')\n",
    "    \n",
    "    mask = SegmentationMask(\n",
    "        mask_array=mask_data.astype(np.uint8),\n",
    "        mapping={organ_name: 1},\n",
    "        space=space\n",
    "        )\n",
    "    archive1.add_segmask(mask, organ_name)\n",
    "\n",
    "time1 = time.time() - start_time\n",
    "size1 = Path(\"organs_individual.mska\").stat().st_size\n",
    "\n",
    "# Approach 2: Merged multi-label mask\n",
    "print(\"Approach 2: Creating merged mask archive...\")\n",
    "start_time = time.time()\n",
    "\n",
    "combined_mask = SegmentationMask.lazy_init(bit_depth=8, space=space)\n",
    "all_keys = []\n",
    "for i, organ_file in enumerate(all_files):\n",
    "    nii = nib.load(organ_file)\n",
    "    mask_data = nii.get_fdata() > 0\n",
    "    organ_name = organ_file.stem.replace('.nii', '')\n",
    "    all_keys.append(organ_name)\n",
    "    combined_mask.add_label(mask_data, i + 1, organ_name)\n",
    "\n",
    "combined_mask.save(\"organs_combined.msk\")\n",
    "\n",
    "time2 = time.time() - start_time\n",
    "size2 = Path(\"organs_combined.msk\").stat().st_size\n",
    "\n",
    "print(f\"\\nCreation time: Approach 1 {time1:.1f}s, Approach 2 {time2:.1f}s\")\n",
    "print(f\"File size: Approach 1 {size1/1024:.0f}KB, Approach 2 {size2/1024:.0f}KB\")\n",
    "print(f\"Compression ratio: Approach 1 {traditional_size/size1:.1f}:1, Approach 2 {traditional_size/size2:.1f}:1\")\n"
   ]
  },
  {
   "cell_type": "code",
   "execution_count": 4,
   "metadata": {},
   "outputs": [
    {
     "name": "stdout",
     "output_type": "stream",
     "text": [
      "Reading 117 organs:\n",
      "Traditional approach: 1.870s\n",
      "Approach 1 (independent masks): 0.131s (14.2x speedup)\n",
      "Approach 2 (merged mask): 0.126s (14.8x speedup)\n"
     ]
    }
   ],
   "source": [
    "# Reading performance test\n",
    "test_organs = all_keys\n",
    "\n",
    "# Test traditional approach\n",
    "traditional_read_time = read_time\n",
    "\n",
    "# Test approach 1 - independent masks\n",
    "start = time.time()\n",
    "archive1_read = MaskArchive(\"organs_individual.mska\", mode=\"r\")\n",
    "for organ in test_organs:\n",
    "    mask = archive1_read.load_segmask(organ)\n",
    "    data = mask.data\n",
    "method1_read_time = time.time() - start\n",
    "\n",
    "# Test approach 2 - merged mask\n",
    "start = time.time()\n",
    "all_organs = SegmentationMask.load(\"organs_combined.msk\")\n",
    "for organ in test_organs:\n",
    "    data = all_organs.get_binary_mask_by_names(organ)\n",
    "method2_read_time = time.time() - start\n",
    "\n",
    "print(f\"Reading {len(test_organs)} organs:\")\n",
    "print(f\"Traditional approach: {traditional_read_time:.3f}s\")\n",
    "speedup1 = traditional_read_time / method1_read_time\n",
    "print(f\"Approach 1 (independent masks): {method1_read_time:.3f}s ({speedup1:.1f}x speedup)\")\n",
    "speedup2 = traditional_read_time / method2_read_time\n",
    "print(f\"Approach 2 (merged mask): {method2_read_time:.3f}s ({speedup2:.1f}x speedup)\")\n",
    "\n"
   ]
  },
  {
   "cell_type": "markdown",
   "metadata": {
    "vscode": {
     "languageId": "raw"
    }
   },
   "source": [
    "## Overlapping Masks Advantage - Rib Example\n",
    "\n",
    "Demonstrates storing multiple granularity masks in one archive:\n",
    "- 24 individual ribs\n",
    "- Left/right rib combinations  \n",
    "- Upper/lower rib combinations\n",
    "- All ribs merged\n",
    "\n",
    "Supports multi-level queries from individual ribs to global rib mask.\n"
   ]
  },
  {
   "cell_type": "code",
   "execution_count": 5,
   "metadata": {},
   "outputs": [
    {
     "name": "stdout",
     "output_type": "stream",
     "text": [
      "Processing 24 rib files...\n",
      "Rib archive: 27 masks, 14KB\n"
     ]
    }
   ],
   "source": [
    "# Rib mask combination example\n",
    "rib_files = sorted(data_dir.glob(\"rib_*.nii.gz\"))\n",
    "ribs_archive = MaskArchive(\"ribs_archive.mska\", mode=\"w\", space=space)\n",
    "\n",
    "# Prepare combination masks\n",
    "shape = first_file.get_fdata().shape\n",
    "left_ribs = np.zeros(shape, dtype=bool)\n",
    "right_ribs = np.zeros(shape, dtype=bool)\n",
    "all_ribs = np.zeros(shape, dtype=bool)\n",
    "upper_ribs = np.zeros(shape, dtype=bool)  \n",
    "lower_ribs = np.zeros(shape, dtype=bool)\n",
    "\n",
    "print(f\"Processing {len(rib_files)} rib files...\")\n",
    "\n",
    "# Process each rib\n",
    "for rib_file in rib_files:\n",
    "    nii = nib.load(rib_file)\n",
    "    rib_data = nii.get_fdata() > 0\n",
    "    rib_name = rib_file.stem.replace('.nii', '')\n",
    "    \n",
    "    # Add individual rib\n",
    "    mask = SegmentationMask(rib_data.astype(np.uint8), {rib_name: 1}, space)\n",
    "    ribs_archive.add_segmask(mask, rib_name)\n",
    "    \n",
    "    # Combine to group masks\n",
    "    all_ribs |= rib_data\n",
    "    if 'left' in rib_name:\n",
    "        left_ribs |= rib_data\n",
    "    elif 'right' in rib_name:\n",
    "        right_ribs |= rib_data\n",
    "    \n",
    "    # Upper/lower grouping\n",
    "    for i in range(1, 13):\n",
    "        if f'_{i}' in rib_name:\n",
    "            if i <= 6:\n",
    "                upper_ribs |= rib_data\n",
    "            else:\n",
    "                lower_ribs |= rib_data\n",
    "            break\n",
    "\n",
    "# Add combination masks\n",
    "combinations = [\n",
    "    (\"all_ribs\", all_ribs), (\"left_ribs\", left_ribs), (\"right_ribs\", right_ribs),\n",
    "    (\"upper_ribs\", upper_ribs), (\"lower_ribs\", lower_ribs)\n",
    "]\n",
    "\n",
    "for name, mask_data in combinations:\n",
    "    if np.any(mask_data):\n",
    "        mask = SegmentationMask(mask_data.astype(np.uint8), {name: 1}, space)\n",
    "        ribs_archive.add_segmask(mask, name)\n",
    "\n",
    "rib_size = Path(\"ribs_archive.mska\").stat().st_size\n",
    "print(f\"Rib archive: {len(ribs_archive.all_names())} masks, {rib_size/1024:.0f}KB\")\n"
   ]
  },
  {
   "cell_type": "markdown",
   "metadata": {
    "vscode": {
     "languageId": "raw"
    }
   },
   "source": [
    "## Use Cases\n",
    "\n",
    "**Independent Masks** suited for:\n",
    "- Frequent access to individual organs\n",
    "- Independent modification of specific regions\n",
    "- Modular data management\n",
    "\n",
    "**Merged Masks** suited for:\n",
    "- Global organ analysis\n",
    "- Unified label management\n",
    "- Maximum storage efficiency\n",
    "\n",
    "**Overlapping Masks** support:\n",
    "- Multi-granularity anatomical queries\n",
    "- Hierarchical organ organization\n",
    "- Flexible region combination analysis\n",
    "\n",
    "---\n",
    "\n",
    "MedMask provides comprehensive solutions for medical image segmentation masks through advanced compression, semantic design, and flexible APIs.\n"
   ]
  },
  {
   "cell_type": "markdown",
   "metadata": {},
   "source": []
  }
 ],
 "metadata": {
  "kernelspec": {
   "display_name": "Python 3",
   "language": "python",
   "name": "python3"
  },
  "language_info": {
   "codemirror_mode": {
    "name": "ipython",
    "version": 3
   },
   "file_extension": ".py",
   "mimetype": "text/x-python",
   "name": "python",
   "nbconvert_exporter": "python",
   "pygments_lexer": "ipython3",
   "version": "3.10.0"
  }
 },
 "nbformat": 4,
 "nbformat_minor": 2
}
