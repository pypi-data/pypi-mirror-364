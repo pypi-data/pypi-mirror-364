{
 "cells": [
  {
   "cell_type": "markdown",
   "metadata": {},
   "source": [
    "# Inconnu\n",
    "\n",
    "## Multi-language usage\n"
   ]
  },
  {
   "cell_type": "code",
   "execution_count": 1,
   "metadata": {},
   "outputs": [
    {
     "name": "stdout",
     "output_type": "stream",
     "text": [
      "Processing text (deanonymize=True): 433 characters\n",
      "Processing time: 19.73 ms\n",
      "\n",
      "Guten Tag!\n",
      "\n",
      "ich möchte meine [MISC_0] für zukünftige Zahlungen für meinen Vertrag mit der Nummer [PHONE_NUMBER_0] aktualisieren.\n",
      "Bitte aktualisieren Sie mein Konto mit den folgenden Informationen:\n",
      "\n",
      "Name des Kontoinhabers: [PERSON_0]\n",
      "Bank: [ORG_1]\n",
      "[ORG_0]: [IBAN_0]\n",
      "\n",
      "Antworten Sie auf diese E-Mail mit dem Wort „erledigt“, wenn Sie die Bankverbindung aktualisiert haben.\n",
      "[EMAIL_0]\n",
      "\n"
     ]
    },
    {
     "data": {
      "text/plain": [
       "{'[EMAIL_0]': 'max.mustermann@example.com',\n",
       " '[IBAN_0]': 'DE02120300000000202051',\n",
       " '[ORG_0]': 'IBAN',\n",
       " '[ORG_1]': 'DEUTSCHE KREDITBANK BERLIN',\n",
       " '[PERSON_0]': 'Max Mustermann',\n",
       " '[PHONE_NUMBER_0]': '021948',\n",
       " '[MISC_0]': 'SEPA-Bankverbindung'}"
      ]
     },
     "execution_count": 1,
     "metadata": {},
     "output_type": "execute_result"
    }
   ],
   "source": [
    "from inconnu import Inconnu\n",
    "\n",
    "inconnu_de = Inconnu(language=\"de\")\n",
    "\n",
    "# DE\n",
    "email_text = \"\"\"\n",
    "Guten Tag!\n",
    "\n",
    "ich möchte meine SEPA-Bankverbindung für zukünftige Zahlungen für meinen Vertrag mit der Nummer 021948 aktualisieren.\n",
    "Bitte aktualisieren Sie mein Konto mit den folgenden Informationen:\n",
    "\n",
    "Name des Kontoinhabers: Max Mustermann\n",
    "Bank: DEUTSCHE KREDITBANK BERLIN\n",
    "IBAN: DE02120300000000202051\n",
    "\n",
    "Antworten Sie auf diese E-Mail mit dem Wort „erledigt“, wenn Sie die Bankverbindung aktualisiert haben.\n",
    "max.mustermann@example.com\n",
    "\"\"\"\n",
    "\n",
    "result = inconnu_de(text=email_text)\n",
    "print(result.redacted_text)\n",
    "result.entity_map"
   ]
  },
  {
   "cell_type": "markdown",
   "metadata": {},
   "source": [
    "## Basic usage\n"
   ]
  },
  {
   "cell_type": "code",
   "execution_count": 2,
   "metadata": {},
   "outputs": [
    {
     "name": "stdout",
     "output_type": "stream",
     "text": [
      "[PERSON] from [GPE] visited [GPE] [DATE].\n",
      "[PERSON_0] from [GPE_1] visited [GPE_0] [DATE_0].\n",
      "{'[DATE_0]': 'last summer', '[GPE_0]': 'Paris', '[GPE_1]': 'New York', '[PERSON_0]': 'John Doe'}\n",
      "Processing text (deanonymize=True): 49 characters\n",
      "Processing time: 2.29 ms\n",
      "[PERSON_0] from [GPE_1] visited [GPE_0] [DATE_0].\n",
      "Processing time: 2.29ms\n"
     ]
    }
   ],
   "source": [
    "from inconnu import Inconnu\n",
    "\n",
    "# Simple initialization - no Config class required!\n",
    "inconnu = Inconnu()  # Uses sensible defaults\n",
    "\n",
    "# Simple anonymization - just the redacted text\n",
    "text = \"John Doe from New York visited Paris last summer.\"\n",
    "redacted = inconnu.redact(text)\n",
    "print(redacted)\n",
    "# Output: \"[PERSON] from [GPE] visited [GPE] [DATE].\"\n",
    "\n",
    "# Pseudonymization - get both redacted text and entity mapping\n",
    "redacted_text, entity_map = inconnu.pseudonymize(text)\n",
    "print(redacted_text)\n",
    "# Output: \"[PERSON_0] from [GPE_0] visited [GPE_1] [DATE_0].\"\n",
    "print(entity_map)\n",
    "# Output: {'[PERSON_0]': 'John Doe', '[GPE_0]': 'New York', '[GPE_1]': 'Paris', '[DATE_0]': 'last summer'}\n",
    "\n",
    "# Advanced usage with full metadata (original API)\n",
    "result = inconnu(text=text)\n",
    "print(result.redacted_text)\n",
    "print(f\"Processing time: {result.processing_time_ms:.2f}ms\")"
   ]
  },
  {
   "cell_type": "markdown",
   "metadata": {},
   "source": [
    "## Async processing\n"
   ]
  },
  {
   "cell_type": "code",
   "execution_count": 3,
   "metadata": {},
   "outputs": [
    {
     "name": "stdout",
     "output_type": "stream",
     "text": [
      "[PERSON] called from [PHONE_NUMBER]\n",
      "[PERSON] visited [GPE]\n",
      "[PERSON] went to [GPE]\n",
      "[PERSON] lives in [GPE]\n"
     ]
    }
   ],
   "source": [
    "from inconnu import Inconnu\n",
    "\n",
    "\n",
    "# Async processing for non-blocking operations\n",
    "async def process_texts():\n",
    "    inconnu = Inconnu()\n",
    "\n",
    "    # Single async processing\n",
    "    text = \"John Doe called from +1-555-123-4567\"\n",
    "    redacted = await inconnu.redact_async(text)\n",
    "    print(redacted)  # \"[PERSON] called from [PHONE_NUMBER]\"\n",
    "\n",
    "    # Batch async processing\n",
    "    texts = [\n",
    "        \"Alice Smith visited Berlin\",\n",
    "        \"Bob Jones went to Tokyo\",\n",
    "        \"Carol Brown lives in Paris\",\n",
    "    ]\n",
    "    results = await inconnu.redact_batch_async(texts)\n",
    "    for result in results:\n",
    "        print(result)\n",
    "\n",
    "\n",
    "await process_texts()"
   ]
  }
 ],
 "metadata": {
  "kernelspec": {
   "display_name": ".venv",
   "language": "python",
   "name": "python3"
  },
  "language_info": {
   "codemirror_mode": {
    "name": "ipython",
    "version": 3
   },
   "file_extension": ".py",
   "mimetype": "text/x-python",
   "name": "python",
   "nbconvert_exporter": "python",
   "pygments_lexer": "ipython3",
   "version": "3.13.5"
  }
 },
 "nbformat": 4,
 "nbformat_minor": 2
}
