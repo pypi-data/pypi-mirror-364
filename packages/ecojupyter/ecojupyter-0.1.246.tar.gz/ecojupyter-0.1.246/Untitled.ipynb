{
 "cells": [
  {
   "cell_type": "code",
   "execution_count": 22,
   "id": "25120d03-8345-40a8-b00b-c1581e3cc25a",
   "metadata": {},
   "outputs": [],
   "source": [
    "a = 0"
   ]
  },
  {
   "cell_type": "code",
   "execution_count": 27,
   "id": "9ba8cf06-cd9f-460b-8880-707dcc2f0f86",
   "metadata": {},
   "outputs": [],
   "source": [
    "b = 1"
   ]
  },
  {
   "cell_type": "code",
   "execution_count": 31,
   "id": "3b76eca2-fb76-43d9-9f1f-8f16d7fb7f91",
   "metadata": {},
   "outputs": [
    {
     "name": "stdout",
     "output_type": "stream",
     "text": [
      "total 0\n",
      "drwxr-xr-x@ 2 root  staff  64 Jun 20 10:55 \u001b[34m.\u001b[m\u001b[m\n",
      "drwxr-xr-x@ 3 root  staff  96 Jun 20 10:55 \u001b[34m..\u001b[m\u001b[m\n"
     ]
    }
   ],
   "source": [
    "%%bash\n",
    "ls -la \".lib/experiments/Untitled/experiment-28599875-2025-06-20 08:55\""
   ]
  },
  {
   "cell_type": "code",
   "execution_count": 31,
   "id": "c6b0a030-d708-41e4-948b-e1bf76e84946",
   "metadata": {},
   "outputs": [],
   "source": [
    "c = 2"
   ]
  },
  {
   "cell_type": "code",
   "execution_count": 37,
   "id": "dd84c3e3-6cc9-4d96-b0d8-da47e083924d",
   "metadata": {},
   "outputs": [
    {
     "name": "stdout",
     "output_type": "stream",
     "text": [
      "experiment-6df6b1fd-2025-07-03 12:13 test\n"
     ]
    }
   ],
   "source": [
    "%%bash\n",
    "BASE_PATH=\".lib/experiments/test-02\"\n",
    "FOLDER_NAMES=()\n",
    "\n",
    "for dir in \"$BASE_PATH\"/*/; do\n",
    "  [ -d \"$dir\" ] && FOLDER_NAMES+=(\"$(basename \"$dir\")\")\n",
    "done\n",
    "\n",
    "echo \"${FOLDER_NAMES[@]}\""
   ]
  },
  {
   "cell_type": "code",
   "execution_count": null,
   "id": "2f6ab798-2dfe-4955-af12-7cc27358dedd",
   "metadata": {},
   "outputs": [],
   "source": []
  },
  {
   "cell_type": "code",
   "execution_count": null,
   "id": "79e1e275-1748-4c87-9ede-3c61799b5d82",
   "metadata": {},
   "outputs": [],
   "source": []
  },
  {
   "cell_type": "code",
   "execution_count": 43,
   "id": "1db0a503-b471-476e-a653-aec0a446e4f1",
   "metadata": {},
   "outputs": [],
   "source": [
    "%%bash\n",
    "mkdir -p .lib/experiments/test-02/test"
   ]
  },
  {
   "cell_type": "code",
   "execution_count": 44,
   "id": "a09d389a-3a46-4a34-bd70-cb26fe339429",
   "metadata": {},
   "outputs": [],
   "source": [
    "%%bash\n",
    "sudo rm -rf .lib/experiments/test-02/test"
   ]
  },
  {
   "cell_type": "code",
   "execution_count": 46,
   "id": "68b2d5b4-08af-43ba-a41a-5c7e55820719",
   "metadata": {},
   "outputs": [],
   "source": [
    "%%bash\n",
    "# cat .lib/experiments/test-02/test"
   ]
  },
  {
   "cell_type": "code",
   "execution_count": null,
   "id": "969c95c5-052b-4028-b7cd-15789b246267",
   "metadata": {},
   "outputs": [],
   "source": []
  },
  {
   "cell_type": "code",
   "execution_count": null,
   "id": "f795bd3a-c2a8-4096-b2bb-662e700b9223",
   "metadata": {},
   "outputs": [],
   "source": []
  },
  {
   "cell_type": "code",
   "execution_count": null,
   "id": "0ada04ca-bcf1-4052-a48a-57b2fdca634d",
   "metadata": {},
   "outputs": [],
   "source": []
  }
 ],
 "metadata": {
  "kernelspec": {
   "display_name": "Python 3 (ipykernel)",
   "language": "python",
   "name": "python3"
  },
  "language_info": {
   "codemirror_mode": {
    "name": "ipython",
    "version": 3
   },
   "file_extension": ".py",
   "mimetype": "text/x-python",
   "name": "python",
   "nbconvert_exporter": "python",
   "pygments_lexer": "ipython3",
   "version": "3.13.5"
  }
 },
 "nbformat": 4,
 "nbformat_minor": 5
}
