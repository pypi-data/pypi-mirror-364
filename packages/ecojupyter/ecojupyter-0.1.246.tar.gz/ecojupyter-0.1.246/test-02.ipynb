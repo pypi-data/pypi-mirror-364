{
 "cells": [
  {
   "cell_type": "code",
   "execution_count": 5,
   "id": "604785a7-73de-4e4e-a592-5f9ff75f5273",
   "metadata": {},
   "outputs": [],
   "source": [
    "# First you must run the first cell.\n",
    "a = 0"
   ]
  },
  {
   "cell_type": "code",
   "execution_count": 9,
   "id": "3c6cffe0-43b9-4939-a4ef-419f6175665a",
   "metadata": {},
   "outputs": [
    {
     "name": "stdout",
     "output_type": "stream",
     "text": [
      "Experiment ID created: experiment-756a5bb4-2025-07-21 09:02\n",
      "Workflow ID created: test-02\n",
      "Start time: 2025-07-21 09:02\n"
     ]
    }
   ],
   "source": [
    "# Here you can check which variables and IDs were created for you. :)\n",
    "experiment_id = os.environ[\"EXPERIMENT_ID\"]\n",
    "workflow_id = os.environ[\"WORKFLOW_ID\"]\n",
    "start_time = os.environ[\"START_TIME\"]\n",
    "print(f\"Experiment ID created: {experiment_id}\")\n",
    "print(f\"Workflow ID created: {workflow_id}\")\n",
    "print(f\"Start time: {start_time}\")"
   ]
  },
  {
   "cell_type": "code",
   "execution_count": 15,
   "id": "45f5b9c2-e70e-4a62-a3cf-fd03e0b40550",
   "metadata": {},
   "outputs": [],
   "source": [
    "b = 1"
   ]
  },
  {
   "cell_type": "code",
   "execution_count": 21,
   "id": "98ab3a79-aaa6-4f2f-b631-7b11e8b627b9",
   "metadata": {},
   "outputs": [
    {
     "name": "stdout",
     "output_type": "stream",
     "text": [
      "total 0\n",
      "drwxr-xr-x@ 4 root  staff  128 Jul  3 14:13 \u001b[34m.\u001b[m\u001b[m\n",
      "drwxr-xr-x@ 4 root  staff  128 Jul  3 14:13 \u001b[34m..\u001b[m\u001b[m\n",
      "drwxr-xr-x@ 3 root  staff   96 Jul  3 14:13 \u001b[34mUntitled\u001b[m\u001b[m\n",
      "drwxr-xr-x@ 3 root  staff   96 Jul  3 14:13 \u001b[34mtest-02\u001b[m\u001b[m\n",
      "total 0\n",
      "drwxr-xr-x@ 3 root  staff   96 Jul  3 14:13 \u001b[34m.\u001b[m\u001b[m\n",
      "drwxr-xr-x@ 4 root  staff  128 Jul  3 14:13 \u001b[34m..\u001b[m\u001b[m\n",
      "drwxr-xr-x@ 2 root  staff   64 Jul  3 14:13 \u001b[34mexperiment-6df6b1fd-2025-07-03 12:13\u001b[m\u001b[m\n",
      "Node name: Goncalos-MacBook-Pro.local\n"
     ]
    }
   ],
   "source": [
    "%%bash\n",
    "ls -la .lib/experiments\n",
    "ls -la .lib/experiments/$WORKFLOW_ID\n",
    "# ls -la .lib/experiments/$WORKFLOW_ID/$EXPERIMENT_ID\n",
    "echo \"Node name: $(cat .lib/hostname)\""
   ]
  },
  {
   "cell_type": "code",
   "execution_count": 39,
   "id": "9080c3d2-845d-430d-819d-32a5fe23a10c",
   "metadata": {},
   "outputs": [],
   "source": [
    "import os\n",
    "from datetime import UTC, datetime, timezone\n",
    "import hashlib\n",
    "\n",
    "ts = datetime.now(UTC).strftime(\"%Y%m%d%H%M%S\")\n",
    "experiment_id = f\"experiment-{hashlib.sha256(ts.encode()).hexdigest()[:8]}-{ts}\"\n",
    "os.environ[\"EXPERIMENT_ID\"] = experiment_id"
   ]
  },
  {
   "cell_type": "code",
   "execution_count": 40,
   "id": "b27bc3ad-b0ed-46ea-8af5-e3626f9f657d",
   "metadata": {},
   "outputs": [
    {
     "name": "stdout",
     "output_type": "stream",
     "text": [
      "experiment-545f12ea-20250617082342\n"
     ]
    }
   ],
   "source": [
    "print(os.environ[\"EXPERIMENT_ID\"])"
   ]
  },
  {
   "cell_type": "code",
   "execution_count": 41,
   "id": "74ab2c1e-3c16-4d68-9b7c-2af929cfa48e",
   "metadata": {},
   "outputs": [
    {
     "name": "stdout",
     "output_type": "stream",
     "text": [
      "test\n"
     ]
    }
   ],
   "source": [
    "import os\n",
    "import json\n",
    "import ipykernel\n",
    "import urllib.request\n",
    "from jupyter_server import serverapp\n",
    "\n",
    "def get_notebook_name():\n",
    "    connection_file = os.path.basename(ipykernel.get_connection_file())\n",
    "    kernel_id = connection_file.split('-', 1)[1].split('.')[0]\n",
    "\n",
    "    for srv in serverapp.list_running_servers():\n",
    "        try:\n",
    "            url = srv['url']\n",
    "            token = srv.get('token', '')\n",
    "            if token:\n",
    "                url += f'tree?token={token}'\n",
    "            sessions_url = srv['url'] + 'api/sessions'\n",
    "            if token:\n",
    "                sessions_url += f'?token={token}'\n",
    "\n",
    "            with urllib.request.urlopen(sessions_url) as response:\n",
    "                sessions = json.load(response)\n",
    "                for sess in sessions:\n",
    "                    if sess['kernel']['id'] == kernel_id:\n",
    "                        return os.path.basename(sess['notebook']['path']).split('.')[0]\n",
    "        except Exception as e:\n",
    "            pass\n",
    "\n",
    "    return None\n",
    "\n",
    "os.environ[\"WORKFLOW_ID\"] = get_notebook_name()\n",
    "print(get_notebook_name())"
   ]
  },
  {
   "cell_type": "code",
   "execution_count": 42,
   "id": "3b8755b4-a7a2-4068-bf49-dd67c0b11e56",
   "metadata": {},
   "outputs": [
    {
     "name": "stderr",
     "output_type": "stream",
     "text": [
      "mv: rename ./.lib/experiments/experiment-545f12ea-20250617082342 to ./experiments/test/experiment-545f12ea-20250617082342: No such file or directory\n"
     ]
    },
    {
     "name": "stdout",
     "output_type": "stream",
     "text": [
      "Moved experiment: experiment-545f12ea-20250617082342\n"
     ]
    }
   ],
   "source": [
    "%%bash\n",
    "# HOME=\"/home/jovyan\"\n",
    "HOME=\".\"\n",
    "if [ -n os.environ[\"WORKFLOW_ID\"] ]; then\n",
    "  if [ -n \"$EXPERIMENT_ID\" ]; then\n",
    "    mkdir -p $HOME/experiments\n",
    "    mv $HOME/.lib/experiments/$EXPERIMENT_ID $HOME/experiments/$WORKFLOW_ID/$EXPERIMENT_ID\n",
    "    echo \"Moved experiment: $EXPERIMENT_ID\"\n",
    "  else\n",
    "    echo \"No EXPERIMENT_ID set, skipping move.\"\n",
    "  fi\n",
    "else\n",
    "  echo \"No WORKFLOW_ID set, skipping move.\"\n",
    "fi"
   ]
  },
  {
   "cell_type": "code",
   "execution_count": 37,
   "id": "4ef87880-41f5-4f79-9947-d9adaa60d3c7",
   "metadata": {},
   "outputs": [
    {
     "name": "stdout",
     "output_type": "stream",
     "text": [
      "total 16\n",
      "drwxr-xr-x@  5 root             staff   160 Jun 17 14:05 \u001b[34m.\u001b[m\u001b[m\n",
      "drwxr-xr-x@ 39 goncaloferreira  staff  1248 Jun 17 13:10 \u001b[34m..\u001b[m\u001b[m\n",
      "drwxr-xr-x@  3 root             staff    96 Jun 17 12:17 \u001b[34mexperiments\u001b[m\u001b[m\n",
      "-rw-r--r--@  1 root             staff    16 Jun 17 14:07 hostname\n",
      "-rw-r--r--@  1 root             staff  1372 Jun 17 14:07 test-export.json\n"
     ]
    },
    {
     "name": "stderr",
     "output_type": "stream",
     "text": [
      "  % Total    % Received % Xferd  Average Speed   Time    Time     Time  Current\n",
      "                                 Dload  Upload   Total   Spent    Left  Speed\n",
      "100   135    0   113  100    22    572    111 --:--:-- --:--:-- --:--:--   685\n"
     ]
    },
    {
     "name": "stdout",
     "output_type": "stream",
     "text": [
      "Error (500) : this resource has incurred in a generic error\n",
      "Stacktrace:\n",
      "java.lang.ArrayIndexOutOfBoundsException\n"
     ]
    }
   ],
   "source": [
    "%%bash\n",
    "curl \\\n",
    "    --header \"Content-Type: application/json\" \\\n",
    "    --header \"Authorization: Bearer $AUTH_TOKEN\" \\\n",
    "    --location \"https://api.d4science.org/gcat/items\" \\\n",
    "    --data-raw @.lib/test-export.json"
   ]
  },
  {
   "cell_type": "code",
   "execution_count": 12,
   "id": "468d1ba5-3842-41e7-a758-e3edd502235a",
   "metadata": {},
   "outputs": [
    {
     "name": "stderr",
     "output_type": "stream",
     "text": [
      "bash: line 3: .lib/experiments/$WORKFLOW_ID/$EXPERIMENT_ID/time.json: ambiguous redirect\n"
     ]
    },
    {
     "name": "stdout",
     "output_type": "stream",
     "text": [
      "2025-02-02\n",
      "2025-02-03\n",
      "Start time: \n",
      "End time: \n"
     ]
    }
   ],
   "source": [
    "%%bash\n",
    "export START_TIME=\"2025-02-02\"\n",
    "export END_TIME=\"2025-02-03\"\n",
    "jq -n \\\n",
    "    --arg start_time \"$START_TIME\" \\\n",
    "    --arg end_time \"$END_TIME\" \\\n",
    "    '{\n",
    "      \"start_time\": $start_time,\n",
    "      \"end_time\": $end_time\n",
    "    }' > .lib/experiments/$WORKFLOW_ID/$EXPERIMENT_ID/time.json\n",
    "\n",
    "echo $START_TIME\n",
    "echo $END_TIME\n",
    "\n",
    "unset START_TIME\n",
    "unset END_TIME\n",
    "\n",
    "echo \"Start time: $START_TIME\"\n",
    "echo \"End time: $END_TIME\""
   ]
  },
  {
   "cell_type": "code",
   "execution_count": 64,
   "id": "6db5c4a4-034d-476f-b587-1df142517106",
   "metadata": {},
   "outputs": [
    {
     "name": "stderr",
     "output_type": "stream",
     "text": [
      "cat: .lib/experiments/test/experiment-4e6e335e-2025-06-19: No such file or directory\n",
      "cat: 16:47/time.json: No such file or directory\n"
     ]
    },
    {
     "ename": "CalledProcessError",
     "evalue": "Command 'b'cat .lib/experiments/$WORKFLOW_ID/$EXPERIMENT_ID/time.json\\n'' returned non-zero exit status 1.",
     "output_type": "error",
     "traceback": [
      "\u001b[31m---------------------------------------------------------------------------\u001b[39m",
      "\u001b[31mCalledProcessError\u001b[39m                        Traceback (most recent call last)",
      "\u001b[36mCell\u001b[39m\u001b[36m \u001b[39m\u001b[32mIn[64]\u001b[39m\u001b[32m, line 1\u001b[39m\n\u001b[32m----> \u001b[39m\u001b[32m1\u001b[39m \u001b[43mget_ipython\u001b[49m\u001b[43m(\u001b[49m\u001b[43m)\u001b[49m\u001b[43m.\u001b[49m\u001b[43mrun_cell_magic\u001b[49m\u001b[43m(\u001b[49m\u001b[33;43m'\u001b[39;49m\u001b[33;43mbash\u001b[39;49m\u001b[33;43m'\u001b[39;49m\u001b[43m,\u001b[49m\u001b[43m \u001b[49m\u001b[33;43m'\u001b[39;49m\u001b[33;43m'\u001b[39;49m\u001b[43m,\u001b[49m\u001b[43m \u001b[49m\u001b[33;43m'\u001b[39;49m\u001b[33;43mcat .lib/experiments/$WORKFLOW_ID/$EXPERIMENT_ID/time.json\u001b[39;49m\u001b[38;5;130;43;01m\\n\u001b[39;49;00m\u001b[33;43m'\u001b[39;49m\u001b[43m)\u001b[49m\n",
      "\u001b[36mFile \u001b[39m\u001b[32m/opt/anaconda3/envs/ecojupyter/lib/python3.13/site-packages/IPython/core/interactiveshell.py:2549\u001b[39m, in \u001b[36mInteractiveShell.run_cell_magic\u001b[39m\u001b[34m(self, magic_name, line, cell)\u001b[39m\n\u001b[32m   2547\u001b[39m \u001b[38;5;28;01mwith\u001b[39;00m \u001b[38;5;28mself\u001b[39m.builtin_trap:\n\u001b[32m   2548\u001b[39m     args = (magic_arg_s, cell)\n\u001b[32m-> \u001b[39m\u001b[32m2549\u001b[39m     result = \u001b[43mfn\u001b[49m\u001b[43m(\u001b[49m\u001b[43m*\u001b[49m\u001b[43margs\u001b[49m\u001b[43m,\u001b[49m\u001b[43m \u001b[49m\u001b[43m*\u001b[49m\u001b[43m*\u001b[49m\u001b[43mkwargs\u001b[49m\u001b[43m)\u001b[49m\n\u001b[32m   2551\u001b[39m \u001b[38;5;66;03m# The code below prevents the output from being displayed\u001b[39;00m\n\u001b[32m   2552\u001b[39m \u001b[38;5;66;03m# when using magics with decorator @output_can_be_silenced\u001b[39;00m\n\u001b[32m   2553\u001b[39m \u001b[38;5;66;03m# when the last Python token in the expression is a ';'.\u001b[39;00m\n\u001b[32m   2554\u001b[39m \u001b[38;5;28;01mif\u001b[39;00m \u001b[38;5;28mgetattr\u001b[39m(fn, magic.MAGIC_OUTPUT_CAN_BE_SILENCED, \u001b[38;5;28;01mFalse\u001b[39;00m):\n",
      "\u001b[36mFile \u001b[39m\u001b[32m/opt/anaconda3/envs/ecojupyter/lib/python3.13/site-packages/IPython/core/magics/script.py:159\u001b[39m, in \u001b[36mScriptMagics._make_script_magic.<locals>.named_script_magic\u001b[39m\u001b[34m(line, cell)\u001b[39m\n\u001b[32m    157\u001b[39m \u001b[38;5;28;01melse\u001b[39;00m:\n\u001b[32m    158\u001b[39m     line = script\n\u001b[32m--> \u001b[39m\u001b[32m159\u001b[39m \u001b[38;5;28;01mreturn\u001b[39;00m \u001b[38;5;28;43mself\u001b[39;49m\u001b[43m.\u001b[49m\u001b[43mshebang\u001b[49m\u001b[43m(\u001b[49m\u001b[43mline\u001b[49m\u001b[43m,\u001b[49m\u001b[43m \u001b[49m\u001b[43mcell\u001b[49m\u001b[43m)\u001b[49m\n",
      "\u001b[36mFile \u001b[39m\u001b[32m/opt/anaconda3/envs/ecojupyter/lib/python3.13/site-packages/IPython/core/magics/script.py:336\u001b[39m, in \u001b[36mScriptMagics.shebang\u001b[39m\u001b[34m(self, line, cell)\u001b[39m\n\u001b[32m    331\u001b[39m \u001b[38;5;28;01mif\u001b[39;00m args.raise_error \u001b[38;5;129;01mand\u001b[39;00m p.returncode != \u001b[32m0\u001b[39m:\n\u001b[32m    332\u001b[39m     \u001b[38;5;66;03m# If we get here and p.returncode is still None, we must have\u001b[39;00m\n\u001b[32m    333\u001b[39m     \u001b[38;5;66;03m# killed it but not yet seen its return code. We don't wait for it,\u001b[39;00m\n\u001b[32m    334\u001b[39m     \u001b[38;5;66;03m# in case it's stuck in uninterruptible sleep. -9 = SIGKILL\u001b[39;00m\n\u001b[32m    335\u001b[39m     rc = p.returncode \u001b[38;5;129;01mor\u001b[39;00m -\u001b[32m9\u001b[39m\n\u001b[32m--> \u001b[39m\u001b[32m336\u001b[39m     \u001b[38;5;28;01mraise\u001b[39;00m CalledProcessError(rc, cell)\n",
      "\u001b[31mCalledProcessError\u001b[39m: Command 'b'cat .lib/experiments/$WORKFLOW_ID/$EXPERIMENT_ID/time.json\\n'' returned non-zero exit status 1."
     ]
    }
   ],
   "source": [
    "%%bash\n",
    "cat .lib/experiments/$WORKFLOW_ID/$EXPERIMENT_ID/time.json"
   ]
  },
  {
   "cell_type": "code",
   "execution_count": null,
   "id": "907f2881-d753-4d17-85a1-40ac1f173635",
   "metadata": {},
   "outputs": [],
   "source": []
  },
  {
   "cell_type": "code",
   "execution_count": 160,
   "id": "2e5d1e5e-739c-4d3d-b344-d59e3e4965ed",
   "metadata": {},
   "outputs": [
    {
     "name": "stdout",
     "output_type": "stream",
     "text": [
      "experiment-daf015ae-2025-06-19 16:58\n",
      "test-02\n"
     ]
    }
   ],
   "source": [
    "%%bash\n",
    "start_time=$START_TIME\n",
    "end_time=$END_TIME\n",
    "echo $EXPERIMENT_ID\n",
    "jq -n \\\n",
    "    --arg start_time \"$start_time\" \\\n",
    "    --arg end_time \"$end_time\" \\\n",
    "    '{\n",
    "      \"start_time\": $start_time,\n",
    "      \"end_time\": $end_time\n",
    "    }' > .lib/experiments/\"$WORKFLOW_ID\"/\"$EXPERIMENT_ID\"/timestamps.json"
   ]
  },
  {
   "cell_type": "code",
   "execution_count": 221,
   "id": "c101b7e4-29e6-485c-a8c4-b30670896033",
   "metadata": {},
   "outputs": [],
   "source": []
  },
  {
   "cell_type": "code",
   "execution_count": 10,
   "id": "fa24a4f8-3316-4553-823a-0f13b28f02b4",
   "metadata": {},
   "outputs": [
    {
     "name": "stdout",
     "output_type": "stream",
     "text": [
      "finished\n"
     ]
    }
   ],
   "source": [
    "print(\"finished\")"
   ]
  }
 ],
 "metadata": {
  "kernelspec": {
   "display_name": "Python 3 (ipykernel)",
   "language": "python",
   "name": "python3"
  },
  "language_info": {
   "codemirror_mode": {
    "name": "ipython",
    "version": 3
   },
   "file_extension": ".py",
   "mimetype": "text/x-python",
   "name": "python",
   "nbconvert_exporter": "python",
   "pygments_lexer": "ipython3",
   "version": "3.13.5"
  }
 },
 "nbformat": 4,
 "nbformat_minor": 5
}
