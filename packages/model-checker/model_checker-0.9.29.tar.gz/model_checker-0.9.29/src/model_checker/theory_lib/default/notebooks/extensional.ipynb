{
 "cells": [
  {
   "cell_type": "markdown",
   "metadata": {},
   "source": [
    "# Extensional Theory Demo Notebook\n",
    "\n",
    "This notebook demonstrates extensional logic examples from the default theory. It includes various countermodels showing invalid arguments and theorems showing valid arguments in extensional logic."
   ]
  },
  {
   "cell_type": "code",
   "execution_count": 1,
   "metadata": {},
   "outputs": [
    {
     "name": "stdout",
     "output_type": "stream",
     "text": [
      "Current directory: /home/benjamin/Documents/Philosophy/Projects/ModelChecker/Code/src/model_checker/theory_lib/default/notebooks\n",
      "Python path: ['/home/benjamin/Documents/Philosophy/Projects/ModelChecker/Code/src/model_checker', '/home/benjamin/Documents/Philosophy/Projects/ModelChecker/Code/src/model_checker/theory_lib', '/home/benjamin/Documents/Philosophy/Projects/ModelChecker/Code/src/model_checker/theory_lib/default', '/home/benjamin/Documents/Philosophy/Projects/ModelChecker/Code', '/home/benjamin/Documents/Philosophy/Projects/ModelChecker/Code/src', '', '/nix/store/h3i0acpmr8mrjx07519xxmidv8mpax4y-python3-3.12.5/lib/python3.12/site-packages', '/nix/store/m3q9aavsms4fcj0n1x5w1g6cn60h0hc0-z3-solver-4.8.17-python/lib/python3.12/site-packages', '/nix/store/l7idy2qiiv0v0b6khfjvz3l5k6mnm47l-python3.12-setuptools-72.1.0/lib/python3.12/site-packages', '/nix/store/gam79wgc54sn8yyw2xkrqkf93v5lwaz1-python3.12-pip-24.0/lib/python3.12/site-packages', '/nix/store/w0ls6v4n3wb4jzriddxz4khx56dfmnmq-python3.12-networkx-3.3/lib/python3.12/site-packages', '/nix/store/99hl269v1igvjbp1znfk5jcarhzgy822-python3-3.12.8/lib/python312.zip', '/nix/store/99hl269v1igvjbp1znfk5jcarhzgy822-python3-3.12.8/lib/python3.12', '/nix/store/99hl269v1igvjbp1znfk5jcarhzgy822-python3-3.12.8/lib/python3.12/lib-dynload', '/nix/store/99hl269v1igvjbp1znfk5jcarhzgy822-python3-3.12.8/lib/python3.12/site-packages', '/nix/store/90r7m6gpnw5i5y30qq56zci99slfrfp6-python3-3.12.8-env/lib/python3.12/site-packages']\n"
     ]
    }
   ],
   "source": [
    "# Add parent directory to Python path to ensure module imports work\n",
    "import sys\n",
    "import os\n",
    "\n",
    "# Add parent directories to path for proper imports\n",
    "current_dir = os.path.dirname(os.path.abspath('.'))\n",
    "parent_dir = os.path.dirname(current_dir)\n",
    "parent_parent_dir = os.path.dirname(parent_dir)\n",
    "parent_parent_parent_dir = os.path.dirname(parent_parent_dir)\n",
    "parent_parent_parent_parent_dir = os.path.dirname(parent_parent_parent_dir)\n",
    "\n",
    "# Add all possible parent paths to ensure the module is found\n",
    "for path in [current_dir, parent_dir, parent_parent_dir, parent_parent_parent_dir, parent_parent_parent_parent_dir]:\n",
    "    if path not in sys.path:\n",
    "        sys.path.insert(0, path)\n",
    "\n",
    "# Print current path to help with debugging\n",
    "print(f\"Current directory: {os.getcwd()}\")\n",
    "print(f\"Python path: {sys.path}\")"
   ]
  },
  {
   "cell_type": "code",
   "execution_count": 2,
   "metadata": {},
   "outputs": [],
   "source": [
    "import model_checker\n",
    "from model_checker.theory_lib import default\n",
    "from model_checker.theory_lib.default.examples import extensional"
   ]
  },
  {
   "cell_type": "markdown",
   "metadata": {},
   "source": [
    "## Setup\n",
    "\n",
    "First, let's set up the basic components we need for model checking."
   ]
  },
  {
   "cell_type": "code",
   "execution_count": 3,
   "metadata": {},
   "outputs": [],
   "source": [
    "# Import operators\n",
    "operators = default.default_operators\n",
    "\n",
    "# Get default settings\n",
    "default_settings = default.Semantics.DEFAULT_EXAMPLE_SETTINGS\n",
    "\n",
    "# Define general settings for display\n",
    "general_settings = {\n",
    "    \"print_constraints\": False,\n",
    "    \"print_impossible\": True,\n",
    "    \"print_z3\": False,\n",
    "    \"save_output\": False,\n",
    "    \"maximize\": False,\n",
    "}\n",
    "\n",
    "# Update default settings with general settings\n",
    "default_settings.update(general_settings)"
   ]
  },
  {
   "cell_type": "markdown",
   "metadata": {},
   "source": [
    "## Helper Function\n",
    "\n",
    "Let's create a helper function to run our examples."
   ]
  },
  {
   "cell_type": "code",
   "execution_count": 4,
   "metadata": {},
   "outputs": [],
   "source": [
    "def run_example(example, name):\n",
    "    \"\"\"Run a specific example and display the results.\n",
    "    \n",
    "    Args:\n",
    "        example: The example to run (list containing premises, conclusions, settings)\n",
    "        name: The name of the example\n",
    "    \"\"\"\n",
    "    premises, conclusions, settings = example\n",
    "    \n",
    "    # Create syntax object\n",
    "    syntax = model_checker.syntactic.Syntax(premises, conclusions, operators)\n",
    "    \n",
    "    # Update default settings with example-specific settings and general settings\n",
    "    example_settings = default_settings.copy()\n",
    "    example_settings.update(settings)\n",
    "    \n",
    "    # Ensure print_impossible is set\n",
    "    if 'print_impossible' not in example_settings:\n",
    "        example_settings['print_impossible'] = True\n",
    "    \n",
    "    # Create semantics\n",
    "    semantics = default.Semantics(example_settings)\n",
    "    proposition_class = default.Proposition\n",
    "    \n",
    "    # Create model constraints\n",
    "    model_constraints = model_checker.model.ModelConstraints(example_settings, syntax, semantics, proposition_class)\n",
    "    \n",
    "    # Create model structure\n",
    "    model_structure = default.ModelStructure(model_constraints, example_settings)\n",
    "    \n",
    "    # Interpret sentences before printing\n",
    "    sentences = model_structure.premises + model_structure.conclusions\n",
    "    model_structure.interpret(sentences)\n",
    "    \n",
    "    # Print results\n",
    "    model_structure.print_all(example_settings, name, \"Default Semantics\")"
   ]
  },
  {
   "cell_type": "markdown",
   "metadata": {},
   "source": [
    "## Countermodels\n",
    "\n",
    "Let's examine some key countermodels from extensional logic."
   ]
  },
  {
   "cell_type": "markdown",
   "metadata": {},
   "source": [
    "### EL_CM_1: Contradiction"
   ]
  },
  {
   "cell_type": "code",
   "execution_count": 5,
   "metadata": {},
   "outputs": [
    {
     "name": "stdout",
     "output_type": "stream",
     "text": [
      "========================================\n",
      "\n",
      "EXAMPLE Contradiction: there is a countermodel.\n",
      "\n",
      "Atomic States: 3\n",
      "\n",
      "Semantic Theory: Default Semantics\n",
      "\n",
      "Premise:\n",
      "1. A\n",
      "\n",
      "Conclusion:\n",
      "2. \\neg A\n",
      "\n",
      "Z3 Run Time: 0.0015 seconds\n",
      "\n",
      "========================================\n",
      "State Space:\n",
      "  \u001b[37m#b000 = \u001b[33m□\u001b[0m\n",
      "  \u001b[37m#b001 = \u001b[36ma\u001b[0m\n",
      "  \u001b[37m#b010 = \u001b[36mb\u001b[0m\n",
      "  \u001b[37m#b011 = \u001b[35ma.b (impossible)\u001b[0m\n",
      "  \u001b[37m#b100 = \u001b[36mc\u001b[0m\n",
      "  \u001b[37m#b101 = \u001b[34ma.c (world)\u001b[0m\n",
      "  \u001b[37m#b110 = \u001b[34mb.c (world)\u001b[0m\n",
      "  \u001b[37m#b111 = \u001b[35ma.b.c (impossible)\u001b[0m\n",
      "\n",
      "The evaluation world is: \u001b[34ma.c\u001b[0m\n",
      "\n",
      "INTERPRETED PREMISE:\n",
      "\n",
      "1.  \u001b[32m|A| = < {a.c}, {b, b.c} >\u001b[0m  \u001b[32m(True in a.c)\u001b[0m\n",
      "\n",
      "INTERPRETED CONCLUSION:\n",
      "\n",
      "2.  \u001b[31m|\\neg A| = < {b, b.c}, {a.c} >\u001b[0m  \u001b[31m(False in a.c)\u001b[0m\n",
      "      \u001b[37m|A| = < {a.c}, {b, b.c} >\u001b[0m  \u001b[33m(True in a.c)\u001b[0m\n",
      "\n",
      "Total Run Time: 0.0253 seconds\n",
      "\n",
      "========================================\n"
     ]
    }
   ],
   "source": [
    "run_example(extensional.EL_CM_1_example, \"Contradiction\")"
   ]
  },
  {
   "cell_type": "markdown",
   "metadata": {},
   "source": [
    "## Theorems\n",
    "\n",
    "Now let's examine some key theorems from extensional logic."
   ]
  },
  {
   "cell_type": "markdown",
   "metadata": {},
   "source": [
    "### EL_TH_1: Modus Ponens"
   ]
  },
  {
   "cell_type": "code",
   "execution_count": 6,
   "metadata": {},
   "outputs": [
    {
     "name": "stdout",
     "output_type": "stream",
     "text": [
      "========================================\n",
      "\n",
      "EXAMPLE Modus Ponens: there is no countermodel.\n",
      "\n",
      "Atomic States: 3\n",
      "\n",
      "Semantic Theory: Default Semantics\n",
      "\n",
      "Premises:\n",
      "1. A\n",
      "2. (A \\rightarrow B)\n",
      "\n",
      "Conclusion:\n",
      "3. B\n",
      "\n",
      "Z3 Run Time: 0.0033 seconds\n",
      "\n",
      "========================================\n"
     ]
    }
   ],
   "source": [
    "run_example(extensional.EL_TH_1_example, \"Modus Ponens\")"
   ]
  },
  {
   "cell_type": "markdown",
   "metadata": {},
   "source": [
    "### EL_TH_2: Axiom of Simplification"
   ]
  },
  {
   "cell_type": "code",
   "execution_count": 7,
   "metadata": {},
   "outputs": [
    {
     "name": "stdout",
     "output_type": "stream",
     "text": [
      "========================================\n",
      "\n",
      "EXAMPLE Axiom of Simplification: there is no countermodel.\n",
      "\n",
      "Atomic States: 3\n",
      "\n",
      "Semantic Theory: Default Semantics\n",
      "\n",
      "Premise:\n",
      "\n",
      "Conclusion:\n",
      "1. (A \\rightarrow (B \\rightarrow A))\n",
      "\n",
      "Z3 Run Time: 0.0027 seconds\n",
      "\n",
      "========================================\n"
     ]
    }
   ],
   "source": [
    "run_example(extensional.EL_TH_2_example, \"Axiom of Simplification\")"
   ]
  },
  {
   "cell_type": "markdown",
   "metadata": {},
   "source": [
    "### EL_TH_3: Axiom of Distribution"
   ]
  },
  {
   "cell_type": "code",
   "execution_count": 8,
   "metadata": {},
   "outputs": [
    {
     "name": "stdout",
     "output_type": "stream",
     "text": [
      "========================================\n",
      "\n",
      "EXAMPLE Axiom of Distribution: there is no countermodel.\n",
      "\n",
      "Atomic States: 3\n",
      "\n",
      "Semantic Theory: Default Semantics\n",
      "\n",
      "Premise:\n",
      "\n",
      "Conclusion:\n",
      "1. ((A \\rightarrow (B \\rightarrow C)) \\rightarrow ((A \\rightarrow B) \\rightarrow (A \\rightarrow C)))\n",
      "\n",
      "Z3 Run Time: 0.0038 seconds\n",
      "\n",
      "========================================\n"
     ]
    }
   ],
   "source": [
    "run_example(extensional.EL_TH_3_example, \"Axiom of Distribution\")"
   ]
  },
  {
   "cell_type": "markdown",
   "metadata": {},
   "source": [
    "### EL_TH_4: Contraposition"
   ]
  },
  {
   "cell_type": "code",
   "execution_count": 9,
   "metadata": {},
   "outputs": [
    {
     "name": "stdout",
     "output_type": "stream",
     "text": [
      "========================================\n",
      "\n",
      "EXAMPLE Contraposition: there is no countermodel.\n",
      "\n",
      "Atomic States: 3\n",
      "\n",
      "Semantic Theory: Default Semantics\n",
      "\n",
      "Premise:\n",
      "\n",
      "Conclusion:\n",
      "1. ((\\neg A \\rightarrow \\neg B) \\rightarrow (B \\rightarrow A))\n",
      "\n",
      "Z3 Run Time: 0.0028 seconds\n",
      "\n",
      "========================================\n"
     ]
    }
   ],
   "source": [
    "run_example(extensional.EL_TH_4_example, \"Contraposition\")"
   ]
  },
  {
   "cell_type": "markdown",
   "metadata": {},
   "source": [
    "## Summary\n",
    "\n",
    "This notebook demonstrates the key countermodels and theorems in extensional logic using the default theory of the ModelChecker framework. The examples showcase various properties of classical logic including modus ponens, axioms of simplification and distribution, and contraposition."
   ]
  }
 ],
 "metadata": {
  "kernelspec": {
   "display_name": "Python 3 (ipykernel)",
   "language": "python",
   "name": "python3"
  },
  "language_info": {
   "codemirror_mode": {
    "name": "ipython",
    "version": 3
   },
   "file_extension": ".py",
   "mimetype": "text/x-python",
   "name": "python",
   "nbconvert_exporter": "python",
   "pygments_lexer": "ipython3",
   "version": "3.12.8"
  }
 },
 "nbformat": 4,
 "nbformat_minor": 4
}
