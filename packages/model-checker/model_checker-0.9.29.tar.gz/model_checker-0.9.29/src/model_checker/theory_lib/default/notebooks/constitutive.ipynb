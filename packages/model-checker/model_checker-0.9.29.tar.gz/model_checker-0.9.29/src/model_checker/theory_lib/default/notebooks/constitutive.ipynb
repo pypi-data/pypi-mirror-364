{
 "cells": [
  {
   "cell_type": "markdown",
   "metadata": {},
   "source": [
    "# Constitutive Theory Demo Notebook\n",
    "\n",
    "This notebook demonstrates constitutive logic examples from the default theory. It includes various countermodels showing invalid arguments and theorems showing valid arguments in constitutive logic."
   ]
  },
  {
   "cell_type": "code",
   "execution_count": 1,
   "metadata": {},
   "outputs": [
    {
     "name": "stdout",
     "output_type": "stream",
     "text": [
      "Current directory: /home/benjamin/Documents/Philosophy/Projects/ModelChecker/Code/src/model_checker/theory_lib/default/notebooks\n",
      "Python path: ['/home/benjamin/Documents/Philosophy/Projects/ModelChecker/Code/src/model_checker', '/home/benjamin/Documents/Philosophy/Projects/ModelChecker/Code/src/model_checker/theory_lib', '/home/benjamin/Documents/Philosophy/Projects/ModelChecker/Code/src/model_checker/theory_lib/default', '/home/benjamin/Documents/Philosophy/Projects/ModelChecker/Code', '/home/benjamin/Documents/Philosophy/Projects/ModelChecker/Code/src', '', '/nix/store/h3i0acpmr8mrjx07519xxmidv8mpax4y-python3-3.12.5/lib/python3.12/site-packages', '/nix/store/m3q9aavsms4fcj0n1x5w1g6cn60h0hc0-z3-solver-4.8.17-python/lib/python3.12/site-packages', '/nix/store/l7idy2qiiv0v0b6khfjvz3l5k6mnm47l-python3.12-setuptools-72.1.0/lib/python3.12/site-packages', '/nix/store/gam79wgc54sn8yyw2xkrqkf93v5lwaz1-python3.12-pip-24.0/lib/python3.12/site-packages', '/nix/store/w0ls6v4n3wb4jzriddxz4khx56dfmnmq-python3.12-networkx-3.3/lib/python3.12/site-packages', '/nix/store/99hl269v1igvjbp1znfk5jcarhzgy822-python3-3.12.8/lib/python312.zip', '/nix/store/99hl269v1igvjbp1znfk5jcarhzgy822-python3-3.12.8/lib/python3.12', '/nix/store/99hl269v1igvjbp1znfk5jcarhzgy822-python3-3.12.8/lib/python3.12/lib-dynload', '/nix/store/99hl269v1igvjbp1znfk5jcarhzgy822-python3-3.12.8/lib/python3.12/site-packages', '/nix/store/90r7m6gpnw5i5y30qq56zci99slfrfp6-python3-3.12.8-env/lib/python3.12/site-packages']\n"
     ]
    }
   ],
   "source": [
    "# Add parent directory to Python path to ensure module imports work\n",
    "import sys\n",
    "import os\n",
    "\n",
    "# Add parent directories to path for proper imports\n",
    "current_dir = os.path.dirname(os.path.abspath('.'))\n",
    "parent_dir = os.path.dirname(current_dir)\n",
    "parent_parent_dir = os.path.dirname(parent_dir)\n",
    "parent_parent_parent_dir = os.path.dirname(parent_parent_dir)\n",
    "parent_parent_parent_parent_dir = os.path.dirname(parent_parent_parent_dir)\n",
    "\n",
    "# Add all possible parent paths to ensure the module is found\n",
    "for path in [current_dir, parent_dir, parent_parent_dir, parent_parent_parent_dir, parent_parent_parent_parent_dir]:\n",
    "    if path not in sys.path:\n",
    "        sys.path.insert(0, path)\n",
    "\n",
    "# Print current path to help with debugging\n",
    "print(f\"Current directory: {os.getcwd()}\")\n",
    "print(f\"Python path: {sys.path}\")"
   ]
  },
  {
   "cell_type": "code",
   "execution_count": 2,
   "metadata": {},
   "outputs": [],
   "source": [
    "import model_checker\n",
    "from model_checker.theory_lib import default\n",
    "from model_checker.theory_lib.default.examples import constitutive"
   ]
  },
  {
   "cell_type": "markdown",
   "metadata": {},
   "source": [
    "## Setup\n",
    "\n",
    "First, let's set up the basic components we need for model checking."
   ]
  },
  {
   "cell_type": "code",
   "execution_count": 3,
   "metadata": {},
   "outputs": [],
   "source": [
    "# Import operators\n",
    "operators = default.default_operators\n",
    "\n",
    "# Get default settings\n",
    "default_settings = default.Semantics.DEFAULT_EXAMPLE_SETTINGS\n",
    "\n",
    "# Define general settings for display\n",
    "general_settings = {\n",
    "    \"print_constraints\": False,\n",
    "    \"print_impossible\": True,\n",
    "    \"print_z3\": False,\n",
    "    \"save_output\": False,\n",
    "    \"maximize\": False,\n",
    "}\n",
    "\n",
    "# Update default settings with general settings\n",
    "default_settings.update(general_settings)"
   ]
  },
  {
   "cell_type": "markdown",
   "metadata": {},
   "source": [
    "## Helper Function\n",
    "\n",
    "Let's create a helper function to run our examples."
   ]
  },
  {
   "cell_type": "code",
   "execution_count": 4,
   "metadata": {},
   "outputs": [],
   "source": [
    "def run_example(example, name):\n",
    "    \"\"\"Run a specific example and display the results.\n",
    "    \n",
    "    Args:\n",
    "        example: The example to run (list containing premises, conclusions, settings)\n",
    "        name: The name of the example\n",
    "    \"\"\"\n",
    "    premises, conclusions, settings = example\n",
    "    \n",
    "    # Create syntax object\n",
    "    syntax = model_checker.syntactic.Syntax(premises, conclusions, operators)\n",
    "    \n",
    "    # Update default settings with example-specific settings and general settings\n",
    "    example_settings = default_settings.copy()\n",
    "    example_settings.update(settings)\n",
    "    \n",
    "    # Ensure print_impossible is set\n",
    "    if 'print_impossible' not in example_settings:\n",
    "        example_settings['print_impossible'] = True\n",
    "    \n",
    "    # Create semantics\n",
    "    semantics = default.Semantics(example_settings)\n",
    "    proposition_class = default.Proposition\n",
    "    \n",
    "    # Create model constraints\n",
    "    model_constraints = model_checker.model.ModelConstraints(example_settings, syntax, semantics, proposition_class)\n",
    "    \n",
    "    # Create model structure\n",
    "    model_structure = default.ModelStructure(model_constraints, example_settings)\n",
    "    \n",
    "    # Interpret sentences before printing\n",
    "    sentences = model_structure.premises + model_structure.conclusions\n",
    "    model_structure.interpret(sentences)\n",
    "    \n",
    "    # Print results\n",
    "    model_structure.print_all(example_settings, name, \"Default Semantics\")"
   ]
  },
  {
   "cell_type": "markdown",
   "metadata": {},
   "source": [
    "## Countermodels\n",
    "\n",
    "Let's examine some key countermodels from constitutive logic."
   ]
  },
  {
   "cell_type": "markdown",
   "metadata": {},
   "source": [
    "### CL_CM_1: Equivalence of Tautologies"
   ]
  },
  {
   "cell_type": "code",
   "execution_count": 5,
   "metadata": {},
   "outputs": [
    {
     "name": "stdout",
     "output_type": "stream",
     "text": [
      "========================================\n",
      "\n",
      "EXAMPLE Equivalence of Tautologies: there is a countermodel.\n",
      "\n",
      "Atomic States: 4\n",
      "\n",
      "Semantic Theory: Default Semantics\n",
      "\n",
      "Premise:\n",
      "\n",
      "Conclusion:\n",
      "1. ((A \\vee \\neg A) \\equiv (B \\vee \\neg B))\n",
      "\n",
      "Z3 Run Time: 0.0105 seconds\n",
      "\n",
      "========================================\n",
      "State Space:\n",
      "  \u001b[37m#b0000 = \u001b[33m□\u001b[0m\n",
      "  \u001b[37m#b0001 = \u001b[36ma\u001b[0m\n",
      "  \u001b[37m#b0010 = \u001b[36mb\u001b[0m\n",
      "  \u001b[37m#b0011 = \u001b[35ma.b (impossible)\u001b[0m\n",
      "  \u001b[37m#b0100 = \u001b[36mc\u001b[0m\n",
      "  \u001b[37m#b0101 = \u001b[34ma.c (world)\u001b[0m\n",
      "  \u001b[37m#b0110 = \u001b[35mb.c (impossible)\u001b[0m\n",
      "  \u001b[37m#b0111 = \u001b[35ma.b.c (impossible)\u001b[0m\n",
      "  \u001b[37m#b1000 = \u001b[36md\u001b[0m\n",
      "  \u001b[37m#b1001 = \u001b[35ma.d (impossible)\u001b[0m\n",
      "  \u001b[37m#b1010 = \u001b[34mb.d (world)\u001b[0m\n",
      "  \u001b[37m#b1011 = \u001b[35ma.b.d (impossible)\u001b[0m\n",
      "  \u001b[37m#b1100 = \u001b[34mc.d (world)\u001b[0m\n",
      "  \u001b[37m#b1101 = \u001b[35ma.c.d (impossible)\u001b[0m\n",
      "  \u001b[37m#b1110 = \u001b[35mb.c.d (impossible)\u001b[0m\n",
      "  \u001b[37m#b1111 = \u001b[35ma.b.c.d (impossible)\u001b[0m\n",
      "\n",
      "The evaluation world is: \u001b[34mc.d\u001b[0m\n",
      "\n",
      "INTERPRETED CONCLUSION:\n",
      "\n",
      "1.  \u001b[31m|((A \\vee \\neg A) \\equiv (B \\vee \\neg B))| = < ∅, {□} >\u001b[0m  \u001b[31m(False in c.d)\u001b[0m\n",
      "      \u001b[37m|(A \\vee \\neg A)| = < {b, b.c, c}, {b.c} >\u001b[0m  \u001b[33m(True in c.d)\u001b[0m\n",
      "        \u001b[37m|A| = < {c}, {b} >\u001b[0m  \u001b[33m(True in c.d)\u001b[0m\n",
      "        \u001b[37m|\\neg A| = < {b}, {c} >\u001b[0m  \u001b[33m(False in c.d)\u001b[0m\n",
      "          \u001b[37m|A| = < {c}, {b} >\u001b[0m  \u001b[33m(True in c.d)\u001b[0m\n",
      "      \u001b[37m|(B \\vee \\neg B)| = < {a, a.d, d}, {a.d} >\u001b[0m  \u001b[33m(True in c.d)\u001b[0m\n",
      "        \u001b[37m|B| = < {d}, {a} >\u001b[0m  \u001b[33m(True in c.d)\u001b[0m\n",
      "        \u001b[37m|\\neg B| = < {a}, {d} >\u001b[0m  \u001b[33m(False in c.d)\u001b[0m\n",
      "          \u001b[37m|B| = < {d}, {a} >\u001b[0m  \u001b[33m(True in c.d)\u001b[0m\n",
      "\n",
      "Total Run Time: 0.1279 seconds\n",
      "\n",
      "========================================\n"
     ]
    }
   ],
   "source": [
    "run_example(constitutive.CL_CM_1_example, \"Equivalence of Tautologies\")"
   ]
  },
  {
   "cell_type": "markdown",
   "metadata": {},
   "source": [
    "### CL_CM_2: Equivalence of Contradictions"
   ]
  },
  {
   "cell_type": "code",
   "execution_count": 6,
   "metadata": {},
   "outputs": [
    {
     "name": "stdout",
     "output_type": "stream",
     "text": [
      "========================================\n",
      "\n",
      "EXAMPLE Equivalence of Contradictions: there is a countermodel.\n",
      "\n",
      "Atomic States: 4\n",
      "\n",
      "Semantic Theory: Default Semantics\n",
      "\n",
      "Premise:\n",
      "\n",
      "Conclusion:\n",
      "1. ((A \\wedge \\neg A) \\equiv (B \\wedge \\neg B))\n",
      "\n",
      "Z3 Run Time: 0.015 seconds\n",
      "\n",
      "========================================\n",
      "State Space:\n",
      "  \u001b[37m#b0000 = \u001b[33m□\u001b[0m\n",
      "  \u001b[37m#b0001 = \u001b[36ma\u001b[0m\n",
      "  \u001b[37m#b0010 = \u001b[36mb\u001b[0m\n",
      "  \u001b[37m#b0011 = \u001b[35ma.b (impossible)\u001b[0m\n",
      "  \u001b[37m#b0100 = \u001b[36mc\u001b[0m\n",
      "  \u001b[37m#b0101 = \u001b[34ma.c (world)\u001b[0m\n",
      "  \u001b[37m#b0110 = \u001b[35mb.c (impossible)\u001b[0m\n",
      "  \u001b[37m#b0111 = \u001b[35ma.b.c (impossible)\u001b[0m\n",
      "  \u001b[37m#b1000 = \u001b[36md\u001b[0m\n",
      "  \u001b[37m#b1001 = \u001b[35ma.d (impossible)\u001b[0m\n",
      "  \u001b[37m#b1010 = \u001b[34mb.d (world)\u001b[0m\n",
      "  \u001b[37m#b1011 = \u001b[35ma.b.d (impossible)\u001b[0m\n",
      "  \u001b[37m#b1100 = \u001b[34mc.d (world)\u001b[0m\n",
      "  \u001b[37m#b1101 = \u001b[35ma.c.d (impossible)\u001b[0m\n",
      "  \u001b[37m#b1110 = \u001b[35mb.c.d (impossible)\u001b[0m\n",
      "  \u001b[37m#b1111 = \u001b[35ma.b.c.d (impossible)\u001b[0m\n",
      "\n",
      "The evaluation world is: \u001b[34mc.d\u001b[0m\n",
      "\n",
      "INTERPRETED CONCLUSION:\n",
      "\n",
      "1.  \u001b[31m|((A \\wedge \\neg A) \\equiv (B \\wedge \\neg B))| = < ∅, {□} >\u001b[0m  \u001b[31m(False in c.d)\u001b[0m\n",
      "      \u001b[37m|(A \\wedge \\neg A)| = < {b.c}, {b, b.c, c} >\u001b[0m  \u001b[33m(False in c.d)\u001b[0m\n",
      "        \u001b[37m|A| = < {b}, {c} >\u001b[0m  \u001b[33m(False in c.d)\u001b[0m\n",
      "        \u001b[37m|\\neg A| = < {c}, {b} >\u001b[0m  \u001b[33m(True in c.d)\u001b[0m\n",
      "          \u001b[37m|A| = < {b}, {c} >\u001b[0m  \u001b[33m(False in c.d)\u001b[0m\n",
      "      \u001b[37m|(B \\wedge \\neg B)| = < {a.d}, {a, a.d, d} >\u001b[0m  \u001b[33m(False in c.d)\u001b[0m\n",
      "        \u001b[37m|B| = < {a}, {d} >\u001b[0m  \u001b[33m(False in c.d)\u001b[0m\n",
      "        \u001b[37m|\\neg B| = < {d}, {a} >\u001b[0m  \u001b[33m(True in c.d)\u001b[0m\n",
      "          \u001b[37m|B| = < {a}, {d} >\u001b[0m  \u001b[33m(False in c.d)\u001b[0m\n",
      "\n",
      "Total Run Time: 0.1482 seconds\n",
      "\n",
      "========================================\n"
     ]
    }
   ],
   "source": [
    "run_example(constitutive.CL_CM_2_example, \"Equivalence of Contradictions\")"
   ]
  },
  {
   "cell_type": "markdown",
   "metadata": {},
   "source": [
    "### CL_CM_3: Ground Conjunction Supplementation"
   ]
  },
  {
   "cell_type": "code",
   "execution_count": 7,
   "metadata": {},
   "outputs": [
    {
     "name": "stdout",
     "output_type": "stream",
     "text": [
      "========================================\n",
      "\n",
      "EXAMPLE Ground Conjunction Supplementation: there is a countermodel.\n",
      "\n",
      "Atomic States: 3\n",
      "\n",
      "Semantic Theory: Default Semantics\n",
      "\n",
      "Premises:\n",
      "1. (A \\leq B)\n",
      "2. (C \\leq D)\n",
      "\n",
      "Conclusion:\n",
      "3. ((A \\wedge C) \\leq (B \\wedge D))\n",
      "\n",
      "Z3 Run Time: 0.0057 seconds\n",
      "\n",
      "========================================\n",
      "State Space:\n",
      "  \u001b[37m#b000 = \u001b[33m□\u001b[0m\n",
      "  \u001b[37m#b001 = \u001b[36ma\u001b[0m\n",
      "  \u001b[37m#b010 = \u001b[36mb\u001b[0m\n",
      "  \u001b[37m#b011 = \u001b[34ma.b (world)\u001b[0m\n",
      "  \u001b[37m#b100 = \u001b[36mc\u001b[0m\n",
      "  \u001b[37m#b101 = \u001b[35ma.c (impossible)\u001b[0m\n",
      "  \u001b[37m#b110 = \u001b[34mb.c (world)\u001b[0m\n",
      "  \u001b[37m#b111 = \u001b[35ma.b.c (impossible)\u001b[0m\n",
      "\n",
      "The evaluation world is: \u001b[34ma.b\u001b[0m\n",
      "\n",
      "INTERPRETED PREMISES:\n",
      "\n",
      "1.  \u001b[32m|(A \\leq B)| = < {□}, ∅ >\u001b[0m  \u001b[32m(True in a.b)\u001b[0m\n",
      "      \u001b[37m|A| = < {b.c}, {a} >\u001b[0m  \u001b[33m(False in a.b)\u001b[0m\n",
      "      \u001b[37m|B| = < {a.b.c, b.c, c}, {a.b} >\u001b[0m  \u001b[33m(False in a.b)\u001b[0m\n",
      "\n",
      "2.  \u001b[32m|(C \\leq D)| = < {□}, ∅ >\u001b[0m  \u001b[32m(True in a.b)\u001b[0m\n",
      "      \u001b[37m|C| = < {a.b}, {c} >\u001b[0m  \u001b[33m(True in a.b)\u001b[0m\n",
      "      \u001b[37m|D| = < {a.b, a.b.c}, {c} >\u001b[0m  \u001b[33m(True in a.b)\u001b[0m\n",
      "\n",
      "INTERPRETED CONCLUSION:\n",
      "\n",
      "3.  \u001b[31m|((A \\wedge C) \\leq (B \\wedge D))| = < ∅, {□} >\u001b[0m  \u001b[31m(False in a.b)\u001b[0m\n",
      "      \u001b[37m|(A \\wedge C)| = < {a.b.c}, {a, a.c, c} >\u001b[0m  \u001b[33m(False in a.b)\u001b[0m\n",
      "        \u001b[37m|A| = < {b.c}, {a} >\u001b[0m  \u001b[33m(False in a.b)\u001b[0m\n",
      "        \u001b[37m|C| = < {a.b}, {c} >\u001b[0m  \u001b[33m(True in a.b)\u001b[0m\n",
      "      \u001b[37m|(B \\wedge D)| = < {a.b.c}, {a.b, a.b.c, c} >\u001b[0m  \u001b[33m(False in a.b)\u001b[0m\n",
      "        \u001b[37m|B| = < {a.b.c, b.c, c}, {a.b} >\u001b[0m  \u001b[33m(False in a.b)\u001b[0m\n",
      "        \u001b[37m|D| = < {a.b, a.b.c}, {c} >\u001b[0m  \u001b[33m(True in a.b)\u001b[0m\n",
      "\n",
      "Total Run Time: 0.0917 seconds\n",
      "\n",
      "========================================\n"
     ]
    }
   ],
   "source": [
    "run_example(constitutive.CL_CM_3_example, \"Ground Conjunction Supplementation\")"
   ]
  },
  {
   "cell_type": "markdown",
   "metadata": {},
   "source": [
    "### CL_CM_4: Essence Disjunction Supplementation"
   ]
  },
  {
   "cell_type": "code",
   "execution_count": 8,
   "metadata": {},
   "outputs": [
    {
     "name": "stdout",
     "output_type": "stream",
     "text": [
      "========================================\n",
      "\n",
      "EXAMPLE Essence Disjunction Supplementation: there is a countermodel.\n",
      "\n",
      "Atomic States: 3\n",
      "\n",
      "Semantic Theory: Default Semantics\n",
      "\n",
      "Premises:\n",
      "1. (A \\sqsubseteq B)\n",
      "2. (C \\sqsubseteq D)\n",
      "\n",
      "Conclusion:\n",
      "3. ((A \\vee C) \\sqsubseteq (B \\vee D))\n",
      "\n",
      "Z3 Run Time: 0.0063 seconds\n",
      "\n",
      "========================================\n",
      "State Space:\n",
      "  \u001b[37m#b000 = \u001b[33m□\u001b[0m\n",
      "  \u001b[37m#b001 = \u001b[35ma (impossible)\u001b[0m\n",
      "  \u001b[37m#b010 = \u001b[34mb (world)\u001b[0m\n",
      "  \u001b[37m#b011 = \u001b[35ma.b (impossible)\u001b[0m\n",
      "  \u001b[37m#b100 = \u001b[34mc (world)\u001b[0m\n",
      "  \u001b[37m#b101 = \u001b[35ma.c (impossible)\u001b[0m\n",
      "  \u001b[37m#b110 = \u001b[35mb.c (impossible)\u001b[0m\n",
      "  \u001b[37m#b111 = \u001b[35ma.b.c (impossible)\u001b[0m\n",
      "\n",
      "The evaluation world is: \u001b[34mc\u001b[0m\n",
      "\n",
      "INTERPRETED PREMISES:\n",
      "\n",
      "1.  \u001b[32m|(A \\sqsubseteq B)| = < {□}, ∅ >\u001b[0m  \u001b[32m(True in c)\u001b[0m\n",
      "      \u001b[37m|A| = < {a.b.c, a.c, b}, {a.c, c} >\u001b[0m  \u001b[33m(False in c)\u001b[0m\n",
      "      \u001b[37m|B| = < {a.b.c, b}, {a, a.b.c, a.c, c} >\u001b[0m  \u001b[33m(False in c)\u001b[0m\n",
      "\n",
      "2.  \u001b[32m|(C \\sqsubseteq D)| = < {□}, ∅ >\u001b[0m  \u001b[32m(True in c)\u001b[0m\n",
      "      \u001b[37m|C| = < {c}, {a.b.c, b} >\u001b[0m  \u001b[33m(True in c)\u001b[0m\n",
      "      \u001b[37m|D| = < {c}, {a.b.c, a.c, b, b.c} >\u001b[0m  \u001b[33m(True in c)\u001b[0m\n",
      "\n",
      "INTERPRETED CONCLUSION:\n",
      "\n",
      "3.  \u001b[31m|((A \\vee C) \\sqsubseteq (B \\vee D))| = < ∅, {□} >\u001b[0m  \u001b[31m(False in c)\u001b[0m\n",
      "      \u001b[37m|(A \\vee C)| = < {a.b.c, a.c, b, b.c, c}, {a.b.c, b.c} >\u001b[0m  \u001b[33m(True in c)\u001b[0m\n",
      "        \u001b[37m|A| = < {a.b.c, a.c, b}, {a.c, c} >\u001b[0m  \u001b[33m(False in c)\u001b[0m\n",
      "        \u001b[37m|C| = < {c}, {a.b.c, b} >\u001b[0m  \u001b[33m(True in c)\u001b[0m\n",
      "      \u001b[37m|(B \\vee D)| = < {a.b.c, b, b.c, c}, {a.b, a.b.c, a.c, b.c} >\u001b[0m  \u001b[33m(True in c)\u001b[0m\n",
      "        \u001b[37m|B| = < {a.b.c, b}, {a, a.b.c, a.c, c} >\u001b[0m  \u001b[33m(False in c)\u001b[0m\n",
      "        \u001b[37m|D| = < {c}, {a.b.c, a.c, b, b.c} >\u001b[0m  \u001b[33m(True in c)\u001b[0m\n",
      "\n",
      "Total Run Time: 0.0995 seconds\n",
      "\n",
      "========================================\n"
     ]
    }
   ],
   "source": [
    "run_example(constitutive.CL_CM_4_example, \"Essence Disjunction Supplementation\")"
   ]
  },
  {
   "cell_type": "markdown",
   "metadata": {},
   "source": [
    "### CL_CM_5: Identity Absorption: Disjunction over Conjunction"
   ]
  },
  {
   "cell_type": "code",
   "execution_count": 9,
   "metadata": {},
   "outputs": [
    {
     "name": "stdout",
     "output_type": "stream",
     "text": [
      "========================================\n",
      "\n",
      "EXAMPLE Identity Absorption: Disjunction over Conjunction: there is a countermodel.\n",
      "\n",
      "Atomic States: 4\n",
      "\n",
      "Semantic Theory: Default Semantics\n",
      "\n",
      "Premise:\n",
      "\n",
      "Conclusion:\n",
      "1. (A \\equiv (A \\vee (A \\wedge B)))\n",
      "\n",
      "Z3 Run Time: 0.0123 seconds\n",
      "\n",
      "========================================\n",
      "State Space:\n",
      "  \u001b[37m#b0000 = \u001b[33m□\u001b[0m\n",
      "  \u001b[37m#b0001 = \u001b[36ma\u001b[0m\n",
      "  \u001b[37m#b0010 = \u001b[36mb\u001b[0m\n",
      "  \u001b[37m#b0011 = \u001b[34ma.b (world)\u001b[0m\n",
      "  \u001b[37m#b0100 = \u001b[36mc\u001b[0m\n",
      "  \u001b[37m#b0101 = \u001b[35ma.c (impossible)\u001b[0m\n",
      "  \u001b[37m#b0110 = \u001b[35mb.c (impossible)\u001b[0m\n",
      "  \u001b[37m#b0111 = \u001b[35ma.b.c (impossible)\u001b[0m\n",
      "  \u001b[37m#b1000 = \u001b[36md\u001b[0m\n",
      "  \u001b[37m#b1001 = \u001b[34ma.d (world)\u001b[0m\n",
      "  \u001b[37m#b1010 = \u001b[35mb.d (impossible)\u001b[0m\n",
      "  \u001b[37m#b1011 = \u001b[35ma.b.d (impossible)\u001b[0m\n",
      "  \u001b[37m#b1100 = \u001b[34mc.d (world)\u001b[0m\n",
      "  \u001b[37m#b1101 = \u001b[35ma.c.d (impossible)\u001b[0m\n",
      "  \u001b[37m#b1110 = \u001b[35mb.c.d (impossible)\u001b[0m\n",
      "  \u001b[37m#b1111 = \u001b[35ma.b.c.d (impossible)\u001b[0m\n",
      "\n",
      "The evaluation world is: \u001b[34ma.d\u001b[0m\n",
      "\n",
      "INTERPRETED CONCLUSION:\n",
      "\n",
      "1.  \u001b[31m|(A \\equiv (A \\vee (A \\wedge B)))| = < ∅, {□} >\u001b[0m  \u001b[31m(False in a.d)\u001b[0m\n",
      "      \u001b[37m|A| = < {b}, {d} >\u001b[0m  \u001b[33m(False in a.d)\u001b[0m\n",
      "      \u001b[37m|(A \\vee (A \\wedge B))| = < {a.b, b}, {c.d, d} >\u001b[0m  \u001b[33m(False in a.d)\u001b[0m\n",
      "        \u001b[37m|A| = < {b}, {d} >\u001b[0m  \u001b[33m(False in a.d)\u001b[0m\n",
      "        \u001b[37m|(A \\wedge B)| = < {a.b}, {c, c.d, d} >\u001b[0m  \u001b[33m(False in a.d)\u001b[0m\n",
      "          \u001b[37m|A| = < {b}, {d} >\u001b[0m  \u001b[33m(False in a.d)\u001b[0m\n",
      "          \u001b[37m|B| = < {a}, {c} >\u001b[0m  \u001b[33m(True in a.d)\u001b[0m\n",
      "\n",
      "Total Run Time: 0.2565 seconds\n",
      "\n",
      "========================================\n"
     ]
    }
   ],
   "source": [
    "run_example(constitutive.CL_CM_5_example, \"Identity Absorption: Disjunction over Conjunction\")"
   ]
  },
  {
   "cell_type": "markdown",
   "metadata": {},
   "source": [
    "### CL_CM_6: Identity Absorption: Conjunction over Disjunction"
   ]
  },
  {
   "cell_type": "code",
   "execution_count": 10,
   "metadata": {},
   "outputs": [
    {
     "name": "stdout",
     "output_type": "stream",
     "text": [
      "========================================\n",
      "\n",
      "EXAMPLE Identity Absorption: Conjunction over Disjunction: there is a countermodel.\n",
      "\n",
      "Atomic States: 4\n",
      "\n",
      "Semantic Theory: Default Semantics\n",
      "\n",
      "Premise:\n",
      "\n",
      "Conclusion:\n",
      "1. (A \\equiv (A \\wedge (A \\vee B)))\n",
      "\n",
      "Z3 Run Time: 0.0176 seconds\n",
      "\n",
      "========================================\n",
      "State Space:\n",
      "  \u001b[37m#b0000 = \u001b[33m□\u001b[0m\n",
      "  \u001b[37m#b0001 = \u001b[36ma\u001b[0m\n",
      "  \u001b[37m#b0010 = \u001b[36mb\u001b[0m\n",
      "  \u001b[37m#b0011 = \u001b[35ma.b (impossible)\u001b[0m\n",
      "  \u001b[37m#b0100 = \u001b[36mc\u001b[0m\n",
      "  \u001b[37m#b0101 = \u001b[35ma.c (impossible)\u001b[0m\n",
      "  \u001b[37m#b0110 = \u001b[34mb.c (world)\u001b[0m\n",
      "  \u001b[37m#b0111 = \u001b[35ma.b.c (impossible)\u001b[0m\n",
      "  \u001b[37m#b1000 = \u001b[36md\u001b[0m\n",
      "  \u001b[37m#b1001 = \u001b[34ma.d (world)\u001b[0m\n",
      "  \u001b[37m#b1010 = \u001b[35mb.d (impossible)\u001b[0m\n",
      "  \u001b[37m#b1011 = \u001b[35ma.b.d (impossible)\u001b[0m\n",
      "  \u001b[37m#b1100 = \u001b[35mc.d (impossible)\u001b[0m\n",
      "  \u001b[37m#b1101 = \u001b[35ma.c.d (impossible)\u001b[0m\n",
      "  \u001b[37m#b1110 = \u001b[35mb.c.d (impossible)\u001b[0m\n",
      "  \u001b[37m#b1111 = \u001b[35ma.b.c.d (impossible)\u001b[0m\n",
      "\n",
      "The evaluation world is: \u001b[34ma.d\u001b[0m\n",
      "\n",
      "INTERPRETED CONCLUSION:\n",
      "\n",
      "1.  \u001b[31m|(A \\equiv (A \\wedge (A \\vee B)))| = < ∅, {□} >\u001b[0m  \u001b[31m(False in a.d)\u001b[0m\n",
      "      \u001b[37m|A| = < {b}, {a} >\u001b[0m  \u001b[33m(False in a.d)\u001b[0m\n",
      "      \u001b[37m|(A \\wedge (A \\vee B))| = < {b, b.c}, {a, a.d} >\u001b[0m  \u001b[33m(False in a.d)\u001b[0m\n",
      "        \u001b[37m|A| = < {b}, {a} >\u001b[0m  \u001b[33m(False in a.d)\u001b[0m\n",
      "        \u001b[37m|(A \\vee B)| = < {b, b.c, c}, {a.d} >\u001b[0m  \u001b[33m(False in a.d)\u001b[0m\n",
      "          \u001b[37m|A| = < {b}, {a} >\u001b[0m  \u001b[33m(False in a.d)\u001b[0m\n",
      "          \u001b[37m|B| = < {c}, {d} >\u001b[0m  \u001b[33m(False in a.d)\u001b[0m\n",
      "\n",
      "Total Run Time: 0.3285 seconds\n",
      "\n",
      "========================================\n"
     ]
    }
   ],
   "source": [
    "run_example(constitutive.CL_CM_6_example, \"Identity Absorption: Conjunction over Disjunction\")"
   ]
  },
  {
   "cell_type": "markdown",
   "metadata": {},
   "source": [
    "### CL_CM_7: Identity Distribution: Conjunction over Disjunction"
   ]
  },
  {
   "cell_type": "code",
   "execution_count": 11,
   "metadata": {},
   "outputs": [
    {
     "name": "stdout",
     "output_type": "stream",
     "text": [
      "========================================\n",
      "\n",
      "EXAMPLE Identity Distribution: Conjunction over Disjunction: there is a countermodel.\n",
      "\n",
      "Atomic States: 3\n",
      "\n",
      "Semantic Theory: Default Semantics\n",
      "\n",
      "Premise:\n",
      "\n",
      "Conclusion:\n",
      "1. ((A \\wedge (B \\vee C)) \\equiv ((A \\wedge B) \\vee (A \\wedge C)))\n",
      "\n",
      "Z3 Run Time: 0.0137 seconds\n",
      "\n",
      "========================================\n",
      "State Space:\n",
      "  \u001b[37m#b000 = \u001b[33m□\u001b[0m\n",
      "  \u001b[37m#b001 = \u001b[36ma\u001b[0m\n",
      "  \u001b[37m#b010 = \u001b[36mb\u001b[0m\n",
      "  \u001b[37m#b011 = \u001b[36ma.b\u001b[0m\n",
      "  \u001b[37m#b100 = \u001b[36mc\u001b[0m\n",
      "  \u001b[37m#b101 = \u001b[36ma.c\u001b[0m\n",
      "  \u001b[37m#b110 = \u001b[36mb.c\u001b[0m\n",
      "  \u001b[37m#b111 = \u001b[34ma.b.c (world)\u001b[0m\n",
      "\n",
      "The evaluation world is: \u001b[34ma.b.c\u001b[0m\n",
      "\n",
      "INTERPRETED CONCLUSION:\n",
      "\n",
      "1.  \u001b[31m|((A \\wedge (B \\vee C)) \\equiv ((A \\wedge B) \\vee (A \\wedge C)))| = < ∅, {□} >\u001b[0m  \u001b[31m(False in a.b.c)\u001b[0m\n",
      "      \u001b[37m|(A \\wedge (B \\vee C))| = < ∅, {a.b, a.b.c, c} >\u001b[0m  \u001b[33m(False in a.b.c)\u001b[0m\n",
      "        \u001b[37m|A| = < ∅, {c} >\u001b[0m  \u001b[33m(False in a.b.c)\u001b[0m\n",
      "        \u001b[37m|(B \\vee C)| = < ∅, {a.b} >\u001b[0m  \u001b[33m(False in a.b.c)\u001b[0m\n",
      "          \u001b[37m|B| = < ∅, {b} >\u001b[0m  \u001b[33m(False in a.b.c)\u001b[0m\n",
      "          \u001b[37m|C| = < ∅, {a} >\u001b[0m  \u001b[33m(False in a.b.c)\u001b[0m\n",
      "      \u001b[37m|((A \\wedge B) \\vee (A \\wedge C))| = < ∅, {a.b, a.b.c, a.c, b.c, c} >\u001b[0m  \u001b[33m(False in a.b.c)\u001b[0m\n",
      "        \u001b[37m|(A \\wedge B)| = < ∅, {b, b.c, c} >\u001b[0m  \u001b[33m(False in a.b.c)\u001b[0m\n",
      "          \u001b[37m|A| = < ∅, {c} >\u001b[0m  \u001b[33m(False in a.b.c)\u001b[0m\n",
      "          \u001b[37m|B| = < ∅, {b} >\u001b[0m  \u001b[33m(False in a.b.c)\u001b[0m\n",
      "        \u001b[37m|(A \\wedge C)| = < ∅, {a, a.c, c} >\u001b[0m  \u001b[33m(False in a.b.c)\u001b[0m\n",
      "          \u001b[37m|A| = < ∅, {c} >\u001b[0m  \u001b[33m(False in a.b.c)\u001b[0m\n",
      "          \u001b[37m|C| = < ∅, {a} >\u001b[0m  \u001b[33m(False in a.b.c)\u001b[0m\n",
      "\n",
      "Total Run Time: 0.2269 seconds\n",
      "\n",
      "========================================\n"
     ]
    }
   ],
   "source": [
    "run_example(constitutive.CL_CM_7_example, \"Identity Distribution: Conjunction over Disjunction\")"
   ]
  },
  {
   "cell_type": "markdown",
   "metadata": {},
   "source": [
    "### CL_CM_8: Identity Distribution: Disjunction over Conjunction"
   ]
  },
  {
   "cell_type": "code",
   "execution_count": 12,
   "metadata": {},
   "outputs": [
    {
     "name": "stdout",
     "output_type": "stream",
     "text": [
      "========================================\n",
      "\n",
      "EXAMPLE Identity Distribution: Disjunction over Conjunction: there is a countermodel.\n",
      "\n",
      "Atomic States: 3\n",
      "\n",
      "Semantic Theory: Default Semantics\n",
      "\n",
      "Premise:\n",
      "\n",
      "Conclusion:\n",
      "1. ((A \\vee (B \\wedge C)) \\equiv ((A \\vee B) \\wedge (A \\vee C)))\n",
      "\n",
      "Z3 Run Time: 0.0089 seconds\n",
      "\n",
      "========================================\n",
      "State Space:\n",
      "  \u001b[37m#b000 = \u001b[33m□\u001b[0m\n",
      "  \u001b[37m#b001 = \u001b[36ma\u001b[0m\n",
      "  \u001b[37m#b010 = \u001b[36mb\u001b[0m\n",
      "  \u001b[37m#b011 = \u001b[36ma.b\u001b[0m\n",
      "  \u001b[37m#b100 = \u001b[36mc\u001b[0m\n",
      "  \u001b[37m#b101 = \u001b[36ma.c\u001b[0m\n",
      "  \u001b[37m#b110 = \u001b[36mb.c\u001b[0m\n",
      "  \u001b[37m#b111 = \u001b[34ma.b.c (world)\u001b[0m\n",
      "\n",
      "The evaluation world is: \u001b[34ma.b.c\u001b[0m\n",
      "\n",
      "INTERPRETED CONCLUSION:\n",
      "\n",
      "1.  \u001b[31m|((A \\vee (B \\wedge C)) \\equiv ((A \\vee B) \\wedge (A \\vee C)))| = < ∅, {□} >\u001b[0m  \u001b[31m(False in a.b.c)\u001b[0m\n",
      "      \u001b[37m|(A \\vee (B \\wedge C))| = < {a.b.c, a.c, b}, ∅ >\u001b[0m  \u001b[33m(True in a.b.c)\u001b[0m\n",
      "        \u001b[37m|A| = < {b}, ∅ >\u001b[0m  \u001b[33m(True in a.b.c)\u001b[0m\n",
      "        \u001b[37m|(B \\wedge C)| = < {a.c}, ∅ >\u001b[0m  \u001b[33m(True in a.b.c)\u001b[0m\n",
      "          \u001b[37m|B| = < {c}, ∅ >\u001b[0m  \u001b[33m(True in a.b.c)\u001b[0m\n",
      "          \u001b[37m|C| = < {a}, ∅ >\u001b[0m  \u001b[33m(True in a.b.c)\u001b[0m\n",
      "      \u001b[37m|((A \\vee B) \\wedge (A \\vee C))| = < {a.b, a.b.c, a.c, b, b.c}, ∅ >\u001b[0m  \u001b[33m(True in a.b.c)\u001b[0m\n",
      "        \u001b[37m|(A \\vee B)| = < {b, b.c, c}, ∅ >\u001b[0m  \u001b[33m(True in a.b.c)\u001b[0m\n",
      "          \u001b[37m|A| = < {b}, ∅ >\u001b[0m  \u001b[33m(True in a.b.c)\u001b[0m\n",
      "          \u001b[37m|B| = < {c}, ∅ >\u001b[0m  \u001b[33m(True in a.b.c)\u001b[0m\n",
      "        \u001b[37m|(A \\vee C)| = < {a, a.b, b}, ∅ >\u001b[0m  \u001b[33m(True in a.b.c)\u001b[0m\n",
      "          \u001b[37m|A| = < {b}, ∅ >\u001b[0m  \u001b[33m(True in a.b.c)\u001b[0m\n",
      "          \u001b[37m|C| = < {a}, ∅ >\u001b[0m  \u001b[33m(True in a.b.c)\u001b[0m\n",
      "\n",
      "Total Run Time: 0.1671 seconds\n",
      "\n",
      "========================================\n"
     ]
    }
   ],
   "source": [
    "run_example(constitutive.CL_CM_8_example, \"Identity Distribution: Disjunction over Conjunction\")"
   ]
  },
  {
   "cell_type": "markdown",
   "metadata": {},
   "source": [
    "### CL_CM_9: Strict Implication to Ground"
   ]
  },
  {
   "cell_type": "code",
   "execution_count": 13,
   "metadata": {},
   "outputs": [
    {
     "name": "stdout",
     "output_type": "stream",
     "text": [
      "========================================\n",
      "\n",
      "EXAMPLE Strict Implication to Ground: there is a countermodel.\n",
      "\n",
      "Atomic States: 3\n",
      "\n",
      "Semantic Theory: Default Semantics\n",
      "\n",
      "Premise:\n",
      "1. \\Box (A \\rightarrow B)\n",
      "\n",
      "Conclusion:\n",
      "2. (A \\leq B)\n",
      "\n",
      "Z3 Run Time: 0.0066 seconds\n",
      "\n",
      "========================================\n",
      "State Space:\n",
      "  \u001b[37m#b000 = \u001b[33m□\u001b[0m\n",
      "  \u001b[37m#b001 = \u001b[34ma (world)\u001b[0m\n",
      "  \u001b[37m#b010 = \u001b[35mb (impossible)\u001b[0m\n",
      "  \u001b[37m#b011 = \u001b[35ma.b (impossible)\u001b[0m\n",
      "  \u001b[37m#b100 = \u001b[34mc (world)\u001b[0m\n",
      "  \u001b[37m#b101 = \u001b[35ma.c (impossible)\u001b[0m\n",
      "  \u001b[37m#b110 = \u001b[35mb.c (impossible)\u001b[0m\n",
      "  \u001b[37m#b111 = \u001b[35ma.b.c (impossible)\u001b[0m\n",
      "\n",
      "The evaluation world is: \u001b[34ma\u001b[0m\n",
      "\n",
      "INTERPRETED PREMISE:\n",
      "\n",
      "1.  \u001b[32m|\\Box (A \\rightarrow B)| = < {□}, ∅ >\u001b[0m  \u001b[32m(True in a)\u001b[0m\n",
      "      \u001b[37m|(A \\rightarrow B)| = < {a, a.b.c, a.c, b.c, c}, {a.b, a.b.c, a.c} >\u001b[0m  \u001b[33m(True in a)\u001b[0m\n",
      "        \u001b[37m|A| = < {a.b, a.b.c, a.c, b.c, c}, {a, a.b.c, b.c} >\u001b[0m  \u001b[33m(False in a)\u001b[0m\n",
      "        \u001b[37m|B| = < {c}, {a, a.b} >\u001b[0m  \u001b[33m(False in a)\u001b[0m\n",
      "      \u001b[37m|(A \\rightarrow B)| = < {a, a.b.c, a.c, b.c, c}, {a.b, a.b.c, a.c} >\u001b[0m  \u001b[33m(True in c)\u001b[0m\n",
      "        \u001b[37m|A| = < {a.b, a.b.c, a.c, b.c, c}, {a, a.b.c, b.c} >\u001b[0m  \u001b[33m(True in c)\u001b[0m\n",
      "        \u001b[37m|B| = < {c}, {a, a.b} >\u001b[0m  \u001b[33m(True in c)\u001b[0m\n",
      "\n",
      "INTERPRETED CONCLUSION:\n",
      "\n",
      "2.  \u001b[31m|(A \\leq B)| = < ∅, {□} >\u001b[0m  \u001b[31m(False in a)\u001b[0m\n",
      "      \u001b[37m|A| = < {a.b, a.b.c, a.c, b.c, c}, {a, a.b.c, b.c} >\u001b[0m  \u001b[33m(False in a)\u001b[0m\n",
      "      \u001b[37m|B| = < {c}, {a, a.b} >\u001b[0m  \u001b[33m(False in a)\u001b[0m\n",
      "\n",
      "Total Run Time: 0.0834 seconds\n",
      "\n",
      "========================================\n"
     ]
    }
   ],
   "source": [
    "run_example(constitutive.CL_CM_9_example, \"Strict Implication to Ground\")"
   ]
  },
  {
   "cell_type": "markdown",
   "metadata": {},
   "source": [
    "### CL_CM_10: Strict Implication to Essence"
   ]
  },
  {
   "cell_type": "code",
   "execution_count": 14,
   "metadata": {},
   "outputs": [
    {
     "name": "stdout",
     "output_type": "stream",
     "text": [
      "========================================\n",
      "\n",
      "EXAMPLE Strict Implication to Essence: there is a countermodel.\n",
      "\n",
      "Atomic States: 3\n",
      "\n",
      "Semantic Theory: Default Semantics\n",
      "\n",
      "Premise:\n",
      "1. \\Box (B \\rightarrow A)\n",
      "\n",
      "Conclusion:\n",
      "2. (A \\sqsubseteq B)\n",
      "\n",
      "Z3 Run Time: 0.0045 seconds\n",
      "\n",
      "========================================\n",
      "State Space:\n",
      "  \u001b[37m#b000 = \u001b[33m□\u001b[0m\n",
      "  \u001b[37m#b001 = \u001b[36ma\u001b[0m\n",
      "  \u001b[37m#b010 = \u001b[34mb (world)\u001b[0m\n",
      "  \u001b[37m#b011 = \u001b[35ma.b (impossible)\u001b[0m\n",
      "  \u001b[37m#b100 = \u001b[36mc\u001b[0m\n",
      "  \u001b[37m#b101 = \u001b[34ma.c (world)\u001b[0m\n",
      "  \u001b[37m#b110 = \u001b[35mb.c (impossible)\u001b[0m\n",
      "  \u001b[37m#b111 = \u001b[35ma.b.c (impossible)\u001b[0m\n",
      "\n",
      "The evaluation world is: \u001b[34mb\u001b[0m\n",
      "\n",
      "INTERPRETED PREMISE:\n",
      "\n",
      "1.  \u001b[32m|\\Box (B \\rightarrow A)| = < {□}, ∅ >\u001b[0m  \u001b[32m(True in b)\u001b[0m\n",
      "      \u001b[37m|(B \\rightarrow A)| = < {a, a.b, a.b.c, b}, {b.c} >\u001b[0m  \u001b[33m(True in b)\u001b[0m\n",
      "        \u001b[37m|B| = < {c}, {b} >\u001b[0m  \u001b[33m(False in b)\u001b[0m\n",
      "        \u001b[37m|A| = < {a, a.b.c}, {b} >\u001b[0m  \u001b[33m(False in b)\u001b[0m\n",
      "      \u001b[37m|(B \\rightarrow A)| = < {a, a.b, a.b.c, b}, {b.c} >\u001b[0m  \u001b[33m(True in a.c)\u001b[0m\n",
      "        \u001b[37m|B| = < {c}, {b} >\u001b[0m  \u001b[33m(True in a.c)\u001b[0m\n",
      "        \u001b[37m|A| = < {a, a.b.c}, {b} >\u001b[0m  \u001b[33m(True in a.c)\u001b[0m\n",
      "\n",
      "INTERPRETED CONCLUSION:\n",
      "\n",
      "2.  \u001b[31m|(A \\sqsubseteq B)| = < ∅, {□} >\u001b[0m  \u001b[31m(False in b)\u001b[0m\n",
      "      \u001b[37m|A| = < {a, a.b.c}, {b} >\u001b[0m  \u001b[33m(False in b)\u001b[0m\n",
      "      \u001b[37m|B| = < {c}, {b} >\u001b[0m  \u001b[33m(False in b)\u001b[0m\n",
      "\n",
      "Total Run Time: 0.0686 seconds\n",
      "\n",
      "========================================\n"
     ]
    }
   ],
   "source": [
    "run_example(constitutive.CL_CM_10_example, \"Strict Implication to Essence\")"
   ]
  },
  {
   "cell_type": "markdown",
   "metadata": {},
   "source": [
    "### CL_CM_11: Essence Distribution"
   ]
  },
  {
   "cell_type": "code",
   "execution_count": 15,
   "metadata": {},
   "outputs": [
    {
     "name": "stdout",
     "output_type": "stream",
     "text": [
      "========================================\n",
      "\n",
      "EXAMPLE Essence Distribution: there is a countermodel.\n",
      "\n",
      "Atomic States: 3\n",
      "\n",
      "Semantic Theory: Default Semantics\n",
      "\n",
      "Premise:\n",
      "\n",
      "Conclusion:\n",
      "1. (((A \\vee B) \\wedge (A \\vee C)) \\sqsubseteq (A \\vee (B \\wedge C)))\n",
      "\n",
      "Z3 Run Time: 0.0099 seconds\n",
      "\n",
      "========================================\n",
      "State Space:\n",
      "  \u001b[37m#b000 = \u001b[33m□\u001b[0m\n",
      "  \u001b[37m#b001 = \u001b[36ma\u001b[0m\n",
      "  \u001b[37m#b010 = \u001b[34mb (world)\u001b[0m\n",
      "  \u001b[37m#b011 = \u001b[35ma.b (impossible)\u001b[0m\n",
      "  \u001b[37m#b100 = \u001b[36mc\u001b[0m\n",
      "  \u001b[37m#b101 = \u001b[34ma.c (world)\u001b[0m\n",
      "  \u001b[37m#b110 = \u001b[35mb.c (impossible)\u001b[0m\n",
      "  \u001b[37m#b111 = \u001b[35ma.b.c (impossible)\u001b[0m\n",
      "\n",
      "The evaluation world is: \u001b[34mb\u001b[0m\n",
      "\n",
      "INTERPRETED CONCLUSION:\n",
      "\n",
      "1.  \u001b[31m|(((A \\vee B) \\wedge (A \\vee C)) \\sqsubseteq (A \\vee (B \\wedge C)))| = < ∅, {□} >\u001b[0m  \u001b[31m(False in b)\u001b[0m\n",
      "      \u001b[37m|((A \\vee B) \\wedge (A \\vee C))| = < {a.b.c, a.c, b.c, c}, {a.b, a.b.c, b} >\u001b[0m  \u001b[33m(False in b)\u001b[0m\n",
      "        \u001b[37m|(A \\vee B)| = < {a.b.c, a.c, b.c, c}, {a.b.c, b} >\u001b[0m  \u001b[33m(False in b)\u001b[0m\n",
      "          \u001b[37m|A| = < {c}, {b} >\u001b[0m  \u001b[33m(False in b)\u001b[0m\n",
      "          \u001b[37m|B| = < {a.b.c, a.c, b.c}, {a.b.c, b} >\u001b[0m  \u001b[33m(False in b)\u001b[0m\n",
      "        \u001b[37m|(A \\vee C)| = < {a.b, a.b.c, a.c, c}, {a.b, a.b.c, b} >\u001b[0m  \u001b[33m(False in b)\u001b[0m\n",
      "          \u001b[37m|A| = < {c}, {b} >\u001b[0m  \u001b[33m(False in b)\u001b[0m\n",
      "          \u001b[37m|C| = < {a.b, a.b.c, a.c}, {a.b, a.b.c, b} >\u001b[0m  \u001b[33m(False in b)\u001b[0m\n",
      "      \u001b[37m|(A \\vee (B \\wedge C))| = < {a.b.c, a.c, c}, {a.b, a.b.c, b} >\u001b[0m  \u001b[33m(False in b)\u001b[0m\n",
      "        \u001b[37m|A| = < {c}, {b} >\u001b[0m  \u001b[33m(False in b)\u001b[0m\n",
      "        \u001b[37m|(B \\wedge C)| = < {a.b.c, a.c}, {a.b, a.b.c, b} >\u001b[0m  \u001b[33m(False in b)\u001b[0m\n",
      "          \u001b[37m|B| = < {a.b.c, a.c, b.c}, {a.b.c, b} >\u001b[0m  \u001b[33m(False in b)\u001b[0m\n",
      "          \u001b[37m|C| = < {a.b, a.b.c, a.c}, {a.b, a.b.c, b} >\u001b[0m  \u001b[33m(False in b)\u001b[0m\n",
      "\n",
      "Total Run Time: 0.1752 seconds\n",
      "\n",
      "========================================\n"
     ]
    }
   ],
   "source": [
    "run_example(constitutive.CL_CM_11_example, \"Essence Distribution\")"
   ]
  },
  {
   "cell_type": "markdown",
   "metadata": {},
   "source": [
    "### CL_CM_12: Ground Distribution"
   ]
  },
  {
   "cell_type": "code",
   "execution_count": 16,
   "metadata": {},
   "outputs": [
    {
     "name": "stdout",
     "output_type": "stream",
     "text": [
      "========================================\n",
      "\n",
      "EXAMPLE Ground Distribution: there is a countermodel.\n",
      "\n",
      "Atomic States: 3\n",
      "\n",
      "Semantic Theory: Default Semantics\n",
      "\n",
      "Premise:\n",
      "\n",
      "Conclusion:\n",
      "1. (((A \\wedge B) \\vee (A \\wedge C)) \\leq (A \\wedge (B \\vee C)))\n",
      "\n",
      "Z3 Run Time: 0.0089 seconds\n",
      "\n",
      "========================================\n",
      "State Space:\n",
      "  \u001b[37m#b000 = \u001b[33m□\u001b[0m\n",
      "  \u001b[37m#b001 = \u001b[34ma (world)\u001b[0m\n",
      "  \u001b[37m#b010 = \u001b[34mb (world)\u001b[0m\n",
      "  \u001b[37m#b011 = \u001b[35ma.b (impossible)\u001b[0m\n",
      "  \u001b[37m#b100 = \u001b[34mc (world)\u001b[0m\n",
      "  \u001b[37m#b101 = \u001b[35ma.c (impossible)\u001b[0m\n",
      "  \u001b[37m#b110 = \u001b[35mb.c (impossible)\u001b[0m\n",
      "  \u001b[37m#b111 = \u001b[35ma.b.c (impossible)\u001b[0m\n",
      "\n",
      "The evaluation world is: \u001b[34ma\u001b[0m\n",
      "\n",
      "INTERPRETED CONCLUSION:\n",
      "\n",
      "1.  \u001b[31m|(((A \\wedge B) \\vee (A \\wedge C)) \\leq (A \\wedge (B \\vee C)))| = < ∅, {□} >\u001b[0m  \u001b[31m(False in a)\u001b[0m\n",
      "      \u001b[37m|((A \\wedge B) \\vee (A \\wedge C))| = < {a, a.b, a.b.c, a.c, b.c}, {a.b.c, a.c, b, b.c, c} >\u001b[0m  \u001b[33m(True in a)\u001b[0m\n",
      "        \u001b[37m|(A \\wedge B)| = < {a, a.b, a.b.c, a.c, b.c}, {a.b.c, a.c, b, b.c, c} >\u001b[0m  \u001b[33m(True in a)\u001b[0m\n",
      "          \u001b[37m|A| = < {a, a.b, a.b.c, a.c, b, b.c}, {c} >\u001b[0m  \u001b[33m(True in a)\u001b[0m\n",
      "          \u001b[37m|B| = < {a, a.b.c, a.c, b.c, c}, {a.b.c, a.c, b} >\u001b[0m  \u001b[33m(True in a)\u001b[0m\n",
      "        \u001b[37m|(A \\wedge C)| = < {a, a.b, a.b.c, a.c, b.c}, {b, b.c, c} >\u001b[0m  \u001b[33m(True in a)\u001b[0m\n",
      "          \u001b[37m|A| = < {a, a.b, a.b.c, a.c, b, b.c}, {c} >\u001b[0m  \u001b[33m(True in a)\u001b[0m\n",
      "          \u001b[37m|C| = < {a, a.b.c, a.c, b.c, c}, {b} >\u001b[0m  \u001b[33m(True in a)\u001b[0m\n",
      "      \u001b[37m|(A \\wedge (B \\vee C))| = < {a, a.b, a.b.c, a.c, b.c}, {a.b.c, b, b.c, c} >\u001b[0m  \u001b[33m(True in a)\u001b[0m\n",
      "        \u001b[37m|A| = < {a, a.b, a.b.c, a.c, b, b.c}, {c} >\u001b[0m  \u001b[33m(True in a)\u001b[0m\n",
      "        \u001b[37m|(B \\vee C)| = < {a, a.b.c, a.c, b.c, c}, {a.b.c, b} >\u001b[0m  \u001b[33m(True in a)\u001b[0m\n",
      "          \u001b[37m|B| = < {a, a.b.c, a.c, b.c, c}, {a.b.c, a.c, b} >\u001b[0m  \u001b[33m(True in a)\u001b[0m\n",
      "          \u001b[37m|C| = < {a, a.b.c, a.c, b.c, c}, {b} >\u001b[0m  \u001b[33m(True in a)\u001b[0m\n",
      "\n",
      "Total Run Time: 0.1622 seconds\n",
      "\n",
      "========================================\n"
     ]
    }
   ],
   "source": [
    "run_example(constitutive.CL_CM_12_example, \"Ground Distribution\")"
   ]
  },
  {
   "cell_type": "markdown",
   "metadata": {},
   "source": [
    "### CL_CM_13: Shannon Expansion"
   ]
  },
  {
   "cell_type": "code",
   "execution_count": 17,
   "metadata": {},
   "outputs": [
    {
     "name": "stdout",
     "output_type": "stream",
     "text": [
      "========================================\n",
      "\n",
      "EXAMPLE Shannon Expansion: there is a countermodel.\n",
      "\n",
      "Atomic States: 3\n",
      "\n",
      "Semantic Theory: Default Semantics\n",
      "\n",
      "Premise:\n",
      "\n",
      "Conclusion:\n",
      "1. (A \\equiv ((A \\wedge B) \\vee (A \\wedge \\neg B)))\n",
      "\n",
      "Z3 Run Time: 0.004 seconds\n",
      "\n",
      "========================================\n",
      "State Space:\n",
      "  \u001b[37m#b000 = \u001b[33m□\u001b[0m\n",
      "  \u001b[37m#b001 = \u001b[34ma (world)\u001b[0m\n",
      "  \u001b[37m#b010 = \u001b[34mb (world)\u001b[0m\n",
      "  \u001b[37m#b011 = \u001b[35ma.b (impossible)\u001b[0m\n",
      "  \u001b[37m#b100 = \u001b[35mc (impossible)\u001b[0m\n",
      "  \u001b[37m#b101 = \u001b[35ma.c (impossible)\u001b[0m\n",
      "  \u001b[37m#b110 = \u001b[35mb.c (impossible)\u001b[0m\n",
      "  \u001b[37m#b111 = \u001b[35ma.b.c (impossible)\u001b[0m\n",
      "\n",
      "The evaluation world is: \u001b[34mb\u001b[0m\n",
      "\n",
      "INTERPRETED CONCLUSION:\n",
      "\n",
      "1.  \u001b[31m|(A \\equiv ((A \\wedge B) \\vee (A \\wedge \\neg B)))| = < ∅, {□} >\u001b[0m  \u001b[31m(False in b)\u001b[0m\n",
      "      \u001b[37m|A| = < {a, a.b.c, a.c, c}, {b} >\u001b[0m  \u001b[33m(False in b)\u001b[0m\n",
      "      \u001b[37m|((A \\wedge B) \\vee (A \\wedge \\neg B))| = < {a, a.b, a.b.c, a.c, b.c}, {a.b, b} >\u001b[0m  \u001b[33m(False in b)\u001b[0m\n",
      "        \u001b[37m|(A \\wedge B)| = < {a.b, a.b.c, b.c}, {a, a.b, b} >\u001b[0m  \u001b[33m(False in b)\u001b[0m\n",
      "          \u001b[37m|A| = < {a, a.b.c, a.c, c}, {b} >\u001b[0m  \u001b[33m(False in b)\u001b[0m\n",
      "          \u001b[37m|B| = < {a.b, b}, {a} >\u001b[0m  \u001b[33m(True in b)\u001b[0m\n",
      "        \u001b[37m|(A \\wedge \\neg B)| = < {a, a.b.c, a.c}, {a.b, b} >\u001b[0m  \u001b[33m(False in b)\u001b[0m\n",
      "          \u001b[37m|A| = < {a, a.b.c, a.c, c}, {b} >\u001b[0m  \u001b[33m(False in b)\u001b[0m\n",
      "          \u001b[37m|\\neg B| = < {a}, {a.b, b} >\u001b[0m  \u001b[33m(False in b)\u001b[0m\n",
      "            \u001b[37m|B| = < {a.b, b}, {a} >\u001b[0m  \u001b[33m(True in b)\u001b[0m\n",
      "\n",
      "Total Run Time: 0.0979 seconds\n",
      "\n",
      "========================================\n"
     ]
    }
   ],
   "source": [
    "run_example(constitutive.CL_CM_13_example, \"Shannon Expansion\")"
   ]
  },
  {
   "cell_type": "markdown",
   "metadata": {},
   "source": [
    "### CL_CM_14: Dual Shannon Expansion"
   ]
  },
  {
   "cell_type": "code",
   "execution_count": 18,
   "metadata": {},
   "outputs": [
    {
     "name": "stdout",
     "output_type": "stream",
     "text": [
      "========================================\n",
      "\n",
      "EXAMPLE Dual Shannon Expansion: there is a countermodel.\n",
      "\n",
      "Atomic States: 3\n",
      "\n",
      "Semantic Theory: Default Semantics\n",
      "\n",
      "Premise:\n",
      "\n",
      "Conclusion:\n",
      "1. (A \\equiv ((A \\vee B) \\wedge (A \\vee \\neg B)))\n",
      "\n",
      "Z3 Run Time: 0.0042 seconds\n",
      "\n",
      "========================================\n",
      "State Space:\n",
      "  \u001b[37m#b000 = \u001b[33m□\u001b[0m\n",
      "  \u001b[37m#b001 = \u001b[34ma (world)\u001b[0m\n",
      "  \u001b[37m#b010 = \u001b[34mb (world)\u001b[0m\n",
      "  \u001b[37m#b011 = \u001b[35ma.b (impossible)\u001b[0m\n",
      "  \u001b[37m#b100 = \u001b[35mc (impossible)\u001b[0m\n",
      "  \u001b[37m#b101 = \u001b[35ma.c (impossible)\u001b[0m\n",
      "  \u001b[37m#b110 = \u001b[35mb.c (impossible)\u001b[0m\n",
      "  \u001b[37m#b111 = \u001b[35ma.b.c (impossible)\u001b[0m\n",
      "\n",
      "The evaluation world is: \u001b[34ma\u001b[0m\n",
      "\n",
      "INTERPRETED CONCLUSION:\n",
      "\n",
      "1.  \u001b[31m|(A \\equiv ((A \\vee B) \\wedge (A \\vee \\neg B)))| = < ∅, {□} >\u001b[0m  \u001b[31m(False in a)\u001b[0m\n",
      "      \u001b[37m|A| = < {b}, {a, a.c} >\u001b[0m  \u001b[33m(False in a)\u001b[0m\n",
      "      \u001b[37m|((A \\vee B) \\wedge (A \\vee \\neg B))| = < {a.b, a.b.c, a.c, b, b.c, c}, {a, a.b, a.b.c, a.c} >\u001b[0m  \u001b[33m(False in a)\u001b[0m\n",
      "        \u001b[37m|(A \\vee B)| = < {a, a.b, a.b.c, a.c, b, b.c, c}, {a.b, a.b.c, a.c} >\u001b[0m  \u001b[33m(True in a)\u001b[0m\n",
      "          \u001b[37m|A| = < {b}, {a, a.c} >\u001b[0m  \u001b[33m(False in a)\u001b[0m\n",
      "          \u001b[37m|B| = < {a, a.b.c, a.c, c}, {a.b.c, b, b.c, c} >\u001b[0m  \u001b[33m(True in a)\u001b[0m\n",
      "        \u001b[37m|(A \\vee \\neg B)| = < {a.b.c, b, b.c, c}, {a, a.b.c, a.c} >\u001b[0m  \u001b[33m(False in a)\u001b[0m\n",
      "          \u001b[37m|A| = < {b}, {a, a.c} >\u001b[0m  \u001b[33m(False in a)\u001b[0m\n",
      "          \u001b[37m|\\neg B| = < {a.b.c, b, b.c, c}, {a, a.b.c, a.c, c} >\u001b[0m  \u001b[33m(False in a)\u001b[0m\n",
      "            \u001b[37m|B| = < {a, a.b.c, a.c, c}, {a.b.c, b, b.c, c} >\u001b[0m  \u001b[33m(True in a)\u001b[0m\n",
      "\n",
      "Total Run Time: 0.1139 seconds\n",
      "\n",
      "========================================\n"
     ]
    }
   ],
   "source": [
    "run_example(constitutive.CL_CM_14_example, \"Dual Shannon Expansion\")"
   ]
  },
  {
   "cell_type": "markdown",
   "metadata": {},
   "source": [
    "## Theorems\n",
    "\n",
    "Now let's examine some key theorems from constitutive logic."
   ]
  },
  {
   "cell_type": "markdown",
   "metadata": {},
   "source": [
    "### CL_TH_1: Ground to Essence"
   ]
  },
  {
   "cell_type": "code",
   "execution_count": 19,
   "metadata": {},
   "outputs": [
    {
     "name": "stdout",
     "output_type": "stream",
     "text": [
      "========================================\n",
      "\n",
      "EXAMPLE Ground to Essence: there is no countermodel.\n",
      "\n",
      "Atomic States: 4\n",
      "\n",
      "Semantic Theory: Default Semantics\n",
      "\n",
      "Premise:\n",
      "1. (A \\leq B)\n",
      "\n",
      "Conclusion:\n",
      "2. (\\neg A \\sqsubseteq \\neg B)\n",
      "\n",
      "Z3 Run Time: 0.0161 seconds\n",
      "\n",
      "========================================\n"
     ]
    }
   ],
   "source": [
    "run_example(constitutive.CL_TH_1_example, \"Ground to Essence\")"
   ]
  },
  {
   "cell_type": "markdown",
   "metadata": {},
   "source": [
    "### CL_TH_2: Essence to Ground"
   ]
  },
  {
   "cell_type": "code",
   "execution_count": 20,
   "metadata": {},
   "outputs": [
    {
     "name": "stdout",
     "output_type": "stream",
     "text": [
      "========================================\n",
      "\n",
      "EXAMPLE Essence to Ground: there is no countermodel.\n",
      "\n",
      "Atomic States: 4\n",
      "\n",
      "Semantic Theory: Default Semantics\n",
      "\n",
      "Premise:\n",
      "1. (A \\sqsubseteq B)\n",
      "\n",
      "Conclusion:\n",
      "2. (\\neg A \\leq \\neg B)\n",
      "\n",
      "Z3 Run Time: 0.0108 seconds\n",
      "\n",
      "========================================\n"
     ]
    }
   ],
   "source": [
    "run_example(constitutive.CL_TH_2_example, \"Essence to Ground\")"
   ]
  },
  {
   "cell_type": "markdown",
   "metadata": {},
   "source": [
    "### CL_TH_3: Essence to Identity"
   ]
  },
  {
   "cell_type": "code",
   "execution_count": 21,
   "metadata": {},
   "outputs": [
    {
     "name": "stdout",
     "output_type": "stream",
     "text": [
      "========================================\n",
      "\n",
      "EXAMPLE Essence to Identity: there is no countermodel.\n",
      "\n",
      "Atomic States: 4\n",
      "\n",
      "Semantic Theory: Default Semantics\n",
      "\n",
      "Premise:\n",
      "1. (A \\sqsubseteq B)\n",
      "\n",
      "Conclusion:\n",
      "2. ((A \\wedge B) \\equiv B)\n",
      "\n",
      "Z3 Run Time: 0.0181 seconds\n",
      "\n",
      "========================================\n"
     ]
    }
   ],
   "source": [
    "run_example(constitutive.CL_TH_3_example, \"Essence to Identity\")"
   ]
  },
  {
   "cell_type": "markdown",
   "metadata": {},
   "source": [
    "### CL_TH_4: Identity to Essence"
   ]
  },
  {
   "cell_type": "code",
   "execution_count": 22,
   "metadata": {},
   "outputs": [
    {
     "name": "stdout",
     "output_type": "stream",
     "text": [
      "========================================\n",
      "\n",
      "EXAMPLE Identity to Essence: there is no countermodel.\n",
      "\n",
      "Atomic States: 4\n",
      "\n",
      "Semantic Theory: Default Semantics\n",
      "\n",
      "Premise:\n",
      "1. ((A \\wedge B) \\equiv B)\n",
      "\n",
      "Conclusion:\n",
      "2. (A \\sqsubseteq B)\n",
      "\n",
      "Z3 Run Time: 0.0243 seconds\n",
      "\n",
      "========================================\n"
     ]
    }
   ],
   "source": [
    "run_example(constitutive.CL_TH_4_example, \"Identity to Essence\")"
   ]
  },
  {
   "cell_type": "markdown",
   "metadata": {},
   "source": [
    "### CL_TH_5: Ground to Identity"
   ]
  },
  {
   "cell_type": "code",
   "execution_count": 23,
   "metadata": {},
   "outputs": [
    {
     "name": "stdout",
     "output_type": "stream",
     "text": [
      "========================================\n",
      "\n",
      "EXAMPLE Ground to Identity: there is no countermodel.\n",
      "\n",
      "Atomic States: 4\n",
      "\n",
      "Semantic Theory: Default Semantics\n",
      "\n",
      "Premise:\n",
      "1. (A \\leq B)\n",
      "\n",
      "Conclusion:\n",
      "2. ((A \\vee B) \\equiv B)\n",
      "\n",
      "Z3 Run Time: 0.0174 seconds\n",
      "\n",
      "========================================\n"
     ]
    }
   ],
   "source": [
    "run_example(constitutive.CL_TH_5_example, \"Ground to Identity\")"
   ]
  },
  {
   "cell_type": "markdown",
   "metadata": {},
   "source": [
    "### CL_TH_6: Identity to Ground"
   ]
  },
  {
   "cell_type": "code",
   "execution_count": 24,
   "metadata": {},
   "outputs": [
    {
     "name": "stdout",
     "output_type": "stream",
     "text": [
      "========================================\n",
      "\n",
      "EXAMPLE Identity to Ground: there is no countermodel.\n",
      "\n",
      "Atomic States: 4\n",
      "\n",
      "Semantic Theory: Default Semantics\n",
      "\n",
      "Premise:\n",
      "1. ((A \\vee B) \\equiv B)\n",
      "\n",
      "Conclusion:\n",
      "2. (A \\leq B)\n",
      "\n",
      "Z3 Run Time: 0.0301 seconds\n",
      "\n",
      "========================================\n"
     ]
    }
   ],
   "source": [
    "run_example(constitutive.CL_TH_6_example, \"Identity to Ground\")"
   ]
  },
  {
   "cell_type": "markdown",
   "metadata": {},
   "source": [
    "### CL_TH_7: Negation Transparency"
   ]
  },
  {
   "cell_type": "code",
   "execution_count": 25,
   "metadata": {},
   "outputs": [
    {
     "name": "stdout",
     "output_type": "stream",
     "text": [
      "========================================\n",
      "\n",
      "EXAMPLE Negation Transparency: there is no countermodel.\n",
      "\n",
      "Atomic States: 4\n",
      "\n",
      "Semantic Theory: Default Semantics\n",
      "\n",
      "Premise:\n",
      "1. (A \\equiv B)\n",
      "\n",
      "Conclusion:\n",
      "2. (\\neg A \\equiv \\neg B)\n",
      "\n",
      "Z3 Run Time: 0.009 seconds\n",
      "\n",
      "========================================\n"
     ]
    }
   ],
   "source": [
    "run_example(constitutive.CL_TH_7_example, \"Negation Transparency\")"
   ]
  },
  {
   "cell_type": "markdown",
   "metadata": {},
   "source": [
    "### CL_TH_8: Reverse Negation Transparency"
   ]
  },
  {
   "cell_type": "code",
   "execution_count": 26,
   "metadata": {},
   "outputs": [
    {
     "name": "stdout",
     "output_type": "stream",
     "text": [
      "========================================\n",
      "\n",
      "EXAMPLE Reverse Negation Transparency: there is no countermodel.\n",
      "\n",
      "Atomic States: 4\n",
      "\n",
      "Semantic Theory: Default Semantics\n",
      "\n",
      "Premise:\n",
      "1. (\\neg A \\equiv \\neg B)\n",
      "\n",
      "Conclusion:\n",
      "2. (A \\equiv B)\n",
      "\n",
      "Z3 Run Time: 0.0102 seconds\n",
      "\n",
      "========================================\n"
     ]
    }
   ],
   "source": [
    "run_example(constitutive.CL_TH_8_example, \"Reverse Negation Transparency\")"
   ]
  },
  {
   "cell_type": "markdown",
   "metadata": {},
   "source": [
    "### CL_TH_9: Absorption Identity"
   ]
  },
  {
   "cell_type": "code",
   "execution_count": 27,
   "metadata": {},
   "outputs": [
    {
     "name": "stdout",
     "output_type": "stream",
     "text": [
      "========================================\n",
      "\n",
      "EXAMPLE Absorption Identity: there is no countermodel.\n",
      "\n",
      "Atomic States: 4\n",
      "\n",
      "Semantic Theory: Default Semantics\n",
      "\n",
      "Premise:\n",
      "1. (A \\vee (A \\wedge B))\n",
      "\n",
      "Conclusion:\n",
      "2. (A \\wedge (A \\vee B))\n",
      "\n",
      "Z3 Run Time: 0.0151 seconds\n",
      "\n",
      "========================================\n"
     ]
    }
   ],
   "source": [
    "run_example(constitutive.CL_TH_9_example, \"Absorption Identity\")"
   ]
  },
  {
   "cell_type": "markdown",
   "metadata": {},
   "source": [
    "### CL_TH_10: Absorption Reduction: Conjunction over Disjunction"
   ]
  },
  {
   "cell_type": "code",
   "execution_count": 28,
   "metadata": {},
   "outputs": [
    {
     "name": "stdout",
     "output_type": "stream",
     "text": [
      "========================================\n",
      "\n",
      "EXAMPLE Absorption Reduction: Conjunction over Disjunction: there is no countermodel.\n",
      "\n",
      "Atomic States: 4\n",
      "\n",
      "Semantic Theory: Default Semantics\n",
      "\n",
      "Premise:\n",
      "\n",
      "Conclusion:\n",
      "1. (A \\reduction (A \\wedge (A \\vee B)))\n",
      "\n",
      "Z3 Run Time: 0.0892 seconds\n",
      "\n",
      "========================================\n"
     ]
    }
   ],
   "source": [
    "run_example(constitutive.CL_TH_10_example, \"Absorption Reduction: Conjunction over Disjunction\")"
   ]
  },
  {
   "cell_type": "markdown",
   "metadata": {},
   "source": [
    "### CL_TH_11: Absorption Reduction: Disjunction over Conjunction"
   ]
  },
  {
   "cell_type": "code",
   "execution_count": 29,
   "metadata": {},
   "outputs": [
    {
     "name": "stdout",
     "output_type": "stream",
     "text": [
      "========================================\n",
      "\n",
      "EXAMPLE Absorption Reduction: Disjunction over Conjunction: there is no countermodel.\n",
      "\n",
      "Atomic States: 4\n",
      "\n",
      "Semantic Theory: Default Semantics\n",
      "\n",
      "Premise:\n",
      "\n",
      "Conclusion:\n",
      "1. (A \\reduction (A \\vee (A \\wedge B)))\n",
      "\n",
      "Z3 Run Time: 0.106 seconds\n",
      "\n",
      "========================================\n"
     ]
    }
   ],
   "source": [
    "run_example(constitutive.CL_TH_11_example, \"Absorption Reduction: Disjunction over Conjunction\")"
   ]
  },
  {
   "cell_type": "markdown",
   "metadata": {},
   "source": [
    "### CL_TH_12: Distribution Reduction: Disjunction over Conjunction"
   ]
  },
  {
   "cell_type": "code",
   "execution_count": 30,
   "metadata": {},
   "outputs": [
    {
     "name": "stdout",
     "output_type": "stream",
     "text": [
      "========================================\n",
      "\n",
      "EXAMPLE Distribution Reduction: Disjunction over Conjunction: there is no countermodel.\n",
      "\n",
      "Atomic States: 4\n",
      "\n",
      "Semantic Theory: Default Semantics\n",
      "\n",
      "Premise:\n",
      "\n",
      "Conclusion:\n",
      "1. ((A \\vee (A \\wedge B)) \\reduction (A \\wedge (A \\vee B)))\n",
      "\n",
      "Z3 Run Time: 0.6769 seconds\n",
      "\n",
      "========================================\n"
     ]
    }
   ],
   "source": [
    "run_example(constitutive.CL_TH_12_example, \"Distribution Reduction: Disjunction over Conjunction\")"
   ]
  },
  {
   "cell_type": "markdown",
   "metadata": {},
   "source": [
    "### CL_TH_13: Distribution Reduction: Conjunction over Disjunction"
   ]
  },
  {
   "cell_type": "code",
   "execution_count": 31,
   "metadata": {},
   "outputs": [
    {
     "name": "stdout",
     "output_type": "stream",
     "text": [
      "========================================\n",
      "\n",
      "EXAMPLE Distribution Reduction: Conjunction over Disjunction: there is no countermodel.\n",
      "\n",
      "Atomic States: 4\n",
      "\n",
      "Semantic Theory: Default Semantics\n",
      "\n",
      "Premise:\n",
      "\n",
      "Conclusion:\n",
      "1. ((A \\wedge (A \\vee B)) \\reduction (A \\vee (A \\wedge B)))\n",
      "\n",
      "Z3 Run Time: 0.539 seconds\n",
      "\n",
      "========================================\n"
     ]
    }
   ],
   "source": [
    "run_example(constitutive.CL_TH_13_example, \"Distribution Reduction: Conjunction over Disjunction\")"
   ]
  },
  {
   "cell_type": "markdown",
   "metadata": {},
   "source": [
    "### CL_TH_14: Ground to Strict Implication"
   ]
  },
  {
   "cell_type": "code",
   "execution_count": 32,
   "metadata": {},
   "outputs": [
    {
     "name": "stdout",
     "output_type": "stream",
     "text": [
      "========================================\n",
      "\n",
      "EXAMPLE Ground to Strict Implication: there is no countermodel.\n",
      "\n",
      "Atomic States: 4\n",
      "\n",
      "Semantic Theory: Default Semantics\n",
      "\n",
      "Premise:\n",
      "1. (A \\leq B)\n",
      "\n",
      "Conclusion:\n",
      "2. \\Box (A \\rightarrow B)\n",
      "\n",
      "Z3 Run Time: 0.0136 seconds\n",
      "\n",
      "========================================\n"
     ]
    }
   ],
   "source": [
    "run_example(constitutive.CL_TH_14_example, \"Ground to Strict Implication\")"
   ]
  },
  {
   "cell_type": "markdown",
   "metadata": {},
   "source": [
    "### CL_TH_15: Essence to Converse Strict Implication"
   ]
  },
  {
   "cell_type": "code",
   "execution_count": 33,
   "metadata": {},
   "outputs": [
    {
     "name": "stdout",
     "output_type": "stream",
     "text": [
      "========================================\n",
      "\n",
      "EXAMPLE Essence to Converse Strict Implication: there is no countermodel.\n",
      "\n",
      "Atomic States: 4\n",
      "\n",
      "Semantic Theory: Default Semantics\n",
      "\n",
      "Premise:\n",
      "1. (A \\sqsubseteq B)\n",
      "\n",
      "Conclusion:\n",
      "2. \\Box (B \\rightarrow A)\n",
      "\n",
      "Z3 Run Time: 0.0105 seconds\n",
      "\n",
      "========================================\n"
     ]
    }
   ],
   "source": [
    "run_example(constitutive.CL_TH_15_example, \"Essence to Converse Strict Implication\")"
   ]
  },
  {
   "cell_type": "markdown",
   "metadata": {},
   "source": [
    "### CL_TH_16: Grounding Anti-Symmetry"
   ]
  },
  {
   "cell_type": "code",
   "execution_count": 34,
   "metadata": {},
   "outputs": [
    {
     "name": "stdout",
     "output_type": "stream",
     "text": [
      "========================================\n",
      "\n",
      "EXAMPLE Grounding Anti-Symmetry: there is no countermodel.\n",
      "\n",
      "Atomic States: 2\n",
      "\n",
      "Semantic Theory: Default Semantics\n",
      "\n",
      "Premises:\n",
      "1. (A \\leq B)\n",
      "2. (B \\leq A)\n",
      "\n",
      "Conclusion:\n",
      "3. (A \\equiv B)\n",
      "\n",
      "Z3 Run Time: 0.0017 seconds\n",
      "\n",
      "========================================\n"
     ]
    }
   ],
   "source": [
    "run_example(constitutive.CL_TH_16_example, \"Grounding Anti-Symmetry\")"
   ]
  },
  {
   "cell_type": "markdown",
   "metadata": {},
   "source": [
    "### CL_TH_17: Essence Anti-Symmetry"
   ]
  },
  {
   "cell_type": "code",
   "execution_count": 35,
   "metadata": {},
   "outputs": [
    {
     "name": "stdout",
     "output_type": "stream",
     "text": [
      "========================================\n",
      "\n",
      "EXAMPLE Essence Anti-Symmetry: there is no countermodel.\n",
      "\n",
      "Atomic States: 2\n",
      "\n",
      "Semantic Theory: Default Semantics\n",
      "\n",
      "Premises:\n",
      "1. (A \\sqsubseteq B)\n",
      "2. (B \\sqsubseteq A)\n",
      "\n",
      "Conclusion:\n",
      "3. (A \\equiv B)\n",
      "\n",
      "Z3 Run Time: 0.0013 seconds\n",
      "\n",
      "========================================\n"
     ]
    }
   ],
   "source": [
    "run_example(constitutive.CL_TH_17_example, \"Essence Anti-Symmetry\")"
   ]
  },
  {
   "cell_type": "markdown",
   "metadata": {},
   "source": [
    "### CL_TH_18: Grounding Transitivity"
   ]
  },
  {
   "cell_type": "code",
   "execution_count": 36,
   "metadata": {},
   "outputs": [
    {
     "name": "stdout",
     "output_type": "stream",
     "text": [
      "========================================\n",
      "\n",
      "EXAMPLE Grounding Transitivity: there is no countermodel.\n",
      "\n",
      "Atomic States: 2\n",
      "\n",
      "Semantic Theory: Default Semantics\n",
      "\n",
      "Premises:\n",
      "1. (A \\leq B)\n",
      "2. (B \\leq C)\n",
      "\n",
      "Conclusion:\n",
      "3. (A \\leq C)\n",
      "\n",
      "Z3 Run Time: 0.0035 seconds\n",
      "\n",
      "========================================\n"
     ]
    }
   ],
   "source": [
    "run_example(constitutive.CL_TH_18_example, \"Grounding Transitivity\")"
   ]
  },
  {
   "cell_type": "markdown",
   "metadata": {},
   "source": [
    "### CL_TH_19: Essence Transitivity"
   ]
  },
  {
   "cell_type": "code",
   "execution_count": 37,
   "metadata": {},
   "outputs": [
    {
     "name": "stdout",
     "output_type": "stream",
     "text": [
      "========================================\n",
      "\n",
      "EXAMPLE Essence Transitivity: there is no countermodel.\n",
      "\n",
      "Atomic States: 2\n",
      "\n",
      "Semantic Theory: Default Semantics\n",
      "\n",
      "Premises:\n",
      "1. (A \\sqsubseteq B)\n",
      "2. (B \\sqsubseteq C)\n",
      "\n",
      "Conclusion:\n",
      "3. (A \\sqsubseteq C)\n",
      "\n",
      "Z3 Run Time: 0.0018 seconds\n",
      "\n",
      "========================================\n"
     ]
    }
   ],
   "source": [
    "run_example(constitutive.CL_TH_19_example, \"Essence Transitivity\")"
   ]
  },
  {
   "cell_type": "markdown",
   "metadata": {},
   "source": [
    "## Summary\n",
    "\n",
    "This notebook demonstrates the key countermodels and theorems in constitutive logic using the default theory of the ModelChecker framework. The examples showcase various properties of ground (\\leq), essence (\\sqsubseteq), and identity (\\equiv) operators, including their relationships with strict implication."
   ]
  }
 ],
 "metadata": {
  "kernelspec": {
   "display_name": "Python 3 (ipykernel)",
   "language": "python",
   "name": "python3"
  },
  "language_info": {
   "codemirror_mode": {
    "name": "ipython",
    "version": 3
   },
   "file_extension": ".py",
   "mimetype": "text/x-python",
   "name": "python",
   "nbconvert_exporter": "python",
   "pygments_lexer": "ipython3",
   "version": "3.12.8"
  }
 },
 "nbformat": 4,
 "nbformat_minor": 4
}
