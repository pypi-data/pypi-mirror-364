{
 "cells": [
  {
   "cell_type": "markdown",
   "metadata": {},
   "source": [
    "# Counterfactual Theory Demo Notebook\n",
    "\n",
    "This notebook demonstrates counterfactual logic examples from the default theory. It includes various countermodels showing invalidity and theorems showing validity in counterfactual logic."
   ]
  },
  {
   "cell_type": "code",
   "execution_count": null,
   "metadata": {},
   "outputs": [],
   "source": [
    "# Add parent directory to Python path to ensure module imports work\n",
    "import sys\n",
    "import os\n",
    "\n",
    "# Add parent directories to path for proper imports\n",
    "current_dir = os.path.dirname(os.path.abspath('.'))\n",
    "parent_dir = os.path.dirname(current_dir)\n",
    "parent_parent_dir = os.path.dirname(parent_dir)\n",
    "parent_parent_parent_dir = os.path.dirname(parent_parent_dir)\n",
    "parent_parent_parent_parent_dir = os.path.dirname(parent_parent_parent_dir)\n",
    "\n",
    "# Add all possible parent paths to ensure the module is found\n",
    "for path in [current_dir, parent_dir, parent_parent_dir, parent_parent_parent_dir, parent_parent_parent_parent_dir]:\n",
    "    if path not in sys.path:\n",
    "        sys.path.insert(0, path)\n",
    "\n",
    "# Print current path to help with debugging\n",
    "print(f\"Current directory: {os.getcwd()}\")\n",
    "print(f\"Python path: {sys.path}\")"
   ]
  },
  {
   "cell_type": "code",
   "execution_count": null,
   "metadata": {},
   "outputs": [],
   "source": [
    "import model_checker\n",
    "from model_checker.theory_lib import default\n",
    "from model_checker.theory_lib.default.examples import counterfactual"
   ]
  },
  {
   "cell_type": "markdown",
   "metadata": {},
   "source": [
    "## Setup\n",
    "\n",
    "First, let's set up the basic components we need for model checking."
   ]
  },
  {
   "cell_type": "code",
   "execution_count": null,
   "metadata": {},
   "outputs": [],
   "source": [
    "# Import operators\n",
    "operators = default.default_operators\n",
    "\n",
    "# Get default settings\n",
    "default_settings = default.Semantics.DEFAULT_EXAMPLE_SETTINGS\n",
    "\n",
    "# Define general settings for display\n",
    "general_settings = {\n",
    "    \"print_constraints\": False,\n",
    "    \"print_impossible\": True,\n",
    "    \"print_z3\": False,\n",
    "    \"save_output\": False,\n",
    "    \"maximize\": False,\n",
    "}\n",
    "\n",
    "# Update default settings with general settings\n",
    "default_settings.update(general_settings)"
   ]
  },
  {
   "cell_type": "markdown",
   "metadata": {},
   "source": [
    "## Helper Function\n",
    "\n",
    "Let's create a helper function to run our examples."
   ]
  },
  {
   "cell_type": "code",
   "execution_count": null,
   "metadata": {},
   "outputs": [],
   "source": [
    "def run_example(example, name):\n",
    "    \"\"\"Run a specific example and display the results.\n",
    "    \n",
    "    Args:\n",
    "        example: The example to run (list containing premises, conclusions, settings)\n",
    "        name: The name of the example\n",
    "    \"\"\"\n",
    "    premises, conclusions, settings = example\n",
    "    \n",
    "    # Create syntax object\n",
    "    syntax = model_checker.syntactic.Syntax(premises, conclusions, operators)\n",
    "    \n",
    "    # Update default settings with example-specific settings and general settings\n",
    "    example_settings = default_settings.copy()\n",
    "    example_settings.update(settings)\n",
    "    \n",
    "    # Ensure print_impossible is set\n",
    "    if 'print_impossible' not in example_settings:\n",
    "        example_settings['print_impossible'] = True\n",
    "    \n",
    "    # Create semantics\n",
    "    semantics = default.Semantics(example_settings)\n",
    "    proposition_class = default.Proposition\n",
    "    \n",
    "    # Create model constraints\n",
    "    model_constraints = model_checker.model.ModelConstraints(example_settings, syntax, semantics, proposition_class)\n",
    "    \n",
    "    # Create model structure\n",
    "    model_structure = default.ModelStructure(model_constraints, example_settings)\n",
    "    \n",
    "    # Interpret sentences before printing\n",
    "    sentences = model_structure.premises + model_structure.conclusions\n",
    "    model_structure.interpret(sentences)\n",
    "    \n",
    "    # Print results\n",
    "    model_structure.print_all(example_settings, name, \"Default Semantics\")"
   ]
  },
  {
   "cell_type": "markdown",
   "metadata": {},
   "source": [
    "## Countermodels\n",
    "\n",
    "Let's examine some key countermodels from counterfactual logic."
   ]
  },
  {
   "cell_type": "markdown",
   "metadata": {},
   "source": [
    "### CF_CM_1: Counterfactual Antecedent Strengthening"
   ]
  },
  {
   "cell_type": "code",
   "execution_count": null,
   "metadata": {},
   "outputs": [],
   "source": [
    "run_example(counterfactual.CF_CM_1_example, \"Counterfactual Antecedent Strengthening\")"
   ]
  },
  {
   "cell_type": "markdown",
   "metadata": {},
   "source": [
    "### CF_CM_2: Might Counterfactual Antecedent Strengthening"
   ]
  },
  {
   "cell_type": "code",
   "execution_count": null,
   "metadata": {},
   "outputs": [],
   "source": [
    "run_example(counterfactual.CF_CM_2_example, \"Might Counterfactual Antecedent Strengthening\")"
   ]
  },
  {
   "cell_type": "markdown",
   "metadata": {},
   "source": [
    "### CF_CM_3: Counterfactual Antecedent Strengthening with Possibility"
   ]
  },
  {
   "cell_type": "code",
   "execution_count": null,
   "metadata": {},
   "outputs": [],
   "source": [
    "run_example(counterfactual.CF_CM_3_example, \"Counterfactual Antecedent Strengthening with Possibility\")"
   ]
  },
  {
   "cell_type": "markdown",
   "metadata": {},
   "source": [
    "### CF_CM_4: Counterfactual Antecedent Strengthening with Negation"
   ]
  },
  {
   "cell_type": "code",
   "execution_count": null,
   "metadata": {},
   "outputs": [],
   "source": [
    "run_example(counterfactual.CF_CM_4_example, \"Counterfactual Antecedent Strengthening with Negation\")"
   ]
  },
  {
   "cell_type": "markdown",
   "metadata": {},
   "source": [
    "### CF_CM_5: Counterfactual Double Antecedent Strengthening"
   ]
  },
  {
   "cell_type": "code",
   "execution_count": null,
   "metadata": {},
   "outputs": [],
   "source": [
    "run_example(counterfactual.CF_CM_5_example, \"Counterfactual Double Antecedent Strengthening\")"
   ]
  },
  {
   "cell_type": "markdown",
   "metadata": {},
   "source": [
    "### CF_CM_6: Weakened Monotonicity"
   ]
  },
  {
   "cell_type": "code",
   "execution_count": null,
   "metadata": {},
   "outputs": [],
   "source": [
    "run_example(counterfactual.CF_CM_6_example, \"Weakened Monotonicity\")"
   ]
  },
  {
   "cell_type": "markdown",
   "metadata": {},
   "source": [
    "### CF_CM_7: Counterfactual Contraposition"
   ]
  },
  {
   "cell_type": "code",
   "execution_count": null,
   "metadata": {},
   "outputs": [],
   "source": [
    "run_example(counterfactual.CF_CM_7_example, \"Counterfactual Contraposition\")"
   ]
  },
  {
   "cell_type": "markdown",
   "metadata": {},
   "source": [
    "### CF_CM_8: Counterfactual Contraposition with Negation"
   ]
  },
  {
   "cell_type": "code",
   "execution_count": null,
   "metadata": {},
   "outputs": [],
   "source": [
    "run_example(counterfactual.CF_CM_8_example, \"Counterfactual Contraposition with Negation\")"
   ]
  },
  {
   "cell_type": "markdown",
   "metadata": {},
   "source": [
    "### CF_CM_9: Counterfactual Contraposition with Two Negations"
   ]
  },
  {
   "cell_type": "code",
   "execution_count": null,
   "metadata": {},
   "outputs": [],
   "source": [
    "run_example(counterfactual.CF_CM_9_example, \"Counterfactual Contraposition with Two Negations\")"
   ]
  },
  {
   "cell_type": "markdown",
   "metadata": {},
   "source": [
    "### CF_CM_10: Transitivity"
   ]
  },
  {
   "cell_type": "code",
   "execution_count": null,
   "metadata": {},
   "outputs": [],
   "source": [
    "run_example(counterfactual.CF_CM_10_example, \"Transitivity\")"
   ]
  },
  {
   "cell_type": "markdown",
   "metadata": {},
   "source": [
    "### CF_CM_11: Counterfactual Transitivity with Negation"
   ]
  },
  {
   "cell_type": "code",
   "execution_count": null,
   "metadata": {},
   "outputs": [],
   "source": [
    "run_example(counterfactual.CF_CM_11_example, \"Counterfactual Transitivity with Negation\")"
   ]
  },
  {
   "cell_type": "markdown",
   "metadata": {},
   "source": [
    "### CF_CM_12: Counterfactual Transitivity with Two Negations"
   ]
  },
  {
   "cell_type": "code",
   "execution_count": null,
   "metadata": {},
   "outputs": [],
   "source": [
    "run_example(counterfactual.CF_CM_12_example, \"Counterfactual Transitivity with Two Negations\")"
   ]
  },
  {
   "cell_type": "markdown",
   "metadata": {},
   "source": [
    "### CF_CM_13: Sobel Sequence"
   ]
  },
  {
   "cell_type": "code",
   "execution_count": null,
   "metadata": {},
   "outputs": [],
   "source": [
    "run_example(counterfactual.CF_CM_13_example, \"Sobel Sequence\")"
   ]
  },
  {
   "cell_type": "markdown",
   "metadata": {},
   "source": [
    "### CF_CM_14: Sobel Sequence with Possibility"
   ]
  },
  {
   "cell_type": "code",
   "execution_count": null,
   "metadata": {},
   "outputs": [],
   "source": [
    "run_example(counterfactual.CF_CM_14_example, \"Sobel Sequence with Possibility\")"
   ]
  },
  {
   "cell_type": "markdown",
   "metadata": {},
   "source": [
    "### CF_CM_15: Counterfactual Excluded Middle"
   ]
  },
  {
   "cell_type": "code",
   "execution_count": null,
   "metadata": {},
   "outputs": [],
   "source": [
    "run_example(counterfactual.CF_CM_15_example, \"Counterfactual Excluded Middle\")"
   ]
  },
  {
   "cell_type": "markdown",
   "metadata": {},
   "source": [
    "### CF_CM_16: Simplification of Disjunctive Consequent"
   ]
  },
  {
   "cell_type": "code",
   "execution_count": null,
   "metadata": {},
   "outputs": [],
   "source": [
    "run_example(counterfactual.CF_CM_16_example, \"Simplification of Disjunctive Consequent\")"
   ]
  },
  {
   "cell_type": "markdown",
   "metadata": {},
   "source": [
    "### CF_CM_17: Introduction of Disjunctive Antecedent"
   ]
  },
  {
   "cell_type": "code",
   "execution_count": null,
   "metadata": {},
   "outputs": [],
   "source": [
    "run_example(counterfactual.CF_CM_17_example, \"Introduction of Disjunctive Antecedent\")"
   ]
  },
  {
   "cell_type": "markdown",
   "metadata": {},
   "source": [
    "### CF_CM_18: Must Factivity"
   ]
  },
  {
   "cell_type": "code",
   "execution_count": null,
   "metadata": {},
   "outputs": [],
   "source": [
    "run_example(counterfactual.CF_CM_18_example, \"Must Factivity\")"
   ]
  },
  {
   "cell_type": "markdown",
   "metadata": {},
   "source": [
    "### CF_CM_19: Counterfactual Exportation"
   ]
  },
  {
   "cell_type": "code",
   "execution_count": null,
   "metadata": {},
   "outputs": [],
   "source": [
    "run_example(counterfactual.CF_CM_19_example, \"Counterfactual Exportation\")"
   ]
  },
  {
   "cell_type": "markdown",
   "metadata": {},
   "source": [
    "### CF_CM_20: Counterfactual Exportation with Possibility"
   ]
  },
  {
   "cell_type": "code",
   "execution_count": null,
   "metadata": {},
   "outputs": [],
   "source": [
    "run_example(counterfactual.CF_CM_20_example, \"Counterfactual Exportation with Possibility\")"
   ]
  },
  {
   "cell_type": "markdown",
   "metadata": {},
   "source": [
    "### CF_CM_21: "
   ]
  },
  {
   "cell_type": "code",
   "execution_count": null,
   "metadata": {},
   "outputs": [],
   "source": [
    "run_example(counterfactual.CF_CM_21_example, \"Counterfactual Negation\")"
   ]
  },
  {
   "cell_type": "markdown",
   "metadata": {},
   "source": [
    "## Theorems\n",
    "\n",
    "Now let's examine some key theorems from counterfactual logic."
   ]
  },
  {
   "cell_type": "markdown",
   "metadata": {},
   "source": [
    "### CF_TH_1: Counterfactual Identity"
   ]
  },
  {
   "cell_type": "code",
   "execution_count": null,
   "metadata": {},
   "outputs": [],
   "source": [
    "run_example(counterfactual.CF_TH_1_example, \"Counterfactual Identity\")"
   ]
  },
  {
   "cell_type": "markdown",
   "metadata": {},
   "source": [
    "### CF_TH_2: Counterfactual Modus Ponens"
   ]
  },
  {
   "cell_type": "code",
   "execution_count": null,
   "metadata": {},
   "outputs": [],
   "source": [
    "run_example(counterfactual.CF_TH_2_example, \"Counterfactual Modus Ponens\")"
   ]
  },
  {
   "cell_type": "markdown",
   "metadata": {},
   "source": [
    "### CF_TH_3: Weakened Transitivity"
   ]
  },
  {
   "cell_type": "code",
   "execution_count": null,
   "metadata": {},
   "outputs": [],
   "source": [
    "run_example(counterfactual.CF_TH_3_example, \"Weakened Transitivity\")"
   ]
  },
  {
   "cell_type": "markdown",
   "metadata": {},
   "source": [
    "### CF_TH_4: Antecedent Disjunction to Conjunction"
   ]
  },
  {
   "cell_type": "code",
   "execution_count": null,
   "metadata": {},
   "outputs": [],
   "source": [
    "run_example(counterfactual.CF_TH_4_example, \"Antecedent Disjunction to Conjunction\")"
   ]
  },
  {
   "cell_type": "markdown",
   "metadata": {},
   "source": [
    "### CF_TH_5: Simplification of Disjunctive Antecedent"
   ]
  },
  {
   "cell_type": "code",
   "execution_count": null,
   "metadata": {},
   "outputs": [],
   "source": [
    "run_example(counterfactual.CF_TH_5_example, \"Simplification of Disjunctive Antecedent\")"
   ]
  },
  {
   "cell_type": "markdown",
   "metadata": {},
   "source": [
    "### CF_TH_6: Double Simplification of Disjunctive Antecedent"
   ]
  },
  {
   "cell_type": "code",
   "execution_count": null,
   "metadata": {},
   "outputs": [],
   "source": [
    "run_example(counterfactual.CF_TH_6_example, \"Double Simplification of Disjunctive Antecedent\")"
   ]
  },
  {
   "cell_type": "markdown",
   "metadata": {},
   "source": [
    "### CF_TH_7: Disjunctive Antecedent"
   ]
  },
  {
   "cell_type": "code",
   "execution_count": null,
   "metadata": {},
   "outputs": [],
   "source": [
    "run_example(counterfactual.CF_TH_7_example, \"Disjunctive Antecedent\")"
   ]
  },
  {
   "cell_type": "markdown",
   "metadata": {},
   "source": [
    "### CF_TH_8: Conjunctive Consequent to Left"
   ]
  },
  {
   "cell_type": "code",
   "execution_count": null,
   "metadata": {},
   "outputs": [],
   "source": [
    "run_example(counterfactual.CF_TH_8_example, \"Conjunctive Consequent to Left\")"
   ]
  },
  {
   "cell_type": "markdown",
   "metadata": {},
   "source": [
    "### CF_TH_9: Conjunction of Consequents"
   ]
  },
  {
   "cell_type": "code",
   "execution_count": null,
   "metadata": {},
   "outputs": [],
   "source": [
    "run_example(counterfactual.CF_TH_9_example, \"Conjunction of Consequents\")"
   ]
  },
  {
   "cell_type": "markdown",
   "metadata": {},
   "source": [
    "### CF_TH_10: Might Factivity"
   ]
  },
  {
   "cell_type": "code",
   "execution_count": null,
   "metadata": {},
   "outputs": [],
   "source": [
    "run_example(counterfactual.CF_TH_10_example, \"Might Factivity\")"
   ]
  },
  {
   "cell_type": "markdown",
   "metadata": {},
   "source": [
    "### CF_TH_11: Definition of Necessity"
   ]
  },
  {
   "cell_type": "code",
   "execution_count": null,
   "metadata": {},
   "outputs": [],
   "source": [
    "run_example(counterfactual.CF_TH_11_example, \"Definition of Necessity\")"
   ]
  },
  {
   "cell_type": "markdown",
   "metadata": {},
   "source": [
    "### CF_TH_12: Definition of Necessity (Alternative)"
   ]
  },
  {
   "cell_type": "code",
   "execution_count": null,
   "metadata": {},
   "outputs": [],
   "source": [
    "run_example(counterfactual.CF_TH_12_example, \"Definition of Necessity (Alternative)\")"
   ]
  },
  {
   "cell_type": "markdown",
   "metadata": {},
   "source": [
    "## Summary\n",
    "\n",
    "This notebook demonstrates the key countermodels and theorems in counterfactual logic using the default theory of the ModelChecker framework. The examples showcase various properties of the counterfactual operators including antecedent strengthening, contraposition, transitivity, and interactions with modal operators."
   ]
  }
 ],
 "metadata": {
  "kernelspec": {
   "display_name": "Python 3",
   "language": "python",
   "name": "python3"
  },
  "language_info": {
   "codemirror_mode": {
    "name": "ipython",
    "version": 3
   },
   "file_extension": ".py",
   "mimetype": "text/x-python",
   "name": "python",
   "nbconvert_exporter": "python",
   "pygments_lexer": "ipython3",
   "version": "3.10.12"
  }
 },
 "nbformat": 4,
 "nbformat_minor": 4
}