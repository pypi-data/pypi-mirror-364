{
 "cells": [
  {
   "cell_type": "markdown",
   "metadata": {},
   "source": [
    "# Modal Theory Demo Notebook\n",
    "\n",
    "This notebook demonstrates modal logic examples from the default theory. It includes various countermodels showing invalid arguments, theorems showing valid arguments, and defined operators in modal logic."
   ]
  },
  {
   "cell_type": "code",
   "execution_count": 1,
   "metadata": {},
   "outputs": [
    {
     "name": "stdout",
     "output_type": "stream",
     "text": [
      "Current directory: /home/benjamin/Documents/Philosophy/Projects/ModelChecker/Code/src/model_checker/theory_lib/default/notebooks\n",
      "Python path: ['/home/benjamin/Documents/Philosophy/Projects/ModelChecker/Code/src/model_checker', '/home/benjamin/Documents/Philosophy/Projects/ModelChecker/Code/src/model_checker/theory_lib', '/home/benjamin/Documents/Philosophy/Projects/ModelChecker/Code/src/model_checker/theory_lib/default', '/home/benjamin/Documents/Philosophy/Projects/ModelChecker/Code', '/home/benjamin/Documents/Philosophy/Projects/ModelChecker/Code/src', '', '/nix/store/h3i0acpmr8mrjx07519xxmidv8mpax4y-python3-3.12.5/lib/python3.12/site-packages', '/nix/store/m3q9aavsms4fcj0n1x5w1g6cn60h0hc0-z3-solver-4.8.17-python/lib/python3.12/site-packages', '/nix/store/l7idy2qiiv0v0b6khfjvz3l5k6mnm47l-python3.12-setuptools-72.1.0/lib/python3.12/site-packages', '/nix/store/gam79wgc54sn8yyw2xkrqkf93v5lwaz1-python3.12-pip-24.0/lib/python3.12/site-packages', '/nix/store/w0ls6v4n3wb4jzriddxz4khx56dfmnmq-python3.12-networkx-3.3/lib/python3.12/site-packages', '/nix/store/99hl269v1igvjbp1znfk5jcarhzgy822-python3-3.12.8/lib/python312.zip', '/nix/store/99hl269v1igvjbp1znfk5jcarhzgy822-python3-3.12.8/lib/python3.12', '/nix/store/99hl269v1igvjbp1znfk5jcarhzgy822-python3-3.12.8/lib/python3.12/lib-dynload', '/nix/store/99hl269v1igvjbp1znfk5jcarhzgy822-python3-3.12.8/lib/python3.12/site-packages', '/nix/store/90r7m6gpnw5i5y30qq56zci99slfrfp6-python3-3.12.8-env/lib/python3.12/site-packages']\n"
     ]
    }
   ],
   "source": [
    "# Add parent directory to Python path to ensure module imports work\n",
    "import sys\n",
    "import os\n",
    "\n",
    "# Add parent directories to path for proper imports\n",
    "current_dir = os.path.dirname(os.path.abspath('.'))\n",
    "parent_dir = os.path.dirname(current_dir)\n",
    "parent_parent_dir = os.path.dirname(parent_dir)\n",
    "parent_parent_parent_dir = os.path.dirname(parent_parent_dir)\n",
    "parent_parent_parent_parent_dir = os.path.dirname(parent_parent_parent_dir)\n",
    "\n",
    "# Add all possible parent paths to ensure the module is found\n",
    "for path in [current_dir, parent_dir, parent_parent_dir, parent_parent_parent_dir, parent_parent_parent_parent_dir]:\n",
    "    if path not in sys.path:\n",
    "        sys.path.insert(0, path)\n",
    "\n",
    "# Print current path to help with debugging\n",
    "print(f\"Current directory: {os.getcwd()}\")\n",
    "print(f\"Python path: {sys.path}\")"
   ]
  },
  {
   "cell_type": "code",
   "execution_count": 2,
   "metadata": {},
   "outputs": [],
   "source": [
    "import model_checker\n",
    "from model_checker.theory_lib import default\n",
    "from model_checker.theory_lib.default.examples import modal"
   ]
  },
  {
   "cell_type": "markdown",
   "metadata": {},
   "source": [
    "## Setup\n",
    "\n",
    "First, let's set up the basic components we need for model checking."
   ]
  },
  {
   "cell_type": "code",
   "execution_count": 3,
   "metadata": {},
   "outputs": [],
   "source": [
    "# Import operators\n",
    "operators = default.default_operators\n",
    "\n",
    "# Get default settings\n",
    "default_settings = default.Semantics.DEFAULT_EXAMPLE_SETTINGS\n",
    "\n",
    "# Define general settings for display\n",
    "general_settings = {\n",
    "    \"print_constraints\": False,\n",
    "    \"print_impossible\": True,\n",
    "    \"print_z3\": False,\n",
    "    \"save_output\": False,\n",
    "    \"maximize\": False,\n",
    "}\n",
    "\n",
    "# Update default settings with general settings\n",
    "default_settings.update(general_settings)"
   ]
  },
  {
   "cell_type": "markdown",
   "metadata": {},
   "source": [
    "## Helper Function\n",
    "\n",
    "Let's create a helper function to run our examples."
   ]
  },
  {
   "cell_type": "code",
   "execution_count": 4,
   "metadata": {},
   "outputs": [],
   "source": [
    "def run_example(example, name):\n",
    "    \"\"\"Run a specific example and display the results.\n",
    "    \n",
    "    Args:\n",
    "        example: The example to run (list containing premises, conclusions, settings)\n",
    "        name: The name of the example\n",
    "    \"\"\"\n",
    "    premises, conclusions, settings = example\n",
    "    \n",
    "    # Create syntax object\n",
    "    syntax = model_checker.syntactic.Syntax(premises, conclusions, operators)\n",
    "    \n",
    "    # Update default settings with example-specific settings and general settings\n",
    "    example_settings = default_settings.copy()\n",
    "    example_settings.update(settings)\n",
    "    \n",
    "    # Ensure print_impossible is set\n",
    "    if 'print_impossible' not in example_settings:\n",
    "        example_settings['print_impossible'] = True\n",
    "    \n",
    "    # Create semantics\n",
    "    semantics = default.Semantics(example_settings)\n",
    "    proposition_class = default.Proposition\n",
    "    \n",
    "    # Create model constraints\n",
    "    model_constraints = model_checker.model.ModelConstraints(example_settings, syntax, semantics, proposition_class)\n",
    "    \n",
    "    # Create model structure\n",
    "    model_structure = default.ModelStructure(model_constraints, example_settings)\n",
    "    \n",
    "    # Interpret sentences before printing\n",
    "    sentences = model_structure.premises + model_structure.conclusions\n",
    "    model_structure.interpret(sentences)\n",
    "    \n",
    "    # Print results\n",
    "    model_structure.print_all(example_settings, name, \"Default Semantics\")"
   ]
  },
  {
   "cell_type": "markdown",
   "metadata": {},
   "source": [
    "## Countermodels\n",
    "\n",
    "Let's examine some key countermodels from modal logic."
   ]
  },
  {
   "cell_type": "markdown",
   "metadata": {},
   "source": [
    "### ML_CM_1: Distribution of Necessity over Disjunction"
   ]
  },
  {
   "cell_type": "code",
   "execution_count": 5,
   "metadata": {},
   "outputs": [
    {
     "name": "stdout",
     "output_type": "stream",
     "text": [
      "========================================\n",
      "\n",
      "EXAMPLE Distribution of Necessity over Disjunction: there is a countermodel.\n",
      "\n",
      "Atomic States: 3\n",
      "\n",
      "Semantic Theory: Default Semantics\n",
      "\n",
      "Premise:\n",
      "1. \\Box (A \\vee B)\n",
      "\n",
      "Conclusion:\n",
      "2. \\Box A \\vee \\Box B\n",
      "\n",
      "Z3 Run Time: 0.0036 seconds\n",
      "\n",
      "========================================\n",
      "State Space:\n",
      "  \u001b[37m#b000 = \u001b[33m□\u001b[0m\n",
      "  \u001b[37m#b001 = \u001b[36ma\u001b[0m\n",
      "  \u001b[37m#b010 = \u001b[36mb\u001b[0m\n",
      "  \u001b[37m#b011 = \u001b[34ma.b (world)\u001b[0m\n",
      "  \u001b[37m#b100 = \u001b[36mc\u001b[0m\n",
      "  \u001b[37m#b101 = \u001b[34ma.c (world)\u001b[0m\n",
      "  \u001b[37m#b110 = \u001b[34mb.c (world)\u001b[0m\n",
      "  \u001b[37m#b111 = \u001b[35ma.b.c (impossible)\u001b[0m\n",
      "\n",
      "The evaluation world is: \u001b[34mb.c\u001b[0m\n",
      "\n",
      "INTERPRETED PREMISE:\n",
      "\n",
      "1.  \u001b[32m|\\Box (A \\vee B)| = < {□}, ∅ >\u001b[0m  \u001b[32m(True in b.c)\u001b[0m\n",
      "      \u001b[37m|(A \\vee B)| = < {a.b, a.b.c, a.c, c}, {a.b.c} >\u001b[0m  \u001b[33m(True in a.b)\u001b[0m\n",
      "        \u001b[37m|A| = < {a.b, a.b.c, a.c}, {b.c} >\u001b[0m  \u001b[33m(True in a.b)\u001b[0m\n",
      "        \u001b[37m|B| = < {c}, {a.b} >\u001b[0m  \u001b[33m(False in a.b)\u001b[0m\n",
      "      \u001b[37m|(A \\vee B)| = < {a.b, a.b.c, a.c, c}, {a.b.c} >\u001b[0m  \u001b[33m(True in a.c)\u001b[0m\n",
      "        \u001b[37m|A| = < {a.b, a.b.c, a.c}, {b.c} >\u001b[0m  \u001b[33m(True in a.c)\u001b[0m\n",
      "        \u001b[37m|B| = < {c}, {a.b} >\u001b[0m  \u001b[33m(True in a.c)\u001b[0m\n",
      "      \u001b[37m|(A \\vee B)| = < {a.b, a.b.c, a.c, c}, {a.b.c} >\u001b[0m  \u001b[33m(True in b.c)\u001b[0m\n",
      "        \u001b[37m|A| = < {a.b, a.b.c, a.c}, {b.c} >\u001b[0m  \u001b[33m(False in b.c)\u001b[0m\n",
      "        \u001b[37m|B| = < {c}, {a.b} >\u001b[0m  \u001b[33m(True in b.c)\u001b[0m\n",
      "\n",
      "INTERPRETED CONCLUSION:\n",
      "\n",
      "2.  \u001b[31m|\\Box A \\vee \\Box B| = < ∅, {□} >\u001b[0m  \u001b[31m(False in b.c)\u001b[0m\n",
      "      \u001b[37m|A| = < {a.b, a.b.c, a.c}, {b.c} >\u001b[0m  \u001b[33m(True in a.b)\u001b[0m\n",
      "      \u001b[37m|A| = < {a.b, a.b.c, a.c}, {b.c} >\u001b[0m  \u001b[33m(True in a.c)\u001b[0m\n",
      "      \u001b[37m|A| = < {a.b, a.b.c, a.c}, {b.c} >\u001b[0m  \u001b[33m(False in b.c)\u001b[0m\n",
      "\n",
      "Total Run Time: 0.0496 seconds\n",
      "\n",
      "========================================\n"
     ]
    }
   ],
   "source": [
    "run_example(modal.ML_CM_1_example, \"Distribution of Necessity over Disjunction\")"
   ]
  },
  {
   "cell_type": "markdown",
   "metadata": {},
   "source": [
    "### ML_CM_2: Necessitated Arguments Modus Ponens"
   ]
  },
  {
   "cell_type": "code",
   "execution_count": 6,
   "metadata": {},
   "outputs": [
    {
     "name": "stdout",
     "output_type": "stream",
     "text": [
      "========================================\n",
      "\n",
      "EXAMPLE Necessitated Arguments Modus Ponens: there is no countermodel.\n",
      "\n",
      "Atomic States: 3\n",
      "\n",
      "Semantic Theory: Default Semantics\n",
      "\n",
      "Premises:\n",
      "1. \\Box A\n",
      "2. (A \\rightarrow B)\n",
      "\n",
      "Conclusion:\n",
      "3. \\Box B\n",
      "\n",
      "Z3 Run Time: 0.0025 seconds\n",
      "\n",
      "========================================\n"
     ]
    }
   ],
   "source": [
    "run_example(modal.ML_CM_2_example, \"Necessitated Arguments Modus Ponens\")"
   ]
  },
  {
   "cell_type": "markdown",
   "metadata": {},
   "source": [
    "### ML_CM_3: Counterfactual Implies Strict Conditional"
   ]
  },
  {
   "cell_type": "code",
   "execution_count": 7,
   "metadata": {},
   "outputs": [
    {
     "name": "stdout",
     "output_type": "stream",
     "text": [
      "========================================\n",
      "\n",
      "EXAMPLE Counterfactual Implies Strict Conditional: there is a countermodel.\n",
      "\n",
      "Atomic States: 3\n",
      "\n",
      "Semantic Theory: Default Semantics\n",
      "\n",
      "Premise:\n",
      "1. (A \\boxright B)\n",
      "\n",
      "Conclusion:\n",
      "2. \\Box (A \\rightarrow B)\n",
      "\n",
      "Z3 Run Time: 0.0038 seconds\n",
      "\n",
      "========================================\n",
      "State Space:\n",
      "  \u001b[37m#b000 = \u001b[33m□\u001b[0m\n",
      "  \u001b[37m#b001 = \u001b[36ma\u001b[0m\n",
      "  \u001b[37m#b010 = \u001b[36mb\u001b[0m\n",
      "  \u001b[37m#b011 = \u001b[34ma.b (world)\u001b[0m\n",
      "  \u001b[37m#b100 = \u001b[36mc\u001b[0m\n",
      "  \u001b[37m#b101 = \u001b[34ma.c (world)\u001b[0m\n",
      "  \u001b[37m#b110 = \u001b[34mb.c (world)\u001b[0m\n",
      "  \u001b[37m#b111 = \u001b[35ma.b.c (impossible)\u001b[0m\n",
      "\n",
      "The evaluation world is: \u001b[34ma.c\u001b[0m\n",
      "\n",
      "INTERPRETED PREMISE:\n",
      "\n",
      "1.  \u001b[32m|(A \\boxright B)| = < {□}, ∅ >\u001b[0m  \u001b[32m(True in a.c)\u001b[0m\n",
      "      \u001b[37m|A| = < {c}, {a.b} >\u001b[0m  \u001b[33m(True in a.c)\u001b[0m\n",
      "      \u001b[36m|A|-alternatives to a.c = {a.c}\u001b[0m\n",
      "        \u001b[37m|B| = < {a}, {b.c} >\u001b[0m  \u001b[33m(True in a.c)\u001b[0m\n",
      "\n",
      "INTERPRETED CONCLUSION:\n",
      "\n",
      "2.  \u001b[31m|\\Box (A \\rightarrow B)| = < ∅, {□} >\u001b[0m  \u001b[31m(False in a.c)\u001b[0m\n",
      "      \u001b[37m|(A \\rightarrow B)| = < {a, a.b}, {b.c} >\u001b[0m  \u001b[33m(True in a.b)\u001b[0m\n",
      "        \u001b[37m|A| = < {c}, {a.b} >\u001b[0m  \u001b[33m(False in a.b)\u001b[0m\n",
      "        \u001b[37m|B| = < {a}, {b.c} >\u001b[0m  \u001b[33m(True in a.b)\u001b[0m\n",
      "      \u001b[37m|(A \\rightarrow B)| = < {a, a.b}, {b.c} >\u001b[0m  \u001b[33m(True in a.c)\u001b[0m\n",
      "        \u001b[37m|A| = < {c}, {a.b} >\u001b[0m  \u001b[33m(True in a.c)\u001b[0m\n",
      "        \u001b[37m|B| = < {a}, {b.c} >\u001b[0m  \u001b[33m(True in a.c)\u001b[0m\n",
      "      \u001b[37m|(A \\rightarrow B)| = < {a, a.b}, {b.c} >\u001b[0m  \u001b[33m(False in b.c)\u001b[0m\n",
      "        \u001b[37m|A| = < {c}, {a.b} >\u001b[0m  \u001b[33m(True in b.c)\u001b[0m\n",
      "        \u001b[37m|B| = < {a}, {b.c} >\u001b[0m  \u001b[33m(False in b.c)\u001b[0m\n",
      "\n",
      "Total Run Time: 0.0593 seconds\n",
      "\n",
      "========================================\n"
     ]
    }
   ],
   "source": [
    "run_example(modal.ML_CM_3_example, \"Counterfactual Implies Strict Conditional\")"
   ]
  },
  {
   "cell_type": "markdown",
   "metadata": {},
   "source": [
    "## Theorems\n",
    "\n",
    "Now let's examine some key theorems from modal logic."
   ]
  },
  {
   "cell_type": "markdown",
   "metadata": {},
   "source": [
    "### ML_TH_1: Strict Conditional to Counterfactual"
   ]
  },
  {
   "cell_type": "code",
   "execution_count": 8,
   "metadata": {},
   "outputs": [
    {
     "name": "stdout",
     "output_type": "stream",
     "text": [
      "========================================\n",
      "\n",
      "EXAMPLE Strict Conditional to Counterfactual: there is no countermodel.\n",
      "\n",
      "Atomic States: 3\n",
      "\n",
      "Semantic Theory: Default Semantics\n",
      "\n",
      "Premise:\n",
      "1. \\Box (A \\rightarrow B)\n",
      "\n",
      "Conclusion:\n",
      "2. (A \\boxright B)\n",
      "\n",
      "Z3 Run Time: 0.003 seconds\n",
      "\n",
      "========================================\n"
     ]
    }
   ],
   "source": [
    "run_example(modal.ML_TH_1_example, \"Strict Conditional to Counterfactual\")"
   ]
  },
  {
   "cell_type": "markdown",
   "metadata": {},
   "source": [
    "### ML_TH_2: K Axiom (Box)"
   ]
  },
  {
   "cell_type": "code",
   "execution_count": 9,
   "metadata": {},
   "outputs": [
    {
     "name": "stdout",
     "output_type": "stream",
     "text": [
      "========================================\n",
      "\n",
      "EXAMPLE K Axiom (Box): there is no countermodel.\n",
      "\n",
      "Atomic States: 3\n",
      "\n",
      "Semantic Theory: Default Semantics\n",
      "\n",
      "Premise:\n",
      "1. \\Box (A \\rightarrow B)\n",
      "\n",
      "Conclusion:\n",
      "2. (\\Box A \\rightarrow \\Box B)\n",
      "\n",
      "Z3 Run Time: 0.0026 seconds\n",
      "\n",
      "========================================\n"
     ]
    }
   ],
   "source": [
    "run_example(modal.ML_TH_2_example, \"K Axiom (Box)\")"
   ]
  },
  {
   "cell_type": "markdown",
   "metadata": {},
   "source": [
    "### ML_TH_3: K Axiom (Top)"
   ]
  },
  {
   "cell_type": "code",
   "execution_count": 10,
   "metadata": {},
   "outputs": [
    {
     "name": "stdout",
     "output_type": "stream",
     "text": [
      "========================================\n",
      "\n",
      "EXAMPLE K Axiom (Top): there is no countermodel.\n",
      "\n",
      "Atomic States: 3\n",
      "\n",
      "Semantic Theory: Default Semantics\n",
      "\n",
      "Premise:\n",
      "1. (\\top \\boxright (A \\rightarrow B))\n",
      "\n",
      "Conclusion:\n",
      "2. ((\\top \\boxright A) \\rightarrow (\\top \\boxright B))\n",
      "\n",
      "Z3 Run Time: 0.0073 seconds\n",
      "\n",
      "========================================\n"
     ]
    }
   ],
   "source": [
    "run_example(modal.ML_TH_3_example, \"K Axiom (Top)\")"
   ]
  },
  {
   "cell_type": "markdown",
   "metadata": {},
   "source": [
    "### ML_TH_4: T Axiom (Top)"
   ]
  },
  {
   "cell_type": "code",
   "execution_count": 11,
   "metadata": {},
   "outputs": [
    {
     "name": "stdout",
     "output_type": "stream",
     "text": [
      "========================================\n",
      "\n",
      "EXAMPLE T Axiom (Top): there is no countermodel.\n",
      "\n",
      "Atomic States: 3\n",
      "\n",
      "Semantic Theory: Default Semantics\n",
      "\n",
      "Premise:\n",
      "1. (\\top \\boxright A)\n",
      "\n",
      "Conclusion:\n",
      "2. A\n",
      "\n",
      "Z3 Run Time: 0.0025 seconds\n",
      "\n",
      "========================================\n"
     ]
    }
   ],
   "source": [
    "run_example(modal.ML_TH_4_example, \"T Axiom (Top)\")"
   ]
  },
  {
   "cell_type": "markdown",
   "metadata": {},
   "source": [
    "### ML_TH_5: T Axiom (Box)"
   ]
  },
  {
   "cell_type": "code",
   "execution_count": 12,
   "metadata": {},
   "outputs": [
    {
     "name": "stdout",
     "output_type": "stream",
     "text": [
      "========================================\n",
      "\n",
      "EXAMPLE T Axiom (Box): there is no countermodel.\n",
      "\n",
      "Atomic States: 3\n",
      "\n",
      "Semantic Theory: Default Semantics\n",
      "\n",
      "Premise:\n",
      "1. \\Box A\n",
      "\n",
      "Conclusion:\n",
      "2. A\n",
      "\n",
      "Z3 Run Time: 0.0019 seconds\n",
      "\n",
      "========================================\n"
     ]
    }
   ],
   "source": [
    "run_example(modal.ML_TH_5_example, \"T Axiom (Box)\")"
   ]
  },
  {
   "cell_type": "markdown",
   "metadata": {},
   "source": [
    "### ML_TH_6: 4 Axiom (Top)"
   ]
  },
  {
   "cell_type": "code",
   "execution_count": 13,
   "metadata": {},
   "outputs": [
    {
     "name": "stdout",
     "output_type": "stream",
     "text": [
      "========================================\n",
      "\n",
      "EXAMPLE 4 Axiom (Top): there is no countermodel.\n",
      "\n",
      "Atomic States: 3\n",
      "\n",
      "Semantic Theory: Default Semantics\n",
      "\n",
      "Premise:\n",
      "1. (\\top \\boxright A)\n",
      "\n",
      "Conclusion:\n",
      "2. (\\top \\boxright (\\top \\boxright A))\n",
      "\n",
      "Z3 Run Time: 0.0028 seconds\n",
      "\n",
      "========================================\n"
     ]
    }
   ],
   "source": [
    "run_example(modal.ML_TH_6_example, \"4 Axiom (Top)\")"
   ]
  },
  {
   "cell_type": "markdown",
   "metadata": {},
   "source": [
    "### ML_TH_7: 4 Axiom (Box)"
   ]
  },
  {
   "cell_type": "code",
   "execution_count": 14,
   "metadata": {},
   "outputs": [
    {
     "name": "stdout",
     "output_type": "stream",
     "text": [
      "========================================\n",
      "\n",
      "EXAMPLE 4 Axiom (Box): there is no countermodel.\n",
      "\n",
      "Atomic States: 3\n",
      "\n",
      "Semantic Theory: Default Semantics\n",
      "\n",
      "Premise:\n",
      "1. \\Box A\n",
      "\n",
      "Conclusion:\n",
      "2. \\Box \\Box A\n",
      "\n",
      "Z3 Run Time: 0.0018 seconds\n",
      "\n",
      "========================================\n"
     ]
    }
   ],
   "source": [
    "run_example(modal.ML_TH_7_example, \"4 Axiom (Box)\")"
   ]
  },
  {
   "cell_type": "markdown",
   "metadata": {},
   "source": [
    "### ML_TH_8: B Axiom (Top)"
   ]
  },
  {
   "cell_type": "code",
   "execution_count": 15,
   "metadata": {},
   "outputs": [
    {
     "name": "stdout",
     "output_type": "stream",
     "text": [
      "========================================\n",
      "\n",
      "EXAMPLE B Axiom (Top): there is no countermodel.\n",
      "\n",
      "Atomic States: 3\n",
      "\n",
      "Semantic Theory: Default Semantics\n",
      "\n",
      "Premise:\n",
      "1. A\n",
      "\n",
      "Conclusion:\n",
      "2. (\\top \\boxright \\neg (\\top \\boxright \\neg A))\n",
      "\n",
      "Z3 Run Time: 0.0037 seconds\n",
      "\n",
      "========================================\n"
     ]
    }
   ],
   "source": [
    "run_example(modal.ML_TH_8_example, \"B Axiom (Top)\")"
   ]
  },
  {
   "cell_type": "markdown",
   "metadata": {},
   "source": [
    "### ML_TH_9: B Axiom (Box)"
   ]
  },
  {
   "cell_type": "code",
   "execution_count": 16,
   "metadata": {},
   "outputs": [
    {
     "name": "stdout",
     "output_type": "stream",
     "text": [
      "========================================\n",
      "\n",
      "EXAMPLE B Axiom (Box): there is no countermodel.\n",
      "\n",
      "Atomic States: 3\n",
      "\n",
      "Semantic Theory: Default Semantics\n",
      "\n",
      "Premise:\n",
      "1. A\n",
      "\n",
      "Conclusion:\n",
      "2. \\Box \\Diamond A\n",
      "\n",
      "Z3 Run Time: 0.0027 seconds\n",
      "\n",
      "========================================\n"
     ]
    }
   ],
   "source": [
    "run_example(modal.ML_TH_9_example, \"B Axiom (Box)\")"
   ]
  },
  {
   "cell_type": "markdown",
   "metadata": {},
   "source": [
    "### ML_TH_10: 5 Axiom (Top)"
   ]
  },
  {
   "cell_type": "code",
   "execution_count": 17,
   "metadata": {},
   "outputs": [
    {
     "name": "stdout",
     "output_type": "stream",
     "text": [
      "========================================\n",
      "\n",
      "EXAMPLE 5 Axiom (Top): there is no countermodel.\n",
      "\n",
      "Atomic States: 3\n",
      "\n",
      "Semantic Theory: Default Semantics\n",
      "\n",
      "Premise:\n",
      "1. (\\top \\boxright \\neg A)\n",
      "\n",
      "Conclusion:\n",
      "2. (\\top \\boxright (\\top \\boxright \\neg A))\n",
      "\n",
      "Z3 Run Time: 0.0025 seconds\n",
      "\n",
      "========================================\n"
     ]
    }
   ],
   "source": [
    "run_example(modal.ML_TH_10_example, \"5 Axiom (Top)\")"
   ]
  },
  {
   "cell_type": "markdown",
   "metadata": {},
   "source": [
    "### ML_TH_11: 5 Axiom (Box)"
   ]
  },
  {
   "cell_type": "code",
   "execution_count": 18,
   "metadata": {},
   "outputs": [
    {
     "name": "stdout",
     "output_type": "stream",
     "text": [
      "========================================\n",
      "\n",
      "EXAMPLE 5 Axiom (Box): there is no countermodel.\n",
      "\n",
      "Atomic States: 3\n",
      "\n",
      "Semantic Theory: Default Semantics\n",
      "\n",
      "Premise:\n",
      "1. \\Diamond A\n",
      "\n",
      "Conclusion:\n",
      "2. \\Box \\Diamond A\n",
      "\n",
      "Z3 Run Time: 0.0016 seconds\n",
      "\n",
      "========================================\n"
     ]
    }
   ],
   "source": [
    "run_example(modal.ML_TH_11_example, \"5 Axiom (Box)\")"
   ]
  },
  {
   "cell_type": "markdown",
   "metadata": {},
   "source": [
    "### ML_TH_12: Box-to-Top Equivalence"
   ]
  },
  {
   "cell_type": "code",
   "execution_count": 19,
   "metadata": {},
   "outputs": [
    {
     "name": "stdout",
     "output_type": "stream",
     "text": [
      "========================================\n",
      "\n",
      "EXAMPLE Box-to-Top Equivalence: there is no countermodel.\n",
      "\n",
      "Atomic States: 3\n",
      "\n",
      "Semantic Theory: Default Semantics\n",
      "\n",
      "Premise:\n",
      "1. \\Box A\n",
      "\n",
      "Conclusion:\n",
      "2. (\\top \\boxright A)\n",
      "\n",
      "Z3 Run Time: 0.0022 seconds\n",
      "\n",
      "========================================\n"
     ]
    }
   ],
   "source": [
    "run_example(modal.ML_TH_12_example, \"Box-to-Top Equivalence\")"
   ]
  },
  {
   "cell_type": "markdown",
   "metadata": {},
   "source": [
    "### ML_TH_13: Top-to-Box Equivalence"
   ]
  },
  {
   "cell_type": "code",
   "execution_count": 20,
   "metadata": {},
   "outputs": [
    {
     "name": "stdout",
     "output_type": "stream",
     "text": [
      "========================================\n",
      "\n",
      "EXAMPLE Top-to-Box Equivalence: there is no countermodel.\n",
      "\n",
      "Atomic States: 3\n",
      "\n",
      "Semantic Theory: Default Semantics\n",
      "\n",
      "Premise:\n",
      "1. (\\top \\boxright A)\n",
      "\n",
      "Conclusion:\n",
      "2. \\Box A\n",
      "\n",
      "Z3 Run Time: 0.0023 seconds\n",
      "\n",
      "========================================\n"
     ]
    }
   ],
   "source": [
    "run_example(modal.ML_TH_13_example, \"Top-to-Box Equivalence\")"
   ]
  },
  {
   "cell_type": "markdown",
   "metadata": {},
   "source": [
    "### ML_TH_14: Necessary Equivalence of Tautologies"
   ]
  },
  {
   "cell_type": "code",
   "execution_count": 21,
   "metadata": {},
   "outputs": [
    {
     "name": "stdout",
     "output_type": "stream",
     "text": [
      "========================================\n",
      "\n",
      "EXAMPLE Necessary Equivalence of Tautologies: there is no countermodel.\n",
      "\n",
      "Atomic States: 3\n",
      "\n",
      "Semantic Theory: Default Semantics\n",
      "\n",
      "Premise:\n",
      "\n",
      "Conclusion:\n",
      "1. \\Box ((A \\vee \\neg A) \\leftrightarrow (B \\vee \\neg B))\n",
      "\n",
      "Z3 Run Time: 0.0027 seconds\n",
      "\n",
      "========================================\n"
     ]
    }
   ],
   "source": [
    "run_example(modal.ML_TH_14_example, \"Necessary Equivalence of Tautologies\")"
   ]
  },
  {
   "cell_type": "markdown",
   "metadata": {},
   "source": [
    "## Defined Operators\n",
    "\n",
    "Finally, let's examine some examples of defined modal operators and their relationship to primitive operators."
   ]
  },
  {
   "cell_type": "markdown",
   "metadata": {},
   "source": [
    "### ML_DEF_5: Necessity and Negated Possibility"
   ]
  },
  {
   "cell_type": "code",
   "execution_count": 22,
   "metadata": {},
   "outputs": [
    {
     "name": "stdout",
     "output_type": "stream",
     "text": [
      "========================================\n",
      "\n",
      "EXAMPLE Necessity and Negated Possibility: there is no countermodel.\n",
      "\n",
      "Atomic States: 3\n",
      "\n",
      "Semantic Theory: Default Semantics\n",
      "\n",
      "Premise:\n",
      "1. \\Box A\n",
      "\n",
      "Conclusion:\n",
      "2. \\neg \\Diamond \\neg A\n",
      "\n",
      "Z3 Run Time: 0.0017 seconds\n",
      "\n",
      "========================================\n"
     ]
    }
   ],
   "source": [
    "run_example(modal.ML_DEF_5_example, \"Necessity and Negated Possibility\")"
   ]
  },
  {
   "cell_type": "markdown",
   "metadata": {},
   "source": [
    "### ML_DEF_6: Possibility and Negated Necessity"
   ]
  },
  {
   "cell_type": "code",
   "execution_count": 23,
   "metadata": {},
   "outputs": [
    {
     "name": "stdout",
     "output_type": "stream",
     "text": [
      "========================================\n",
      "\n",
      "EXAMPLE Possibility and Negated Necessity: there is no countermodel.\n",
      "\n",
      "Atomic States: 3\n",
      "\n",
      "Semantic Theory: Default Semantics\n",
      "\n",
      "Premise:\n",
      "1. \\Diamond A\n",
      "\n",
      "Conclusion:\n",
      "2. \\neg \\Box \\neg A\n",
      "\n",
      "Z3 Run Time: 0.0017 seconds\n",
      "\n",
      "========================================\n"
     ]
    }
   ],
   "source": [
    "run_example(modal.ML_DEF_6_example, \"Possibility and Negated Necessity\")"
   ]
  },
  {
   "cell_type": "markdown",
   "metadata": {},
   "source": [
    "## Summary\n",
    "\n",
    "This notebook demonstrates the key countermodels, theorems, and defined operators in modal logic using the default theory of the ModelChecker framework. The examples showcase various modal axioms (K, T, 4, B, 5) in both box and top forms, as well as the relationships between necessity, possibility, and material implication."
   ]
  }
 ],
 "metadata": {
  "kernelspec": {
   "display_name": "Python 3 (ipykernel)",
   "language": "python",
   "name": "python3"
  },
  "language_info": {
   "codemirror_mode": {
    "name": "ipython",
    "version": 3
   },
   "file_extension": ".py",
   "mimetype": "text/x-python",
   "name": "python",
   "nbconvert_exporter": "python",
   "pygments_lexer": "ipython3",
   "version": "3.12.8"
  }
 },
 "nbformat": 4,
 "nbformat_minor": 4
}
