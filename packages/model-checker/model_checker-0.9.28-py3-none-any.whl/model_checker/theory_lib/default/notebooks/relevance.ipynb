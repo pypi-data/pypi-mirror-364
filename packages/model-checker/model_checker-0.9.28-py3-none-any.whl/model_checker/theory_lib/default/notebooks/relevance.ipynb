{
 "cells": [
  {
   "cell_type": "markdown",
   "metadata": {},
   "source": [
    "# Relevance Theory Demo Notebook\n",
    "\n",
    "This notebook demonstrates relevance logic examples from the default theory. It includes various countermodels showing invalid arguments and theorems showing valid arguments in relevance logic."
   ]
  },
  {
   "cell_type": "code",
   "execution_count": null,
   "metadata": {},
   "source": [
    "# Add parent directory to Python path to ensure module imports work\n",
    "import sys\n",
    "import os\n",
    "\n",
    "# Add parent directories to path for proper imports\n",
    "current_dir = os.path.dirname(os.path.abspath('.'))\n",
    "parent_dir = os.path.dirname(current_dir)\n",
    "parent_parent_dir = os.path.dirname(parent_dir)\n",
    "parent_parent_parent_dir = os.path.dirname(parent_parent_dir)\n",
    "parent_parent_parent_parent_dir = os.path.dirname(parent_parent_parent_dir)\n",
    "\n",
    "# Add all possible parent paths to ensure the module is found\n",
    "for path in [current_dir, parent_dir, parent_parent_dir, parent_parent_parent_dir, parent_parent_parent_parent_dir]:\n",
    "    if path not in sys.path:\n",
    "        sys.path.insert(0, path)\n",
    "\n",
    "# Print current path to help with debugging\n",
    "print(f\"Current directory: {os.getcwd()}\")\n",
    "print(f\"Python path: {sys.path}\")"
   ]
  },
  {
   "cell_type": "code",
   "execution_count": null,
   "metadata": {},
   "source": [
    "import model_checker\n",
    "from model_checker.theory_lib import default\n",
    "from model_checker.theory_lib.default.examples import relevance"
   ]
  },
  {
   "cell_type": "markdown",
   "metadata": {},
   "source": [
    "## Setup\n",
    "\n",
    "First, let's set up the basic components we need for model checking."
   ]
  },
  {
   "cell_type": "code",
   "execution_count": null,
   "metadata": {},
   "source": [
    "# Import operators\n",
    "operators = default.default_operators\n",
    "\n",
    "# Get default settings\n",
    "default_settings = default.Semantics.DEFAULT_EXAMPLE_SETTINGS\n",
    "\n",
    "# Define general settings for display\n",
    "general_settings = {\n",
    "    \"print_constraints\": False,\n",
    "    \"print_impossible\": True,\n",
    "    \"print_z3\": False,\n",
    "    \"save_output\": False,\n",
    "    \"maximize\": False,\n",
    "}\n",
    "\n",
    "# Update default settings with general settings\n",
    "default_settings.update(general_settings)"
   ]
  },
  {
   "cell_type": "markdown",
   "metadata": {},
   "source": [
    "## Helper Function\n",
    "\n",
    "Let's create a helper function to run our examples."
   ]
  },
  {
   "cell_type": "code",
   "execution_count": null,
   "metadata": {},
   "source": [
    "def run_example(example, name):\n",
    "    \"\"\"Run a specific example and display the results.\n",
    "    \n",
    "    Args:\n",
    "        example: The example to run (list containing premises, conclusions, settings)\n",
    "        name: The name of the example\n",
    "    \"\"\"\n",
    "    premises, conclusions, settings = example\n",
    "    \n",
    "    # Create syntax object\n",
    "    syntax = model_checker.syntactic.Syntax(premises, conclusions, operators)\n",
    "    \n",
    "    # Update default settings with example-specific settings and general settings\n",
    "    example_settings = default_settings.copy()\n",
    "    example_settings.update(settings)\n",
    "    \n",
    "    # Ensure print_impossible is set\n",
    "    if 'print_impossible' not in example_settings:\n",
    "        example_settings['print_impossible'] = True\n",
    "    \n",
    "    # Create semantics\n",
    "    semantics = default.Semantics(example_settings)\n",
    "    proposition_class = default.Proposition\n",
    "    \n",
    "    # Create model constraints\n",
    "    model_constraints = model_checker.model.ModelConstraints(example_settings, syntax, semantics, proposition_class)\n",
    "    \n",
    "    # Create model structure\n",
    "    model_structure = default.ModelStructure(model_constraints, example_settings)\n",
    "    \n",
    "    # Interpret sentences before printing\n",
    "    sentences = model_structure.premises + model_structure.conclusions\n",
    "    model_structure.interpret(sentences)\n",
    "    \n",
    "    # Print results\n",
    "    model_structure.print_all(example_settings, name, \"Default Semantics\")"
   ]
  },
  {
   "cell_type": "markdown",
   "metadata": {},
   "source": [
    "## Countermodels\n",
    "\n",
    "Let's examine some key countermodels from relevance logic."
   ]
  },
  {
   "cell_type": "markdown",
   "metadata": {},
   "source": [
    "### RL_CM_1: Antecedent Strengthening"
   ]
  },
  {
   "cell_type": "code",
   "execution_count": null,
   "metadata": {},
   "source": [
    "run_example(relevance.RL_CM_1_example, \"Antecedent Strengthening\")"
   ]
  },
  {
   "cell_type": "markdown",
   "metadata": {},
   "source": [
    "### RL_CM_2: Antecedent Weakening"
   ]
  },
  {
   "cell_type": "code",
   "execution_count": null,
   "metadata": {},
   "source": [
    "run_example(relevance.RL_CM_2_example, \"Antecedent Weakening\")"
   ]
  },
  {
   "cell_type": "markdown",
   "metadata": {},
   "source": [
    "### RL_CM_3: Relevance Transitivity"
   ]
  },
  {
   "cell_type": "code",
   "execution_count": null,
   "metadata": {},
   "source": [
    "run_example(relevance.RL_CM_3_example, \"Relevance Transitivity\")"
   ]
  },
  {
   "cell_type": "markdown",
   "metadata": {},
   "source": [
    "### RL_CM_4: Relevant Implication: Ground"
   ]
  },
  {
   "cell_type": "code",
   "execution_count": null,
   "metadata": {},
   "source": [
    "run_example(relevance.RL_CM_4_example, \"Relevant Implication: Ground\")"
   ]
  },
  {
   "cell_type": "markdown",
   "metadata": {},
   "source": [
    "### RL_CM_5: Relevant Implication: Essence"
   ]
  },
  {
   "cell_type": "code",
   "execution_count": null,
   "metadata": {},
   "source": [
    "run_example(relevance.RL_CM_5_example, \"Relevant Implication: Essence\")"
   ]
  },
  {
   "cell_type": "markdown",
   "metadata": {},
   "source": [
    "### RL_CM_6: Relevant Implication: Identity"
   ]
  },
  {
   "cell_type": "code",
   "execution_count": null,
   "metadata": {},
   "source": [
    "run_example(relevance.RL_CM_6_example, \"Relevant Implication: Identity\")"
   ]
  },
  {
   "cell_type": "markdown",
   "metadata": {},
   "source": [
    "### RL_CM_7: Strict Implication"
   ]
  },
  {
   "cell_type": "code",
   "execution_count": null,
   "metadata": {},
   "source": [
    "run_example(relevance.RL_CM_7_example, \"Strict Implication\")"
   ]
  },
  {
   "cell_type": "markdown",
   "metadata": {},
   "source": [
    "### RL_CM_8: Reverse Distribution: Disjunction over Conjunction"
   ]
  },
  {
   "cell_type": "code",
   "execution_count": null,
   "metadata": {},
   "source": [
    "run_example(relevance.RL_CM_8_example, \"Reverse Distribution: Disjunction over Conjunction\")"
   ]
  },
  {
   "cell_type": "markdown",
   "metadata": {},
   "source": [
    "### RL_CM_9: Reverse Distribution: Conjunction over Disjunction"
   ]
  },
  {
   "cell_type": "code",
   "execution_count": null,
   "metadata": {},
   "source": [
    "run_example(relevance.RL_CM_9_example, \"Reverse Distribution: Conjunction over Disjunction\")"
   ]
  },
  {
   "cell_type": "markdown",
   "metadata": {},
   "source": [
    "### RL_CM_10: Conjunction Introduction"
   ]
  },
  {
   "cell_type": "code",
   "execution_count": null,
   "metadata": {},
   "source": [
    "run_example(relevance.RL_CM_10_example, \"Conjunction Introduction\")"
   ]
  },
  {
   "cell_type": "markdown",
   "metadata": {},
   "source": [
    "### RL_CM_11: Disjunction Introduction"
   ]
  },
  {
   "cell_type": "code",
   "execution_count": null,
   "metadata": {},
   "source": [
    "run_example(relevance.RL_CM_11_example, \"Disjunction Introduction\")"
   ]
  },
  {
   "cell_type": "markdown",
   "metadata": {},
   "source": [
    "## Theorems\n",
    "\n",
    "Now let's examine some key theorems from relevance logic."
   ]
  },
  {
   "cell_type": "markdown",
   "metadata": {},
   "source": [
    "### RL_TH_1: Relevance to Conjunction"
   ]
  },
  {
   "cell_type": "code",
   "execution_count": null,
   "metadata": {},
   "source": [
    "run_example(relevance.RL_TH_1_example, \"Relevance to Conjunction\")"
   ]
  },
  {
   "cell_type": "markdown",
   "metadata": {},
   "source": [
    "### RL_TH_2: Relevance to Disjunction"
   ]
  },
  {
   "cell_type": "code",
   "execution_count": null,
   "metadata": {},
   "source": [
    "run_example(relevance.RL_TH_2_example, \"Relevance to Disjunction\")"
   ]
  },
  {
   "cell_type": "markdown",
   "metadata": {},
   "source": [
    "### RL_TH_3: Conjunction to Relevance"
   ]
  },
  {
   "cell_type": "code",
   "execution_count": null,
   "metadata": {},
   "source": [
    "run_example(relevance.RL_TH_3_example, \"Conjunction to Relevance\")"
   ]
  },
  {
   "cell_type": "markdown",
   "metadata": {},
   "source": [
    "### RL_TH_4: Disjunction to Relevance"
   ]
  },
  {
   "cell_type": "code",
   "execution_count": null,
   "metadata": {},
   "source": [
    "run_example(relevance.RL_TH_4_example, \"Disjunction to Relevance\")"
   ]
  },
  {
   "cell_type": "markdown",
   "metadata": {},
   "source": [
    "### RL_TH_5: Conjunction Introduction"
   ]
  },
  {
   "cell_type": "code",
   "execution_count": null,
   "metadata": {},
   "source": [
    "run_example(relevance.RL_TH_5_example, \"Conjunction Introduction\")"
   ]
  },
  {
   "cell_type": "markdown",
   "metadata": {},
   "source": [
    "### RL_TH_6: Disjunction Introduction"
   ]
  },
  {
   "cell_type": "code",
   "execution_count": null,
   "metadata": {},
   "source": [
    "run_example(relevance.RL_TH_6_example, \"Disjunction Introduction\")"
   ]
  },
  {
   "cell_type": "markdown",
   "metadata": {},
   "source": [
    "### RL_TH_7: Grounding Relevance"
   ]
  },
  {
   "cell_type": "code",
   "execution_count": null,
   "metadata": {},
   "source": [
    "run_example(relevance.RL_TH_7_example, \"Grounding Relevance\")"
   ]
  },
  {
   "cell_type": "markdown",
   "metadata": {},
   "source": [
    "### RL_TH_8: Essence Relevance"
   ]
  },
  {
   "cell_type": "code",
   "execution_count": null,
   "metadata": {},
   "source": [
    "run_example(relevance.RL_TH_8_example, \"Essence Relevance\")"
   ]
  },
  {
   "cell_type": "markdown",
   "metadata": {},
   "source": [
    "### RL_TH_9: Identity Relevance"
   ]
  },
  {
   "cell_type": "code",
   "execution_count": null,
   "metadata": {},
   "source": [
    "run_example(relevance.RL_TH_9_example, \"Identity Relevance\")"
   ]
  },
  {
   "cell_type": "markdown",
   "metadata": {},
   "source": [
    "## Summary\n",
    "\n",
    "This notebook demonstrates the key countermodels and theorems in relevance logic using the default theory of the ModelChecker framework. The examples showcase various properties of the relevance operator (\\preceq) and its relationship with other operators like conjunction, disjunction, ground, essence, and identity operators."
   ]
  }
 ],
 "metadata": {
  "kernelspec": {
   "display_name": "Python 3",
   "language": "python",
   "name": "python3"
  },
  "language_info": {
   "codemirror_mode": {
    "name": "ipython",
    "version": 3
   },
   "file_extension": ".py",
   "mimetype": "text/x-python",
   "name": "python",
   "nbconvert_exporter": "python",
   "pygments_lexer": "ipython3",
   "version": "3.12.5"
  }
 },
 "nbformat": 4,
 "nbformat_minor": 4
}