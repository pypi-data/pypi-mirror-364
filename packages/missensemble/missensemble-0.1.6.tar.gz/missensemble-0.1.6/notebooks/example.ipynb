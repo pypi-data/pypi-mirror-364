{
 "cells": [
  {
   "cell_type": "code",
   "execution_count": null,
   "id": "72f5ff19-a3f7-45b4-9325-6569133e4316",
   "metadata": {
    "execution": {
     "iopub.execute_input": "2024-07-18T07:26:01.743095Z",
     "iopub.status.busy": "2024-07-18T07:26:01.743095Z",
     "iopub.status.idle": "2024-07-18T07:26:02.766080Z",
     "shell.execute_reply": "2024-07-18T07:26:02.766080Z",
     "shell.execute_reply.started": "2024-07-18T07:26:01.743095Z"
    }
   },
   "outputs": [],
   "source": [
    "import time\n",
    "import numpy as np\n",
    "import pandas as pd\n",
    "import matplotlib.pyplot as plt\n",
    "import seaborn as sns\n"
   ]
  },
  {
   "cell_type": "code",
   "execution_count": null,
   "id": "0467d4db-21fe-47bb-8234-0d32291e7740",
   "metadata": {
    "execution": {
     "iopub.execute_input": "2024-07-18T07:26:02.767062Z",
     "iopub.status.busy": "2024-07-18T07:26:02.767062Z",
     "iopub.status.idle": "2024-07-18T07:26:03.421345Z",
     "shell.execute_reply": "2024-07-18T07:26:03.419382Z",
     "shell.execute_reply.started": "2024-07-18T07:26:02.767062Z"
    }
   },
   "outputs": [],
   "source": [
    "from sklearn.datasets import load_breast_cancer"
   ]
  },
  {
   "cell_type": "code",
   "execution_count": null,
   "id": "833550de-872a-49d5-b64d-e951de3929a6",
   "metadata": {
    "execution": {
     "iopub.execute_input": "2024-07-18T07:26:03.423389Z",
     "iopub.status.busy": "2024-07-18T07:26:03.422296Z",
     "iopub.status.idle": "2024-07-18T07:26:03.450854Z",
     "shell.execute_reply": "2024-07-18T07:26:03.449972Z",
     "shell.execute_reply.started": "2024-07-18T07:26:03.423296Z"
    }
   },
   "outputs": [],
   "source": [
    "data = load_breast_cancer()"
   ]
  },
  {
   "cell_type": "code",
   "execution_count": null,
   "id": "cd6ed173-20af-426b-a596-ca69ad61cde5",
   "metadata": {
    "execution": {
     "iopub.execute_input": "2024-07-18T07:26:03.452642Z",
     "iopub.status.busy": "2024-07-18T07:26:03.452642Z",
     "iopub.status.idle": "2024-07-18T07:26:03.466657Z",
     "shell.execute_reply": "2024-07-18T07:26:03.465670Z",
     "shell.execute_reply.started": "2024-07-18T07:26:03.452642Z"
    }
   },
   "outputs": [],
   "source": [
    "data = pd.DataFrame(data['data'], columns = data['feature_names'])"
   ]
  },
  {
   "cell_type": "code",
   "execution_count": null,
   "id": "bd3c3d16-62d5-4926-8941-ac4c4faf54ee",
   "metadata": {
    "execution": {
     "iopub.execute_input": "2024-07-18T07:26:03.467657Z",
     "iopub.status.busy": "2024-07-18T07:26:03.467657Z",
     "iopub.status.idle": "2024-07-18T07:26:03.482122Z",
     "shell.execute_reply": "2024-07-18T07:26:03.481011Z",
     "shell.execute_reply.started": "2024-07-18T07:26:03.467657Z"
    }
   },
   "outputs": [],
   "source": [
    "data.columns"
   ]
  },
  {
   "cell_type": "code",
   "execution_count": null,
   "id": "e36e743d",
   "metadata": {},
   "outputs": [],
   "source": [
    "# create new categorical column\n",
    "data['category'] = np.where(data['mean radius'] > 15, 'large', 'small')"
   ]
  },
  {
   "cell_type": "code",
   "execution_count": null,
   "id": "7fe9a655-7171-4e07-bbef-128b289600e8",
   "metadata": {
    "execution": {
     "iopub.execute_input": "2024-07-18T07:26:03.483126Z",
     "iopub.status.busy": "2024-07-18T07:26:03.483126Z",
     "iopub.status.idle": "2024-07-18T07:26:03.497125Z",
     "shell.execute_reply": "2024-07-18T07:26:03.496139Z",
     "shell.execute_reply.started": "2024-07-18T07:26:03.483126Z"
    }
   },
   "outputs": [],
   "source": [
    "data_na = data.copy()"
   ]
  },
  {
   "cell_type": "code",
   "execution_count": null,
   "id": "7a4e7499-61e7-41c0-8249-eab2518f5a20",
   "metadata": {
    "execution": {
     "iopub.execute_input": "2024-07-18T07:26:03.498126Z",
     "iopub.status.busy": "2024-07-18T07:26:03.498126Z",
     "iopub.status.idle": "2024-07-18T07:26:03.526621Z",
     "shell.execute_reply": "2024-07-18T07:26:03.526621Z",
     "shell.execute_reply.started": "2024-07-18T07:26:03.498126Z"
    }
   },
   "outputs": [],
   "source": [
    "for col in [ 'mean texture', 'worst texture', 'category']:\n",
    "    to_be_nas = data.sample(int(.3*data.shape[0]))\n",
    "    to_be_nas[col] = np.nan\n",
    "    data_na.loc[to_be_nas.index] = to_be_nas"
   ]
  },
  {
   "cell_type": "code",
   "execution_count": null,
   "id": "eda868e9-dcc4-4264-b843-d54df60a852e",
   "metadata": {
    "execution": {
     "iopub.execute_input": "2024-07-18T07:26:03.528605Z",
     "iopub.status.busy": "2024-07-18T07:26:03.527633Z",
     "iopub.status.idle": "2024-07-18T07:26:03.559904Z",
     "shell.execute_reply": "2024-07-18T07:26:03.557911Z",
     "shell.execute_reply.started": "2024-07-18T07:26:03.528605Z"
    }
   },

   "outputs": [],
   "source": [
    "data_na"
   ]
  },
  {
   "cell_type": "code",
   "execution_count": null,
   "id": "6b3c3372-4d80-4c48-8e52-30418ea81596",
   "metadata": {
    "execution": {
     "iopub.execute_input": "2024-07-18T07:26:03.560906Z",
     "iopub.status.busy": "2024-07-18T07:26:03.559904Z",
     "iopub.status.idle": "2024-07-18T07:26:03.574217Z",
     "shell.execute_reply": "2024-07-18T07:26:03.573241Z",
     "shell.execute_reply.started": "2024-07-18T07:26:03.560906Z"
    }
   },
   "outputs": [],
   "source": [
    "data_na"
   ]
  },
  {
   "cell_type": "code",
   "execution_count": null,
   "id": "487361c3-4531-49b1-a0b8-d79bdfa5f656",
   "metadata": {
    "execution": {
     "iopub.execute_input": "2024-07-18T07:26:03.576219Z",
     "iopub.status.busy": "2024-07-18T07:26:03.576219Z",
     "iopub.status.idle": "2024-07-18T07:26:03.714564Z",
     "shell.execute_reply": "2024-07-18T07:26:03.713581Z",
     "shell.execute_reply.started": "2024-07-18T07:26:03.576219Z"
    }
   },
   "outputs": [],
   "source": [
    "from missensemble import MissEnsemble"
   ]
  },
  {
   "cell_type": "code",
   "execution_count": null,
   "id": "9f26a739-ee39-403e-8d11-d817610fc1c4",
   "metadata": {
    "execution": {
     "iopub.execute_input": "2024-07-18T07:26:03.715563Z",
     "iopub.status.busy": "2024-07-18T07:26:03.715563Z",
     "iopub.status.idle": "2024-07-18T07:26:03.730562Z",
     "shell.execute_reply": "2024-07-18T07:26:03.729563Z",
     "shell.execute_reply.started": "2024-07-18T07:26:03.715563Z"
    }
   },
   "outputs": [],
   "source": [
    "estimator = MissEnsemble(n_iter=100,\n",
    "                       categorical_vars=['category'],\n",
    "                       #ordinal_vars=ord_cols,\n",
    "                       numerical_vars=[ 'mean texture', 'worst texture'],\n",
    "                       n_estimators=1000, ens_method = 'forest',\n",
    "                       print_criteria = True,\n",
    "                       random_state = 3)"
   ]
  },
  {
   "cell_type": "code",
   "execution_count": null,
   "id": "09664fe5-6ba5-4d30-b05f-58c6f66923f6",
   "metadata": {
    "execution": {
     "iopub.execute_input": "2024-07-18T07:27:50.577222Z",
     "iopub.status.busy": "2024-07-18T07:27:50.576222Z",
     "iopub.status.idle": "2024-07-18T07:27:50.584255Z",
     "shell.execute_reply": "2024-07-18T07:27:50.584255Z",
     "shell.execute_reply.started": "2024-07-18T07:27:50.577222Z"
    }
   },
   "outputs": [],
   "source": [
    "data_na.dtypes.value_counts()"
   ]
  },
  {
   "cell_type": "code",
   "execution_count": null,
   "id": "ea0ca990-bf96-4742-b5f5-a625c9c50fd9",
   "metadata": {
    "execution": {
     "iopub.execute_input": "2024-07-18T07:26:03.732725Z",
     "iopub.status.busy": "2024-07-18T07:26:03.731560Z",
     "iopub.status.idle": "2024-07-18T07:26:15.383115Z",
     "shell.execute_reply": "2024-07-18T07:26:15.381157Z",
     "shell.execute_reply.started": "2024-07-18T07:26:03.732725Z"
    }
   },
   "outputs": [],
   "source": [
    "out = estimator.fit_transform(data_na)"
   ]
  },
  {
   "cell_type": "code",
   "execution_count": null,
   "id": "dc36bc3f-60ea-4ba0-8bdd-4e8664600e90",
   "metadata": {
    "execution": {
     "iopub.execute_input": "2024-07-18T07:26:15.385642Z",
     "iopub.status.busy": "2024-07-18T07:26:15.384591Z",
     "iopub.status.idle": "2024-07-18T07:26:15.398631Z",
     "shell.execute_reply": "2024-07-18T07:26:15.396635Z",
     "shell.execute_reply.started": "2024-07-18T07:26:15.384591Z"
    }
   },
   "outputs": [],
   "source": [
    "estimator.criteria_\n"
   ]
  },
  {
   "cell_type": "code",
   "execution_count": null,
   "id": "d5118689-8e14-4261-b162-150c596f7d5b",
   "metadata": {
    "execution": {
     "iopub.execute_input": "2024-07-18T07:26:15.400634Z",
     "iopub.status.busy": "2024-07-18T07:26:15.400634Z",
     "iopub.status.idle": "2024-07-18T07:26:15.553110Z",
     "shell.execute_reply": "2024-07-18T07:26:15.552828Z",
     "shell.execute_reply.started": "2024-07-18T07:26:15.400634Z"
    }
   },
   "outputs": [],
   "source": [
    "sns.scatterplot(estimator.criteria_)"
   ]
  },
  {
   "cell_type": "code",
   "execution_count": null,
   "id": "f3ba94d5-9a3a-4817-afe4-f2edd473be0b",
   "metadata": {
    "execution": {
     "iopub.execute_input": "2024-07-18T07:26:15.554126Z",
     "iopub.status.busy": "2024-07-18T07:26:15.554126Z",
     "iopub.status.idle": "2024-07-18T07:26:15.697463Z",
     "shell.execute_reply": "2024-07-18T07:26:15.696463Z",
     "shell.execute_reply.started": "2024-07-18T07:26:15.554126Z"
    }
   },
   "outputs": [],
   "source": [
    "estimator.plot_criteria(plot_final=False)"
   ]
  },
  {
   "cell_type": "code",
   "execution_count": null,
   "id": "0bd0e6e4-d620-4bf2-b428-53f8428999ee",
   "metadata": {
    "execution": {
     "iopub.execute_input": "2024-07-18T07:26:15.698464Z",
     "iopub.status.busy": "2024-07-18T07:26:15.698464Z",
     "iopub.status.idle": "2024-07-18T07:26:15.868103Z",
     "shell.execute_reply": "2024-07-18T07:26:15.868103Z",
     "shell.execute_reply.started": "2024-07-18T07:26:15.698464Z"
    }
   },
   "outputs": [],
   "source": [
    "estimator.check_imputation_fit(var_name='mean texture',\n",
    "                              true_values = data.loc[:, 'mean texture'], \n",
    "                               error_type = 'std_diff', \n",
    "                               plot_type = 'hist')"
   ]
  },
  {
   "cell_type": "code",
   "execution_count": null,
   "id": "78915e93-f042-44c8-85fa-ea5d12f1914c",
   "metadata": {
    "execution": {
     "iopub.execute_input": "2024-07-18T07:26:15.869104Z",
     "iopub.status.busy": "2024-07-18T07:26:15.869104Z",
     "iopub.status.idle": "2024-07-18T07:26:16.101467Z",
     "shell.execute_reply": "2024-07-18T07:26:16.100487Z",
     "shell.execute_reply.started": "2024-07-18T07:26:15.869104Z"
    }
   },
   "outputs": [],
   "source": [
    "estimator.check_imputation_fit(var_name='worst texture',\n",
    "                              true_values = data.loc[:, 'worst texture'], \n",
    "                               error_type = 'std_diff', \n",
    "                               plot_type = 'hist')"
   ]
  },
  {
   "cell_type": "code",
   "execution_count": null,
   "id": "88fb3cde",
   "metadata": {},
   "outputs": [],
   "source": [
    "(out.loc[data_na[data_na['category'].isna()].index\n",
    ", :][\"category\"] == data.loc[data_na[data_na['category'].isna()].index\n",
    ", :][\"category\"] ).value_counts(dropna=False, normalize=True)\n"
   ]
  },
  {
   "cell_type": "markdown",
   "id": "2f187b75-04fb-47df-b92d-ab21c7d641f5",
   "metadata": {},
   "source": [
    "# Speed Checks"
   ]
  },
  {
   "cell_type": "code",
   "execution_count": null,
   "id": "82583fe7-3895-4861-b266-cbb4021f82d0",
   "metadata": {
    "execution": {
     "iopub.execute_input": "2024-07-18T07:26:16.101467Z",
     "iopub.status.busy": "2024-07-18T07:26:16.101467Z",
     "iopub.status.idle": "2024-07-18T07:26:16.117100Z",
     "shell.execute_reply": "2024-07-18T07:26:16.116124Z",
     "shell.execute_reply.started": "2024-07-18T07:26:16.101467Z"
    }
   },
   "outputs": [],
   "source": [
    "#n_sim = 1000\n",
    "#times = np.zeros(n_sim)\n",
    "\n",
    "\n",
    "#for i in np.arange(1, n_sim):\n",
    "#    print(i)\n",
    "#    estimator = MissEnsemble(n_iter=100,\n",
    "#                           #categorical_vars=cat_cols,\n",
    "#                           #ordinal_vars=ord_cols,\n",
    "#                           numerical_vars=[ 'mean texture', 'worst texture'],\n",
    "#                           n_estimators = 50, ens_method = 'forest',\n",
    "#                           print_criteria = False,\n",
    "#                           random_state = 3)\n",
    "#    t0 = time.time()\n",
    "#    out = estimator.fit_transform(data_na.loc[:4+i, ])\n",
    "#    t1 = time.time()\n",
    "#    times[i] = t1 - t0\n",
    "    "
   ]
  },
  {
   "cell_type": "code",
   "execution_count": null,
   "id": "780fbc21",
   "metadata": {},
   "outputs": [],
   "source": [
    "times"
   ]
  },
  {
   "cell_type": "code",
   "execution_count": null,
   "id": "cd731677-29de-418b-ac52-c6d05a834a7d",
   "metadata": {},
   "outputs": [],
   "source": []
  },
  {
   "cell_type": "markdown",
   "id": "3dc83c3e",
   "metadata": {},
   "source": []
  },
  {
   "cell_type": "code",
   "execution_count": null,
   "id": "499f9f15-d79c-4e92-a837-b475c0295dbe",
   "metadata": {},
   "outputs": [],
   "source": [
    "sns.scatterplot(times[1:i])"
   ]
  },
  {
   "cell_type": "code",
   "execution_count": null,
   "id": "c5b7dfb9-c0de-4ee2-bbbe-8e662918506c",
   "metadata": {},
   "outputs": [],
   "source": [
    "times[1:i]"
   ]
  },
  {
   "cell_type": "code",
   "execution_count": null,
   "id": "1dac2c95-d6db-4120-bdba-3ed56939c2b4",
   "metadata": {},
   "outputs": [],
   "source": [
    "i"
   ]
  },
  {
   "cell_type": "code",
   "execution_count": null,
   "id": "fea37476",
   "metadata": {},
   "outputs": [],
   "source": []
  }
 ],
 "metadata": {
  "kernelspec": {
   "display_name": "missensemble",
   "language": "python",
   "name": "python3"
  },
  "language_info": {
   "codemirror_mode": {
    "name": "ipython",
    "version": 3
   },
   "file_extension": ".py",
   "mimetype": "text/x-python",
   "name": "python",
   "nbconvert_exporter": "python",
   "pygments_lexer": "ipython3",
   "version": "3.13.5"
  }
 },
 "nbformat": 4,
 "nbformat_minor": 5
}
