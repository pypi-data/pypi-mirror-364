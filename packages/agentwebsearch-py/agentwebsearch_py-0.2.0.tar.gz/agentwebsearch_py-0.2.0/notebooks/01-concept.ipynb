{
 "cells": [
  {
   "cell_type": "markdown",
   "id": "d581835e",
   "metadata": {},
   "source": [
    "# AgentWebSearch Concept"
   ]
  },
  {
   "cell_type": "code",
   "execution_count": 1,
   "id": "25a8defd",
   "metadata": {},
   "outputs": [],
   "source": [
    "import sys\n",
    "from dotenv import load_dotenv\n",
    "\n",
    "sys.path.append(\"../src\")\n",
    "load_dotenv(\"../.env\")\n",
    "\n",
    "import os\n",
    "from agentwebsearch import AgentWebSearch\n",
    "from agentwebsearch.websearch.request import WebSearchRequest, RequestQuery, RequestQueryMessage\n",
    "from agentwebsearch.search.client import (\n",
    "    DefaultSearchClient, SearchApiClient, SerpApiClient\n",
    ")\n",
    "from agentwebsearch.webscraper import DefaultWebScraper\n",
    "from agentwebsearch.indexsearch import HNSWInMemoryIndexDB\n",
    "from agentwebsearch.llm import OpenAIChatModel\n",
    "from agentwebsearch.embedding import OpenAIEmbeddingModel\n",
    "\n",
    "# Load environment variables\n",
    "OPEN_AI_API_KEY = os.getenv(\"OPENAI_API_KEY\")\n",
    "AI_CHAT_MODEL_NAME = os.getenv(\"AI_CHAT_MODEL_NAME\", \"gpt-4o\")\n",
    "AI_EMBEDDING_MODEL_NAME = os.getenv(\"AI_EMBEDDING_MODEL_NAME\", \"text-embedding-3-large\")\n",
    "CHUNK_TOKEN_SIZE=int(os.getenv(\"AI_TEXT_CHUNK_TOKEN_SIZE\", 800)),\n",
    "CHUNK_OVERLAP_SIZE=int(os.getenv(\"AI_TEXT_CHUNK_OVERLAP_TOKEN_SIZE\", 100))\n",
    "\n",
    "SEARCHAPI_API_KEY = os.getenv(\"SEARCHAPI_API_KEY\")\n",
    "SERPAPI_API_KEY = os.getenv(\"SERPAPI_API_KEY\")\n",
    "\n",
    "# Initialize the LLM and embedding model\n",
    "embedding_model = OpenAIEmbeddingModel(\n",
    "    model=\"text-embedding-3-large\",\n",
    "    api_key=OPEN_AI_API_KEY\n",
    ")\n",
    "\n",
    "llm = OpenAIChatModel(\n",
    "    model=\"gpt-4o-mini\",\n",
    "    api_key=OPEN_AI_API_KEY,\n",
    "    temperature=0.7\n",
    ")\n",
    "\n",
    "index_db = HNSWInMemoryIndexDB(embedding_model=embedding_model)\n",
    "search_client = DefaultSearchClient()\n",
    "# search_client = SearchApiClient(api_key=SEARCHAPI_API_KEY)\n",
    "# search_client = SerpApiClient(api_key=SERPAPI_API_KEY)\n",
    "scraper = DefaultWebScraper()\n",
    "\n",
    "websearch = AgentWebSearch(\n",
    "    search_client=search_client,\n",
    "    index_db=index_db,\n",
    "    scraper=scraper,\n",
    "    llm=llm,\n",
    "    embedding_model=embedding_model\n",
    ")"
   ]
  },
  {
   "cell_type": "code",
   "execution_count": 3,
   "id": "4b220d26",
   "metadata": {},
   "outputs": [
    {
     "name": "stdout",
     "output_type": "stream",
     "text": [
      "<agentwebsearch.indexsearch.hnsw.HNSWInMemoryIndexDB object at 0x120695dd0>\n"
     ]
    },
    {
     "name": "stderr",
     "output_type": "stream",
     "text": [
      "[21.07.2025 20:04:44,f] [INFO] _client.py HTTP Request: POST https://api.openai.com/v1/chat/completions \"HTTP/1.1 200 OK\"\n",
      "[21.07.2025 20:04:45,f] [INFO] _client.py HTTP Request: POST https://api.openai.com/v1/embeddings \"HTTP/1.1 200 OK\"\n",
      "[21.07.2025 20:04:45,f] [INFO] _client.py HTTP Request: POST https://api.openai.com/v1/embeddings \"HTTP/1.1 200 OK\"\n",
      "[21.07.2025 20:04:46,f] [INFO] _client.py HTTP Request: POST https://api.openai.com/v1/embeddings \"HTTP/1.1 200 OK\"\n",
      "[21.07.2025 20:04:46,f] [INFO] _client.py HTTP Request: POST https://api.openai.com/v1/embeddings \"HTTP/1.1 200 OK\"\n",
      "[21.07.2025 20:04:47,f] [INFO] _client.py HTTP Request: POST https://api.openai.com/v1/embeddings \"HTTP/1.1 200 OK\"\n"
     ]
    },
    {
     "data": {
      "text/plain": [
       "[[{'reference': 'https://www.bundestag.de/parlament/bundestagswahl/inhalt-1021204',\n",
       "   'text': '2023\\n \\n\\n\\nBundespräsident Steinmeier verkündet Auflösung des Bundestags und Neuwahlen\\n \\n\\n\\nBundestagspräsidentin Bas fordert alle politischen Kräfte zum fairen Wahlkampf auf\\n \\n\\n\\n394 Abgeordnete sprechen Bundeskanzler Scholz nicht das Vertrauen aus\\n \\n\\n\\nAnordnung über die Bundestagswahl 2025\\n\\n \\n\\n\\nInternetangebot der Bundeswahlleiterin\\n\\n \\n\\nInformationen zur Bundestagswahl 2025 \\n\\n\\nInformationsmaterial\\n\\nPlakat: Wie wird der Bundestag gewählt?\\nFaltblatt: Das Wahlrecht zur Bundestagswahl\\nStichwort: Wahlen. Grundpfeiler der Demokratie\\n\\n \\n\\n\\nInstagram\\n\\n\\nInstagram-Kanäle\\n\\nBundestag\\nBundestagspräsidentin\\n\\n\\nLinkedIn\\n\\n\\nMastodon\\n\\n\\nMastodon-Kanäle\\n\\nBundestag\\nhib-Nachrichten\\n\\n\\nWhatsApp\\n\\n\\nYouTube\\n\\n \\n \\nHilfeKontaktInhaltsübersicht \\n\\n\\nInstagram\\n\\n\\nInstagram-Kanäle\\n\\nBundestag\\nBundestagspräsidentin\\n\\n\\nLinkedIn\\n\\n\\nMastodon\\n\\n\\nMastodon-Kanäle\\n\\nBundestag\\nhib-Nachrichten\\n\\n\\nWhatsApp\\n\\n\\nYouTube\\n\\n \\n \\n\\n\\nBarrierefreiheitDatenschutzImpressum \\n\\n\\n© Deutscher Bundestag \\n\\n\\n{Ausdruck aus dem Internet-Angebot des Deutschen Bundestages\\nhttps://www.bundestag.de/parlament/bundestagswahl/inhalt-1021204\\nStand: 21.07.2025',\n",
       "   'query': 'Wahltermin Bundeskanzler 2025',\n",
       "   'distance': 0.25681209564208984},\n",
       "  {'reference': 'https://www.bundeswahlleiterin.de/bundestagswahlen/2025.html',\n",
       "   'text': 'Bundestagswahl 2025 - Die Bundeswahlleiterin\\n\\n\\nZum Inhalt springen\\n\\nStartseite\\n\\n\\nMenÃ¼\\nMenÃ¼ schlieÃ\\x9fen\\n\\n\\n                Bundestagswahl 2025\\n            \\n\\n\\nWahl zum 21. Deutschen Bundestag am 23.\\xa0Februar\\xa02025\\nDer Deutsche Bundestag ist die Volksvertretung der Bundesrepublik Deutschland und als maÃ\\x9fgebliches Gesetzgebungsgremium ihr wichtigstes Organ. Er besteht aus Abgeordneten des deutschen Volkes, die in allgemeiner, unmittelbarer, freier, gleicher und geheimer Wahl auf vier Jahre gewÃ¤hlt werden.\\nDer Wahltermin\\nDas Grundgesetz gibt den Zeitrahmen vor, in dem eine Bundestagswahl stattfinden muss (Artikel\\xa039 Absatz\\xa01 Grundgesetz).\\nDanach findet eine Neuwahl\\xa0frÃ¼hestens 46 und spÃ¤testens 48 Monate nach dem Beginn der laufenden Wahlperiode statt. Kommt es zu einer vorzeitigen Beendigung der Wahlperiode des Bundestages, mÃ¼ssen vorgezogene Neuwahlen innerhalb von 60 Tagen nach der AuflÃ¶sungsentscheidung stattfinden.\\nDie Wahlperiode des 20. Deutschen Bundestages hat mit ihrer konstituierenden Sitzung am 26. Oktober 2021 begonnen. Somit muss der Wahltermin innerhalb der Zeitspanne von Mittwoch, dem 27. August 2025 und Sonntag, dem 26. Oktober 2025 liegen.\\nDer Wahltag muss ein Sonntag oder gesetzlicher Feiertag sein (Â§\\xa016 Bundeswahlgesetz). Dabei wird berÃ¼cksichtigt, dass die Termine fÃ¼r Bundestagswahlen mÃ¶glichst nicht mit Hauptferienzeiten kollidieren.\\nDer BundesprÃ¤sident hat in Abstimmung mit der Bundesregierung den Wahltag zunÃ¤chst\\xa0auf\\xa0Sonntag, den 28. September 2025, festgelegt (siehe hierzu die Anordnung des BundesprÃ¤sidenten Ã¼ber die Bundestagswahl 2025 vom 23. August 2024 (BGBl. 2024 I Nr. 271)).\\nAm 27. Dezember 2024 hat der BundesprÃ¤sident auf Ersuchen des Bundeskanzlers den 20. Deutschen Bundestag aufgelÃ¶st (BGBl.\\xa02024\\xa0I Nr.\\xa0434) und den Wahltag auf Sonntag, den 23. Februar 2025, bestimmt (BGBl.\\xa02024\\xa0I Nr.\\xa0435).\\nUnabhÃ¤ngig vom Wahltermin dÃ¼rfen die Wahlen fÃ¼r die Vertreterversammlungen frÃ¼hestens 29 Monate nach dem Beginn der Wahlperiode des Bundestages stattfinden, fÃ¼r diese Bundestagswahl grundsÃ¤tzlich seit dem 27. MÃ¤rz 2024. Die Wahlen fÃ¼r die Bewerberinnen und Bewerber selbst dÃ¼rfen frÃ¼hestens 32 Monate nach Beginn der Wahlperiode durchgefÃ¼hrt werden, somit seit\\xa0dem 27. Juni 2024 (Â§\\xa021 Absatz\\xa03 Satz\\xa04 Bundeswahlgesetz).\\n\\n\\nMeta-Navigation\\n\\n\\nSeite drucken\\n\\n\\nSeite teilen\\n\\n\\n\\r\\n                        Abbrechen\\r\\n                    \\n\\n\\nE-Mail\\n\\n\\nX\\n\\n\\nFacebook\\n\\n\\nWhatsApp\\n\\n\\nNach oben\\n\\n\\nKontakt | Barriere melden\\n\\n\\nKontaktformular\\n\\n\\nPostanschrift\\n\\n\\r\\n                        Die BundeswahlleiterinStatistisches Bundesamt65180 Wiesbaden\\r\\n                \\n\\n\\nDatenschutz\\nImpressum\\n\\n\\nÂ©\\xa02025 Die Bundeswahlleiterin',\n",
       "   'query': 'Wahltermin Bundeskanzler 2025',\n",
       "   'distance': 0.28722578287124634},\n",
       "  {'reference': 'https://de.wikipedia.org/wiki/Bundestagswahl_2025',\n",
       "   'text': 'Bundestagswahl 2025 – Wikipedia\\n\\n\\nZum Inhalt springen\\n\\n\\nSuche\\n\\n\\nSuchen\\n\\n\\nBundestagswahl 2025\\n\\n\\n45 Sprachen\\n\\n\\nAfrikaansAlemannischالعربيةAzərbaycancaБеларуская (тарашкевіца)CatalàکوردیČeštinaDanskΕλληνικάEnglishEsperantoEspañolEestiEuskaraفارسیSuomiFrançaisNordfriiskGaeilgeעבריתHrvatskiMagyarՀայերենBahasa IndonesiaItaliano日本語Қазақша한국어LietuviųNederlandsNorsk bokmålPolskiپنجابیPortuguêsRomânăРусскийSimple EnglishSlovenčinaShqipСрпски / srpskiSvenskaTürkçeУкраїнська中文\\n\\nLinks bearbeiten\\n\\n\\naus Wikipedia, der freien Enzyklopädie\\n\\n\\n← 2021Wahl zum 21. Bundestag 2025nächste →(Zweitstimmen)[1]\\xa0%3020100\\n28,520,816,411,68,84,984,31,53,0\\nUnionAfDSPDGrüneLinkeBSWFDPFWSonst.iGewinne und Verlusteim Vergleich zu 2021\\xa0%p\\xa012\\xa010\\xa0\\xa0\\xa08\\xa0\\xa0\\xa06\\xa0\\xa0\\xa04\\xa0\\xa0\\xa02\\xa0\\xa0\\xa00\\xa0\\xa0−2\\xa0\\xa0−4\\xa0\\xa0−6\\xa0\\xa0−8−10+4,4+10,4−9,3−3,1+3,9+4,98−7,1−0,9−3,3UnionAfDSPDGrüneLinkeBSWFDPFWSonst.Vorlage:Wahldiagramm/Wartung/AnmerkungenAnmerkungen:i darunter SSW 0,2\\xa0%, der von der Fünf-Prozent-Hürde befreit ist\\nSitzverteilung im 21. Bundestag\\n64\\n\\n120\\n\\n85\\n\\n1\\n\\n208\\n\\n152\\n64\\xa0120\\xa085\\xa01\\xa0208\\xa0152\\xa0\\nInsgesamt 630 Sitze \\n\\ufeffLinke: 64 \\n\\ufeffSPD: 120 \\n\\ufeffGrüne: 85 \\n\\ufeffSSW: 1 \\n\\ufeffUnion: 208 \\n\\ufeffAfD: 152 \\n\\n\\nVerhältnis Regierung-Opposition im21. Deutschen Bundestag\\n328\\n\\n302\\n328\\xa0302\\xa0\\nInsgesamt 630 Sitze \\n\\ufeffRegierung: 328 \\n\\ufeffOpposition: 302 \\n\\n\\nReichstagsgebäude (2024), Sitz des Deutschen Bundestages\\nBundestagswahlergebnisse und Koalitionen in Bundesregierungen seit 1949\\nMit der Wahl zum 21. Deutschen Bundestag wurde die Volksvertretung der Bundesrepublik Deutschland neu gewählt. Sie fand als vorgezogene Neuwahl am 23.\\xa0Februar 2025 statt. Voraussetzung für diesen Termin war die gescheiterte Vertrauensfrage von Bundeskanzler Olaf Scholz (SPD) vom 16. Dezember 2024, der vorgezogene Neuwahlen nach dem Bruch der Ampelkoalition am 6.\\xa0November 2024 angekündigt hatte. Am 27.\\xa0Dezember 2024 ordnete Bundespräsident Frank-Walter Steinmeier die Auflösung des Deutschen Bundestages und den Termin für die Neuwahl an. Als Termin für eine turnusmäßige Wahl war ursprünglich der 28.\\xa0September 2025 festgelegt.\\nDie Unionsparteien CDU und CSU mit Kanzlerkandidat Friedrich Merz erhielten bei der Wahl mit zusammen 28,5\\xa0% die meisten Zweitstimmen und konnten das Ergebnis im Vergleich zum historisch schlechtesten Ergebnis in der vorherigen Wahl um gut 4 Prozentpunkte steigern. An zweiter Stelle folgte die AfD, die ihren Stimmenanteil gegenüber der Vorwahl auf 20,8\\xa0% verdoppeln konnte. Die SPD um den erneuten Kanzlerkandidaten Scholz erlitt starke Verlust',\n",
       "   'query': 'Wahltermin Bundeskanzler 2025',\n",
       "   'distance': 0.3038065433502197}]]"
      ]
     },
     "execution_count": 3,
     "metadata": {},
     "output_type": "execute_result"
    }
   ],
   "source": [
    "req = WebSearchRequest(\n",
    "    query=RequestQuery(\n",
    "        messages=[\n",
    "            RequestQueryMessage(\n",
    "                role=\"user\",\n",
    "                content=\"Wann wurde der Bundeskanzler 2025 gewählt?\"\n",
    "            )\n",
    "        ]\n",
    "    )\n",
    ")\n",
    "\n",
    "result = websearch.execute(req)\n",
    "result.results"
   ]
  },
  {
   "cell_type": "code",
   "execution_count": 4,
   "id": "a6553fe8",
   "metadata": {},
   "outputs": [
    {
     "data": {
      "text/plain": [
       "[[{'reference': 'https://www.bundestag.de/parlament/bundestagswahl/inhalt-1021204',\n",
       "   'text': '2023\\n \\n\\n\\nBundespräsident Steinmeier verkündet Auflösung des Bundestags und Neuwahlen\\n \\n\\n\\nBundestagspräsidentin Bas fordert alle politischen Kräfte zum fairen Wahlkampf auf\\n \\n\\n\\n394 Abgeordnete sprechen Bundeskanzler Scholz nicht das Vertrauen aus\\n \\n\\n\\nAnordnung über die Bundestagswahl 2025\\n\\n \\n\\n\\nInternetangebot der Bundeswahlleiterin\\n\\n \\n\\nInformationen zur Bundestagswahl 2025 \\n\\n\\nInformationsmaterial\\n\\nPlakat: Wie wird der Bundestag gewählt?\\nFaltblatt: Das Wahlrecht zur Bundestagswahl\\nStichwort: Wahlen. Grundpfeiler der Demokratie\\n\\n \\n\\n\\nInstagram\\n\\n\\nInstagram-Kanäle\\n\\nBundestag\\nBundestagspräsidentin\\n\\n\\nLinkedIn\\n\\n\\nMastodon\\n\\n\\nMastodon-Kanäle\\n\\nBundestag\\nhib-Nachrichten\\n\\n\\nWhatsApp\\n\\n\\nYouTube\\n\\n \\n \\nHilfeKontaktInhaltsübersicht \\n\\n\\nInstagram\\n\\n\\nInstagram-Kanäle\\n\\nBundestag\\nBundestagspräsidentin\\n\\n\\nLinkedIn\\n\\n\\nMastodon\\n\\n\\nMastodon-Kanäle\\n\\nBundestag\\nhib-Nachrichten\\n\\n\\nWhatsApp\\n\\n\\nYouTube\\n\\n \\n \\n\\n\\nBarrierefreiheitDatenschutzImpressum \\n\\n\\n© Deutscher Bundestag \\n\\n\\n{Ausdruck aus dem Internet-Angebot des Deutschen Bundestages\\nhttps://www.bundestag.de/parlament/bundestagswahl/inhalt-1021204\\nStand: 21.07.2025',\n",
       "   'query': 'Wahltermin Bundeskanzler 2025',\n",
       "   'distance': 0.25681209564208984},\n",
       "  {'reference': 'https://www.bundeswahlleiterin.de/bundestagswahlen/2025.html',\n",
       "   'text': 'Bundestagswahl 2025 - Die Bundeswahlleiterin\\n\\n\\nZum Inhalt springen\\n\\nStartseite\\n\\n\\nMenÃ¼\\nMenÃ¼ schlieÃ\\x9fen\\n\\n\\n                Bundestagswahl 2025\\n            \\n\\n\\nWahl zum 21. Deutschen Bundestag am 23.\\xa0Februar\\xa02025\\nDer Deutsche Bundestag ist die Volksvertretung der Bundesrepublik Deutschland und als maÃ\\x9fgebliches Gesetzgebungsgremium ihr wichtigstes Organ. Er besteht aus Abgeordneten des deutschen Volkes, die in allgemeiner, unmittelbarer, freier, gleicher und geheimer Wahl auf vier Jahre gewÃ¤hlt werden.\\nDer Wahltermin\\nDas Grundgesetz gibt den Zeitrahmen vor, in dem eine Bundestagswahl stattfinden muss (Artikel\\xa039 Absatz\\xa01 Grundgesetz).\\nDanach findet eine Neuwahl\\xa0frÃ¼hestens 46 und spÃ¤testens 48 Monate nach dem Beginn der laufenden Wahlperiode statt. Kommt es zu einer vorzeitigen Beendigung der Wahlperiode des Bundestages, mÃ¼ssen vorgezogene Neuwahlen innerhalb von 60 Tagen nach der AuflÃ¶sungsentscheidung stattfinden.\\nDie Wahlperiode des 20. Deutschen Bundestages hat mit ihrer konstituierenden Sitzung am 26. Oktober 2021 begonnen. Somit muss der Wahltermin innerhalb der Zeitspanne von Mittwoch, dem 27. August 2025 und Sonntag, dem 26. Oktober 2025 liegen.\\nDer Wahltag muss ein Sonntag oder gesetzlicher Feiertag sein (Â§\\xa016 Bundeswahlgesetz). Dabei wird berÃ¼cksichtigt, dass die Termine fÃ¼r Bundestagswahlen mÃ¶glichst nicht mit Hauptferienzeiten kollidieren.\\nDer BundesprÃ¤sident hat in Abstimmung mit der Bundesregierung den Wahltag zunÃ¤chst\\xa0auf\\xa0Sonntag, den 28. September 2025, festgelegt (siehe hierzu die Anordnung des BundesprÃ¤sidenten Ã¼ber die Bundestagswahl 2025 vom 23. August 2024 (BGBl. 2024 I Nr. 271)).\\nAm 27. Dezember 2024 hat der BundesprÃ¤sident auf Ersuchen des Bundeskanzlers den 20. Deutschen Bundestag aufgelÃ¶st (BGBl.\\xa02024\\xa0I Nr.\\xa0434) und den Wahltag auf Sonntag, den 23. Februar 2025, bestimmt (BGBl.\\xa02024\\xa0I Nr.\\xa0435).\\nUnabhÃ¤ngig vom Wahltermin dÃ¼rfen die Wahlen fÃ¼r die Vertreterversammlungen frÃ¼hestens 29 Monate nach dem Beginn der Wahlperiode des Bundestages stattfinden, fÃ¼r diese Bundestagswahl grundsÃ¤tzlich seit dem 27. MÃ¤rz 2024. Die Wahlen fÃ¼r die Bewerberinnen und Bewerber selbst dÃ¼rfen frÃ¼hestens 32 Monate nach Beginn der Wahlperiode durchgefÃ¼hrt werden, somit seit\\xa0dem 27. Juni 2024 (Â§\\xa021 Absatz\\xa03 Satz\\xa04 Bundeswahlgesetz).\\n\\n\\nMeta-Navigation\\n\\n\\nSeite drucken\\n\\n\\nSeite teilen\\n\\n\\n\\r\\n                        Abbrechen\\r\\n                    \\n\\n\\nE-Mail\\n\\n\\nX\\n\\n\\nFacebook\\n\\n\\nWhatsApp\\n\\n\\nNach oben\\n\\n\\nKontakt | Barriere melden\\n\\n\\nKontaktformular\\n\\n\\nPostanschrift\\n\\n\\r\\n                        Die BundeswahlleiterinStatistisches Bundesamt65180 Wiesbaden\\r\\n                \\n\\n\\nDatenschutz\\nImpressum\\n\\n\\nÂ©\\xa02025 Die Bundeswahlleiterin',\n",
       "   'query': 'Wahltermin Bundeskanzler 2025',\n",
       "   'distance': 0.28722578287124634},\n",
       "  {'reference': 'https://de.wikipedia.org/wiki/Bundestagswahl_2025',\n",
       "   'text': 'Bundestagswahl 2025 – Wikipedia\\n\\n\\nZum Inhalt springen\\n\\n\\nSuche\\n\\n\\nSuchen\\n\\n\\nBundestagswahl 2025\\n\\n\\n45 Sprachen\\n\\n\\nAfrikaansAlemannischالعربيةAzərbaycancaБеларуская (тарашкевіца)CatalàکوردیČeštinaDanskΕλληνικάEnglishEsperantoEspañolEestiEuskaraفارسیSuomiFrançaisNordfriiskGaeilgeעבריתHrvatskiMagyarՀայերենBahasa IndonesiaItaliano日本語Қазақша한국어LietuviųNederlandsNorsk bokmålPolskiپنجابیPortuguêsRomânăРусскийSimple EnglishSlovenčinaShqipСрпски / srpskiSvenskaTürkçeУкраїнська中文\\n\\nLinks bearbeiten\\n\\n\\naus Wikipedia, der freien Enzyklopädie\\n\\n\\n← 2021Wahl zum 21. Bundestag 2025nächste →(Zweitstimmen)[1]\\xa0%3020100\\n28,520,816,411,68,84,984,31,53,0\\nUnionAfDSPDGrüneLinkeBSWFDPFWSonst.iGewinne und Verlusteim Vergleich zu 2021\\xa0%p\\xa012\\xa010\\xa0\\xa0\\xa08\\xa0\\xa0\\xa06\\xa0\\xa0\\xa04\\xa0\\xa0\\xa02\\xa0\\xa0\\xa00\\xa0\\xa0−2\\xa0\\xa0−4\\xa0\\xa0−6\\xa0\\xa0−8−10+4,4+10,4−9,3−3,1+3,9+4,98−7,1−0,9−3,3UnionAfDSPDGrüneLinkeBSWFDPFWSonst.Vorlage:Wahldiagramm/Wartung/AnmerkungenAnmerkungen:i darunter SSW 0,2\\xa0%, der von der Fünf-Prozent-Hürde befreit ist\\nSitzverteilung im 21. Bundestag\\n64\\n\\n120\\n\\n85\\n\\n1\\n\\n208\\n\\n152\\n64\\xa0120\\xa085\\xa01\\xa0208\\xa0152\\xa0\\nInsgesamt 630 Sitze \\n\\ufeffLinke: 64 \\n\\ufeffSPD: 120 \\n\\ufeffGrüne: 85 \\n\\ufeffSSW: 1 \\n\\ufeffUnion: 208 \\n\\ufeffAfD: 152 \\n\\n\\nVerhältnis Regierung-Opposition im21. Deutschen Bundestag\\n328\\n\\n302\\n328\\xa0302\\xa0\\nInsgesamt 630 Sitze \\n\\ufeffRegierung: 328 \\n\\ufeffOpposition: 302 \\n\\n\\nReichstagsgebäude (2024), Sitz des Deutschen Bundestages\\nBundestagswahlergebnisse und Koalitionen in Bundesregierungen seit 1949\\nMit der Wahl zum 21. Deutschen Bundestag wurde die Volksvertretung der Bundesrepublik Deutschland neu gewählt. Sie fand als vorgezogene Neuwahl am 23.\\xa0Februar 2025 statt. Voraussetzung für diesen Termin war die gescheiterte Vertrauensfrage von Bundeskanzler Olaf Scholz (SPD) vom 16. Dezember 2024, der vorgezogene Neuwahlen nach dem Bruch der Ampelkoalition am 6.\\xa0November 2024 angekündigt hatte. Am 27.\\xa0Dezember 2024 ordnete Bundespräsident Frank-Walter Steinmeier die Auflösung des Deutschen Bundestages und den Termin für die Neuwahl an. Als Termin für eine turnusmäßige Wahl war ursprünglich der 28.\\xa0September 2025 festgelegt.\\nDie Unionsparteien CDU und CSU mit Kanzlerkandidat Friedrich Merz erhielten bei der Wahl mit zusammen 28,5\\xa0% die meisten Zweitstimmen und konnten das Ergebnis im Vergleich zum historisch schlechtesten Ergebnis in der vorherigen Wahl um gut 4 Prozentpunkte steigern. An zweiter Stelle folgte die AfD, die ihren Stimmenanteil gegenüber der Vorwahl auf 20,8\\xa0% verdoppeln konnte. Die SPD um den erneuten Kanzlerkandidaten Scholz erlitt starke Verlust',\n",
       "   'query': 'Wahltermin Bundeskanzler 2025',\n",
       "   'distance': 0.3038065433502197}]]"
      ]
     },
     "execution_count": 4,
     "metadata": {},
     "output_type": "execute_result"
    }
   ],
   "source": [
    "result.results"
   ]
  },
  {
   "cell_type": "code",
   "execution_count": 3,
   "id": "686d9878",
   "metadata": {},
   "outputs": [
    {
     "data": {
      "text/plain": [
       "[[{'reference': 'https://www.deutschlandfunk.de/bundestagswahl-2025-100.html',\n",
       "   'text': 'Bundestagswahl 2025\\n\\n\\nDeutschlandradio\\n\\n\\nDeutschlandfunk Kultur\\n\\n\\nDeutschlandfunk Nova\\n\\n\\nClose menu\\n\\n\\nBundestagswahl 2025\\xa0/\\xa0Alle Informationen\\n\\n\\nAm 23. Februar 2025 fand die Bundestagswahl statt. \\n\\n\\nAnalyse Bundestagswahl 2025Wählerinnen und Wähler strafen Ampel-Parteien ab\\n\\nAmpel-Streit und Ampel-Aus stellen sich als entscheidende Faktoren bei der Bundestagswahl heraus. Die großen Gewinner sind Union und AfD. Unerwartet viel Zustimmung bekam auch Die Linke. Wie lässt sich das Abschneiden der Parteien erklären?\\n\\n\\nBundestagswahl 2025Vorläufiges amtliches Endergebnis\\n\\nLaut der Bundeswahlleiterin ist die CDU/CSU-Union mit 28,6 Prozent der Wählerstimmen die stärkste Partei vor der AfD mit 20,8 Prozent. Das Bündnis Sahra Wagenknecht (BSW) und die FDP scheitern an der Fünf-Prozent-Hürde.\\n\\n\\nWahlrechtsreformDie Bedeutung von Erststimme und Zweitstimme\\n\\nBei der Bundestagswahl am 23. Februar galt erstmals das reformierte Wahlrecht. Die Zahl der Abgeordneten ist gesunken und manche Gewinner von Direktwahlkreisen sitzen nicht im Bundestag. Die Union will das Wahlrecht erneut ändern.\\n\\n\\nFaktencheckBriefwahl: Sind Manipulationsvorwürfe berechtigt?\\n\\nUS-Präsident Donald Trump übte Kritik an der Briefwahl. Die AfD auch. Der oft erhobene Vorwurf: Sie sei anfällig für Manipulation. Sogar von systematischem Wahlbetrug ist häufig die Rede. Was ist dran an diesen Vorwürfen?\\n\\n\\nFaktencheckWie Aufrufe zur Wahlbeobachtung die Angst vor Wahlbetrug schüren sollen\\n\\nDie öffentliche Kontrolle ist bei Wahlen in Deutschland jederzeit möglich. Kurz vor der Bundestagswahl wird verstärkt dazu aufgerufen, Wahlbeobachter zu werden, um eine mögliche Manipulation der Wahl zu verhindern. Doch was steckt dahinter?\\n\\n\\nWahlbeteiligungDie Macht der Älteren\\n\\nIn Deutschland gibt es immer mehr ältere Menschen – und damit auch immer mehr ältere Wählerinnen und Wähler. Mehr als 40 Prozent der Wahlberechtigten am 23. Februar zählen zur Generation 60 plus. Für das Wahlverhalten aber war das Alter noch nie so unwichtig, sagt Politik-Professor Achim Goerres.\\n\\n\\nBundestagswahl 2025Die Wahlprogramme der Parteien im Vergleich\\n\\nDie Wahlprogramme von CDU/CSU, SPD, Die Grünen, AfD, Die Linke, FDP und BSW im Vergleich. Welche Partei steht wofür?\\n\\n\\nAktuell im Bundestag vertretene Parteien\\n\\n\\nSPDAktuelle Berichte und Hintergründe\\n\\n\\nCDUAktuelle Berichte und Hintergründe\\n\\n\\nDie GrünenAktuelle Berichte und Hintergründe\\n\\n\\nFDPAktuelle Berichte und Hintergründe\\n\\n\\nAfDAktuelle Berichte und Hintergründe\\n\\n\\nDie LinkeAktuelle Berichte und Hintergründe\\n\\n\\nBündnis Sahra WagenknechtAktuelle Berichte und Hintergründe\\n\\n\\nPrevious\\n\\n\\nNext\\n\\n\\nThema\\xa0/\\xa0Aktuelle Berichte\\n\\n\\nLivepodcastLetzte Chance für die Demokratie? #427\\nSeit März ist der 21. Deutsche Bundestag konstituiert, mit einer geschwächten Mitte, einer erstarkten AfD und komplizierten Mehrheitsverhältnissen. Drohen spätestens 2029 Zustände wie in den USA? Werden Politik und Medien der Verantwortung gerecht?\\n\\n\\n122:20 Minuten\\n\\n\\nBundesregierung 2025Das sind die Minister im Kabinett Merz\\nDie Ministerinnen und Minister der neuen Bundesregierung sind im Amt. Insgesamt 10 der 17 Posten werden von CDU/CSU besetzt. Doch auch die SPD regiert bei Schwarz-Rot einige sehr wichtige Ressorts.\\n\\n\\nKanzlerwahlenMerz erst im zweiten Wahlgang erfolgreich\\nEs war ein historisches Novum: CDU-Chef Merz',\n",
       "   'query': 'Bundeskanzlerwahl in Deutschland 2025, Datum der Wahl, Ergebnisse',\n",
       "   'distance': 0.3243979215621948},\n",
       "  {'reference': 'https://www.bundestag.de/dokumente/textarchiv/2025/kw19-de-kanzlerwahl-1062470',\n",
       "   'text': '. März) bis 171 Tagen 2017 (Wahl am 22. September, Kanzlerwahl am 14. März 2018). In diesem Jahr sind zwischen Bundestagswahl und Kanzlerwahl 72 Tage vergangen.Die Kanzlerwahl kann aus bis zu drei Wahlphasen bestehen und findet mit „verdeckten Stimmzetteln“, also geheim, statt. Bei diesem Verfahren dürfen nach der Geschäftsordnung des Bundestages die Stimmzettel erst vor Betreten der Wahlzelle ausgehändigt werden. Zur Wahl werden die Abgeordneten namentlich aufgerufen. Beim zweiten Wahlgang wurde jedoch auf den namentlichen Aufruf verzichtet. (vom/06.05.2025) \\n \\n\\n\\nReden zu diesem Tagesordnungspunkt\\n\\n\\n \\n\\n\\nBildinformationen\\n\\n\\nJulia Klöckner \\n©\\xa0Julia Klöckner/ Tobias Koch\\n\\n\\nKlöckner, Julia\\n\\nBundestagspräsidentin\\n\\n\\n \\n\\n\\nBildinformationen\\n\\n\\nJulia Klöckner \\n©\\xa0Julia Klöckner/ Tobias Koch\\n\\n\\nKlöckner, Julia\\n\\nBundestagspräsidentin\\n\\n\\n \\n\\n\\nBildinformationen\\n\\n\\nJulia Klöckner \\n©\\xa0Julia Klöckner/ Tobias Koch\\n\\n\\nKlöckner, Julia\\n\\nBundestagspräsidentin\\n\\n\\n \\n\\n\\nBildinformationen\\n\\n\\nSteffen Bilger \\n©\\xa0Steffen Bilger/ Tobias Koch\\n\\n\\nBilger, Steffen\\n\\nCDU/CSU \\n\\n\\n \\n\\n\\nBildinformationen\\n\\n\\nDr. Bernd Baumann \\n©\\xa0Dr. Bernd Baumann\\n\\n\\nBaumann, Dr. Bernd\\n\\nAfD \\n\\n\\n \\n\\n\\nBildinformationen\\n\\n\\nKatja Mast \\n©\\xa0Katja Mast/ Photothek Media Lab\\n\\n\\nMast, Katja\\n\\nSPD \\n\\n\\n \\n\\n\\nBildinformationen\\n\\n\\nIrene Mihalic \\n©\\xa0Irene Mihalic/ Annette Koroll\\n\\n\\nMihalic, Dr. Irene\\n\\nBündnis 90/Die Grünen \\n\\n\\n \\n\\n\\nBildinformationen\\n\\n\\nChristian Görke \\n©\\xa0DiG/ Thomas Kläber\\n\\n\\nGörke, Christian\\n\\nDie Linke \\n\\n\\n \\n\\n\\nBildinformationen\\n\\n\\nJulia Klöckner \\n©\\xa0Julia Klöckner/ Tobias Koch\\n\\n\\nKlöckner, Julia\\n\\nBundestagspräsidentin\\n\\n\\n \\n alle Reden anzeigen\\nweniger Reden anzeigen\\n\\n \\n\\nDokumente\\n\\n\\n21/111 - Wahlvorschlag: Wahl des Bundeskanzlers gemäß Artikel 63 Absatz 3 des Grundgesetzes\\n\\nPDF | 118 KB — Status: 06.05.2025\\nFundstelle\\nim\\nPlenarprotokoll \\n\\n\\nBeschluss\\n09:08:55: Beginn der Wahl (1. Wahlgang)09:35:31: Ende der Wahl09:36:30: Beginn der Sitzungsunterbrechung10:05:55: Ende der SitzungsunterbrechungErgebnis der Wahl des BundeskanzlersGesamt: 621 Ja: 310 Nein: 307 Enthaltungen: 3 Ung.: 1Friedrich Merz hat nicht die nötige Mehrheit erhalten und ist nicht zum Kanzler gewählt worden.10:06:47: Beginn der Sitzungsunterbrechung15:15: Ende der Sitzungsunterbrechung-----15:37:07 :Beginn der Wahl (2. Wahleingang)15:59:05: Ende der Wahl15:59:12: Beginn der Sitzungsunterbrechung16:15:13: Ende der SitzungsunterbrechungErgebnis der Wahl des Bundeskanzlers (2. Wahlgang)Gesamt: 618 Ja: 325 Nein: 289 Enthaltungen: 1 Ung.: 3Friedrich Merz hat die nötige Mehrheit von mind. 316 Stimmen erhalten und ist gem Artikel 63 Abs 2 Grundgesetz zum Bundeskanzler gewählt worden.Abg. Merz nimmt die Wahl an.\\n\\nTagesordnung\\n\\n\\nSitzungsverlauf\\n\\n\\nWeitere Informationen\\n\\n\\nNach der Wahl: Deutscher Bundestag sortiert sich neu\\n \\n\\n\\nWie das Grundgesetz eine kanzlerlose Zeit verhindert\\n \\n\\n\\nBiografie von Friedrich Merz (CDU)\\n \\n\\n\\nKoalitionsvertrag zwischen CDU, CSU und SPD „Verantwortung für Deutschland“\\n \\n\\nGrundgesetz \\n\\nGeschäftsordnung des Deutschen Bundestages \\n\\n\\nHerausgeber\\nDeutscher Bundestag, Internetredaktion \\n\\n\\nInstagram\\n\\n\\nInstagram-Kanäle\\n\\nBundestag\\nBundestagspräsidentin\\n\\n\\nLinkedIn\\n\\n\\nMastodon\\n\\n\\nMastodon-Kanäle\\n\\nBundestag\\nhib-Nachrichten\\n\\n\\nWhatsApp\\n\\n\\nYouTube\\n\\n \\n \\nHilfeKontaktInhaltsübersicht \\n\\n\\nInstagram\\n\\n\\nInstagram-Kanäle\\n\\nBundestag\\nBundestagspräsidentin\\n\\n\\nLinkedIn\\n\\n\\nMastodon\\n\\n\\nMastodon-Kanäle\\n\\nBundestag\\nhib-Nachrichten\\n\\n\\nWhatsApp\\n\\n\\nYouTube\\n\\n \\n \\n\\n\\nBarrierefreiheitDatenschutzImpressum \\n\\n\\n© Deutscher Bundestag \\n\\n\\n{Ausdruck aus dem Internet-Angebot des Deutschen Bundestages\\nhttps://www.bundestag.de/dokumente/textarchiv/2025/kw19-de-',\n",
       "   'query': 'Bundeskanzlerwahl in Deutschland 2025, Datum der Wahl, Ergebnisse',\n",
       "   'distance': 0.3477596044540405},\n",
       "  {'reference': 'https://www.bundestag.de/dokumente/textarchiv/2025/kw19-de-kanzlerwahl-1062470',\n",
       "   'text': 'Deutscher Bundestag - Friedrich Merz mit 325 Stimmen zum Bundeskanzler gewählt\\n\\n\\n Deutscher Bundestag\\n\\n\\nKanzlerwahl\\n\\n\\nFriedrich Merz mit 325 Stimmen zum Bundeskanzler gewählt  \\n \\n\\n\\nFriedrich Merz\\xa0ist neuer Bundeskanzler der Bundesrepublik Deutschland. Der Bundestag hat den CDU-Abgeordneten\\xa0am\\xa0Dienstag, 6. Mai 2025, mit 325\\xa0von 618\\xa0abgegebenen Stimmen im zweiten Wahlgang zum Kanzler in der 21. Wahlperiode (2025 bis 2029) gewählt. In der geheimen Wahl mit verdeckten Stimmkarten gab es 289\\xa0Gegenstimmen und eine\\xa0Enthaltung. Drei Stimmen waren ungültig. Für die Wahl erforderlich waren 316 Stimmen. Grundlage war ein Wahlvorschlag von CDU/CSU und SPD (21/111). Merz erklärte nach Verkündung des Wahlergebnisses, dass er die Wahl annehme, und dankte für das Vertrauen. Im Anschluss erhielt er im Schloss Bellevue seine Ernennungsurkunde von Bundespräsident Dr. Frank-Walter Steinmeier ausgehändigt.\\xa0Merz im ersten Wahlgang nicht gewähltDen zweiten Wahlgang hatte Bundestagspräsidentin Julia Klöckner um 15.15 Uhr aufgerufen, nachdem der erste Wahlgang am Vormittag nicht zur Wahl von Merz geführt hatte. Der Bundespräsident hatte Merz als Bundeskanzler vorgeschlagen (Artikel 63 Absatz 1 des Grundgesetzes). Statt der erforderlichen 316 Stimmen erhielt der Kandidat aber nur 310 Stimmen.\\xa0\\n\\n\\n Der CDU-Abgeordnete und Kanzlerkandidat Friedrich Merz (Mitte) verpasst die Kanzlermehrheit im ersten Wahlgang. Neben ihm: Unionsfraktionschef Jens Spahn (links) und Alexander Dobrindt (CSU, rechts). (© DBT/Thomas Imo/photothek) \\n \\nVon den 630 Abgeordneten hatten 621 ihre Stimme abgegeben. Gegen Merz stimmten 307 Abgeordnete, es gab drei Enthaltungen und eine ungültige Stimme. Die Koalitionsfraktionen verfügen rechnerisch über 328 Stimmen, von denen 208 auf Abgeordnete der Unionsfraktion und 120 auf SPD-Abgeordnete entfallen. Die Bundestagspräsidentin unterbrach daraufhin die Sitzung, um Beratungen in den Fraktionen zu ermöglichen.\\xa0Bisher hatte es bei 20 vorangegangenen Kanzlerwahlen in der Bundesrepublik eine solche Nichtwahl im ersten Wahlgang noch nicht gegeben.Was das Grundgesetz vorsiehtDas Grundgesetz sieht im Artikel 63 vor, dass der Bundestag innerhalb von 14 Tagen mit mehr als der Hälfte seiner Mitglieder einen Bundeskanzler wählen kann, wenn ein Kandidat im ersten Wahlgang nicht gewählt wird. Kommt eine Wahl innerhalb dieser Frist nicht zustande, soll „unverzüglich“ ein neuer Wahlgang stattfinden, in dem gewählt ist, wer die meisten Stimmen erhält.\\xa0Vereinigt der Gewählte die Stimmen der Mehrheit der Mitglieder des Bundestages („Kanzlermehrheit“) auf sich, so muss der Bundespräsident ihn binnen sieben Tagen nach der Wahl ernennen.\\xa0Erreicht der Gewählte die Kanzlermehrheit nicht, muss ihn der Bundespräsident binnen sieben Tagen entweder ernennen oder den Bundestag auflösen. Die Wahlvorschläge müssen von mindestens einem Viertel der Mitglieder des Bundestages oder einer Fraktion, die mindestens ein Viertel der Mitglieder des Bundestages umfasst, unterzeichnet werden.Abweichung von der Geschäftsordnung erforderlichDass der zweite Wahlgang noch am selben Tag zustande kam, ist einer Verständigung der vier Fraktionen CDU/CSU, SPD, Bündnis 90/Die Grünen und Die Linke zu verdanken, gemeinsam einen Geschäftsordnungsantrag zu',\n",
       "   'query': 'Bundeskanzlerwahl in Deutschland 2025, Datum der Wahl, Ergebnisse',\n",
       "   'distance': 0.40166109800338745}]]"
      ]
     },
     "execution_count": 3,
     "metadata": {},
     "output_type": "execute_result"
    }
   ],
   "source": [
    "result.results"
   ]
  },
  {
   "cell_type": "code",
   "execution_count": null,
   "id": "b6810a3e",
   "metadata": {},
   "outputs": [],
   "source": [
    "from agentwebsearch.mcp import AgentWebSearchFastMCP\n",
    "\n",
    "server = AgentWebSearchFastMCP(\n",
    "    websearch=websearch,\n",
    "    port=8000,\n",
    "    host=\"0.0.0.0\",\n",
    "    debug=True\n",
    ")\n",
    "\n",
    "server.run()"
   ]
  },
  {
   "cell_type": "code",
   "execution_count": 1,
   "id": "8b475858",
   "metadata": {},
   "outputs": [],
   "source": [
    "import googlesearch\n",
    "\n",
    "search = googlesearch.search(\"Python\")\n",
    "res = [s for s in search]"
   ]
  },
  {
   "cell_type": "code",
   "execution_count": 2,
   "id": "437baa8f",
   "metadata": {},
   "outputs": [
    {
     "data": {
      "text/plain": [
       "['https://www.python.org/',\n",
       " 'https://www.w3schools.com/python/',\n",
       " 'https://de.wikipedia.org/wiki/Python_(Programmiersprache)',\n",
       " 'https://x.com/ThePSF?ref_src=twsrc%5Egoogle%7Ctwcamp%5Eserp%7Ctwgr%5Eauthor',\n",
       " 'https://www.google.com/search?num=12',\n",
       " 'https://www.w3schools.com/python/python_intro.asp',\n",
       " 'https://en.wikipedia.org/wiki/Python_(programming_language)',\n",
       " 'https://github.com/python/cpython',\n",
       " 'https://developers.google.com/edu/python',\n",
       " 'https://pypi.org/']"
      ]
     },
     "execution_count": 2,
     "metadata": {},
     "output_type": "execute_result"
    }
   ],
   "source": [
    "res"
   ]
  }
 ],
 "metadata": {
  "kernelspec": {
   "display_name": "base",
   "language": "python",
   "name": "python3"
  },
  "language_info": {
   "codemirror_mode": {
    "name": "ipython",
    "version": 3
   },
   "file_extension": ".py",
   "mimetype": "text/x-python",
   "name": "python",
   "nbconvert_exporter": "python",
   "pygments_lexer": "ipython3",
   "version": "3.11.4"
  }
 },
 "nbformat": 4,
 "nbformat_minor": 5
}
