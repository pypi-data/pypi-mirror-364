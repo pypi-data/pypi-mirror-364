{
 "cells": [
  {
   "cell_type": "code",
   "execution_count": 8,
   "id": "e78f009c",
   "metadata": {},
   "outputs": [
    {
     "name": "stderr",
     "output_type": "stream",
     "text": [
      "[21.07.2025 18:02:44,f] [INFO] _client.py HTTP Request: POST http://localhost:8000/mcp/ \"HTTP/1.1 200 OK\"\n",
      "[21.07.2025 18:02:44,f] [INFO] streamable_http.py Received session ID: d62334a712454e85881f7e61a3ea3bd1\n",
      "[21.07.2025 18:02:44,f] [INFO] _client.py HTTP Request: POST http://localhost:8000/mcp/ \"HTTP/1.1 202 Accepted\"\n",
      "[21.07.2025 18:02:44,f] [INFO] _client.py HTTP Request: GET http://localhost:8000/mcp/ \"HTTP/1.1 200 OK\"\n",
      "[21.07.2025 18:02:44,f] [INFO] _client.py HTTP Request: POST http://localhost:8000/mcp/ \"HTTP/1.1 200 OK\"\n",
      "[21.07.2025 18:02:44,f] [INFO] _client.py HTTP Request: POST http://localhost:8000/mcp/ \"HTTP/1.1 200 OK\"\n",
      "[21.07.2025 18:02:44,f] [INFO] _client.py HTTP Request: POST http://localhost:8000/mcp/ \"HTTP/1.1 200 OK\"\n",
      "[21.07.2025 18:02:44,f] [INFO] _client.py HTTP Request: DELETE http://localhost:8000/mcp/ \"HTTP/1.1 200 OK\"\n"
     ]
    },
    {
     "name": "stdout",
     "output_type": "stream",
     "text": [
      "Ping successful!\n",
      "Available tools: [Tool(name='websearch', description='Search the web for a given query and return results.', inputSchema={'properties': {'query': {'title': 'Query', 'type': 'string'}}, 'required': ['query'], 'type': 'object'}, annotations=None, outputSchema={'properties': {'result': {'title': 'Result', 'type': 'string'}}, 'required': ['result'], 'title': '_WrappedResult', 'type': 'object', 'x-fastmcp-wrap-result': True})]\n",
      "Result of add tool: [TextContent(type='text', text=\"Results for 'Blub'\", annotations=None)]\n"
     ]
    }
   ],
   "source": [
    "from fastmcp import Client\n",
    "from fastmcp.client.transports import StreamableHttpTransport\n",
    "\n",
    "transport = StreamableHttpTransport(url=\"http://localhost:8000/mcp/\")\n",
    "\n",
    "async def example():\n",
    "    async with Client(transport) as client:\n",
    "        await client.ping()\n",
    "        print(\"Ping successful!\")\n",
    "\n",
    "        tools = await client.list_tools()\n",
    "        print(\"Available tools:\", tools)\n",
    "\n",
    "        add_result = await client.call_tool(\n",
    "            \"websearch\",\n",
    "            {\"query\": \"Blub\"}\n",
    "        )\n",
    "        print(\"Result of add tool:\", add_result)\n",
    "\n",
    "await example()\n"
   ]
  },
  {
   "cell_type": "code",
   "execution_count": 1,
   "id": "10a69809",
   "metadata": {},
   "outputs": [
    {
     "name": "stdout",
     "output_type": "stream",
     "text": [
      "Ping successful!\n",
      "Available tools: [Tool(name='add', description='Add two numbers', inputSchema={'properties': {'a': {'title': 'A', 'type': 'integer'}, 'b': {'title': 'B', 'type': 'integer'}}, 'required': ['a', 'b'], 'type': 'object'}, annotations=None), Tool(name='greet', description='Greet a person by name', inputSchema={'properties': {'name': {'title': 'Name', 'type': 'string'}}, 'required': ['name'], 'type': 'object'}, annotations=None), Tool(name='greet_v2', description='Gibt eine personalisierte Begrüßung zurück.', inputSchema={'properties': {'name': {'description': 'Der Name der Person, die begrüßt werden soll', 'example': 'Alice', 'title': 'Name', 'type': 'string'}}, 'required': ['name'], 'type': 'object'}, annotations=ToolAnnotations(title='Begrüßungs-Tool', readOnlyHint=True, destructiveHint=None, idempotentHint=None, openWorldHint=None, streamingHint=True))]\n"
     ]
    }
   ],
   "source": [
    "from fastmcp import Client\n",
    "from fastmcp.client.transports import StreamableHttpTransport\n",
    "\n",
    "transport = StreamableHttpTransport(url=\"http://localhost:8000/mcp\")\n",
    "\n",
    "async def example():\n",
    "    async with Client(transport) as client:\n",
    "        await client.ping()\n",
    "        print(\"Ping successful!\")\n",
    "\n",
    "        tools = await client.list_tools()\n",
    "        print(\"Available tools:\", tools)\n",
    "\n",
    "\n",
    "await example()\n"
   ]
  }
 ],
 "metadata": {
  "kernelspec": {
   "display_name": "base",
   "language": "python",
   "name": "python3"
  },
  "language_info": {
   "codemirror_mode": {
    "name": "ipython",
    "version": 3
   },
   "file_extension": ".py",
   "mimetype": "text/x-python",
   "name": "python",
   "nbconvert_exporter": "python",
   "pygments_lexer": "ipython3",
   "version": "3.11.4"
  }
 },
 "nbformat": 4,
 "nbformat_minor": 5
}
