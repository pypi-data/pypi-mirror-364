{
 "cells": [
  {
   "cell_type": "markdown",
   "id": "2b8656a0",
   "metadata": {},
   "source": [
    "# Welcome to my notebook"
   ]
  },
  {
   "cell_type": "code",
   "execution_count": null,
   "id": "490d9d7e",
   "metadata": {},
   "outputs": [],
   "source": [
    "1 + 1"
   ]
  },
  {
   "cell_type": "code",
   "execution_count": null,
   "id": "d28c8451",
   "metadata": {},
   "outputs": [],
   "source": [
    "x = 2\n",
    "x +1"
   ]
  },
  {
   "cell_type": "markdown",
   "id": "c6785fd8",
   "metadata": {},
   "source": [
    "## A section"
   ]
  },
  {
   "cell_type": "code",
   "execution_count": null,
   "id": "258f8509",
   "metadata": {},
   "outputs": [],
   "source": []
  },
  {
   "cell_type": "code",
   "execution_count": null,
   "id": "4f39b636",
   "metadata": {},
   "outputs": [],
   "source": [
    "x += 3\n",
    "x"
   ]
  }
 ],
 "metadata": {
  "kernelspec": {
   "display_name": "Python 3",
   "language": "python",
   "name": "python3"
  },
  "language_info": {
   "codemirror_mode": {
    "name": "ipython",
    "version": 3
   },
   "file_extension": ".py",
   "mimetype": "text/x-python",
   "name": "python",
   "nbconvert_exporter": "python",
   "pygments_lexer": "ipython3",
   "version": "3.9.7"
  }
 },
 "nbformat": 4,
 "nbformat_minor": 5
}
