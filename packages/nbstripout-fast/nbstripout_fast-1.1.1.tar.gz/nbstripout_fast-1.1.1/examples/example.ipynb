{
 "cells": [
  {
   "cell_type": "markdown",
   "id": "2b8656a0",
   "metadata": {},
   "source": [
    "# Welcome to my notebook"
   ]
  },
  {
   "cell_type": "code",
   "execution_count": 1,
   "id": "490d9d7e",
   "metadata": {
    "execution": {
     "iopub.execute_input": "2022-07-15T17:58:02.659109Z",
     "iopub.status.busy": "2022-07-15T17:58:02.658793Z",
     "iopub.status.idle": "2022-07-15T17:58:02.720481Z",
     "shell.execute_reply": "2022-07-15T17:58:02.720082Z"
    }
   },
   "outputs": [
    {
     "data": {
      "text/plain": [
       "2"
      ]
     },
     "execution_count": 1,
     "metadata": {},
     "output_type": "execute_result"
    }
   ],
   "source": [
    "1 + 1"
   ]
  },
  {
   "cell_type": "code",
   "execution_count": 2,
   "id": "d28c8451",
   "metadata": {
    "execution": {
     "iopub.execute_input": "2022-07-15T17:58:02.722417Z",
     "iopub.status.busy": "2022-07-15T17:58:02.722108Z",
     "iopub.status.idle": "2022-07-15T17:58:02.726843Z",
     "shell.execute_reply": "2022-07-15T17:58:02.727116Z"
    }
   },
   "outputs": [
    {
     "data": {
      "text/plain": [
       "3"
      ]
     },
     "execution_count": 2,
     "metadata": {},
     "output_type": "execute_result"
    }
   ],
   "source": [
    "x = 2\n",
    "x +1"
   ]
  },
  {
   "cell_type": "markdown",
   "id": "c6785fd8",
   "metadata": {},
   "source": [
    "## A section"
   ]
  },
  {
   "cell_type": "code",
   "execution_count": null,
   "id": "258f8509",
   "metadata": {},
   "outputs": [],
   "source": []
  },
  {
   "cell_type": "code",
   "execution_count": 3,
   "id": "4f39b636",
   "metadata": {
    "execution": {
     "iopub.execute_input": "2022-07-15T17:58:02.729055Z",
     "iopub.status.busy": "2022-07-15T17:58:02.728735Z",
     "iopub.status.idle": "2022-07-15T17:58:02.733572Z",
     "shell.execute_reply": "2022-07-15T17:58:02.733245Z"
    }
   },
   "outputs": [
    {
     "data": {
      "text/plain": [
       "5"
      ]
     },
     "execution_count": 3,
     "metadata": {},
     "output_type": "execute_result"
    }
   ],
   "source": [
    "x += 3\n",
    "x"
   ]
  }
 ],
 "metadata": {
  "kernelspec": {
   "display_name": "Python 3",
   "language": "python",
   "name": "python3"
  },
  "language_info": {
   "codemirror_mode": {
    "name": "ipython",
    "version": 3
   },
   "file_extension": ".py",
   "mimetype": "text/x-python",
   "name": "python",
   "nbconvert_exporter": "python",
   "pygments_lexer": "ipython3",
   "version": "3.9.7"
  },
  "widgets": {
   "application/vnd.jupyter.widget-state+json": {
    "state": {},
    "version_major": 2,
    "version_minor": 0
   }
  }
 },
 "nbformat": 4,
 "nbformat_minor": 5
}
