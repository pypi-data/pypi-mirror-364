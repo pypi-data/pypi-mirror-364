{
 "cells": [
  {
   "cell_type": "code",
   "execution_count": 1,
   "metadata": {},
   "outputs": [],
   "source": [
    "import os\n",
    "os.environ['CUDA_VISIBLE_DEVICES'] = '-1'\n",
    "\n",
    "import tensorflow as tf\n",
    "import keras"
   ]
  },
  {
   "cell_type": "code",
   "execution_count": 2,
   "metadata": {},
   "outputs": [],
   "source": [
    "(x_train, y_train), (x_test, y_test) = keras.datasets.mnist.load_data()\n",
    "x_train = x_train.astype('float32') / 255\n",
    "x_test = x_test.astype('float32') / 255"
   ]
  },
  {
   "cell_type": "code",
   "execution_count": 3,
   "metadata": {},
   "outputs": [],
   "source": [
    "model = keras.models.Sequential([\n",
    "    keras.layers.Reshape((28, 28, 1)),\n",
    "    keras.layers.MaxPooling2D((2, 2)),\n",
    "    keras.layers.Conv2D(1, (3, 3), activation='relu'),\n",
    "    keras.layers.MaxPooling2D((2, 2)),\n",
    "    keras.layers.Conv2D(1, (3, 3), activation='relu'),\n",
    "    keras.layers.MaxPooling2D((2, 2)),\n",
    "    keras.layers.Flatten(),\n",
    "    keras.layers.Dense(10)\n",
    "])\n",
    "\n",
    "opt = keras.optimizers.Adam(learning_rate=0.001)\n",
    "loss = keras.losses.SparseCategoricalCrossentropy(from_logits=True)\n",
    "model.compile(optimizer=opt, loss=loss, metrics=['accuracy'])"
   ]
  },
  {
   "cell_type": "code",
   "execution_count": 4,
   "metadata": {},
   "outputs": [
    {
     "name": "stdout",
     "output_type": "stream",
     "text": [
      "Epoch 1/10\n",
      "1875/1875 [==============================] - 4s 2ms/step - loss: 2.1434 - accuracy: 0.2318 - val_loss: 1.6634 - val_accuracy: 0.4282\n",
      "Epoch 2/10\n",
      "1875/1875 [==============================] - 3s 2ms/step - loss: 1.5479 - accuracy: 0.4598 - val_loss: 1.4606 - val_accuracy: 0.4985\n",
      "Epoch 3/10\n",
      "1875/1875 [==============================] - 4s 2ms/step - loss: 1.4353 - accuracy: 0.5098 - val_loss: 1.3624 - val_accuracy: 0.5323\n",
      "Epoch 4/10\n",
      "1875/1875 [==============================] - 3s 2ms/step - loss: 1.3534 - accuracy: 0.5371 - val_loss: 1.2895 - val_accuracy: 0.5518\n",
      "Epoch 5/10\n",
      "1875/1875 [==============================] - 3s 2ms/step - loss: 1.2965 - accuracy: 0.5569 - val_loss: 1.2398 - val_accuracy: 0.5700\n",
      "Epoch 6/10\n",
      "1875/1875 [==============================] - 3s 2ms/step - loss: 1.2669 - accuracy: 0.5681 - val_loss: 1.2173 - val_accuracy: 0.5846\n",
      "Epoch 7/10\n",
      "1875/1875 [==============================] - 3s 2ms/step - loss: 1.2531 - accuracy: 0.5731 - val_loss: 1.2062 - val_accuracy: 0.5862\n",
      "Epoch 8/10\n",
      "1875/1875 [==============================] - 3s 2ms/step - loss: 1.2427 - accuracy: 0.5796 - val_loss: 1.2014 - val_accuracy: 0.5899\n",
      "Epoch 9/10\n",
      "1875/1875 [==============================] - 3s 2ms/step - loss: 1.2350 - accuracy: 0.5834 - val_loss: 1.1914 - val_accuracy: 0.5952\n",
      "Epoch 10/10\n",
      "1875/1875 [==============================] - 3s 2ms/step - loss: 1.2276 - accuracy: 0.5870 - val_loss: 1.1822 - val_accuracy: 0.5947\n"
     ]
    },
    {
     "data": {
      "text/plain": [
       "<keras.src.callbacks.History at 0x7fe220956210>"
      ]
     },
     "execution_count": 4,
     "metadata": {},
     "output_type": "execute_result"
    }
   ],
   "source": [
    "model.fit(x_train, y_train, epochs=10, batch_size=32, validation_data=(x_test, y_test))"
   ]
  },
  {
   "cell_type": "code",
   "execution_count": 5,
   "metadata": {},
   "outputs": [],
   "source": [
    "from HGQ.layers import HDense, HConv2D, PMaxPooling2D, PFlatten, PReshape, HQuantize\n",
    "from HGQ import ResetMinMax, FreeBOPs\n",
    "from HGQ import trace_minmax, to_proxy_model"
   ]
  },
  {
   "cell_type": "code",
   "execution_count": 6,
   "metadata": {},
   "outputs": [],
   "source": [
    "model = keras.models.Sequential([\n",
    "    HQuantize(beta=3e-5),\n",
    "    PReshape((28, 28, 1)),\n",
    "    PMaxPooling2D((2, 2)),\n",
    "    HConv2D(1, (3, 3), activation='relu', beta=3e-5, parallel_factor=144),\n",
    "    PMaxPooling2D((2, 2)),\n",
    "    HConv2D(1, (3, 3), activation='relu', beta=3e-5, parallel_factor=16),\n",
    "    PMaxPooling2D((2, 2)),\n",
    "    PFlatten(),\n",
    "    HDense(10, beta=3e-5)\n",
    "])\n",
    "\n",
    "opt = keras.optimizers.Adam(learning_rate=0.001)\n",
    "loss = keras.losses.SparseCategoricalCrossentropy(from_logits=True)\n",
    "model.compile(optimizer=opt, loss=loss, metrics=['accuracy'])\n",
    "callbacks = [ResetMinMax(), FreeBOPs()]"
   ]
  },
  {
   "cell_type": "code",
   "execution_count": 7,
   "metadata": {},
   "outputs": [
    {
     "name": "stdout",
     "output_type": "stream",
     "text": [
      "Epoch 1/10\n",
      "1875/1875 [==============================] - 13s 5ms/step - loss: 2.2821 - accuracy: 0.2814 - val_loss: 1.9375 - val_accuracy: 0.4598 - bops: 11193.0000\n",
      "Epoch 2/10\n",
      "1875/1875 [==============================] - 8s 5ms/step - loss: 1.8053 - accuracy: 0.5249 - val_loss: 1.6885 - val_accuracy: 0.5653 - bops: 12571.0000\n",
      "Epoch 3/10\n",
      "1875/1875 [==============================] - 8s 4ms/step - loss: 1.6504 - accuracy: 0.5586 - val_loss: 1.5659 - val_accuracy: 0.5750 - bops: 10586.0000\n",
      "Epoch 4/10\n",
      "1875/1875 [==============================] - 7s 4ms/step - loss: 1.6043 - accuracy: 0.5672 - val_loss: 1.5449 - val_accuracy: 0.5857 - bops: 10949.0000\n",
      "Epoch 5/10\n",
      "1875/1875 [==============================] - 8s 4ms/step - loss: 1.5919 - accuracy: 0.5653 - val_loss: 1.5357 - val_accuracy: 0.5931 - bops: 10845.0000\n",
      "Epoch 6/10\n",
      "1875/1875 [==============================] - 8s 4ms/step - loss: 1.5724 - accuracy: 0.5715 - val_loss: 1.5279 - val_accuracy: 0.5969 - bops: 10992.0000\n",
      "Epoch 7/10\n",
      "1875/1875 [==============================] - 8s 4ms/step - loss: 1.5467 - accuracy: 0.5715 - val_loss: 1.4761 - val_accuracy: 0.5859 - bops: 9015.0000\n",
      "Epoch 8/10\n",
      "1875/1875 [==============================] - 7s 4ms/step - loss: 1.5235 - accuracy: 0.5707 - val_loss: 1.4715 - val_accuracy: 0.5868 - bops: 9445.0000\n",
      "Epoch 9/10\n",
      "1875/1875 [==============================] - 8s 4ms/step - loss: 1.5248 - accuracy: 0.5709 - val_loss: 1.4638 - val_accuracy: 0.5899 - bops: 8847.0000\n",
      "Epoch 10/10\n",
      "1875/1875 [==============================] - 8s 4ms/step - loss: 1.5197 - accuracy: 0.5727 - val_loss: 1.4799 - val_accuracy: 0.5859 - bops: 9383.0000\n"
     ]
    },
    {
     "data": {
      "text/plain": [
       "<keras.src.callbacks.History at 0x7fe220973510>"
      ]
     },
     "execution_count": 7,
     "metadata": {},
     "output_type": "execute_result"
    }
   ],
   "source": [
    "model.fit(x_train, y_train, epochs=10, batch_size=32, validation_data=(x_test, y_test), callbacks=callbacks)"
   ]
  },
  {
   "cell_type": "code",
   "execution_count": 8,
   "metadata": {},
   "outputs": [
    {
     "name": "stdout",
     "output_type": "stream",
     "text": [
      "h_quantize: 0.0\n",
      "h_conv2d: 3619.0\n",
      "h_conv2d_1: 1168.0\n",
      "h_dense: 581.0\n"
     ]
    },
    {
     "data": {
      "text/plain": [
       "5368.0"
      ]
     },
     "execution_count": 8,
     "metadata": {},
     "output_type": "execute_result"
    }
   ],
   "source": [
    "trace_minmax(model, x_train, cover_factor=1.0)\n",
    "# BOPs computed during training is overestimated in general. The number obtained here is more accurate."
   ]
  },
  {
   "cell_type": "code",
   "execution_count": 9,
   "metadata": {},
   "outputs": [],
   "source": [
    "proxy = to_proxy_model(model, aggressive=True)"
   ]
  },
  {
   "cell_type": "code",
   "execution_count": 10,
   "metadata": {},
   "outputs": [
    {
     "name": "stdout",
     "output_type": "stream",
     "text": [
      "WARNING: Failed to import handlers from merge.py: No module named 'torch'.\n",
      "WARNING: Failed to import handlers from convolution.py: No module named 'torch'.\n",
      "WARNING: Failed to import handlers from core.py: No module named 'torch'.\n",
      "WARNING: Failed to import handlers from pooling.py: No module named 'torch'.\n",
      "WARNING: Failed to import handlers from reshape.py: No module named 'torch'.\n"
     ]
    },
    {
     "name": "stderr",
     "output_type": "stream",
     "text": [
      "/home/calad/repo/hls4ml/hls4ml/converters/__init__.py:27: UserWarning: WARNING: Pytorch converter is not enabled!\n",
      "  warnings.warn(\"WARNING: Pytorch converter is not enabled!\", stacklevel=1)\n"
     ]
    }
   ],
   "source": [
    "from hls4ml.converters import convert_from_keras_model"
   ]
  },
  {
   "cell_type": "code",
   "execution_count": 21,
   "metadata": {},
   "outputs": [
    {
     "name": "stdout",
     "output_type": "stream",
     "text": [
      "Interpreting Model\n",
      "Topology:\n",
      "Layer name: input_1, layer type: InputLayer, input shapes: [[None, 28, 28]], output shape: [None, 28, 28]\n",
      "Layer name: h_quantize_quantizer, layer type: FixedPointQuantizer, input shapes: [[None, 28, 28]], output shape: [None, 28, 28]\n",
      "Layer name: p_reshape, layer type: Reshape, input shapes: [[None, 28, 28]], output shape: [None, 28, 28, 1]\n",
      "Layer name: p_max_pooling2d, layer type: MaxPooling2D, input shapes: [[None, 28, 28, 1]], output shape: [None, 14, 14, 1]\n",
      "Layer name: h_conv2d, layer type: Conv2D, input shapes: [[None, 14, 14, 1]], output shape: [None, 12, 12, 1]\n",
      "Layer name: h_conv2d_quantizer, layer type: FixedPointQuantizer, input shapes: [[None, 12, 12, 1]], output shape: [None, 12, 12, 1]\n",
      "Layer name: h_conv2d_relu, layer type: Activation, input shapes: [[None, 12, 12, 1]], output shape: [None, 12, 12, 1]\n",
      "Layer name: h_conv2d_relu_quantizer, layer type: FixedPointQuantizer, input shapes: [[None, 12, 12, 1]], output shape: [None, 12, 12, 1]\n",
      "Layer name: p_max_pooling2d_1, layer type: MaxPooling2D, input shapes: [[None, 12, 12, 1]], output shape: [None, 6, 6, 1]\n",
      "Layer name: h_conv2d_1, layer type: Conv2D, input shapes: [[None, 6, 6, 1]], output shape: [None, 4, 4, 1]\n",
      "Layer name: h_conv2d_1_quantizer, layer type: FixedPointQuantizer, input shapes: [[None, 4, 4, 1]], output shape: [None, 4, 4, 1]\n",
      "Layer name: h_conv2d_1_relu, layer type: Activation, input shapes: [[None, 4, 4, 1]], output shape: [None, 4, 4, 1]\n",
      "Layer name: h_conv2d_1_relu_quantizer, layer type: FixedPointQuantizer, input shapes: [[None, 4, 4, 1]], output shape: [None, 4, 4, 1]\n",
      "Layer name: p_max_pooling2d_2, layer type: MaxPooling2D, input shapes: [[None, 4, 4, 1]], output shape: [None, 2, 2, 1]\n",
      "Layer name: p_flatten, layer type: Reshape, input shapes: [[None, 2, 2, 1]], output shape: [None, 4]\n",
      "Layer name: h_dense, layer type: Dense, input shapes: [[None, 4]], output shape: [None, 10]\n",
      "Layer name: h_dense_quantizer, layer type: FixedPointQuantizer, input shapes: [[None, 10]], output shape: [None, 10]\n",
      "Creating HLS model\n",
      "WARNING: Layer h_conv2d requires \"dataflow\" pipeline style. Switching to \"dataflow\" pipeline style.\n"
     ]
    }
   ],
   "source": [
    "model_hls = convert_from_keras_model(proxy, backend='vivado',output_dir='/tmp/mnist_hls',part='xcvu9p-flga2104-2L-e')"
   ]
  },
  {
   "cell_type": "code",
   "execution_count": 22,
   "metadata": {},
   "outputs": [
    {
     "name": "stdout",
     "output_type": "stream",
     "text": [
      "Writing HLS project\n",
      "Done\n"
     ]
    }
   ],
   "source": [
    "model_hls.compile()"
   ]
  },
  {
   "cell_type": "code",
   "execution_count": 23,
   "metadata": {},
   "outputs": [],
   "source": [
    "r_keras = model(x_test).numpy()\n",
    "r_proxy = proxy(x_test).numpy()\n",
    "r_hls = model_hls.predict(x_test)"
   ]
  },
  {
   "cell_type": "code",
   "execution_count": 24,
   "metadata": {},
   "outputs": [],
   "source": [
    "import numpy as np"
   ]
  },
  {
   "cell_type": "code",
   "execution_count": 25,
   "metadata": {},
   "outputs": [],
   "source": [
    "assert np.all(r_proxy == r_hls)"
   ]
  },
  {
   "cell_type": "code",
   "execution_count": 26,
   "metadata": {},
   "outputs": [
    {
     "data": {
      "text/plain": [
       "1"
      ]
     },
     "execution_count": 26,
     "metadata": {},
     "output_type": "execute_result"
    }
   ],
   "source": [
    "np.sum(r_keras != r_hls)"
   ]
  },
  {
   "cell_type": "code",
   "execution_count": 27,
   "metadata": {},
   "outputs": [],
   "source": [
    "from matplotlib import pyplot as plt"
   ]
  },
  {
   "cell_type": "code",
   "execution_count": 28,
   "metadata": {},
   "outputs": [],
   "source": [
    "bw = model.layers[0].act_bw.numpy()"
   ]
  },
  {
   "cell_type": "code",
   "execution_count": 29,
   "metadata": {},
   "outputs": [
    {
     "data": {
      "image/png": "[encoded data removed]",
      "text/plain": [
       "<Figure size 640x480 with 2 Axes>"
      ]
     },
     "metadata": {},
     "output_type": "display_data"
    }
   ],
   "source": [
    "plt.imshow(bw[0])\n",
    "plt.colorbar()\n",
    "plt.show()"
   ]
  },
  {
   "cell_type": "code",
   "execution_count": 30,
   "metadata": {},
   "outputs": [
    {
     "data": {
      "image/png": "[encoded data removed]",
      "text/plain": [
       "<Figure size 640x480 with 2 Axes>"
      ]
     },
     "metadata": {},
     "output_type": "display_data"
    }
   ],
   "source": [
    "plt.imshow(np.mean(x_train, axis=0))\n",
    "plt.colorbar()\n",
    "plt.show()"
   ]
  },
  {
   "cell_type": "code",
   "execution_count": null,
   "metadata": {},
   "outputs": [],
   "source": []
  }
 ],
 "metadata": {
  "kernelspec": {
   "display_name": "HGQ",
   "language": "python",
   "name": "python3"
  },
  "language_info": {
   "codemirror_mode": {
    "name": "ipython",
    "version": 3
   },
   "file_extension": ".py",
   "mimetype": "text/x-python",
   "name": "python",
   "nbconvert_exporter": "python",
   "pygments_lexer": "ipython3",
   "version": "3.11.6"
  }
 },
 "nbformat": 4,
 "nbformat_minor": 2
}
