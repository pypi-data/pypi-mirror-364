{
 "cells": [
  {
   "cell_type": "code",
   "execution_count": 1,
   "id": "403b49bb-34e3-4674-8a3c-104ab224e780",
   "metadata": {},
   "outputs": [],
   "source": [
    "from fastlob import Orderbook, OrderParams, OrderSide"
   ]
  },
  {
   "cell_type": "code",
   "execution_count": 2,
   "id": "f094ca09-cda8-4dd8-aedb-4cdad48ed60a",
   "metadata": {},
   "outputs": [],
   "source": [
    "snapshot = {\n",
    "    'bids': [\n",
    "        (98.78, 11.56),\n",
    "        (95.65, 67.78),\n",
    "        (94.23, 56.76),\n",
    "        (93.23, 101.59),\n",
    "        (90.03, 200.68),\n",
    "    ],\n",
    "    'asks': [\n",
    "        (99.11, 12.87),\n",
    "        (100.89, 45.87),\n",
    "        (101.87, 88.56),\n",
    "        (103.78, 98.77),\n",
    "        (105.02, 152.43),\n",
    "    ]\n",
    "}\n",
    "\n",
    "updates = [\n",
    "    # update 1\n",
    "    {\n",
    "    'bids': [\n",
    "        (99.07, 10.01),\n",
    "        (95.65, 79.78),\n",
    "        (93.23, 89.59),\n",
    "        (90.03, 250.68),\n",
    "    ],\n",
    "    'asks': [\n",
    "        (99.11, 5.81),\n",
    "    ]},\n",
    "\n",
    "    # update 2\n",
    "    {\n",
    "    'bids': [\n",
    "        (99.07, 0.00),\n",
    "        (98.78, 3.56),\n",
    "        (79.90, 100.56),\n",
    "    ],\n",
    "    'asks': [\n",
    "        (103.78, 90.77),\n",
    "        (105.02, 123.43),\n",
    "    ]},\n",
    "    \n",
    "    # update 3     \n",
    "    {\n",
    "    'bids': [\n",
    "        (98.78, 11.56),\n",
    "        (95.65, 67.78),\n",
    "        (94.23, 56.76),\n",
    "        (93.23, 0.00),\n",
    "        (90.03, 0.00),\n",
    "    ],\n",
    "    'asks': [\n",
    "        (99.11, 0.00),\n",
    "        (100.89, 0.00),\n",
    "        (101.87, 0.00),\n",
    "        (103.78, 1.23),\n",
    "        (105.02, 152.43),\n",
    "    ]}]"
   ]
  },
  {
   "cell_type": "code",
   "execution_count": 3,
   "id": "8e9d9a9b-be30-48cd-9755-820bcb79dfc3",
   "metadata": {},
   "outputs": [
    {
     "name": "stdout",
     "output_type": "stream",
     "text": [
      "   [ORDER-BOOK LOB]\n",
      "\n",
      "\u001b[31m - 105.02 | 000 | 00152.43 | 16008.1986\n",
      " - 103.78 | 000 | 00098.77 | 10250.3506\n",
      " - 101.87 | 000 | 00088.56 | 9021.6072\n",
      " - 100.89 | 000 | 00045.87 | 4627.8243\n",
      " - 99.11 | 000 | 00012.87 | 1275.5457\n",
      "\u001b[0m ~~~~~~~~~~~~~~~~~~~~~~~~~~~~~~~~~~~~\n",
      "\u001b[32m - 98.78 | 000 | 00011.56 | 1141.8968\n",
      " - 95.65 | 000 | 00067.78 | 6483.1570\n",
      " - 94.23 | 000 | 00056.76 | 5348.4948\n",
      " - 93.23 | 000 | 00101.59 | 9471.2357\n",
      " - 90.03 | 000 | 00200.68 | 18067.2204\n",
      "\u001b[0m\u001b[34m\n",
      " - spread = 0.33 | midprice = 98.945\n",
      " - asks volume = 398.50 | bids volume = 438.37\u001b[0m\n"
     ]
    }
   ],
   "source": [
    "ob = Orderbook.from_snapshot(snapshot, start=True)\n",
    "ob.load_updates(updates)\n",
    "\n",
    "ob.render()"
   ]
  },
  {
   "cell_type": "code",
   "execution_count": 4,
   "id": "b40adc3b-899f-4689-af9e-467f2a608059",
   "metadata": {},
   "outputs": [
    {
     "name": "stdout",
     "output_type": "stream",
     "text": [
      "   [ORDER-BOOK LOB]\n",
      "\n",
      "\u001b[31m - 105.02 | 000 | 00152.43 | 16008.1986\n",
      " - 103.78 | 000 | 00098.77 | 10250.3506\n",
      " - 101.87 | 000 | 00088.56 | 9021.6072\n",
      " - 100.89 | 000 | 00045.87 | 4627.8243\n",
      " - 99.11 | 000 | 00005.81 | 575.8291\n",
      "\u001b[0m ~~~~~~~~~~~~~~~~~~~~~~~~~~~~~~~~~~~\n",
      "\u001b[32m - 99.07 | 000 | 00010.01 | 991.6907\n",
      " - 98.78 | 000 | 00011.56 | 1141.8968\n",
      " - 95.65 | 000 | 00079.78 | 7630.9570\n",
      " - 94.23 | 000 | 00056.76 | 5348.4948\n",
      " - 93.23 | 000 | 00089.59 | 8352.4757\n",
      " - 90.03 | 000 | 00250.68 | 22568.7204\n",
      "\u001b[0m\u001b[34m\n",
      " - spread = 0.04 | midprice = 99.090\n",
      " - asks volume = 391.44 | bids volume = 498.38\u001b[0m\n"
     ]
    }
   ],
   "source": [
    "ob.step()\n",
    "ob.render()"
   ]
  },
  {
   "cell_type": "code",
   "execution_count": 5,
   "id": "7e007952-529c-4aaa-9daf-952a7ea96cb0",
   "metadata": {},
   "outputs": [
    {
     "name": "stdout",
     "output_type": "stream",
     "text": [
      "   [ORDER-BOOK LOB]\n",
      "\n",
      "\u001b[31m - 105.02 | 000 | 00123.43 | 12962.6186\n",
      " - 103.78 | 000 | 00090.77 | 9420.1106\n",
      " - 101.87 | 000 | 00088.56 | 9021.6072\n",
      " - 100.89 | 000 | 00045.87 | 4627.8243\n",
      " - 99.11 | 000 | 00005.81 | 575.8291\n",
      "\u001b[0m ~~~~~~~~~~~~~~~~~~~~~~~~~~~~~~~~~~~\n",
      "\u001b[32m - 99.07 | 001 | 00001.98 | 196.1586\n",
      " - 98.78 | 000 | 00003.56 | 351.6568\n",
      " - 95.65 | 000 | 00079.78 | 7630.9570\n",
      " - 94.23 | 000 | 00056.76 | 5348.4948\n",
      " - 93.23 | 000 | 00089.59 | 8352.4757\n",
      " - 90.03 | 000 | 00250.68 | 22568.7204\n",
      " - 79.90 | 000 | 00100.56 | 8034.7440\n",
      "\u001b[0m\u001b[34m\n",
      " - spread = 0.04 | midprice = 99.090\n",
      " - asks volume = 354.44 | bids volume = 592.92\u001b[0m\n"
     ]
    }
   ],
   "source": [
    "ob(OrderParams(OrderSide.BID, 99.07, 1.98))\n",
    "\n",
    "ob.step()\n",
    "ob.render()"
   ]
  },
  {
   "cell_type": "code",
   "execution_count": 6,
   "id": "4b4f0541-7dd5-4250-9e89-2c37a8730854",
   "metadata": {},
   "outputs": [
    {
     "name": "stdout",
     "output_type": "stream",
     "text": [
      "   [ORDER-BOOK LOB]\n",
      "\n",
      "\u001b[31m - 105.02 | 000 | 00152.43 | 16008.1986\n",
      " - 103.78 | 000 | 00001.23 | 127.6494\n",
      "\u001b[0m ~~~~~~~~~~~~~~~~~~~~~~~~~~~~~~~~~~~\n",
      "\u001b[32m - 99.07 | 001 | 00001.98 | 196.1586\n",
      " - 98.78 | 000 | 00011.56 | 1141.8968\n",
      " - 95.65 | 000 | 00067.78 | 6483.1570\n",
      " - 94.23 | 000 | 00056.76 | 5348.4948\n",
      " - 79.90 | 000 | 00100.56 | 8034.7440\n",
      "\u001b[0m\u001b[34m\n",
      " - spread = 4.71 | midprice = 101.425\n",
      " - asks volume = 293.90 | bids volume = 588.92\u001b[0m\n"
     ]
    }
   ],
   "source": [
    "ob.step()\n",
    "ob.render()"
   ]
  },
  {
   "cell_type": "code",
   "execution_count": 8,
   "id": "99d940a7-276c-4791-81fc-fe557c56d367",
   "metadata": {},
   "outputs": [
    {
     "name": "stderr",
     "output_type": "stream",
     "text": [
      "lob is not running\n"
     ]
    }
   ],
   "source": [
    "ob.stop()"
   ]
  }
 ],
 "metadata": {
  "kernelspec": {
   "display_name": "venv",
   "language": "python",
   "name": "python3"
  },
  "language_info": {
   "codemirror_mode": {
    "name": "ipython",
    "version": 3
   },
   "file_extension": ".py",
   "mimetype": "text/x-python",
   "name": "python",
   "nbconvert_exporter": "python",
   "pygments_lexer": "ipython3",
   "version": "3.12.3"
  }
 },
 "nbformat": 4,
 "nbformat_minor": 5
}
