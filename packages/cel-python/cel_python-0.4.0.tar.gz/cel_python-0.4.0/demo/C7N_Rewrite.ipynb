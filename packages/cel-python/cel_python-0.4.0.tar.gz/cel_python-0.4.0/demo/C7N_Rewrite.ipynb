{
 "cells": [
  {
   "cell_type": "markdown",
   "metadata": {},
   "source": [
    "# Policy Filter Conversion from C7N DSL to CEL\n",
    "\n",
    "Wait, we can do that?\n",
    "\n",
    "Yes. For many (but not **all**) policies, we can convert the C7N DSL for a filter to CEL.\n",
    "\n",
    "How does it work?\n",
    "\n",
    "Show me examples.\n",
    "\n",
    "How do I test it?"
   ]
  },
  {
   "cell_type": "markdown",
   "metadata": {},
   "source": [
    "## The `xlate.c7n_to_cel` Tool"
   ]
  },
  {
   "cell_type": "code",
   "execution_count": 64,
   "metadata": {},
   "outputs": [],
   "source": [
    "from xlate.c7n_to_cel import C7N_Rewriter"
   ]
  },
  {
   "cell_type": "code",
   "execution_count": 65,
   "metadata": {},
   "outputs": [],
   "source": [
    "policy_text = \"\"\"\n",
    "name: elb-delete-any-new\n",
    "resource: elb\n",
    "comment: 'Any ELB created in any us-west-2 VPC will be immediately deleted, with some\n",
    " exceptions.\n",
    "\n",
    "  '\n",
    "filters:\n",
    "- key: CreatedTime\n",
    "  op: greater-than\n",
    "  type: value\n",
    "  value: 0.011\n",
    "  value_type: age\n",
    "- key: VPCId\n",
    "  op: in\n",
    "  type: value\n",
    "  value:\n",
    "  - vpc-12345678\n",
    "  - vpc-23456789\n",
    "- key: tag:ASSET\n",
    "  op: not-in\n",
    "  type: value\n",
    "  value:\n",
    "  - ASSET_1\n",
    "  - ASSET_2\n",
    "  - ASSET_3\n",
    "actions:\n",
    "- key: custodian_decom\n",
    "  type: tag\n",
    "  value: Load Balancer created in VPC that is being decommissioned - ELB deleted\n",
    "- type: delete\n",
    "- action_descs:\n",
    "  - The ELB has been deleted.\n",
    "  - ' '\n",
    "  - The West VPC is being decommissioned.  Create any\n",
    "    new resources in the (Dev) East VPC.\n",
    "  cc:\n",
    "  - custodian@enterprise.com\n",
    "  from: custodian@enterprise.com\n",
    "  policy_url: NA\n",
    "  subject: '[custodian][{{ account }}] ELB in unallowed account/VPC - {{ region }}'\n",
    "  template: fs-default.html\n",
    "  to:\n",
    "  - resource-owner\n",
    "  transport:\n",
    "    topic: arn:aws:sns:{region}:123456789012:c7n-notifications\n",
    "    type: sns\n",
    "  type: notify\n",
    "  violation_desc: 'The following Load Balancer(s) were created in a VPC that is not\n",
    "    allowed or is being decommissioned:'\n",
    "\"\"\""
   ]
  },
  {
   "cell_type": "code",
   "execution_count": 66,
   "metadata": {},
   "outputs": [
    {
     "name": "stdout",
     "output_type": "stream",
     "text": [
      "Now - duration(\"15m50s\") > timestamp(Resource[\"CreatedTime\"]) && ['vpc-12345678', 'vpc-23456789'].contains(Resource[\"VPCId\"]) && ! ['ASSET_1', 'ASSET_2', 'ASSET_3'].contains(Resource[\"Tags\"].filter(x, x[\"Key\"] == \"ASSET\")[0][\"Value\"])\n"
     ]
    }
   ],
   "source": [
    "print(C7N_Rewriter.c7n_rewrite(policy_text))"
   ]
  },
  {
   "cell_type": "markdown",
   "metadata": {},
   "source": [
    "12345678That's awkward, lets' reformat it.\n",
    "\n",
    "We'll be able to replace it in the Policy\n",
    "\n",
    "    - filters:\n",
    "      -  type: cel\n",
    "         expr: |\n",
    "            Now - duration(\"15m50s\") > timestamp(Resource[\"CreatedTime\"]) \n",
    "            && ['vpc-12345678', 'vpc-23456789'].contains(Resource[\"VPCId\"]) \n",
    "            && ! ['ASSET_1', 'ASSET_2', 'ASSET_3']\n",
    "            .contains(Resource[\"Tags\"].filter(x, x[\"Key\"] == \"ASSET\")[0][\"Value\"])\n",
    "\n",
    "Which raises an interesting question. \n",
    "\n",
    "\"15m50s\"? Should that be \"15m\"?  The `0.011` isn't really as accurate as the CEL durations."
   ]
  },
  {
   "cell_type": "markdown",
   "metadata": {},
   "source": [
    "The `Resource[\"Tags\"].filter(x, x[\"Key\"] == \"ASSET\")[0][\"Value\"])` is not \"clear\" but it's ultra-precise.\n",
    "\n",
    "Filter all the values in the `Resource[\"Tags\"]` to create a sub-list where the key is \"ASV\". Ideally, there's exactly one. Item 0 from this list should have a `[\"Value\"]` which is what we want to examine.\n",
    "\n",
    "This is a common-enough constract, that we will have a extension function for it: `Resource.key(\"ASV\")`. We'll work without the `c7nlib` extensions to start."
   ]
  },
  {
   "cell_type": "code",
   "execution_count": 67,
   "metadata": {},
   "outputs": [],
   "source": [
    "cel = \"\"\"\n",
    "        Now - duration(\"15m50s\") > timestamp(Resource[\"CreatedTime\"]) \n",
    "        && ['vpc-12345678', 'vpc-23456789'].contains(Resource[\"VPCId\"]) \n",
    "        && ! ['ASSET_1', 'ASSET_2', 'ASSET_3']\n",
    "        .contains(Resource[\"Tags\"].filter(x, x[\"Key\"] == \"ASSET\")[0][\"Value\"])\n",
    "\"\"\""
   ]
  },
  {
   "cell_type": "markdown",
   "metadata": {},
   "source": [
    "Let's define (or query) some ELB resources and evaluate this CEL expression.\n",
    "\n",
    "First, let's create a mock `CELFilter` to test with."
   ]
  },
  {
   "cell_type": "code",
   "execution_count": 68,
   "metadata": {},
   "outputs": [],
   "source": [
    "import celpy\n",
    "from typing import Dict, Any\n",
    "\n",
    "class CELFilter:\n",
    "    decls = {\n",
    "        \"Resource\": celpy.celtypes.MapType,\n",
    "        \"Now\": celpy.celtypes.TimestampType,\n",
    "    }\n",
    "\n",
    "    def __init__(self, expr: str) -> None:\n",
    "        env = celpy.Environment(annotations=CELFilter.decls)\n",
    "        ast = env.compile(expr)\n",
    "        self.functions = {}  # c7nlib.FUNCTIONS may need to be mocked to help develop or debug.\n",
    "        self.prgm = env.program(ast, self.functions)\n",
    "        \n",
    "    def process(self, resource: celpy.celtypes.Value, now: str) -> bool:\n",
    "        activation = {\n",
    "            \"Resource\": resource,\n",
    "            \"Now\": celpy.celtypes.TimestampType(now),\n",
    "        }\n",
    "        return self.prgm.evaluate(activation)"
   ]
  },
  {
   "cell_type": "code",
   "execution_count": 69,
   "metadata": {},
   "outputs": [],
   "source": [
    "filter_1 = CELFilter(cel)"
   ]
  },
  {
   "cell_type": "code",
   "execution_count": 70,
   "metadata": {},
   "outputs": [],
   "source": [
    "resource = {\n",
    "    \"ResourceType\": \"elb\",\n",
    "    \"Tags\": [\n",
    "        {\"Key\": \"ASSET\", \"Value\": \"SOMEAPP\"},\n",
    "    ],\n",
    "    \"CreatedTime\": \"2020-10-17T18:15:00Z\",\n",
    "    \"VPCId\": \"vpc-23456789\",\n",
    "}\n"
   ]
  },
  {
   "cell_type": "markdown",
   "metadata": {},
   "source": [
    "At 18:19, is this ready for action? (Hint: no, it's not old enough.)"
   ]
  },
  {
   "cell_type": "code",
   "execution_count": 71,
   "metadata": {},
   "outputs": [
    {
     "data": {
      "text/plain": [
       "BoolType(False)"
      ]
     },
     "execution_count": 71,
     "metadata": {},
     "output_type": "execute_result"
    }
   ],
   "source": [
    "now_1 = \"2020-10-17T18:19:20Z\"\n",
    "filter_1.process(celpy.json_to_cel(resource), now_1)"
   ]
  },
  {
   "cell_type": "markdown",
   "metadata": {},
   "source": [
    "How about at 19:20? Now it's been over an hour"
   ]
  },
  {
   "cell_type": "code",
   "execution_count": 72,
   "metadata": {},
   "outputs": [
    {
     "data": {
      "text/plain": [
       "BoolType(True)"
      ]
     },
     "execution_count": 72,
     "metadata": {},
     "output_type": "execute_result"
    }
   ],
   "source": [
    "now_2 = \"2020-10-17T19:20:21Z\"\n",
    "filter_1.process(celpy.json_to_cel(resource), now_2)"
   ]
  },
  {
   "cell_type": "markdown",
   "metadata": {},
   "source": [
    "## More Testing Goodness: the `demo/celdemo.py` tool\n",
    "\n",
    "How can we more fully automate this testing?\n",
    "\n",
    "There are two paths.\n",
    "\n",
    "-  A little shell-level thing to do CEL evaluation in the context of AWS CLI describes.\n",
    "\n",
    "-  A behave-based framework to do more formal acceptance-type tests.\n",
    "\n",
    "See the `celdemo.py` script.\n",
    "\n",
    "(Note. `celpy` is NOT installed, and needs to be visible to Python, using `PYTHONPATH` lets us\n",
    "use the package without installing it.)"
   ]
  },
  {
   "cell_type": "code",
   "execution_count": 73,
   "metadata": {},
   "outputs": [],
   "source": [
    "!export PYTHONPATH=src "
   ]
  },
  {
   "cell_type": "code",
   "execution_count": 74,
   "metadata": {},
   "outputs": [
    {
     "name": "stdout",
     "output_type": "stream",
     "text": [
      "DoubleType(3.1415929203539825) from Now '2020-11-13T19:41:47.215115', Resource None\n"
     ]
    }
   ],
   "source": [
    "!python celdemo.py --cel '355./113.'"
   ]
  },
  {
   "cell_type": "code",
   "execution_count": 75,
   "metadata": {},
   "outputs": [
    {
     "name": "stdout",
     "output_type": "stream",
     "text": [
      "TimestampType('2020-09-10T12:12:13Z') from Now '2020-09-10T11:12:13Z', Resource None\n"
     ]
    }
   ],
   "source": [
    "!python celdemo.py --cel 'Now+duration(\"1h\")' --now \"2020-09-10T11:12:13Z\""
   ]
  },
  {
   "cell_type": "markdown",
   "metadata": {},
   "source": [
    "This tool creates a CEL activation with two globals.\n",
    "\n",
    "-  `Now` is set from the command-line `--now` value. Pick a time of day to test against.\n",
    "\n",
    "-  `Resource` is each resource read from a file or stdin.\n",
    "\n",
    "You can provide a bunch of resources to apply against a CEL expression and see what the results will be.\n",
    "\n",
    "You can, for example, use `aws cli` to describe resources and examine them with a `CEL` expression to locate compliant and non-compliant resources.\n",
    "\n",
    "We'll create a fake `resource1.json` file that simulates an AWS CLI describe."
   ]
  },
  {
   "cell_type": "code",
   "execution_count": 76,
   "metadata": {},
   "outputs": [],
   "source": [
    "sample_doc_1 = {\n",
    "    \"Tags\": \n",
    "    [\n",
    "        {\n",
    "            \"Key\": \"ASSET\",\n",
    "            \"Value\": \"Forbidden\"\n",
    "        }\n",
    "    ]\n",
    "}\n",
    "from pathlib import Path\n",
    "import json\n",
    "with Path(\"resource1.json\").open(\"w\") as rsrc1:\n",
    "    json.dump(sample_doc_1, rsrc1)"
   ]
  },
  {
   "cell_type": "markdown",
   "metadata": {},
   "source": [
    "Now we can process `resource1.json`. "
   ]
  },
  {
   "cell_type": "code",
   "execution_count": 77,
   "metadata": {},
   "outputs": [
    {
     "name": "stdout",
     "output_type": "stream",
     "text": [
      "StringType('Forbidden') from Now '2020-09-10T11:12:13Z', Resource {'Tags': [{'Key': 'ASSET', 'Value': 'Forbidden'}]}\n"
     ]
    }
   ],
   "source": [
    "!python celdemo.py --cel 'Resource.Tags.filter(t, t[\"Key\"]==\"ASSET\")[0][\"Value\"]' --now \"2020-09-10T11:12:13Z\" resource1.json"
   ]
  },
  {
   "cell_type": "code",
   "execution_count": 78,
   "metadata": {},
   "outputs": [
    {
     "name": "stdout",
     "output_type": "stream",
     "text": [
      "StringType('Forbidden') from Now '2020-09-10T11:12:13Z', Resource {'Tags': [{'Key': 'ASSET', 'Value': 'Forbidden'}]}\n"
     ]
    }
   ],
   "source": [
    "!cat resource1.json | python celdemo.py --cel 'Resource.Tags.filter(t, t[\"Key\"]==\"ASSET\")[0][\"Value\"]' --now \"2020-09-10T11:12:13Z\" --format json -"
   ]
  },
  {
   "cell_type": "markdown",
   "metadata": {},
   "source": [
    "We can try to process multiple JSON files, which gives us multiple results."
   ]
  },
  {
   "cell_type": "code",
   "execution_count": 79,
   "metadata": {},
   "outputs": [
    {
     "name": "stdout",
     "output_type": "stream",
     "text": [
      "TypeError(\"'CELEvalError' object is not iterable\") from Now '2020-09-10T11:12:13Z', Resource {'creationTimestamp': '2018-07-06T05:04:03Z', 'deleteProtection': False, 'name': 'projects/project-123/zones/us-east1-b/instances/dev/ec2', 'instanceSize': 'm1.standard'}\n",
      "StringType('Forbidden') from Now '2020-09-10T11:12:13Z', Resource {'Tags': [{'Key': 'ASSET', 'Value': 'Forbidden'}]}\n"
     ]
    }
   ],
   "source": [
    "!python celdemo.py --cel 'Resource.Tags.filter(t, t[\"Key\"]==\"ASSET\")[0][\"Value\"]' --now \"2020-09-10T11:12:13Z\" *.json"
   ]
  },
  {
   "cell_type": "code",
   "execution_count": null,
   "metadata": {},
   "outputs": [],
   "source": []
  }
 ],
 "metadata": {
  "kernelspec": {
   "display_name": "Python 3",
   "language": "python",
   "name": "python3"
  },
  "language_info": {
   "codemirror_mode": {
    "name": "ipython",
    "version": 3
   },
   "file_extension": ".py",
   "mimetype": "text/x-python",
   "name": "python",
   "nbconvert_exporter": "python",
   "pygments_lexer": "ipython3",
   "version": "3.8.6"
  }
 },
 "nbformat": 4,
 "nbformat_minor": 4
}
