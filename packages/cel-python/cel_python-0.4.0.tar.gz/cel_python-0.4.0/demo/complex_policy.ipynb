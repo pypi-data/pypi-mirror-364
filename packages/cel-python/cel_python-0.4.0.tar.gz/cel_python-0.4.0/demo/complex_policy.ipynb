{
 "cells": [
  {
   "cell_type": "markdown",
   "metadata": {},
   "source": [
    "# A Complex `value_from:` Policy\n",
    "\n",
    "These are kind of hard to work with because we have several things.\n",
    "\n",
    "1. A CEL policy\n",
    "\n",
    "2. A Resource\n",
    "\n",
    "3. A Current Time\n",
    "\n",
    "4. Additional Data that must be used as part of policy \n",
    "\n",
    "This fourth component requires a more sophisticated mock function for testing purposes.\n"
   ]
  },
  {
   "cell_type": "code",
   "execution_count": 1,
   "metadata": {},
   "outputs": [],
   "source": [
    "policy_text = \"\"\"\n",
    "name: asg-invalid-asset-value-mark\n",
    "resource: asg\n",
    "comment: 'Report on any ASGs that use an ASSET that isn''t valid.\n",
    "\n",
    "  '\n",
    "filters:\n",
    "- tag:custodian_asset: absent\n",
    "- key: CreatedTime\n",
    "  op: greater-than\n",
    "  type: value\n",
    "  value: 0.011\n",
    "  value_type: age\n",
    "- key: tag:ASSET\n",
    "  op: not-in\n",
    "  type: value\n",
    "  value_from:\n",
    "    expr: all_values.*\n",
    "    format: json\n",
    "    url: s3://cloud-governance/custodian/asset_list.json\n",
    "actions:\n",
    "- tag: custodian_asset\n",
    "  type: tag\n",
    "  value: AutoScaling Group does not have a valid ASSET tag value\n",
    "- action_desc: The ASSET tag should be updated, both on the ASG and in any template\n",
    "    or config files.\n",
    "  cc:\n",
    "  - custodian@capitalone.com\n",
    "  from: custodian@capitalone.com\n",
    "  policy_url: https://enterprise.com/docs/cloud_policy.html\n",
    "  subject: '[custodian][{{ account }}] AutoScaling Group with invalid ASSET value -\n",
    "    {{ region }}'\n",
    "  template: fs-default.html\n",
    "  to:\n",
    "  - resource-owner\n",
    "  transport:\n",
    "    topic: arn:aws:sns:{region}:123456789012:c7n-notifications\n",
    "    type: sns\n",
    "  type: notify\n",
    "  violation_desc: 'The following AutoScaling Group(s) are tagged with an invalid ASSET\n",
    "    value:'\n",
    "\"\"\""
   ]
  },
  {
   "cell_type": "code",
   "execution_count": 2,
   "metadata": {},
   "outputs": [
    {
     "name": "stdout",
     "output_type": "stream",
     "text": [
      "absent(Resource[\"Tags\"].filter(x, x[\"Key\"] == \"custodian_asset\")[0][\"Value\"]) && Now - duration(\"15m50s\") > timestamp(Resource[\"CreatedTime\"]) && ! value_from(\"s3://cloud-governance/custodian/asset_list.json\", \"json\").jmes_path('all_values.*').contains(Resource[\"Tags\"].filter(x, x[\"Key\"] == \"ASSET\")[0][\"Value\"])\n"
     ]
    }
   ],
   "source": [
    "from xlate.c7n_to_cel import C7N_Rewriter\n",
    "cel_text = C7N_Rewriter.c7n_rewrite(policy_text)\n",
    "print(cel_text)"
   ]
  },
  {
   "cell_type": "markdown",
   "metadata": {},
   "source": [
    "Reformatting:\n",
    "\n",
    "    absent(Resource[\"Tags\"].filter(x, x[\"Key\"] == \"custodian_asset\")[0][\"Value\"]) \n",
    "    && Now - duration(\"15m50s\") > timestamp(Resource[\"CreatedTime\"]) \n",
    "    && ! value_from(\"s3://cloud-governance/custodian/asset_list.json\", \"json\")\n",
    "        .jmes_path('all_values.*').contains(\n",
    "            Resource[\"Tags\"].filter(x, x[\"Key\"] == \"ASSET\")[0][\"Value\"]\n",
    "        )"
   ]
  },
  {
   "cell_type": "markdown",
   "metadata": {},
   "source": [
    "How can we test with `value_from`?? Do we really need access to an S3? \n",
    "\n",
    "It turns out, we can provide our own extension function that provides appropriate test data. We can replace the `value_from()` function."
   ]
  },
  {
   "cell_type": "code",
   "execution_count": 4,
   "metadata": {},
   "outputs": [],
   "source": [
    "import celpy.celtypes\n",
    "from celpy.adapter import json_to_cel\n",
    "\n",
    "def my_value_from(url, format):\n",
    "    print(f\"Reading {url} in {format}\")\n",
    "    the_document = {\"all_values\": {\"name\": \"in_the_list\"}}\n",
    "    return json_to_cel(the_document)"
   ]
  },
  {
   "cell_type": "code",
   "execution_count": 8,
   "metadata": {},
   "outputs": [],
   "source": [
    "import celpy\n",
    "import celpy.c7nlib\n",
    "from typing import Dict, Any\n",
    "\n",
    "class CELFilter:\n",
    "    decls = {\n",
    "        \"Resource\": celpy.celtypes.MapType,\n",
    "        \"Now\": celpy.celtypes.TimestampType,\n",
    "    }\n",
    "\n",
    "    def __init__(self, expr: str) -> None:\n",
    "        env = celpy.Environment(annotations=CELFilter.decls)\n",
    "        ast = env.compile(expr)\n",
    "        self.functions = celpy.c7nlib.FUNCTIONS\n",
    "        self.functions[\"value_from\"] = my_value_from\n",
    "        self.prgm = env.program(ast, self.functions)\n",
    "        \n",
    "    def process(self, resource: celpy.celtypes.Value, now: str) -> bool:\n",
    "        activation = {\n",
    "            \"Resource\": resource,\n",
    "            \"Now\": celpy.celtypes.TimestampType(now),\n",
    "        }\n",
    "        return self.prgm.evaluate(activation)"
   ]
  },
  {
   "cell_type": "markdown",
   "metadata": {},
   "source": [
    "We can update `c7nlib.FUNCTIONS` with the new function."
   ]
  },
  {
   "cell_type": "markdown",
   "metadata": {},
   "source": [
    "    import celpy.c7nlib\n",
    "    my_functions = celpy.c7nlib.FUNCTIONS\n",
    "    my_functions[\"value_from\"] = my_value_from"
   ]
  },
  {
   "cell_type": "markdown",
   "metadata": {},
   "source": [
    "Now, we can "
   ]
  },
  {
   "cell_type": "markdown",
   "metadata": {},
   "source": [
    "    import celpy\n",
    "    decls = {\n",
    "        \"Resource\": celpy.celtypes.MapType,\n",
    "        \"Now\": celpy.celtypes.TimestampType,\n",
    "    }\n",
    "    env = celpy.Environment(annotations=decls)\n",
    "    ast = env.compile(cel_text)\n",
    "    # Bind my_functions with the CEL code...\n",
    "    prgm = env.program(ast, functions=my_functions)"
   ]
  },
  {
   "cell_type": "code",
   "execution_count": 9,
   "metadata": {},
   "outputs": [],
   "source": [
    "cel_text = \"\"\"\n",
    "absent(Resource[\"Tags\"].filter(x, x[\"Key\"] == \"custodian_asset\")[0][\"Value\"]) \n",
    "&& Now - duration(\"15m50s\") > timestamp(Resource[\"CreatedTime\"]) \n",
    "&& ! value_from(\"s3://cloud-governance/custodian/asset_list.json\", \"json\").jmes_path('all_values.*').contains(Resource[\"Tags\"].filter(x, x[\"Key\"] == \"ASSET\")[0][\"Value\"])\n",
    "\"\"\"\n",
    "filter_1 = CELFilter(cel_text)"
   ]
  },
  {
   "cell_type": "code",
   "execution_count": 11,
   "metadata": {},
   "outputs": [
    {
     "name": "stdout",
     "output_type": "stream",
     "text": [
      "Reading s3://cloud-governance/custodian/asset_list.json in json\n"
     ]
    },
    {
     "data": {
      "text/plain": [
       "BoolType(False)"
      ]
     },
     "execution_count": 11,
     "metadata": {},
     "output_type": "execute_result"
    }
   ],
   "source": [
    "sample_doc_in = {\n",
    "    \"Tags\": [\n",
    "        {\"Key\": \"ASSET\", \"Value\": \"in_the_list\"},\n",
    "    ],\n",
    "    \"CreatedTime\": \"2020-10-17T18:00:00Z\"\n",
    "}\n",
    "now = \"2020-10-17T18:19:20Z\"\n",
    "activation_in = {\n",
    "    \"Resource\": celpy.adapter.json_to_cel(sample_doc_in),\n",
    "    \"Now\": celpy.celtypes.TimestampType(\"2020-10-17T18:19:20Z\"),\n",
    "}\n",
    "filter_1.process(json_to_cel(sample_doc_in), now)"
   ]
  },
  {
   "cell_type": "code",
   "execution_count": 13,
   "metadata": {},
   "outputs": [
    {
     "name": "stdout",
     "output_type": "stream",
     "text": [
      "Reading s3://cloud-governance/custodian/asset_list.json in json\n"
     ]
    },
    {
     "data": {
      "text/plain": [
       "False"
      ]
     },
     "execution_count": 13,
     "metadata": {},
     "output_type": "execute_result"
    }
   ],
   "source": [
    "sample_doc_not_in = {\n",
    "    \"Tags\": [\n",
    "        {\"Key\": \"ASSET\", \"Value\": \"not_in_the_list\"},\n",
    "    ],\n",
    "    \"CreatedTime\": \"2020-10-17T18:00:00Z\"\n",
    "}\n",
    "filter_1.process(json_to_cel(sample_doc_not_in), now)"
   ]
  },
  {
   "cell_type": "markdown",
   "metadata": {},
   "source": [
    "## Debugging Approach\n",
    "\n",
    "Breaking the CEL (or the resource description) into pieces, and evaluating each piece."
   ]
  },
  {
   "cell_type": "code",
   "execution_count": 14,
   "metadata": {},
   "outputs": [
    {
     "name": "stdout",
     "output_type": "stream",
     "text": [
      "Reading s3://cloud-governance/custodian/asset_list.json in json\n"
     ]
    },
    {
     "data": {
      "text/plain": [
       "MapType({StringType('all_values'): MapType({StringType('name'): StringType('in_the_list')})})"
      ]
     },
     "execution_count": 14,
     "metadata": {},
     "output_type": "execute_result"
    }
   ],
   "source": [
    "jmes_path_cel_1 = \"\"\"\n",
    "value_from(\"s3://cloud-governance/custodian/asset_list.json\", \"json\")\n",
    "\"\"\"\n",
    "CELFilter(jmes_path_cel_1).process(json_to_cel(sample_doc_not_in), now)"
   ]
  },
  {
   "cell_type": "code",
   "execution_count": 15,
   "metadata": {},
   "outputs": [
    {
     "name": "stdout",
     "output_type": "stream",
     "text": [
      "Reading s3://cloud-governance/custodian/asset_list.json in json\n"
     ]
    },
    {
     "data": {
      "text/plain": [
       "ListType([StringType('in_the_list')])"
      ]
     },
     "execution_count": 15,
     "metadata": {},
     "output_type": "execute_result"
    }
   ],
   "source": [
    "jmes_path_cel_2 = \"\"\"\n",
    "value_from(\"s3://cloud-governance/custodian/asset_list.json\", \"json\")\n",
    ".jmes_path('all_values.*')\n",
    "\"\"\"\n",
    "CELFilter(jmes_path_cel_2).process(json_to_cel(sample_doc_not_in), now)"
   ]
  },
  {
   "cell_type": "code",
   "execution_count": 16,
   "metadata": {},
   "outputs": [
    {
     "name": "stdout",
     "output_type": "stream",
     "text": [
      "Reading s3://cloud-governance/custodian/asset_list.json in json\n"
     ]
    },
    {
     "data": {
      "text/plain": [
       "BoolType(True)"
      ]
     },
     "execution_count": 16,
     "metadata": {},
     "output_type": "execute_result"
    }
   ],
   "source": [
    "jmes_path_cel_3 = \"\"\"\n",
    "value_from(\"s3://cloud-governance/custodian/asset_list.json\", \"json\")\n",
    ".jmes_path('all_values.*').contains(\"in_the_list\")\n",
    "\"\"\"\n",
    "CELFilter(jmes_path_cel_3).process(json_to_cel(sample_doc_not_in), now)"
   ]
  },
  {
   "cell_type": "code",
   "execution_count": null,
   "metadata": {},
   "outputs": [],
   "source": []
  }
 ],
 "metadata": {
  "kernelspec": {
   "display_name": "Python 3",
   "language": "python",
   "name": "python3"
  },
  "language_info": {
   "codemirror_mode": {
    "name": "ipython",
    "version": 3
   },
   "file_extension": ".py",
   "mimetype": "text/x-python",
   "name": "python",
   "nbconvert_exporter": "python",
   "pygments_lexer": "ipython3",
   "version": "3.9.0"
  }
 },
 "nbformat": 4,
 "nbformat_minor": 4
}
