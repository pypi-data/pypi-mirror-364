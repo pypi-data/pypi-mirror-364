{
 "cells": [
  {
   "cell_type": "markdown",
   "metadata": {
    "slideshow": {
     "slide_type": "slide"
    },
    "tags": [
     "Title"
    ]
   },
   "source": [
    "# CEL -- Common Expression Language"
   ]
  },
  {
   "cell_type": "markdown",
   "metadata": {
    "slideshow": {
     "slide_type": "slide"
    }
   },
   "source": [
    "## Agenda\n",
    "\n",
    "- Why CEL?\n",
    "\n",
    "- About CEL\n",
    "\n",
    "- Processing\n",
    "\n",
    "- Lark Implementation Details\n",
    "\n",
    "- Underlying Python Techniques\n",
    "\n",
    "- Extension Functions"
   ]
  },
  {
   "cell_type": "markdown",
   "metadata": {
    "slideshow": {
     "slide_type": "slide"
    }
   },
   "source": [
    "## Why CEL?\n",
    "\n",
    "https://github.com/cloud-custodian/cloud-custodian/issues/5759\n",
    "\n",
    "The Cloud Custodian (C7N) Domain Specific Language (DSL) for policy filters isn't terribly flexible and can be opaque.\n",
    "\n",
    "The CEL language can be more extensible and easier to reason about without sacrificing performance."
   ]
  },
  {
   "cell_type": "markdown",
   "metadata": {
    "slideshow": {
     "slide_type": "slide"
    }
   },
   "source": [
    "## About CEL\n",
    "\n",
    "These are the objectives of the CEL implementation.\n",
    "\n",
    "- Keep it small & fast.\n",
    "\n",
    "- Make it extensible.\n",
    "\n",
    "- Developer-friendly.  Similar to C/C++/Java/JavaScript."
   ]
  },
  {
   "cell_type": "markdown",
   "metadata": {},
   "source": [
    "CEL is similar to\n",
    "\n",
    "- Shell `expr` command\n",
    "\n",
    "- The `jq` command\n",
    "\n",
    "- Shell `test` command\n",
    "\n",
    "It has the advantage of being embeddable into other applications, i.e., C7N."
   ]
  },
  {
   "cell_type": "markdown",
   "metadata": {
    "slideshow": {
     "slide_type": "slide"
    }
   },
   "source": [
    "## Processing\n",
    "\n",
    "CEL works like this, given an expression. ``355. / 113.``\n",
    "\n",
    "1. Create an environment. The default is generally all we need. \n",
    "\n",
    "2. Parse to create an Abstract Syntax Tree. Created by a `lark` parser.  ``Tree('expr', [Tree('literal', [Token]), Tree('literal', [Token])])``.\n",
    "\n",
    "3. Compile to produce an executable form. This is when external functions can be bound to the expression. (In the pure Python implementation, we do nothing.)\n",
    "\n",
    "4. (Optional) Create an \"activation\" with global variables that need to be available. (None for this example.)\n",
    "\n",
    "4. Apply the executable expression to variables in the activation to compute a response."
   ]
  },
  {
   "cell_type": "code",
   "execution_count": 5,
   "metadata": {
    "slideshow": {
     "slide_type": "slide"
    }
   },
   "outputs": [
    {
     "data": {
      "text/plain": [
       "DoubleType(3.1415929203539825)"
      ]
     },
     "execution_count": 5,
     "metadata": {},
     "output_type": "execute_result"
    }
   ],
   "source": [
    "import celpy\n",
    "env = celpy.Environment()\n",
    "ast = env.compile(\"355. / 113.\")\n",
    "prgm = env.program(ast)\n",
    "prgm.evaluate({})"
   ]
  },
  {
   "cell_type": "markdown",
   "metadata": {
    "slideshow": {
     "slide_type": "slide"
    }
   },
   "source": [
    "## Lark Implementation\n",
    "\n",
    "Build around the Lark parser generator. https://lark-parser.readthedocs.io/en/latest/\n",
    "\n",
    "Build on top of ``celtypes`` module providing Go-like semantics in Python\n",
    "\n",
    "-   Lexical Scanning finds language tokens: int, float, identifier, operator, etc.\n",
    "  \n",
    "-   Parsing recognizes higher-level (possibly recursive) constructs.\n",
    "\n",
    "-   Final \"evaluator\" is a Lark ``Interpreter`` subclass\n",
    "\n",
    "    -  Walks the tree of parsed constructs"
   ]
  },
  {
   "cell_type": "markdown",
   "metadata": {
    "slideshow": {
     "slide_type": "slide"
    }
   },
   "source": [
    "### Lark EBNF Tokens\n",
    "\n",
    "Look like Regular Expressions. With a few added features.\n",
    "\n",
    "```\n",
    "UINT_LIT       : INT_LIT /[uU]/\n",
    "\n",
    "INT_LIT        : /-?/ /0x/ HEXDIGIT+ | /-?/ DIGIT+\n",
    "\n",
    "DIGIT          : /[0-9]/\n",
    "\n",
    "HEXDIGIT       : /[0-9abcdefABCDEF]/\n",
    "```"
   ]
  },
  {
   "cell_type": "markdown",
   "metadata": {
    "slideshow": {
     "slide_type": "slide"
    }
   },
   "source": [
    "### Lark EBNF Grammar Productions\n",
    "\n",
    "Extended Backus-Naur Form -- summarizes the grammar\n",
    "\n",
    "```\n",
    "expr           : conditionalor [\"?\" conditionalor \":\" expr]\n",
    "\n",
    "conditionalor  : [conditionalor \"||\"] conditionaland\n",
    "\n",
    "conditionaland : [conditionaland \"&&\"] relation\n",
    "\n",
    "relation       : [relation_lt | relation_le | relation_ge | relation_gt | relation_eq | relation_ne | relation_in] addition\n",
    "```"
   ]
  },
  {
   "cell_type": "markdown",
   "metadata": {
    "slideshow": {
     "slide_type": "slide"
    }
   },
   "source": [
    "### Final Evaluator -- Lark Interpreter Methods\n",
    "\n",
    "1. Lookup the operator in the CEL operator-to-function mapping. (e.g., addition is \"_+_\").\n",
    "\n",
    "2. Visit the children to get the operands.\n",
    "\n",
    "3. Apply the function to the operands.  Build a ``CELEvalError`` if it doesn't work."
   ]
  },
  {
   "cell_type": "markdown",
   "metadata": {
    "slideshow": {
     "slide_type": "slide"
    }
   },
   "source": [
    "### Example Method\n",
    "\n",
    "```\n",
    "    func = self.functions[\"_?_:_\"]\n",
    "    cond_value, left, right = cast(Tuple[Result, Result, Result], self.visit_children(tree))\n",
    "    try:\n",
    "        return func(cond_value, left, right)\n",
    "    except TypeError as ex:\n",
    "        logger.debug(f\"{func.__name__}({left}, {right}) --> {ex}\")\n",
    "        err = (\n",
    "            f\"found no matching overload for _?_:_ \"\n",
    "            f\"applied to '({type(cond_value)}, {type(left)}, {type(right)})'\"\n",
    "        )\n",
    "        value = CELEvalError(err, ex.__class__, ex.args, tree=tree)\n",
    "        value.__cause__ = ex\n",
    "        return value\n",
    "```"
   ]
  },
  {
   "cell_type": "markdown",
   "metadata": {},
   "source": [
    "## Python Techniques\n",
    "\n",
    "- Handling ``CELEvalError``\n",
    "\n",
    "- Go-isms\n",
    "\n",
    "- The ``celtypes`` module"
   ]
  },
  {
   "cell_type": "markdown",
   "metadata": {},
   "source": [
    "### Handling ``CELEvalError``\n",
    "\n",
    "CEL has commutative short-circuit operators.\n",
    "\n",
    "  - (Unlike Python which is left-to-right.)\n",
    "\n",
    "``(2 / 0 > 3 ? false : true) || true`` is ``true``.\n",
    "\n",
    "-  The ``2 / 0`` is an division by ezro evaluation error \n",
    "\n",
    "-  The error propagates through ``(2 / 0 > 3 ? false : true)``\n",
    "\n",
    "Most operators propagate a ``CELEvalError``.\n",
    "\n",
    "The ``||``, ``&&``, and ``?:`` implementations ignores the ``CELEvalError``."
   ]
  },
  {
   "cell_type": "markdown",
   "metadata": {},
   "source": [
    "### Go-isms\n",
    "\n",
    "Python ``//`` truncates toward negative infinity. \n",
    "\n",
    "Go ``/`` truncates toward zero.\n",
    "\n",
    "This also changes how ``%`` modulo works. \n",
    "\n",
    "This requires fiddling with signs a bit to get Go answers out of Python."
   ]
  },
  {
   "cell_type": "markdown",
   "metadata": {
    "slideshow": {
     "slide_type": "slide"
    }
   },
   "source": [
    "### celtypes type definitions\n",
    "\n",
    "We provide all of these:\n",
    "\n",
    "-   BoolType\n",
    "-   BytesType\n",
    "-   DoubleType\n",
    "-   DurationType\n",
    "-   IntType\n",
    "-   ListType\n",
    "-   MapType\n",
    "-   NullType\n",
    "-   StringType\n",
    "-   TimestampType\n",
    "-   TypeType\n",
    "-   UintType"
   ]
  },
  {
   "cell_type": "markdown",
   "metadata": {
    "slideshow": {
     "slide_type": "slide"
    }
   },
   "source": [
    "### celtypes details\n",
    "\n",
    "Here's part of the definition of ``celtypes.DoubleType``.\n",
    "\n",
    "```\n",
    "class DoubleType(float):\n",
    "    def __truediv__(self, other: Any) -> 'DoubleType':\n",
    "        if cast(float, other) == 0.0:\n",
    "            return DoubleType(\"inf\")\n",
    "        else:\n",
    "            return DoubleType(super().__truediv__(other))\n",
    "```\n",
    "\n",
    "It's essentially ``float``\n",
    "\n",
    "- But... ``a / 0`` in CEL becomes infinity instead of an exception. "
   ]
  },
  {
   "cell_type": "markdown",
   "metadata": {},
   "source": [
    "## Extension Functionsimport celpy\n",
    "env = celpy.Environment()\n",
    "ast = env.compile(\"355. / 113.\")\n",
    "prgm = env.program(ast)\n",
    "prgm.evaluate({})    >>> cel_source = \"\"\"\n",
    "    ... i.greet(you)\n",
    "    ... \"\"\"\n",
    "\n",
    "CEL Compile binds functions to the expression.  \n",
    "\n",
    "Built-in functions for each operator.\n",
    "\n",
    "Plus. Library of add-on functions available as part of compile"
   ]
  },
  {
   "cell_type": "markdown",
   "metadata": {},
   "source": [
    "Our CEL source, buried in a filter clause."
   ]
  },
  {
   "cell_type": "code",
   "execution_count": 7,
   "metadata": {},
   "outputs": [],
   "source": [
    "cel_source = \"\"\"\n",
    "i.greet(you)\n",
    "\"\"\""
   ]
  },
  {
   "cell_type": "markdown",
   "metadata": {},
   "source": [
    "This has two globals, `i` and `you`. It expects an external function, `greet`.\n",
    "We need to introduce these names into the environment. \n",
    "\n",
    "(This follows the design pattern for Go. It's not *technically* required for Python.)\n",
    "\n",
    "For C7N integration, these globals are `Resource`, `Event`, and `Now`. The `CELFilter` class has these wired in and will provide them as part of policy execution."
   ]
  },
  {
   "cell_type": "code",
   "execution_count": 8,
   "metadata": {},
   "outputs": [],
   "source": [
    "import celpy\n",
    "decls = {\n",
    "    \"i\": celpy.celtypes.StringType,\n",
    "    \"you\": celpy.celtypes.StringType,\n",
    "    \"greet\": celpy.celtypes.FunctionType}\n",
    "env = celpy.Environment(annotations=decls)"
   ]
  },
  {
   "cell_type": "markdown",
   "metadata": {},
   "source": [
    "Given these names, we can compile our original CEL source to create an AST.  The `CELFilter` class genereally does this to validate the CEL code. \n",
    "\n",
    "In principle, the additional names and types are required for function type checking. We do not do this in Python in the current release."
   ]
  },
  {
   "cell_type": "code",
   "execution_count": 11,
   "metadata": {},
   "outputs": [],
   "source": [
    "ast = env.compile(cel_source)"
   ]
  },
  {
   "cell_type": "markdown",
   "metadata": {},
   "source": [
    "Here's an extension function `greet()`. For C7N integration, the extension functions are part of `c7nlib`.  There are a lot of functions available."
   ]
  },
  {
   "cell_type": "code",
   "execution_count": 12,
   "metadata": {},
   "outputs": [],
   "source": [
    "def greet(lhs: celpy.celtypes.StringType, rhs: celpy.celtypes.StringType) -> celpy.celtypes.StringType:\n",
    "    return \"Hello {1:s}! Nice to meet you, I'm {0:s}.\\\\n\".format(lhs, rhs)"
   ]
  },
  {
   "cell_type": "markdown",
   "metadata": {},
   "source": [
    "We can  build the executable from the AST and the extension functions. The `CELFilter` class does this and caches it."
   ]
  },
  {
   "cell_type": "code",
   "execution_count": 13,
   "metadata": {},
   "outputs": [],
   "source": [
    "prgm = env.program(ast, functions=[greet])"
   ]
  },
  {
   "cell_type": "markdown",
   "metadata": {},
   "source": [
    "When evaluating the filter, the `CELFilter` class builds an activation with the global values in it. These are generally the `Resource`, the `Event`, and `Now`. "
   ]
  },
  {
   "cell_type": "code",
   "execution_count": 14,
   "metadata": {},
   "outputs": [],
   "source": [
    "activation = {\n",
    "    \"i\": \"CEL\", \n",
    "    \"you\": \"world\"\n",
    "}"
   ]
  },
  {
   "cell_type": "code",
   "execution_count": 15,
   "metadata": {},
   "outputs": [
    {
     "data": {
      "text/plain": [
       "\"Hello world! Nice to meet you, I'm CEL.\\\\n\""
      ]
     },
     "execution_count": 15,
     "metadata": {},
     "output_type": "execute_result"
    }
   ],
   "source": [
    "prgm.evaluate(activation)"
   ]
  },
  {
   "cell_type": "markdown",
   "metadata": {},
   "source": [
    "The `i.greet(you)` CEL expression was evaluated with a definition of `i`, `you`, and the `greet(lhs, rhs)` function."
   ]
  },
  {
   "cell_type": "markdown",
   "metadata": {},
   "source": [
    "In case you're curious, here's the timing for this."
   ]
  },
  {
   "cell_type": "code",
   "execution_count": 28,
   "metadata": {},
   "outputs": [
    {
     "name": "stdout",
     "output_type": "stream",
     "text": [
      "503 µs ± 17.3 µs per loop (mean ± std. dev. of 7 runs, 1000 loops each)\n"
     ]
    }
   ],
   "source": [
    "%%timeit\n",
    "\n",
    "prgm.evaluate(activation)"
   ]
  },
  {
   "cell_type": "markdown",
   "metadata": {},
   "source": [
    "This gives a common start-up cost of about 500µs for each invocation. This involves a function evaluation and the implementation of the `greet()` method"
   ]
  },
  {
   "cell_type": "markdown",
   "metadata": {
    "slideshow": {
     "slide_type": "skip"
    }
   },
   "source": [
    "## Summary\n",
    "\n",
    "C7N Filters can be restated in CEL.\n",
    "\n",
    "- A variety of operators and data types.\n",
    "\n",
    "- Logic is familiar-looking -- similar to C++, Go, Java, or bash ``expr``.\n",
    "\n",
    "- Sophisticated map/filter/existence macros available.\n",
    "\n",
    "- Reasonably transparent mapping from AWS Describe JSON to CEL Map object.\n",
    "\n",
    "- Extension functions allow access to C7N Internals as well as more complex Python functions that can't be expressed succinctly in CEL."
   ]
  },
  {
   "cell_type": "code",
   "execution_count": null,
   "metadata": {},
   "outputs": [],
   "source": []
  }
 ],
 "metadata": {
  "kernelspec": {
   "display_name": "Python 3",
   "language": "python",
   "name": "python3"
  },
  "language_info": {
   "codemirror_mode": {
    "name": "ipython",
    "version": 3
   },
   "file_extension": ".py",
   "mimetype": "text/x-python",
   "name": "python",
   "nbconvert_exporter": "python",
   "pygments_lexer": "ipython3",
   "version": "3.9.0"
  }
 },
 "nbformat": 4,
 "nbformat_minor": 4
}
