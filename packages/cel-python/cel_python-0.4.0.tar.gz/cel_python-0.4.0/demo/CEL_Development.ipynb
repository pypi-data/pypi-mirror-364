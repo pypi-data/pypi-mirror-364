{
 "cells": [
  {
   "cell_type": "markdown",
   "metadata": {},
   "source": [
    "# How to Develop CEL Filter Expressions for Cloud Custodian (C7N)\n",
    "\n",
    "See https://github.com/google/cel-spec\n",
    "\n",
    "See https://github.com/cloud-custodian/cloud-custodian/issues/5759 for the Cloud Custodian rationale for including CEL as a replacement for the filter language.\n",
    "\n",
    "We want to move from filter text in C7N DSL to CEL filter text."
   ]
  },
  {
   "cell_type": "markdown",
   "metadata": {},
   "source": [
    "## Goal\n",
    "\n",
    "Here's the target state.\n",
    "\n",
    "```\n",
    "policies:\n",
    "   - name: compute-check\n",
    "      resource: gcp.instance\n",
    "      filters:\n",
    "        - type: cel\n",
    "           expr: |\n",
    "               Resource.creationTimestamp < timestamp(\"2018-08-03T16:00:00-07:00\") &&\n",
    "               Resource.deleteProtection == false &&\n",
    "               ((Resource.name.startsWith(\n",
    "                   \"projects/project-123/zones/us-east1-b/instances/dev\") ||\n",
    "               (Resource.name.startsWith(\n",
    "                   \"projects/project-123/zones/us-east1-b/instances/prod\"))) &&\n",
    "               Resource.instanceSize == \"m1.standard\")\n",
    "```\n",
    "\n",
    "We've replaced a legacy YAML filter expression with a CEL expression using easier-to-read logic and comparison operators. \n",
    "\n",
    "C7n provides several global objects to the CEL engine:\n",
    "\n",
    "- `Resource` is the cloud resource JSON document.\n",
    "\n",
    "- `Now` is the current time (not used in this example.)\n",
    "\n",
    "- `Event` is the (optional) state change event from the cloud."
   ]
  },
  {
   "cell_type": "markdown",
   "metadata": {},
   "source": [
    "## Building an IDE\n",
    "\n",
    "There are a few things we need to test and debug a CEL expression.\n",
    "\n",
    "1. A CEL engine.\n",
    "2. Some Resource objects to test against.\n",
    "3. A way to run the CEL engine against the Resources."
   ]
  },
  {
   "cell_type": "markdown",
   "metadata": {},
   "source": [
    "## The IDE CEL Engine\n",
    "\n",
    "There are several steps to creating and evaluating a CEL expression.\n",
    "\n",
    "1. Create an environment.\n",
    "2. Parse the expression.\n",
    "3. Build a \"program\" from the expression and any additional functions required.\n",
    "4. Evaluate the program with the variable bindings.\n",
    "\n",
    "We're often happiest creating a mock `CELFilter` class we can use in a notebook to develop and test.\n",
    "We might wind up using some additional things here, but for now, this seems most helpful.\n"
   ]
  },
  {
   "cell_type": "code",
   "execution_count": 18,
   "metadata": {},
   "outputs": [],
   "source": [
    "import celpy\n",
    "from typing import Dict, Any\n",
    "\n",
    "class CELFilter:\n",
    "    decls = {\n",
    "        \"Resource\": celpy.celtypes.MapType,\n",
    "        \"Now\": celpy.celtypes.TimestampType,\n",
    "    }\n",
    "\n",
    "    def __init__(self, expr: str) -> None:\n",
    "        env = celpy.Environment(annotations=CELFilter.decls)\n",
    "        ast = env.compile(expr)\n",
    "        self.functions = {}  # c7nlib.FUNCTIONS may need to be mocked to help develop or debug.\n",
    "        self.prgm = env.program(ast, self.functions)\n",
    "        \n",
    "    def process(self, resource: celpy.celtypes.Value, now: str) -> bool:\n",
    "        activation = {\n",
    "            \"Resource\": resource,\n",
    "            \"Now\": celpy.celtypes.TimestampType(now),\n",
    "        }\n",
    "        return self.prgm.evaluate(activation)"
   ]
  },
  {
   "cell_type": "code",
   "execution_count": 19,
   "metadata": {},
   "outputs": [],
   "source": [
    "my_filter = CELFilter(\n",
    "\"\"\"\n",
    "resource.creationTimestamp < timestamp(\"2018-08-03T16:00:00-07:00\") &&\n",
    "resource.deleteProtection == false &&\n",
    "((resource.name.startsWith(\n",
    "   \"projects/project-123/zones/us-east1-b/instances/dev\") ||\n",
    "(resource.name.startsWith(\n",
    "   \"projects/project-123/zones/us-east1-b/instances/prod\"))) &&\n",
    "resource.instanceSize == \"m1.standard\")\n",
    "\"\"\"\n",
    ")"
   ]
  },
  {
   "cell_type": "code",
   "execution_count": 20,
   "metadata": {},
   "outputs": [],
   "source": [
    "example_1_doc = {\n",
    "    \"creationTimestamp\": \"2018-07-06T05:04:03Z\",\n",
    "    \"deleteProtection\": False,\n",
    "    \"name\": \"projects/project-123/zones/us-east1-b/instances/dev/ec2\",\n",
    "    \"instanceSize\": \"m1.standard\",\n",
    "}"
   ]
  },
  {
   "cell_type": "code",
   "execution_count": 21,
   "metadata": {},
   "outputs": [
    {
     "data": {
      "text/plain": [
       "BoolType(False)"
      ]
     },
     "execution_count": 21,
     "metadata": {},
     "output_type": "execute_result"
    }
   ],
   "source": [
    "my_filter.process(celpy.json_to_cel(example_1_doc), \"2018-08-04T08:00:00Z\")"
   ]
  },
  {
   "cell_type": "markdown",
   "metadata": {},
   "source": [
    "Hm. It seemed like it should have been True. "
   ]
  },
  {
   "cell_type": "markdown",
   "metadata": {},
   "source": [
    "## JSON Conversion\n",
    "\n",
    "We have a handy JSON -> CEL function available. The subtlety is that it doesn't know what's supposed to be a timestamp."
   ]
  },
  {
   "cell_type": "code",
   "execution_count": 5,
   "metadata": {},
   "outputs": [
    {
     "data": {
      "text/plain": [
       "MapType({StringType('creationTimestamp'): StringType('2018-07-06T05:04:03Z'), StringType('deleteProtection'): BoolType(False), StringType('name'): StringType('projects/project-123/zones/us-east1-b/instances/dev/ec2'), StringType('instanceSize'): StringType('m1.standard')})"
      ]
     },
     "execution_count": 5,
     "metadata": {},
     "output_type": "execute_result"
    }
   ],
   "source": [
    "import json\n",
    "document = json.loads(\n",
    "\"\"\"\n",
    "{\n",
    "    \"creationTimestamp\": \"2018-07-06T05:04:03Z\",\n",
    "    \"deleteProtection\": false,\n",
    "    \"name\": \"projects/project-123/zones/us-east1-b/instances/dev/ec2\",\n",
    "    \"instanceSize\": \"m1.standard\"\n",
    "}\n",
    "\"\"\"\n",
    ")\n",
    "\n",
    "example_2_doc = celpy.json_to_cel(document)\n",
    "example_2_doc"
   ]
  },
  {
   "cell_type": "code",
   "execution_count": 6,
   "metadata": {},
   "outputs": [
    {
     "data": {
      "text/plain": [
       "BoolType(False)"
      ]
     },
     "execution_count": 6,
     "metadata": {},
     "output_type": "execute_result"
    }
   ],
   "source": [
    "my_filter.process(example_2_doc, \"2018-08-04T08:00:00Z\")"
   ]
  },
  {
   "cell_type": "markdown",
   "metadata": {},
   "source": [
    "We often have a problem with resources not the right data type.\n",
    "In this case, we're comparing strings with timestamps, which is (effectively) False\n",
    "\n",
    "We have some choices:\n",
    "\n",
    "- Conversion in CEL. This is robust and clear.\n",
    "\n",
    "- Conversion of the source document before CEL evaluation. This can depend on C7N integration features. This (in turn) requires a careful definition of the source schema for the JSON in order to perform the conversions. This seems fraught with potential complexities."
   ]
  },
  {
   "cell_type": "markdown",
   "metadata": {},
   "source": [
    "## Conversion in CEL\n",
    "\n",
    "We can convert input strings to more useful CEL types explicitly. \n",
    "\n",
    "Instead of `Resource.creationTimestamp`, we use `timestamp(Resource.creationTimestamp)`. "
   ]
  },
  {
   "cell_type": "code",
   "execution_count": 16,
   "metadata": {},
   "outputs": [],
   "source": [
    "CEL2 = \"\"\"\n",
    "timestamp(Resource.creationTimestamp) < timestamp(\"2018-08-03T16:00:00-07:00\") &&\n",
    "! Resource.deleteProtection &&\n",
    "((Resource.name.startsWith(\n",
    "   \"projects/project-123/zones/us-east1-b/instances/dev\") ||\n",
    "(Resource.name.startsWith(\n",
    "   \"projects/project-123/zones/us-east1-b/instances/prod\"))) &&\n",
    "Resource.instanceSize == \"m1.standard\")\n",
    "\"\"\"\n",
    "my_filter_2 = CELFilter(CEL2)"
   ]
  },
  {
   "cell_type": "code",
   "execution_count": 17,
   "metadata": {},
   "outputs": [
    {
     "data": {
      "text/plain": [
       "BoolType(True)"
      ]
     },
     "execution_count": 17,
     "metadata": {},
     "output_type": "execute_result"
    }
   ],
   "source": [
    "my_filter_2.process(example_2_doc, \"2018-08-04T08:00:00Z\")"
   ]
  },
  {
   "cell_type": "markdown",
   "metadata": {},
   "source": [
    "Yay! \n",
    "\n",
    "Let's review and see how this changed things?"
   ]
  },
  {
   "cell_type": "markdown",
   "metadata": {},
   "source": [
    "## Digging into details\n",
    "\n",
    "We have a document, `example_2_doc`. Let's create a `now` object to work with, also. \n",
    "\n",
    "We can evaluate different sub-expressions with our document and now value."
   ]
  },
  {
   "cell_type": "code",
   "execution_count": 9,
   "metadata": {},
   "outputs": [],
   "source": [
    "now = \"2018-08-04T08:00:00Z\""
   ]
  },
  {
   "cell_type": "code",
   "execution_count": 15,
   "metadata": {},
   "outputs": [
    {
     "data": {
      "text/plain": [
       "StringType('2018-07-06T05:04:03Z')"
      ]
     },
     "execution_count": 15,
     "metadata": {},
     "output_type": "execute_result"
    }
   ],
   "source": [
    "CELFilter(\"Resource.creationTimestamp\").process(example_2_doc, now)"
   ]
  },
  {
   "cell_type": "markdown",
   "metadata": {},
   "source": [
    "Ah. It's a string. We needed to make it a timestamp."
   ]
  },
  {
   "cell_type": "code",
   "execution_count": 10,
   "metadata": {},
   "outputs": [
    {
     "data": {
      "text/plain": [
       "TimestampType('2018-07-06T05:04:03Z')"
      ]
     },
     "execution_count": 10,
     "metadata": {},
     "output_type": "execute_result"
    }
   ],
   "source": [
    "CELFilter(\"timestamp(Resource.creationTimestamp)\").process(example_2_doc, now)"
   ]
  },
  {
   "cell_type": "code",
   "execution_count": 11,
   "metadata": {},
   "outputs": [
    {
     "data": {
      "text/plain": [
       "BoolType(False)"
      ]
     },
     "execution_count": 11,
     "metadata": {},
     "output_type": "execute_result"
    }
   ],
   "source": [
    "CELFilter(\"Resource.deleteProtection\").process(example_2_doc, now)"
   ]
  },
  {
   "cell_type": "code",
   "execution_count": 12,
   "metadata": {},
   "outputs": [
    {
     "data": {
      "text/plain": [
       "BoolType(True)"
      ]
     },
     "execution_count": 12,
     "metadata": {},
     "output_type": "execute_result"
    }
   ],
   "source": [
    "CELFilter(\"\"\"\n",
    "(Resource.name.startsWith(\n",
    "   \"projects/project-123/zones/us-east1-b/instances/dev\") ||\n",
    "(Resource.name.startsWith(\n",
    "   \"projects/project-123/zones/us-east1-b/instances/prod\")))\n",
    "\"\"\").process(example_2_doc, now)"
   ]
  },
  {
   "cell_type": "markdown",
   "metadata": {},
   "source": [
    "## Visibility via logger\n",
    "\n",
    "We can enable logging. In a notebook, we have to be careful because the log lines will go to the notebook log if we're not careful. We want to have our own handlers to capture the output in a separate file.\n",
    "\n",
    "And, yes, this can be **verbose**. Suggestions are welcome.\n",
    "\n",
    "This is generally not recommended unless you suspect you've found a bug in CEL or c7nlib."
   ]
  },
  {
   "cell_type": "code",
   "execution_count": 13,
   "metadata": {},
   "outputs": [],
   "source": [
    "import logging\n",
    "logging.basicConfig()\n",
    "logging.getLogger('').setLevel(logging.WARNING)\n",
    "# logging.getLogger('').setLevel(logging.INFO)  # kind of loud."
   ]
  },
  {
   "cell_type": "code",
   "execution_count": 14,
   "metadata": {},
   "outputs": [
    {
     "data": {
      "text/plain": [
       "BoolType(False)"
      ]
     },
     "execution_count": 14,
     "metadata": {},
     "output_type": "execute_result"
    }
   ],
   "source": [
    "CELFilter(\"Resource.deleteProtection\").process(example_2_doc, now)"
   ]
  },
  {
   "cell_type": "markdown",
   "metadata": {},
   "source": [
    "## Summary\n",
    "\n",
    "Creating a CEL filter means bringing two things together:\n",
    "\n",
    "- CEL text \n",
    "\n",
    "- External library functions.\n",
    "\n",
    "Processing a CEL filter means applying the filter against a resource:\n",
    "\n",
    "- The CELFilter instance is applied to a resource to compute a filter result (True or False)"
   ]
  },
  {
   "cell_type": "markdown",
   "metadata": {},
   "source": [
    "It helps to build a small `CELFilter` placeholder to help us design and debug CEL expressions.\n",
    "\n",
    "Details vary slightly, it's difficult to postulate a single, standard design.\n",
    "\n",
    "We can then provide one or more document examples to determine if the filter works.\n",
    "\n",
    "We can also evaluate pieces and parts of the overall filter expression to determine if the document is processed correctly."
   ]
  },
  {
   "cell_type": "code",
   "execution_count": null,
   "metadata": {},
   "outputs": [],
   "source": []
  }
 ],
 "metadata": {
  "kernelspec": {
   "display_name": "Python 3",
   "language": "python",
   "name": "python3"
  },
  "language_info": {
   "codemirror_mode": {
    "name": "ipython",
    "version": 3
   },
   "file_extension": ".py",
   "mimetype": "text/x-python",
   "name": "python",
   "nbconvert_exporter": "python",
   "pygments_lexer": "ipython3",
   "version": "3.9.0"
  }
 },
 "nbformat": 4,
 "nbformat_minor": 4
}
