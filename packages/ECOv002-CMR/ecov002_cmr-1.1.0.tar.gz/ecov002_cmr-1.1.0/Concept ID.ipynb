{
 "cells": [
  {
   "cell_type": "code",
   "execution_count": 1,
   "metadata": {},
   "outputs": [],
   "source": [
    "from ECOv002_CMR import *"
   ]
  },
  {
   "cell_type": "code",
   "execution_count": 2,
   "metadata": {},
   "outputs": [],
   "source": [
    "# concept_ID_from_DOI(L1CT_RAD_DOI)"
   ]
  },
  {
   "cell_type": "code",
   "execution_count": 3,
   "metadata": {},
   "outputs": [
    {
     "name": "stdout",
     "output_type": "stream",
     "text": [
      "https://cmr.earthdata.nasa.gov/search/collections.json?doi=10.5067/ECOSTRESS/ECO_L2T_LSTE.002\n"
     ]
    },
    {
     "data": {
      "text/plain": [
       "'C2076090826-LPCLOUD'"
      ]
     },
     "execution_count": 3,
     "metadata": {},
     "output_type": "execute_result"
    }
   ],
   "source": [
    "concept_ID_from_DOI(L2T_LSTE_DOI)"
   ]
  },
  {
   "cell_type": "code",
   "execution_count": 4,
   "metadata": {},
   "outputs": [
    {
     "name": "stdout",
     "output_type": "stream",
     "text": [
      "https://cmr.earthdata.nasa.gov/search/collections.json?doi=10.5067/ECOSTRESS/ECO_L2T_STARS.002\n"
     ]
    },
    {
     "data": {
      "text/plain": [
       "'C2090073749-LPCLOUD'"
      ]
     },
     "execution_count": 4,
     "metadata": {},
     "output_type": "execute_result"
    }
   ],
   "source": [
    "concept_ID_from_DOI(L2T_STARS_DOI)"
   ]
  },
  {
   "cell_type": "code",
   "execution_count": 6,
   "metadata": {},
   "outputs": [
    {
     "name": "stdout",
     "output_type": "stream",
     "text": [
      "https://cmr.earthdata.nasa.gov/search/collections.json?doi=10.5067/ECOSTRESS/ECO_L3T_MET.002\n"
     ]
    },
    {
     "data": {
      "text/plain": [
       "'C2074877891-LPCLOUD'"
      ]
     },
     "execution_count": 6,
     "metadata": {},
     "output_type": "execute_result"
    }
   ],
   "source": [
    "concept_ID_from_DOI(L3T_MET_DOI)"
   ]
  },
  {
   "cell_type": "code",
   "execution_count": 7,
   "metadata": {},
   "outputs": [
    {
     "name": "stdout",
     "output_type": "stream",
     "text": [
      "https://cmr.earthdata.nasa.gov/search/collections.json?doi=10.5067/ECOSTRESS/ECO_L3T_SM.002\n"
     ]
    },
    {
     "data": {
      "text/plain": [
       "'C2074860916-LPCLOUD'"
      ]
     },
     "execution_count": 7,
     "metadata": {},
     "output_type": "execute_result"
    }
   ],
   "source": [
    "concept_ID_from_DOI(L3T_SM_DOI)"
   ]
  },
  {
   "cell_type": "code",
   "execution_count": 8,
   "metadata": {},
   "outputs": [
    {
     "name": "stdout",
     "output_type": "stream",
     "text": [
      "https://cmr.earthdata.nasa.gov/search/collections.json?doi=10.5067/ECOSTRESS/ECO_L3T_SEB.002\n"
     ]
    },
    {
     "data": {
      "text/plain": [
       "'C2074852168-LPCLOUD'"
      ]
     },
     "execution_count": 8,
     "metadata": {},
     "output_type": "execute_result"
    }
   ],
   "source": [
    "concept_ID_from_DOI(L3T_SEB_DOI)"
   ]
  },
  {
   "cell_type": "code",
   "execution_count": 5,
   "metadata": {},
   "outputs": [
    {
     "name": "stdout",
     "output_type": "stream",
     "text": [
      "https://cmr.earthdata.nasa.gov/search/collections.json?doi=10.5067/ECOSTRESS/ECO_L3T_JET.002\n"
     ]
    },
    {
     "data": {
      "text/plain": [
       "'C2076106409-LPCLOUD'"
      ]
     },
     "execution_count": 5,
     "metadata": {},
     "output_type": "execute_result"
    }
   ],
   "source": [
    "concept_ID_from_DOI(L3T_JET_DOI)"
   ]
  },
  {
   "cell_type": "code",
   "execution_count": 9,
   "metadata": {},
   "outputs": [
    {
     "name": "stdout",
     "output_type": "stream",
     "text": [
      "https://cmr.earthdata.nasa.gov/search/collections.json?doi=10.5067/ECOSTRESS/ECO_L4T_ESI.002\n"
     ]
    },
    {
     "data": {
      "text/plain": [
       "'C2076104650-LPCLOUD'"
      ]
     },
     "execution_count": 9,
     "metadata": {},
     "output_type": "execute_result"
    }
   ],
   "source": [
    "concept_ID_from_DOI(L4T_ESI_DOI)"
   ]
  },
  {
   "cell_type": "code",
   "execution_count": 10,
   "metadata": {},
   "outputs": [
    {
     "name": "stdout",
     "output_type": "stream",
     "text": [
      "https://cmr.earthdata.nasa.gov/search/collections.json?doi=10.5067/ECOSTRESS/ECO_L4T_WUE.002\n"
     ]
    },
    {
     "data": {
      "text/plain": [
       "'C2076102081-LPCLOUD'"
      ]
     },
     "execution_count": 10,
     "metadata": {},
     "output_type": "execute_result"
    }
   ],
   "source": [
    "concept_ID_from_DOI(L4T_WUE_DOI)"
   ]
  },
  {
   "cell_type": "code",
   "execution_count": null,
   "metadata": {},
   "outputs": [],
   "source": []
  }
 ],
 "metadata": {
  "kernelspec": {
   "display_name": "ECOv002-CMR",
   "language": "python",
   "name": "python3"
  },
  "language_info": {
   "codemirror_mode": {
    "name": "ipython",
    "version": 3
   },
   "file_extension": ".py",
   "mimetype": "text/x-python",
   "name": "python",
   "nbconvert_exporter": "python",
   "pygments_lexer": "ipython3",
   "version": "3.11.10"
  }
 },
 "nbformat": 4,
 "nbformat_minor": 2
}
