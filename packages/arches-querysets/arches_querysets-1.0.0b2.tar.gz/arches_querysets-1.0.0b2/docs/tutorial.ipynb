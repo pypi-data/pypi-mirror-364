{
 "cells": [
  {
   "cell_type": "code",
   "execution_count": 1,
   "id": "811ae4ec",
   "metadata": {},
   "outputs": [
    {
     "name": "stdout",
     "output_type": "stream",
     "text": [
      "Deleting test data...\n",
      "Finished!\n",
      "Creating test data...\n",
      "Finished!\n"
     ]
    }
   ],
   "source": [
    "import os\n",
    "\n",
    "import django\n",
    "from django.core.management import call_command\n",
    "\n",
    "# Simulate manage.py\n",
    "os.environ[\"DJANGO_SETTINGS_MODULE\"] = \"arches_querysets.settings\"\n",
    "os.environ[\"DJANGO_ALLOW_ASYNC_UNSAFE\"] = \"true\"\n",
    "django.setup()\n",
    "\n",
    "call_command(\"delete_test_data\")\n",
    "call_command(\"add_test_data\")"
   ]
  },
  {
   "cell_type": "code",
   "execution_count": 2,
   "id": "885342b8",
   "metadata": {},
   "outputs": [
    {
     "name": "stdout",
     "output_type": "stream",
     "text": [
      "AliasedData(datatypes_1=<TileTree: datatypes_1 (ee6df8cb-2988-45c3-ab0f-b9bdee91b34e)>, datatypes_n=[<TileTree: datatypes_n (68f90a43-613a-401c-b565-bc4c473258bd)>])\n",
      "AliasedData(string={'en': {'value': 'forty-two', 'direction': 'ltr'}}, number=42, concept=<Value: Value object (d8c60bf4-e786-11e6-905a-b756ec83dad5)>, concept_list=[<Value: Value object (d8c60bf4-e786-11e6-905a-b756ec83dad5)>], date='2042-04-02', node_value='ee6df8cb-2988-45c3-ab0f-b9bdee91b34e', edtf=None, annotation=None, url={'url': 'http://www.42.com/', 'url_label': '42.com'}, resource_instance=<ResourceInstance: Datatype Lookups: Resource referencing 42 (de9ac93c-2485-4355-b3d5-80faf0472e9c)>, resource_instance_list=[<ResourceInstance: Datatype Lookups: Resource referencing 42 (de9ac93c-2485-4355-b3d5-80faf0472e9c)>], boolean=True, domain_value=None, domain_value_list=None, non_localized_string='forty-two', geojson_feature_collection=None, file_list=[{'url': 'http://www.archesproject.org/blog/static/42.png', 'name': '42_accessibility_improvements.png', 'size': 2042, 'type': 'image/png', 'index': 0, 'title': {'en': {'value': '42 Accessibility Improvements', 'direction': 'ltr'}}, 'width': 2042, 'height': 2042, 'status': 'added', 'altText': {'en': {'value': 'Illustration of recent accessibility improvements', 'direction': 'ltr'}}, 'content': 'blob:http://localhost:8000/e7c46047-9f15-4b3f-b34e-0d3f3a0e5324', 'file_id': 'fc208a34-5381-43ae-88d0-8e027dcc946b', 'accepted': True, 'attribution': {'en': {'value': 'Arches', 'direction': 'ltr'}}, 'description': {'en': {'value': 'Recent versions of arches have 42 improved accessibility characteristics.', 'direction': 'ltr'}}, 'lastModified': 1723503486969}])\n"
     ]
    }
   ],
   "source": [
    "from arches_querysets.models import *\n",
    "\n",
    "resource = ResourceTileTree.get_tiles(graph_slug=\"datatype_lookups\").exclude(url=None).get()\n",
    "print(resource.aliased_data)\n",
    "print(resource.aliased_data.datatypes_1.aliased_data)"
   ]
  },
  {
   "cell_type": "code",
   "execution_count": 3,
   "id": "bf386781",
   "metadata": {},
   "outputs": [
    {
     "name": "stdout",
     "output_type": "stream",
     "text": [
      "AliasedData(datatypes_1=<TileTree: datatypes_1 (ee6df8cb-2988-45c3-ab0f-b9bdee91b34e)>,\n",
      "            datatypes_n=[<TileTree: datatypes_n (68f90a43-613a-401c-b565-bc4c473258bd)>])\n",
      "AliasedData(string={'display_value': 'forty-two',\n",
      "                    'node_value': {'en': {'direction': 'ltr',\n",
      "                                          'value': 'forty-two'}}},\n",
      "            number={'display_value': '42', 'node_value': 42},\n",
      "            concept={'details': {'concept_id': '00000000-0000-0000-0000-000000000001',\n",
      "                                 'language_id': 'en',\n",
      "                                 'value': 'Arches',\n",
      "                                 'valueid': 'd8c60bf4-e786-11e6-905a-b756ec83dad5',\n",
      "                                 'valuetype_id': 'prefLabel'},\n",
      "                     'display_value': 'Arches',\n",
      "                     'node_value': 'd8c60bf4-e786-11e6-905a-b756ec83dad5'},\n",
      "            concept_list={'details': [{'concept_id': '00000000-0000-0000-0000-000000000001',\n",
      "                                       'language_id': 'en',\n",
      "                                       'value': 'Arches',\n",
      "                                       'valueid': 'd8c60bf4-e786-11e6-905a-b756ec83dad5',\n",
      "                                       'valuetype_id': 'prefLabel'}],\n",
      "                          'display_value': 'Arches',\n",
      "                          'node_value': ['d8c60bf4-e786-11e6-905a-b756ec83dad5']},\n",
      "            date={'display_value': '2042-04-02', 'node_value': '2042-04-02'},\n",
      "            node_value={'display_value': '2042-04-02',\n",
      "                        'node_value': 'ee6df8cb-2988-45c3-ab0f-b9bdee91b34e'},\n",
      "            edtf={'display_value': '(Empty)', 'node_value': None},\n",
      "            annotation={'display_value': '(Empty)', 'node_value': None},\n",
      "            url={'display_value': '{\"url\": \"http://www.42.com/\", \"url_label\": '\n",
      "                                  '\"42.com\"}',\n",
      "                 'node_value': {'url': 'http://www.42.com/',\n",
      "                                'url_label': '42.com'}},\n",
      "            resource_instance={'details': [{'display_value': 'Resource '\n",
      "                                                             'referencing 42',\n",
      "                                            'resource_id': 'de9ac93c-2485-4355-b3d5-80faf0472e9c'}],\n",
      "                               'display_value': 'Resource referencing 42',\n",
      "                               'node_value': [{'inverseOntologyProperty': '',\n",
      "                                               'ontologyProperty': '',\n",
      "                                               'resourceId': 'de9ac93c-2485-4355-b3d5-80faf0472e9c'}]},\n",
      "            resource_instance_list={'details': [{'display_value': 'Resource '\n",
      "                                                                  'referencing '\n",
      "                                                                  '42',\n",
      "                                                 'resource_id': 'de9ac93c-2485-4355-b3d5-80faf0472e9c'}],\n",
      "                                    'display_value': 'Resource referencing 42',\n",
      "                                    'node_value': [{'inverseOntologyProperty': '',\n",
      "                                                    'ontologyProperty': '',\n",
      "                                                    'resourceId': 'de9ac93c-2485-4355-b3d5-80faf0472e9c'}]},\n",
      "            boolean={'display_value': 'True', 'node_value': True},\n",
      "            domain_value={'display_value': '(Empty)', 'node_value': None},\n",
      "            domain_value_list={'display_value': '(Empty)', 'node_value': None},\n",
      "            non_localized_string={'display_value': 'forty-two',\n",
      "                                  'node_value': 'forty-two'},\n",
      "            geojson_feature_collection={'display_value': '(Empty)',\n",
      "                                        'node_value': None},\n",
      "            file_list={'display_value': 'http://www.archesproject.org/blog/static/42.png',\n",
      "                       'node_value': [{'accepted': True,\n",
      "                                       'altText': {'en': {'direction': 'ltr',\n",
      "                                                          'value': 'Illustration '\n",
      "                                                                   'of recent '\n",
      "                                                                   'accessibility '\n",
      "                                                                   'improvements'}},\n",
      "                                       'attribution': {'en': {'direction': 'ltr',\n",
      "                                                              'value': 'Arches'}},\n",
      "                                       'content': 'blob:http://localhost:8000/e7c46047-9f15-4b3f-b34e-0d3f3a0e5324',\n",
      "                                       'description': {'en': {'direction': 'ltr',\n",
      "                                                              'value': 'Recent '\n",
      "                                                                       'versions '\n",
      "                                                                       'of '\n",
      "                                                                       'arches '\n",
      "                                                                       'have '\n",
      "                                                                       '42 '\n",
      "                                                                       'improved '\n",
      "                                                                       'accessibility '\n",
      "                                                                       'characteristics.'}},\n",
      "                                       'file_id': 'fc208a34-5381-43ae-88d0-8e027dcc946b',\n",
      "                                       'height': 2042,\n",
      "                                       'index': 0,\n",
      "                                       'lastModified': 1723503486969,\n",
      "                                       'name': '42_accessibility_improvements.png',\n",
      "                                       'size': 2042,\n",
      "                                       'status': 'added',\n",
      "                                       'title': {'en': {'direction': 'ltr',\n",
      "                                                        'value': '42 '\n",
      "                                                                 'Accessibility '\n",
      "                                                                 'Improvements'}},\n",
      "                                       'type': 'image/png',\n",
      "                                       'url': 'http://www.archesproject.org/blog/static/42.png',\n",
      "                                       'width': 2042}]})\n"
     ]
    }
   ],
   "source": [
    "resource = ResourceTileTree.get_tiles(\n",
    "    graph_slug=\"datatype_lookups\", as_representation=True\n",
    ").exclude(url=None).get()\n",
    "\n",
    "from pprint import pprint\n",
    "pprint(resource.aliased_data)\n",
    "pprint(resource.aliased_data.datatypes_1.aliased_data)"
   ]
  },
  {
   "cell_type": "code",
   "execution_count": 4,
   "id": "7c098fc8",
   "metadata": {},
   "outputs": [
    {
     "data": {
      "text/plain": [
       "{'node_value': {'en': {'value': 'forty-two', 'direction': 'ltr'}},\n",
       " 'display_value': 'forty-two'}"
      ]
     },
     "execution_count": 4,
     "metadata": {},
     "output_type": "execute_result"
    }
   ],
   "source": [
    "test_resources = ResourceTileTree.get_tiles(\"datatype_lookups\", as_representation=True)\n",
    "# This \"shallow\" lookup works whether or not the node is nested (todo: add test case)\n",
    "resource = test_resources.filter(string__any_lang_contains=\"forty\").first()\n",
    "resource.aliased_data.datatypes_1.aliased_data.string"
   ]
  },
  {
   "cell_type": "code",
   "execution_count": null,
   "id": "109f66c0",
   "metadata": {},
   "outputs": [
    {
     "data": {
      "text/plain": [
       "{'2': {'value': {'10c37b4a-58a2-4403-b5cb-e59f7664f0a5': None,\n",
       "   '1bcb95e2-92b7-4688-9d6b-f07b0bea304b': None,\n",
       "   '23e7d826-635a-43d1-8152-fce1ac9e8b69': {'en': {'value': 'forty-three',\n",
       "     'direction': 'ltr'}},\n",
       "   '31681ba4-c3f0-4a7a-922d-e033347e5dff': True,\n",
       "   '74637e6f-bca4-4f41-b4b1-497f89f95def': [{'resourceId': 'de9ac93c-2485-4355-b3d5-80faf0472e9c',\n",
       "     'ontologyProperty': '',\n",
       "     'resourceXresourceId': '7467bb75-ec45-4e32-8dce-ba16850fa86d',\n",
       "     'inverseOntologyProperty': ''}],\n",
       "   '76bda89b-18f8-401b-88ce-e70433e49242': None,\n",
       "   '8486491d-035d-44d7-a833-585f721456a0': 'forty-two',\n",
       "   '88accd4c-d5da-49a6-976c-1c2fa896bb8d': None,\n",
       "   '88f15b81-b48a-4e22-9593-81e8aeccf919': [{'url': '/files/805bb024-f946-4360-aa4e-1dbba443cfb6',\n",
       "     'name': '42_accessibility_improvements.png',\n",
       "     'type': 'image/png',\n",
       "     'status': 'uploaded',\n",
       "     'file_id': '805bb024-f946-4360-aa4e-1dbba443cfb6',\n",
       "     'accepted': True,\n",
       "     'renderer': '5e05aa2e-5db0-4922-8938-b4d2b7919733'}],\n",
       "   '8eb31559-f001-4d4a-87e5-ffa82c7a5a3f': [{'resourceId': 'de9ac93c-2485-4355-b3d5-80faf0472e9c',\n",
       "     'ontologyProperty': '',\n",
       "     'resourceXresourceId': 'bd6589d6-12f5-43ce-bdb1-821a38271563',\n",
       "     'inverseOntologyProperty': ''}],\n",
       "   'aaad59f5-4578-4a50-a2ac-2831d815f5d6': 42,\n",
       "   'abfa5bf8-5b68-405a-aee1-4ec3b0b050d3': [],\n",
       "   'dbe4c57a-8028-42a0-aa0c-4346320a0c6c': '2042-04-02T00:00:00.000-05:00',\n",
       "   'e5ad3e0e-777d-4ca9-8816-cbd5fd949c08': None,\n",
       "   'e5f7747a-861a-422e-8cb8-97c366baba09': 'ee6df8cb-2988-45c3-ab0f-b9bdee91b34e',\n",
       "   'e95cade7-23a3-48ae-97be-0e785a5eece7': None,\n",
       "   'f18fce34-4e40-4226-8dd5-2e706267b5ee': {'url': 'http://www.42.com/',\n",
       "    'url_label': '42.com'},\n",
       "   'fa41522c-6032-4458-b3e7-2ce7e7d73968': 'd8c60bf4-e786-11e6-905a-b756ec83dad5'},\n",
       "  'action': 'create',\n",
       "  'status': 'review',\n",
       "  'reviewer': None,\n",
       "  'timestamp': '2025-07-14T23:06:10.156104Z',\n",
       "  'reviewtimestamp': None}}"
      ]
     },
     "execution_count": 5,
     "metadata": {},
     "output_type": "execute_result"
    }
   ],
   "source": [
    "# You can save back with or without the display value / node_value wrapper\n",
    "resource.aliased_data.datatypes_1.aliased_data.string = 'forty-three'\n",
    "resource.save()\n",
    "# But without a request, we assume anonymous user, and it ends up in provisional edits\n",
    "resource.aliased_data.datatypes_1.provisionaledits"
   ]
  },
  {
   "cell_type": "code",
   "execution_count": 6,
   "id": "12d87ba8",
   "metadata": {},
   "outputs": [
    {
     "data": {
      "text/plain": [
       "{'node_value': {'en': {'value': 'forty-three', 'direction': 'ltr'}},\n",
       " 'display_value': 'forty-three'}"
      ]
     },
     "execution_count": 6,
     "metadata": {},
     "output_type": "execute_result"
    }
   ],
   "source": [
    "resource.aliased_data.datatypes_1.aliased_data.string = 'forty-three'\n",
    "resource.save(force_admin=True)\n",
    "resource.aliased_data.datatypes_1.aliased_data.string"
   ]
  },
  {
   "cell_type": "code",
   "execution_count": 7,
   "id": "86c4700f",
   "metadata": {},
   "outputs": [
    {
     "name": "stdout",
     "output_type": "stream",
     "text": [
      "Datatype Lookups: Resource referencing 42 (de9ac93c-2485-4355-b3d5-80faf0472e9c)\n"
     ]
    }
   ],
   "source": [
    "# Custom lookups\n",
    "resources = ResourceTileTree.get_tiles(\n",
    "    \"datatype_lookups\", as_representation=True\n",
    ").filter(string__any_lang_contains=\"forty\")\n",
    "for match in resources:\n",
    "    print(match)"
   ]
  },
  {
   "cell_type": "code",
   "execution_count": 8,
   "id": "1330038a",
   "metadata": {},
   "outputs": [
    {
     "name": "stdout",
     "output_type": "stream",
     "text": [
      "Datatype Lookups: Resource referencing 42 (de9ac93c-2485-4355-b3d5-80faf0472e9c)\n"
     ]
    }
   ],
   "source": [
    "resources = ResourceTileTree.get_tiles(\n",
    "    \"datatype_lookups\", as_representation=True\n",
    ").filter(resource_instance_list__contains=str(resource.pk))\n",
    "for match in resources:\n",
    "    print(match)"
   ]
  }
 ],
 "metadata": {
  "kernelspec": {
   "display_name": "py313",
   "language": "python",
   "name": "python3"
  },
  "language_info": {
   "codemirror_mode": {
    "name": "ipython",
    "version": 3
   },
   "file_extension": ".py",
   "mimetype": "text/x-python",
   "name": "python",
   "nbconvert_exporter": "python",
   "pygments_lexer": "ipython3",
   "version": "3.13.1"
  }
 },
 "nbformat": 4,
 "nbformat_minor": 5
}
