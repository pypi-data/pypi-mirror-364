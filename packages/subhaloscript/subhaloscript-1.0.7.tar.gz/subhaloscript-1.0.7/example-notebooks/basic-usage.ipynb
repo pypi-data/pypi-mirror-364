{
 "cells": [
  {
   "cell_type": "markdown",
   "id": "410260d7",
   "metadata": {},
   "source": [
    "# Example Notebook\n",
    "Author: Charles Gannon\n",
    "\n",
    "Contact: cgannon@ucmerced.edu\n",
    "\n",
    "## Introduction\n",
    "The ```subscript``` python package provides a library of ergonomic utility functions for analyzing Galacticus (https://github.com/galacticusorg/galacticus) subhalo data. This notebook provides an introduction to the functionality provided in this package. More examples are provided in the test folder. \n",
    "\n",
    "# Installation \n",
    "\n",
    "### Install via pip\n",
    "```pip install subhaloscript```\n",
    "\n",
    "### Install via conda\n",
    "```conda install cgannonucm::subhaloscript```"
   ]
  },
  {
   "cell_type": "markdown",
   "id": "cd324615",
   "metadata": {},
   "source": [
    "## Data From File\n",
    "```subscript``` integrates with h5py"
   ]
  },
  {
   "cell_type": "code",
   "execution_count": 1,
   "id": "2caf02a4",
   "metadata": {},
   "outputs": [],
   "source": [
    "import h5py\n",
    "gout = h5py.File('data/test.hdf5')"
   ]
  },
  {
   "cell_type": "markdown",
   "id": "57c0468a",
   "metadata": {},
   "source": [
    "## Node Data\n",
    "In Galacticus each subhalo is represented as a node on the primary halo's merger tree. To access properties of each node, use the ```nodedata``` function. Galacticus can contain multiple trees in a single output file, subscript automatically seperates the output nodes into their respective trees."
   ]
  },
  {
   "cell_type": "code",
   "execution_count": 2,
   "id": "fd9fdbe4",
   "metadata": {},
   "outputs": [
    {
     "name": "stdout",
     "output_type": "stream",
     "text": [
      "[7.21810428e+09 1.49945391e+09 3.45035586e+09 3.10940712e+09\n",
      " 2.28942716e+10]\n",
      "[2.51769675e+09 6.33693813e+09 1.88133845e+09 1.02403051e+09\n",
      " 1.48554503e+09]\n"
     ]
    }
   ],
   "source": [
    "from subscript.scripts.nodes import nodedata\n",
    "\n",
    "mass = nodedata(gout, key='basicMass')\n",
    "\n",
    "# The infall mass of the first 5 subhalos in the 1st galacticus output tree\n",
    "print(mass[0][:5])\n",
    "\n",
    "# The infall mass of the first 5 subhalos in the 2nd galacticus output tree\n",
    "print(mass[1][:5])"
   ]
  },
  {
   "cell_type": "markdown",
   "id": "018f16ee",
   "metadata": {},
   "source": [
    "Multiple keys can be passed at once"
   ]
  },
  {
   "cell_type": "code",
   "execution_count": 3,
   "id": "e53ac8e2",
   "metadata": {},
   "outputs": [
    {
     "name": "stdout",
     "output_type": "stream",
     "text": [
      "0.5666598142807098\n"
     ]
    }
   ],
   "source": [
    "import numpy as np\n",
    "mass_basic, mass_bound = nodedata(gout, key=['basicMass', 'massBound'])[0]\n",
    "mass_ratio = np.mean(mass_bound/mass_basic)\n",
    "\n",
    "# The average mass at infall to bound masss for the first tree\n",
    "print(mass_ratio)"
   ]
  },
  {
   "cell_type": "markdown",
   "id": "06d4750c",
   "metadata": {},
   "source": [
    "Count number of nodes"
   ]
  },
  {
   "cell_type": "code",
   "execution_count": 4,
   "id": "5812266f",
   "metadata": {},
   "outputs": [
    {
     "name": "stdout",
     "output_type": "stream",
     "text": [
      "246.05357142857142\n"
     ]
    }
   ],
   "source": [
    "from subscript.scripts.nodes import nodecount\n",
    "\n",
    "# Average number of nodes per tree\n",
    "print(np.mean(nodecount(gout)))"
   ]
  },
  {
   "cell_type": "markdown",
   "id": "7279057e",
   "metadata": {},
   "source": [
    "## Filters\n",
    "```subscript``` supports filtering nodes by passing a ```nfilter``` function or numpy array of booleans."
   ]
  },
  {
   "cell_type": "code",
   "execution_count": 5,
   "id": "f88029f9",
   "metadata": {},
   "outputs": [
    {
     "name": "stdout",
     "output_type": "stream",
     "text": [
      "13.0\n"
     ]
    }
   ],
   "source": [
    "# Get the average host halo mass\n",
    "import subscript.scripts.nfilters as nf\n",
    "# Only include host halo nodes\n",
    "host_halo_mass = nodedata(gout, key='basicMass', nfilter=nf.hosthalos)\n",
    "\n",
    "# Log 10 of average host halo mass\n",
    "print(np.log10(np.mean(host_halo_mass)))"
   ]
  },
  {
   "cell_type": "markdown",
   "id": "44f816e1",
   "metadata": {},
   "source": [
    "### Combining filters"
   ]
  },
  {
   "cell_type": "markdown",
   "id": "caa435ed",
   "metadata": {},
   "source": [
    "Filters can be combined or modified using boolean logic. We can use the ```logical_and``` or ```logical_not``` function to combine two filters or the ```logical_not``` function to invert the filter."
   ]
  },
  {
   "cell_type": "code",
   "execution_count": 6,
   "id": "1368ab7d",
   "metadata": {},
   "outputs": [
    {
     "name": "stdout",
     "output_type": "stream",
     "text": [
      "0.04988945595354875\n"
     ]
    }
   ],
   "source": [
    "from subscript.scripts.spatial import project3d\n",
    "# Only get subhalos within 50 kpc of the host \n",
    "# Note ```subscript``` uses default units of galacticus which is MPC\n",
    "filter_combined = nf.logical_and(\n",
    "                                    nf.subhalos,\n",
    "                                    nf.r3d(None, 0, 5E-2) # Passing 'None' as a first argument 'freezes' the filter, saving the key word arguments\n",
    "                                )\n",
    "\n",
    "# Now we have no subhalos outside of 0.05 MPC from the center of the host\n",
    "print(np.max(project3d(gout, nfilter=filter_combined)[0]))  "
   ]
  },
  {
   "cell_type": "markdown",
   "id": "00dce686",
   "metadata": {},
   "source": [
    "## Statistical Analysis\n",
    "\n",
    "Perform statistical analysis over multiple trees by passing the argument ```summarize=true``` and optionally pass a list of functions, for statistical analysis passing the ```statfuncs``` argument. The default option is ```statfuncs=[np.mean]```, but if the standard deviation is required, you can pass ```statfuncts=[np.mean, np.std]```"
   ]
  },
  {
   "cell_type": "code",
   "execution_count": 7,
   "id": "72a2eb62",
   "metadata": {},
   "outputs": [
    {
     "data": {
      "text/plain": [
       "[]"
      ]
     },
     "execution_count": 7,
     "metadata": {},
     "output_type": "execute_result"
    },
    {
     "data": {
      "image/png": "[encoded data removed]",
      "text/plain": [
       "<Figure size 640x480 with 1 Axes>"
      ]
     },
     "metadata": {},
     "output_type": "display_data"
    }
   ],
   "source": [
    "# Subhalo massfunction\n",
    "from subscript.scripts.histograms import massfunction\n",
    "# Provides galacticus default parameter keys\n",
    "from subscript.defaults import ParamKeys\n",
    "import matplotlib.pyplot as plt\n",
    "\n",
    "\n",
    "out = massfunction(\n",
    "                    gout,\n",
    "                    bins=np.logspace(9, 13, 30), \n",
    "                    key_mass = ParamKeys.mass_bound,    # The default key for bound mass of the subhalo\n",
    "                    nfilter=nf.subhalos,                # Only consider subhalos \n",
    "                    summarize=True,                     # Take statistics over multiple trees\n",
    "                    statfuncs=[np.mean, np.std]         # Get the mean and std\n",
    "                   )\n",
    "\n",
    "dndm_mean, mbine = out[0]\n",
    "dndm_std , _     = out[1]\n",
    "\n",
    "#  Plot the mean mass function over all trees, show the standard deviation at each point\n",
    "plt.errorbar(mbine[:-1], dndm_mean, dndm_std)\n",
    "plt.loglog()"
   ]
  },
  {
   "cell_type": "markdown",
   "id": "a5a8888c",
   "metadata": {},
   "source": [
    "### Custom Analysis Functions\n",
    "\n",
    "Use the ```gscript``` decerator to create analysis functions"
   ]
  },
  {
   "cell_type": "code",
   "execution_count": 8,
   "id": "ba018c49",
   "metadata": {},
   "outputs": [
    {
     "name": "stdout",
     "output_type": "stream",
     "text": [
      "0.5539299558467177\n"
     ]
    }
   ],
   "source": [
    "from subscript.wrappers import gscript\n",
    "\n",
    "# Custom analysis function to take the ratio between bound and infall mass\n",
    "@gscript\n",
    "def massratio_avg(gout, **kwargs):\n",
    "    return np.mean(gout[ParamKeys.mass_bound] / gout[ParamKeys.mass_basic])\n",
    "\n",
    "# Average bound to infall mass ratio\n",
    "print(massratio_avg(gout, nfilter=nf.subhalos, summarize=True))"
   ]
  }
 ],
 "metadata": {
  "kernelspec": {
   "display_name": ".venv",
   "language": "python",
   "name": "python3"
  },
  "language_info": {
   "codemirror_mode": {
    "name": "ipython",
    "version": 3
   },
   "file_extension": ".py",
   "mimetype": "text/x-python",
   "name": "python",
   "nbconvert_exporter": "python",
   "pygments_lexer": "ipython3",
   "version": "3.13.3"
  }
 },
 "nbformat": 4,
 "nbformat_minor": 5
}
