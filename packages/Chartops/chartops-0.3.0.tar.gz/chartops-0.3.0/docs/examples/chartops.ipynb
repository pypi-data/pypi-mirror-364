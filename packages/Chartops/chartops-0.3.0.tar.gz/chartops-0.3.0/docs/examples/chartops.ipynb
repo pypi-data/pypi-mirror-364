{
 "cells": [
  {
   "cell_type": "markdown",
   "metadata": {},
   "source": [
    "[![Open In Colab](https://colab.research.google.com/assets/colab-badge.svg)](https://colab.research.google.com/github/Thomatous/Chartops/blob/main/docs/examples/chartops.ipynb)"
   ]
  },
  {
   "cell_type": "code",
   "execution_count": null,
   "metadata": {},
   "outputs": [],
   "source": [
    "%pip install -q chartops"
   ]
  },
  {
   "cell_type": "code",
   "execution_count": null,
   "metadata": {},
   "outputs": [],
   "source": [
    "from chartops.chartops import Map"
   ]
  },
  {
   "cell_type": "code",
   "execution_count": null,
   "metadata": {},
   "outputs": [],
   "source": [
    "map = Map(center=[34.5, 18.0], zoom=5)\n",
    "map"
   ]
  },
  {
   "cell_type": "code",
   "execution_count": null,
   "metadata": {},
   "outputs": [],
   "source": [
    "map_with_basemap = Map(center=[34.5, 18.0], zoom=5)\n",
    "map_with_basemap.add_basemap(\"OpenTopoMap\")\n",
    "map_with_basemap"
   ]
  },
  {
   "cell_type": "code",
   "execution_count": null,
   "metadata": {},
   "outputs": [],
   "source": [
    "map_with_layer_controls = Map(center=[34.5, 18.0], zoom=5)\n",
    "map_with_layer_controls.add_layer_control()\n",
    "map_with_layer_controls"
   ]
  },
  {
   "cell_type": "code",
   "execution_count": null,
   "metadata": {},
   "outputs": [],
   "source": [
    "map_with_vector = Map(center=[34.5, 18.0], zoom=5)\n",
    "map_with_vector.add_vector(\n",
    "    \"https://github.com/jupyter-widgets/ipyleaflet/raw/master/examples/europe_110.geo.json\",\n",
    "    \"Europe Vector\",\n",
    ")\n",
    "map_with_vector"
   ]
  },
  {
   "cell_type": "code",
   "execution_count": null,
   "metadata": {},
   "outputs": [],
   "source": [
    "map_with_multiple_features = Map(center=[34.5, 18.0], zoom=5)\n",
    "map_with_multiple_features.add_basemap(\"Esri.WorldImagery\")\n",
    "map_with_multiple_features.add_layer_control()\n",
    "map_with_multiple_features.add_vector(\n",
    "    \"https://github.com/jupyter-widgets/ipyleaflet/raw/master/examples/europe_110.geo.json\",\n",
    "    \"Europe Vector\",\n",
    ")\n",
    "map_with_multiple_features"
   ]
  },
  {
   "cell_type": "code",
   "execution_count": null,
   "metadata": {},
   "outputs": [],
   "source": [
    "map_with_raster = Map(center=[34.5, 18.0], zoom=5)\n",
    "map_with_raster.add_raster(\n",
    "    url=\"https://github.com/opengeos/datasets/releases/download/raster/dem_90m.tif\",\n",
    "    colormap={\n",
    "        \"red\": ((0.0, 0.0, 0.0), (0.5, 0.0, 0.1), (1.0, 1.0, 1.0)),\n",
    "        \"green\": ((0.0, 0.0, 0.0), (1.0, 0.0, 0.0)),\n",
    "        \"blue\": ((0.0, 0.0, 1.0), (0.5, 0.1, 0.0), (1.0, 0.0, 0.0)),\n",
    "    },\n",
    "    opacity=0.7,\n",
    ")\n",
    "map_with_raster"
   ]
  },
  {
   "cell_type": "code",
   "execution_count": null,
   "metadata": {},
   "outputs": [],
   "source": [
    "map_with_image = Map(center=[28.0, -114.0], zoom=5)\n",
    "map_with_image.add_image(\n",
    "    url=\"https://i.imgur.com/06Q1fSz.png\", bounds=((13, -130), (32, -100)), opacity=0.5\n",
    ")\n",
    "map_with_image"
   ]
  },
  {
   "cell_type": "code",
   "execution_count": null,
   "metadata": {},
   "outputs": [],
   "source": [
    "map_with_video = Map(center=[28.0, -114.0], zoom=5)\n",
    "map_with_video.add_video(\n",
    "    url=\"https://www.mapbox.com/bites/00188/patricia_nasa.webm\",\n",
    "    bounds=((13, -130), (32, -100)),\n",
    "    opacity=1.0,\n",
    ")\n",
    "map_with_video"
   ]
  },
  {
   "cell_type": "code",
   "execution_count": null,
   "metadata": {},
   "outputs": [],
   "source": [
    "map_with_wms = Map(center=[28.0, -114.0], zoom=5)\n",
    "map_with_wms.add_wms_layer(\n",
    "    \"http://mesonet.agron.iastate.edu/cgi-bin/wms/nexrad/n0r.cgi\",\n",
    "    \"nexrad-n0r-900913\",\n",
    "    \"Test\",\n",
    "    \"image/png\",\n",
    "    True,\n",
    ")\n",
    "map_with_wms"
   ]
  },
  {
   "cell_type": "code",
   "execution_count": null,
   "metadata": {},
   "outputs": [],
   "source": [
    "map_with_dropdown = Map(center=[34.5, 18.0], zoom=5)\n",
    "map_with_dropdown.add_basemap(\"OpenTopoMap\")\n",
    "map_with_dropdown.add_basemap_gui()\n",
    "map_with_dropdown"
   ]
  }
 ],
 "metadata": {
  "kernelspec": {
   "display_name": "venv",
   "language": "python",
   "name": "python3"
  },
  "language_info": {
   "codemirror_mode": {
    "name": "ipython",
    "version": 3
   },
   "file_extension": ".py",
   "mimetype": "text/x-python",
   "name": "python",
   "nbconvert_exporter": "python",
   "pygments_lexer": "ipython3",
   "version": "3.10.6"
  }
 },
 "nbformat": 4,
 "nbformat_minor": 2
}
