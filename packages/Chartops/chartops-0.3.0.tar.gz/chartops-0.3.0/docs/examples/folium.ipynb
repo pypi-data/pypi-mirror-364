{
 "cells": [
  {
   "cell_type": "markdown",
   "metadata": {},
   "source": [
    "[![Open In Colab](https://colab.research.google.com/assets/colab-badge.svg)](https://colab.research.google.com/github/Thomatous/Chartops/blob/main/docs/examples/folium.ipynb)"
   ]
  },
  {
   "cell_type": "code",
   "execution_count": null,
   "metadata": {},
   "outputs": [],
   "source": [
    "%pip install chartops"
   ]
  },
  {
   "cell_type": "code",
   "execution_count": null,
   "metadata": {},
   "outputs": [],
   "source": [
    "from chartops.folium import Map"
   ]
  },
  {
   "cell_type": "code",
   "execution_count": null,
   "metadata": {},
   "outputs": [],
   "source": [
    "map = Map(location=[34.5, 18.0], zoom_start=5)\n",
    "map.save(\"map.html\")\n",
    "map"
   ]
  },
  {
   "cell_type": "code",
   "execution_count": null,
   "metadata": {},
   "outputs": [],
   "source": [
    "map_with_basemap = Map(location=[34.5, 18.0], zoom_start=5)\n",
    "map_with_basemap.add_basemap(\"Esri.WorldImagery\")\n",
    "map_with_basemap.save(\"map_with_basemap.html\")\n",
    "map_with_basemap"
   ]
  },
  {
   "cell_type": "code",
   "execution_count": null,
   "metadata": {},
   "outputs": [],
   "source": [
    "map_with_layer_controls = Map(location=[34.5, 18.0], zoom_start=5)\n",
    "map_with_layer_controls.add_layer_control()\n",
    "map_with_layer_controls.save(\"map_with_layer_controls.html\")\n",
    "map_with_layer_controls"
   ]
  },
  {
   "cell_type": "code",
   "execution_count": null,
   "metadata": {},
   "outputs": [],
   "source": [
    "map_with_vector = Map(location=[34.5, 18.0], zoom_start=5)\n",
    "map_with_vector.add_vector(\n",
    "    \"https://github.com/jupyter-widgets/ipyleaflet/raw/master/examples/europe_110.geo.json\",\n",
    "    \"Europe Vector\",\n",
    ")\n",
    "map_with_layer_controls.save(\"map_with_vector.html\")\n",
    "map_with_vector"
   ]
  },
  {
   "cell_type": "code",
   "execution_count": null,
   "metadata": {},
   "outputs": [],
   "source": [
    "map_with_all_features = Map(location=[34.5, 18.0], zoom_start=5)\n",
    "map_with_all_features.add_basemap(\"OpenTopoMap\")\n",
    "map_with_all_features.add_vector(\n",
    "    \"https://github.com/jupyter-widgets/ipyleaflet/raw/master/examples/europe_110.geo.json\",\n",
    "    \"Europe Vector\",\n",
    ")\n",
    "map_with_all_features.add_layer_control()\n",
    "map_with_layer_controls.save(\"map_with_all_features.html\")\n",
    "map_with_all_features"
   ]
  }
 ],
 "metadata": {
  "kernelspec": {
   "display_name": "venv",
   "language": "python",
   "name": "python3"
  },
  "language_info": {
   "codemirror_mode": {
    "name": "ipython",
    "version": 3
   },
   "file_extension": ".py",
   "mimetype": "text/x-python",
   "name": "python",
   "nbconvert_exporter": "python",
   "pygments_lexer": "ipython3",
   "version": "3.10.6"
  }
 },
 "nbformat": 4,
 "nbformat_minor": 2
}
