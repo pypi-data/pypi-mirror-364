{
 "cells": [
  {
   "cell_type": "code",
   "execution_count": null,
   "id": "7c0b9e01",
   "metadata": {},
   "outputs": [],
   "source": [
    "# import ftplib\n",
    "# # ftp://ftp.sanger.ac.uk/pub/project/cancerrxgene/releases/current_release/GDSC1_fitted_dose_response_25Feb20.xlsx\n",
    "# # ftp://ftp.sanger.ac.uk/pub/project/cancerrxgene/releases/current_release/GDSC2_fitted_dose_response_25Feb20.xlsx\n",
    "# # ftp://ftp.sanger.ac.uk/pub/project/cancerrxgene/releases/current_release/GDSC1_public_raw_data_25Feb20.csv\n",
    "# # ftp://ftp.sanger.ac.uk/pub/project/cancerrxgene/releases/current_release/GDSC2_public_raw_data_25Feb20.csv\n",
    "\n",
    "\n",
    "# with ftplib.FTP(\"ftp.sanger.ac.uk\") as ftp:\n",
    "#     ftp.login()\n",
    "#     ftp.cwd(\"/pub/project/cancerrxgene/releases/current_release\")\n",
    "#     with open(\"file_1\", \"wb\") as fp:\n",
    "#         ftp.retrbinary(\"RETR GDSC1_fitted_dose_response_25Feb20.xlsx\", fp.write)\n",
    "#     with open(\"file_2\", \"wb\") as fp:\n",
    "#         ftp.retrbinary(\"RETR GDSC2_fitted_dose_response_25Feb20.xlsx\", fp.write)\n",
    "#     with open(\"file_3\", \"wb\") as fp:\n",
    "#         ftp.retrbinary(\"RETR GDSC1_public_raw_data_25Feb20.csv\", fp.write)\n",
    "#     with open(\"file_4\", \"wb\") as fp:\n",
    "#         ftp.retrbinary(\"RETR GDSC2_public_raw_data_25Feb20.csv\", fp.write)\n",
    "    "
   ]
  },
  {
   "cell_type": "code",
   "execution_count": 9,
   "id": "779eaefb",
   "metadata": {},
   "outputs": [
    {
     "name": "stdout",
     "output_type": "stream",
     "text": [
      "***Using Therapy Database Endpoint: http://localhost:8000***\n"
     ]
    }
   ],
   "source": [
    "from therapy.query import QueryHandler\n",
    "import pandas as pd\n",
    "\n",
    "q = QueryHandler()"
   ]
  },
  {
   "cell_type": "code",
   "execution_count": 26,
   "id": "ea8f9d51",
   "metadata": {},
   "outputs": [
    {
     "name": "stdout",
     "output_type": "stream",
     "text": [
      "Total compounds: 565\n",
      "Normalization rate: 0.7557522123893805\n"
     ]
    }
   ],
   "source": [
    "import csv\n",
    "\n",
    "gdsc_1_drugs = csv.DictReader(open(\"gdsc1_drugs.csv\", \"r\"))\n",
    "gdsc_2_drugs = csv.DictReader(open(\"gdsc2_drugs.csv\", \"r\"))\n",
    "\n",
    "normalized_dict = {}\n",
    "\n",
    "total_compounds = 0\n",
    "normalized_compounds = 0\n",
    "for dataset in (gdsc_1_drugs, gdsc_2_drugs):\n",
    "    for row in dataset:\n",
    "        total_compounds += 1\n",
    "        normalized = False\n",
    "        if q.normalize(row[\"drug_name\"]).match_type > 0:\n",
    "            normalized = True\n",
    "        for synonym in row[\"synonyms\"].split(\",\"):\n",
    "            if q.normalize(synonym).match_type > 0:\n",
    "                normalized = True\n",
    "        if normalized:\n",
    "            normalized_compounds += 1\n",
    "            normalized_dict[int(row[\"drug_id\"])] = True\n",
    "        else:\n",
    "            normalized_dict[int(row[\"drug_id\"])] = False\n",
    "\n",
    "print(f\"Total compounds: {total_compounds}\")\n",
    "print(f\"Normalization rate: {normalized_compounds / total_compounds}\")"
   ]
  },
  {
   "cell_type": "code",
   "execution_count": 19,
   "id": "a4ace437",
   "metadata": {},
   "outputs": [],
   "source": [
    "import pandas as pd\n",
    "gdsc_1 = pd.read_excel(\"gdsc1.xlsx\")\n",
    "gdsc_2 = pd.read_excel(\"gdsc2.xlsx\")"
   ]
  },
  {
   "cell_type": "code",
   "execution_count": 34,
   "id": "5083668f",
   "metadata": {},
   "outputs": [
    {
     "name": "stdout",
     "output_type": "stream",
     "text": [
      "Total measurements: 446146\n",
      "Normalization rate: 0.7441510178282446\n"
     ]
    }
   ],
   "source": [
    "sensitivity_responses = 0\n",
    "normalized_responses = 0\n",
    "for df in (gdsc_1, gdsc_2):\n",
    "    for _, row in df.iterrows():\n",
    "        sensitivity_responses += 1\n",
    "        if normalized_dict[row[\"DRUG_ID\"]]:\n",
    "            normalized_responses += 1\n",
    "\n",
    "print(f\"Total measurements: {sensitivity_responses}\")\n",
    "print(f\"Normalization rate: {normalized_responses / sensitivity_responses}\")"
   ]
  },
  {
   "cell_type": "code",
   "execution_count": null,
   "id": "50a4af28",
   "metadata": {},
   "outputs": [],
   "source": []
  },
  {
   "cell_type": "code",
   "execution_count": null,
   "id": "d32850f5",
   "metadata": {},
   "outputs": [],
   "source": []
  }
 ],
 "metadata": {
  "kernelspec": {
   "display_name": "therapy-normalization",
   "language": "python",
   "name": "therapy-normalization"
  },
  "language_info": {
   "codemirror_mode": {
    "name": "ipython",
    "version": 3
   },
   "file_extension": ".py",
   "mimetype": "text/x-python",
   "name": "python",
   "nbconvert_exporter": "python",
   "pygments_lexer": "ipython3",
   "version": "3.9.9"
  }
 },
 "nbformat": 4,
 "nbformat_minor": 5
}
