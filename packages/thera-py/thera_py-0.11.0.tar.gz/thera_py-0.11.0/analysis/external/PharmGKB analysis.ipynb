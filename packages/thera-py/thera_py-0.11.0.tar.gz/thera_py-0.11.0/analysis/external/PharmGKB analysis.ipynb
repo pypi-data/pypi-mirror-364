{
 "cells": [
  {
   "cell_type": "markdown",
   "id": "cd91d069",
   "metadata": {},
   "source": [
    "# PharmGKB Analysis"
   ]
  },
  {
   "cell_type": "code",
   "execution_count": null,
   "id": "4cacb611",
   "metadata": {},
   "outputs": [],
   "source": [
    "from pathlib import Path\n",
    "import csv\n",
    "from therapy.query import QueryHandler\n",
    "\n",
    "q = QueryHandler()\n",
    "\n",
    "PATH_TO_PHARMGKB_SOURCE = Path(\"/Users/jss009/code/metakb/metakb/data/pharmgkb/source\")"
   ]
  },
  {
   "cell_type": "markdown",
   "id": "cf972663",
   "metadata": {},
   "source": [
    "## Normalization rate\n",
    "\n",
    "### Clinical annotations"
   ]
  },
  {
   "cell_type": "code",
   "execution_count": 24,
   "id": "cc6609b9",
   "metadata": {},
   "outputs": [
    {
     "name": "stdout",
     "output_type": "stream",
     "text": [
      "Total annotations: 4905\n",
      "Normalization rate: 0.872579001019368\n"
     ]
    }
   ],
   "source": [
    "clinann_meta_file = PATH_TO_PHARMGKB_SOURCE / \"clinical_annotations.tsv\"\n",
    "clinical_annotations = {}\n",
    "reader = csv.DictReader(open(clinann_meta_file, \"r\"), delimiter=\"\\t\")\n",
    "\n",
    "total_ann = 0\n",
    "normalized_ann = 0\n",
    "for row in reader:\n",
    "    drugs = row[\"Drug(s)\"].split(\";\")\n",
    "    if drugs:\n",
    "        total_ann += 1\n",
    "        normalized = True\n",
    "        for drug in drugs:\n",
    "            if q.normalize(drug).match_type == 0:\n",
    "                normalized = False\n",
    "        if normalized:\n",
    "            normalized_ann += 1\n",
    "            \n",
    "print(f\"Total annotations: {total_ann}\")\n",
    "print(f\"Normalization rate: {normalized_ann / total_ann}\")"
   ]
  }
 ],
 "metadata": {
  "kernelspec": {
   "display_name": "therapy-normalization",
   "language": "python",
   "name": "therapy-normalization"
  },
  "language_info": {
   "codemirror_mode": {
    "name": "ipython",
    "version": 3
   },
   "file_extension": ".py",
   "mimetype": "text/x-python",
   "name": "python",
   "nbconvert_exporter": "python",
   "pygments_lexer": "ipython3",
   "version": "3.9.9"
  }
 },
 "nbformat": 4,
 "nbformat_minor": 5
}
