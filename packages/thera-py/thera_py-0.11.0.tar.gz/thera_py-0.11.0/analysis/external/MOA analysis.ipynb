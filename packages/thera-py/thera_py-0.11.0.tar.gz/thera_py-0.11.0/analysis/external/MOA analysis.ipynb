{
 "cells": [
  {
   "cell_type": "markdown",
   "id": "d46fc324",
   "metadata": {},
   "source": [
    "# Molecular Oncology Almanac Analysis"
   ]
  },
  {
   "cell_type": "code",
   "execution_count": 14,
   "id": "c3a8445c",
   "metadata": {},
   "outputs": [
    {
     "name": "stdout",
     "output_type": "stream",
     "text": [
      "***Using Therapy Database Endpoint: http://localhost:8000***\n"
     ]
    }
   ],
   "source": [
    "import requests\n",
    "from therapy.query import QueryHandler\n",
    "q = QueryHandler()"
   ]
  },
  {
   "cell_type": "markdown",
   "id": "ed65586b",
   "metadata": {},
   "source": [
    "## Normalization rate"
   ]
  },
  {
   "cell_type": "code",
   "execution_count": null,
   "id": "bf2d7ee5",
   "metadata": {},
   "outputs": [],
   "source": [
    "r = requests.get('https://moalmanac.org/api/assertions')\n",
    "assertions = r.json()"
   ]
  },
  {
   "cell_type": "code",
   "execution_count": 11,
   "id": "c24e20d0",
   "metadata": {},
   "outputs": [
    {
     "name": "stdout",
     "output_type": "stream",
     "text": [
      "Total assertions with therapies: 635\n",
      "Pct normalized: 0.8771653543307086\n"
     ]
    }
   ],
   "source": [
    "total_assertions = 0\n",
    "normalized_assertions = 0\n",
    "for assertion in assertions:\n",
    "    name = assertion['therapy_name']\n",
    "    if not name:\n",
    "        continue\n",
    "    total_assertions += 1\n",
    "    if q.normalize(name).match_type > 0:\n",
    "        normalized_assertions += 1\n",
    "\n",
    "print(f\"Total assertions with therapies: {total_assertions}\")\n",
    "print(f\"Pct normalized: {normalized_assertions / total_assertions}\")"
   ]
  }
 ],
 "metadata": {
  "kernelspec": {
   "display_name": "therapy-normalization",
   "language": "python",
   "name": "therapy-normalization"
  },
  "language_info": {
   "codemirror_mode": {
    "name": "ipython",
    "version": 3
   },
   "file_extension": ".py",
   "mimetype": "text/x-python",
   "name": "python",
   "nbconvert_exporter": "python",
   "pygments_lexer": "ipython3",
   "version": "3.9.9"
  }
 },
 "nbformat": 4,
 "nbformat_minor": 5
}
