{
 "cells": [
  {
   "cell_type": "markdown",
   "metadata": {},
   "source": [
    "# CIViC analysis"
   ]
  },
  {
   "cell_type": "code",
   "execution_count": 22,
   "metadata": {},
   "outputs": [
    {
     "name": "stdout",
     "output_type": "stream",
     "text": [
      "***Using Therapy Database Endpoint: http://localhost:8000***\n"
     ]
    }
   ],
   "source": [
    "from civicpy import civic\n",
    "from therapy.query import QueryHandler\n",
    "import matplotlib.pyplot as plt\n",
    "import seaborn as sns\n",
    "\n",
    "q = QueryHandler()"
   ]
  },
  {
   "cell_type": "code",
   "execution_count": 2,
   "metadata": {},
   "outputs": [
    {
     "data": {
      "text/plain": [
       "True"
      ]
     },
     "execution_count": 2,
     "metadata": {},
     "output_type": "execute_result"
    }
   ],
   "source": [
    "civic.load_cache(on_stale='ignore')"
   ]
  },
  {
   "cell_type": "code",
   "execution_count": 3,
   "metadata": {},
   "outputs": [],
   "source": [
    "civic_evidence = civic.get_all_evidence()"
   ]
  },
  {
   "cell_type": "markdown",
   "metadata": {},
   "source": [
    "# Normalization rate"
   ]
  },
  {
   "cell_type": "code",
   "execution_count": 28,
   "metadata": {},
   "outputs": [
    {
     "name": "stdout",
     "output_type": "stream",
     "text": [
      "Total evidence with drugs: 4320\n",
      "Normalization rate: 0.9712962962962963\n"
     ]
    }
   ],
   "source": [
    "ev_total = 0\n",
    "normalized_ev_total = 0\n",
    "\n",
    "for ev in civic_evidence:\n",
    "    ev_dict = vars(ev)\n",
    "    drugs = ev_dict.get(\"drugs\")\n",
    "    if not drugs:\n",
    "        continue\n",
    "    ev_total += 1\n",
    "    ev_normalized = True\n",
    "    for drug in drugs:\n",
    "        drug_normalized = False\n",
    "        term_list_raw = [\n",
    "            drug.name,\n",
    "            drug.ncit_id\n",
    "        ] + drug.aliases\n",
    "        terms = [t for t in term_list_raw if t]\n",
    "        for term in terms:\n",
    "            if q.normalize(term).match_type > 0:\n",
    "                drug_normalized = True\n",
    "                break\n",
    "        if not drug_normalized:\n",
    "            ev_normalized = False\n",
    "    if ev_normalized:\n",
    "        normalized_ev_total += 1\n",
    "        \n",
    "print(f\"Total evidence with drugs: {ev_total}\")\n",
    "print(f\"Normalization rate: {normalized_ev_total / ev_total}\")"
   ]
  }
 ],
 "metadata": {
  "kernelspec": {
   "display_name": "Python 3 (ipykernel)",
   "language": "python",
   "name": "python3"
  },
  "language_info": {
   "codemirror_mode": {
    "name": "ipython",
    "version": 3
   },
   "file_extension": ".py",
   "mimetype": "text/x-python",
   "name": "python",
   "nbconvert_exporter": "python",
   "pygments_lexer": "ipython3",
   "version": "3.9.9"
  }
 },
 "nbformat": 4,
 "nbformat_minor": 4
}
