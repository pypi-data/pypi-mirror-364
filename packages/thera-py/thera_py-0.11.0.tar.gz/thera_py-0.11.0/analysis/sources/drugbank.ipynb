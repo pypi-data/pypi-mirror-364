{
 "cells": [
  {
   "cell_type": "code",
   "execution_count": null,
   "id": "attempted-person",
   "metadata": {},
   "outputs": [],
   "source": [
    "import csv\n",
    "from therapy import PROJECT_ROOT\n",
    "from therapy.query import QueryHandler\n",
    "from therapy.schemas import MatchType\n",
    "\n",
    "cc0_file = PROJECT_ROOT / 'data' / 'drugbank_cc0' / 'drugbank_cc0_20210414.csv'\n",
    "query_handler = QueryHandler(db_url='http://localhost:8000')"
   ]
  },
  {
   "cell_type": "code",
   "execution_count": null,
   "id": "automotive-feature",
   "metadata": {},
   "outputs": [],
   "source": [
    "with open(cc0_file, 'r') as csvfile:\n",
    "    reader = csv.reader(csvfile)\n",
    "    next(reader)  # skip header\n",
    "    for row in reader:\n",
    "        alias = row[2]\n",
    "        try:\n",
    "            response = query_handler.search_sources(query_str=alias, incl='drugbank')\n",
    "        except TypeError:\n",
    "            print('****')\n",
    "            print(f'Error: {alias}')\n",
    "        if response['source_matches'][0]['match_type'] != MatchType.LABEL:\n",
    "            print('****')\n",
    "            print(alias)\n",
    "            print(response['source_matches'][0]['match_type'])"
   ]
  },
  {
   "cell_type": "code",
   "execution_count": null,
   "id": "racial-painting",
   "metadata": {},
   "outputs": [],
   "source": [
    "with open(cc0_file, 'r') as csvfile:\n",
    "    reader = csv.reader(csvfile)\n",
    "    next(reader)  # skip header\n",
    "    for row in reader:\n",
    "        cc0_label = row[2]\n",
    "        cc0_aliases = {a for a in row[1].split(' | ') + row[5].split(' | ') if a}\n",
    "        try:\n",
    "            response = query_handler.search_sources(query_str=cc0_label, incl='drugbank')\n",
    "            if response['source_matches'][0]['match_type'] == MatchType.LABEL:\n",
    "                response_aliases = {a for a in response['source_matches'][0]['records'][0].aliases if a}\n",
    "                diff_a = cc0_aliases.difference(response_aliases)\n",
    "                diff_b = response_aliases.difference(cc0_aliases)\n",
    "                if diff_a or diff_b:\n",
    "                    print('******')\n",
    "                    print(cc0_label)\n",
    "                    if diff_a:\n",
    "                        print(f\"in cc0: {diff_a}\")\n",
    "                    if diff_b:\n",
    "                        print(f\"in db: {diff_b}\")\n",
    "        except TypeError:\n",
    "            print('****')\n",
    "            print(f'Error: {alias}')"
   ]
  },
  {
   "cell_type": "code",
   "execution_count": null,
   "id": "baking-medication",
   "metadata": {},
   "outputs": [],
   "source": []
  },
  {
   "cell_type": "code",
   "execution_count": null,
   "id": "blank-engineer",
   "metadata": {},
   "outputs": [],
   "source": []
  }
 ],
 "metadata": {
  "kernelspec": {
   "display_name": "therapy-normalization",
   "language": "python",
   "name": "therapy-normalization"
  },
  "language_info": {
   "codemirror_mode": {
    "name": "ipython",
    "version": 3
   },
   "file_extension": ".py",
   "mimetype": "text/x-python",
   "name": "python",
   "nbconvert_exporter": "python",
   "pygments_lexer": "ipython3",
   "version": "3.9.4"
  }
 },
 "nbformat": 4,
 "nbformat_minor": 5
}
