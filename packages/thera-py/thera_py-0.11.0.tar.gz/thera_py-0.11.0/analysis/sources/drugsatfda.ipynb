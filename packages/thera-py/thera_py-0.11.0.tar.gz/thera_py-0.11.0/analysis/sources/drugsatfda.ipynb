{
 "cells": [
  {
   "cell_type": "code",
   "execution_count": 2,
   "id": "premier-airport",
   "metadata": {},
   "outputs": [],
   "source": [
    "import json\n",
    "from pathlib import Path\n",
    "\n",
    "path = Path('/Users/jss009/code/therapy-normalization/therapy/data/drugsatfda/drugsatfda_20210817.json')\n",
    "data = json.load(open(path, 'r'))['results']"
   ]
  },
  {
   "cell_type": "code",
   "execution_count": 3,
   "id": "potential-wages",
   "metadata": {},
   "outputs": [
    {
     "name": "stdout",
     "output_type": "stream",
     "text": [
      "***Using Therapy Database Endpoint: http://localhost:8000***\n"
     ]
    }
   ],
   "source": [
    "from therapy.query import QueryHandler\n",
    "q = QueryHandler()"
   ]
  },
  {
   "cell_type": "code",
   "execution_count": 4,
   "id": "unlimited-oxide",
   "metadata": {},
   "outputs": [
    {
     "name": "stdout",
     "output_type": "stream",
     "text": [
      "Total drugs: 25017\n",
      "# with conflicting statuses: 520\n",
      "# with no `product` property: 274\n"
     ]
    }
   ],
   "source": [
    "conflict_status = []\n",
    "no_products = []\n",
    "valid = []\n",
    "for r in data:\n",
    "    try:\n",
    "        products = r['products']\n",
    "    except KeyError:\n",
    "        no_products.append(r)\n",
    "        continue\n",
    "    if not all([p['marketing_status'] == products[0]['marketing_status'] for p in products]):\n",
    "        conflict_status.append(r)\n",
    "    else:\n",
    "        valid.append(r)\n",
    "        \n",
    "print(f'Total drugs: {len(data)}')\n",
    "print(f'# with conflicting statuses: {len(conflict_status)}')\n",
    "print(f'# with no `product` property: {len(no_products)}')"
   ]
  },
  {
   "cell_type": "code",
   "execution_count": 5,
   "id": "pressed-thread",
   "metadata": {},
   "outputs": [],
   "source": [
    "brand_names = []\n",
    "for v in valid:\n",
    "    if 'openfda' in v:\n",
    "        if 'brand_name' in v['openfda']:\n",
    "            brand_names += v['openfda']['brand_name']"
   ]
  },
  {
   "cell_type": "code",
   "execution_count": 6,
   "id": "satellite-petersburg",
   "metadata": {},
   "outputs": [],
   "source": [
    "brand_names = set(brand_names)"
   ]
  },
  {
   "cell_type": "code",
   "execution_count": 15,
   "id": "particular-balance",
   "metadata": {},
   "outputs": [
    {
     "name": "stdout",
     "output_type": "stream",
     "text": [
      "\n"
     ]
    }
   ],
   "source": [
    "print('')\n",
    "fails = []\n",
    "for name in brand_names:\n",
    "    result = q.search_groups(name)\n",
    "    if result['match_type'] == 0:\n",
    "        fails.append(name)\n"
   ]
  },
  {
   "cell_type": "code",
   "execution_count": 13,
   "id": "cubic-apollo",
   "metadata": {},
   "outputs": [
    {
     "name": "stdout",
     "output_type": "stream",
     "text": [
      "# of failed brand name lookups: 2836\n",
      "# of unique brand names in drugs@fda: 5521\n"
     ]
    }
   ],
   "source": [
    "print(f'# of failed brand name lookups: {len(fails)}')\n",
    "print(f'# of unique brand names in drugs@fda: {len(brand_names)}')"
   ]
  },
  {
   "cell_type": "code",
   "execution_count": 14,
   "id": "active-jamaica",
   "metadata": {},
   "outputs": [
    {
     "data": {
      "text/plain": [
       "25017"
      ]
     },
     "execution_count": 14,
     "metadata": {},
     "output_type": "execute_result"
    }
   ],
   "source": [
    "len(data)"
   ]
  },
  {
   "cell_type": "code",
   "execution_count": 29,
   "id": "seasonal-emperor",
   "metadata": {},
   "outputs": [
    {
     "data": {
      "text/plain": [
       "{'application_number, openfda, products, sponsor_name, submissions',\n",
       " 'application_number, openfda, sponsor_name, submissions',\n",
       " 'application_number, products, sponsor_name',\n",
       " 'application_number, products, sponsor_name, submissions',\n",
       " 'application_number, sponsor_name',\n",
       " 'application_number, sponsor_name, submissions'}"
      ]
     },
     "execution_count": 29,
     "metadata": {},
     "output_type": "execute_result"
    }
   ],
   "source": [
    "key_combos = set()\n",
    "for d in data:\n",
    "    key_combos.add(', '.join(sorted(list(d.keys()))))\n",
    "\n",
    "key_combos"
   ]
  },
  {
   "cell_type": "code",
   "execution_count": 32,
   "id": "republican-printing",
   "metadata": {},
   "outputs": [
    {
     "data": {
      "text/plain": [
       "'ANDA076165'"
      ]
     },
     "execution_count": 32,
     "metadata": {},
     "output_type": "execute_result"
    }
   ],
   "source": [
    "data[0]['application_number']"
   ]
  },
  {
   "cell_type": "code",
   "execution_count": null,
   "id": "victorian-primary",
   "metadata": {},
   "outputs": [],
   "source": []
  }
 ],
 "metadata": {
  "kernelspec": {
   "display_name": "therapy-normalization",
   "language": "python",
   "name": "therapy-normalization"
  },
  "language_info": {
   "codemirror_mode": {
    "name": "ipython",
    "version": 3
   },
   "file_extension": ".py",
   "mimetype": "text/x-python",
   "name": "python",
   "nbconvert_exporter": "python",
   "pygments_lexer": "ipython3",
   "version": "3.9.6"
  }
 },
 "nbformat": 4,
 "nbformat_minor": 5
}
