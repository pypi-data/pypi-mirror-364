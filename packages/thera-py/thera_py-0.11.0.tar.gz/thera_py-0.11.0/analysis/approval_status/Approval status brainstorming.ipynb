{
 "cells": [
  {
   "cell_type": "markdown",
   "id": "collect-semiconductor",
   "metadata": {},
   "source": [
    "# Defining 'approval status'\n",
    "\n",
    "## ChEMBL\n",
    "\"Max Phase\":\n",
    " * **Phase 0**: \"Research: The compound has not yet reached clinical trials (preclinical/research compound)\"\n",
    " * **Phase 1**: \"The compound has reached Phase I clinical trials (safety studies, usually with healthy volunteers)\"\n",
    " * **Phase 2**: \"The compound has reached Phase II clinical trials (preliminary studies of effectiveness)\"\n",
    " * **Phase 3**: \"The compound has reached Phase III clinical trials (larger studies of safety and effectiveness)\"\n",
    " * **Phase 4**: \"The compound has been approved in at least one country or area.\"\n",
    " \n",
    "Separately,\n",
    " * **Withdrawn**: \"ChEMBL considers an approved drug to be withdrawn only if all medicinal products that contain the drug as an active ingredient have been withdrawn from one (or more) regions of the world. Note that all medicinal products for a drug can be withdrawn in one region of the world while still being marketed in other jurisdictions.\" (from https://pubs.acs.org/doi/10.1021/acs.chemrestox.0c00296)\n",
    "\n",
    "## RxNorm\n",
    "\n",
    " * **Current Prescribable Content**: \"The RxNorm Current Prescribable Content is a subset of currently prescribable drugs found in RxNorm. We intend it to be an approximation of the prescription drugs currently marketed in the US. The subset also includes many over-the-counter drugs.\" https://www.nlm.nih.gov/research/umls/rxnorm/docs/prescribe.html\n",
    "\n",
    "## HemOnc.org\n",
    "\n",
    " * **Discontinued**: \"Drugs that have lost FDA approval\" https://hemonc.org/wiki/Style_guide#Drugs_that_have_lost_FDA_approval. This is not actually included in the downloadable data -- for example, Mylotarg was withdrawn from the market but may still be worth investigating for other indications.\n",
    " * **\"Was FDA approved yr\"**: Appears to just be a claim about (first?) FDA approval date. No indication of later withdrawal."
   ]
  },
  {
   "cell_type": "markdown",
   "id": "advanced-physics",
   "metadata": {},
   "source": [
    "Our existing normalization routines utilize the following ApprovalStatus enum and mappings:"
   ]
  },
  {
   "cell_type": "code",
   "execution_count": 3,
   "id": "considered-legislature",
   "metadata": {},
   "outputs": [],
   "source": [
    "from enum import Enum\n",
    "\n",
    "def ExistingApprovalStatus(Enum):\n",
    "    # ChEMBL \"withdrawn\" == True,\n",
    "    WITHDRAWN = \"withdrawn\"\n",
    "    \n",
    "    # ChEMBL \"max_phase\" == 4,\n",
    "    # RxNorm \"current_prescribable_content\" == True,\n",
    "    # HemOnc \"was fda approved yr\" == not null,\n",
    "    APPROVED = \"approved\"\n",
    "    \n",
    "    # ChEMBL \"max_phase\" == 1, 2, 3,\n",
    "    INVESTIGATIONAL = \"investigational\"\n",
    "    \n",
    "    # ChEMBL \"max_phase\" == 0,\n",
    "    # --> null (no value)"
   ]
  },
  {
   "cell_type": "markdown",
   "id": "hourly-occurrence",
   "metadata": {},
   "source": [
    "## Drugs@FDA\n",
    "\n",
    "\"Marketing Status\":\n",
    " * **Prescription**: \"A prescription drug product requires a doctor's authorization to purchase.\"\n",
    " * **Over-the-counter**: \"FDA defines OTC drugs as safe and effective for use by the general public without a doctor's prescription.\"\n",
    " * **Discontinued**: \"approved products that have never been marketed, have been discontinued from marketing, are for military use, are for export only, or have had their approvals withdrawn for reasons other than safety or efficacy after being discontinued from marketing\"\n",
    " * **None (Tentatively Approved)**: \"If a generic drug product is ready for approval before the expiration of any patents or exclusivities accorded to the reference listed drug product, FDA issues a tentative approval letter to the applicant. FDA delays final approval of the generic drug product until all patent or exclusivity issues have been resolved. \"\n",
    "\n"
   ]
  },
  {
   "cell_type": "markdown",
   "id": "three-taiwan",
   "metadata": {},
   "source": [
    "## Sample drugs\n",
    "\n",
    "### trastuzumab\n",
    "\n",
    " * ChEMBL: max_phase == 4\n",
    " * HemOnc: was FDA approved\n",
    " * RxNorm: is current prescribable content\n",
    "\n",
    "Drugs@FDA:\n",
    " * several applications -- all Prescription\n",
    " \n",
    "### cisplatin\n",
    "\n",
    " * ChEMBL: max_phase == 4\n",
    " * HemOnc: was FDA approved\n",
    " * RxNorm: is current prescribable content\n",
    "\n",
    "Drugs@FDA:\n",
    " * ANDA074656: prescription"
   ]
  },
  {
   "cell_type": "code",
   "execution_count": null,
   "id": "northern-mortality",
   "metadata": {},
   "outputs": [],
   "source": []
  }
 ],
 "metadata": {
  "kernelspec": {
   "display_name": "Python 3 (ipykernel)",
   "language": "python",
   "name": "python3"
  },
  "language_info": {
   "codemirror_mode": {
    "name": "ipython",
    "version": 3
   },
   "file_extension": ".py",
   "mimetype": "text/x-python",
   "name": "python",
   "nbconvert_exporter": "python",
   "pygments_lexer": "ipython3",
   "version": "3.9.9"
  }
 },
 "nbformat": 4,
 "nbformat_minor": 5
}
