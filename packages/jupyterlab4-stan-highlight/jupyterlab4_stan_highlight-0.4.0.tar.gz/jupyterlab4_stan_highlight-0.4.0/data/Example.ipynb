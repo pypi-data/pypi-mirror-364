{
 "cells": [
  {
   "cell_type": "code",
   "execution_count": 1,
   "id": "b30d997d-6411-4bfa-b384-e14ea643c3da",
   "metadata": {},
   "outputs": [
    {
     "name": "stderr",
     "output_type": "stream",
     "text": [
      "/home/takato/Git/demand_prediction/.venv/lib/python3.12/site-packages/tqdm/auto.py:21: TqdmWarning: IProgress not found. Please update jupyter and ipywidgets. See https://ipywidgets.readthedocs.io/en/stable/user_install.html\n",
      "  from .autonotebook import tqdm as notebook_tqdm\n"
     ]
    }
   ],
   "source": [
    "%load_ext cmdstanjupyter"
   ]
  },
  {
   "cell_type": "code",
   "execution_count": 2,
   "id": "59dacced-83cb-46fb-b687-9ac5197722bf",
   "metadata": {},
   "outputs": [
    {
     "name": "stderr",
     "output_type": "stream",
     "text": [
      "INFO:cmdstanjupyter:Reusing cached model file .stan/bern.stan\n",
      "INFO:cmdstanjupyter:Creating CmdStanPy model & assigning it to variable \"bern\"\n",
      "00:31:50 - cmdstanpy - INFO - compiling stan file /home/takato/Git/jupyterlab-stan-highlight/data/.stan/bern.stan to exe file /home/takato/Git/jupyterlab-stan-highlight/data/.stan/bern\n",
      "ERROR:cmdstanjupyter:Failed to compile stan program\n"
     ]
    }
   ],
   "source": [
    "%%stan bern\n",
    "data { \n",
    "  int<lower=0> N; \n",
    "  int<lower=0, upper=1> y[N];\n",
    "}\n",
    "transformed data {\n",
    " complex z = 10 - 7i; \n",
    "}\n",
    "parameters {\n",
    "  real<lower=0, upper=1> theta;\n",
    "} \n",
    "model {\n",
    "    theta ~ beta(1, 1);\n",
    "    y ~ bernoulli(theta);\n",
    "}"
   ]
  },
  {
   "cell_type": "code",
   "execution_count": null,
   "id": "543feb7b-c72f-48bf-9541-a5d095b58544",
   "metadata": {},
   "outputs": [],
   "source": [
    "print('hello world')"
   ]
  },
  {
   "cell_type": "code",
   "execution_count": null,
   "id": "ea18d32e-03ef-4a4e-b438-4873cceee5f3",
   "metadata": {},
   "outputs": [],
   "source": [
    "bern_fit = bern.sample(data={ \"N\" : 10, \"y\" : [0,1,0,0,0,0,0,0,0,1]})"
   ]
  },
  {
   "cell_type": "code",
   "execution_count": null,
   "id": "2d9dfbc8-3543-49e2-8820-08182bdb8de2",
   "metadata": {},
   "outputs": [],
   "source": [
    "bern_fit.summary()"
   ]
  },
  {
   "cell_type": "markdown",
   "id": "44b90cef-9106-4b25-b562-571c4db83b34",
   "metadata": {},
   "source": [
    " "
   ]
  }
 ],
 "metadata": {
  "kernelspec": {
   "display_name": "Python 3 (ipykernel)",
   "language": "python",
   "name": "python3"
  },
  "language_info": {
   "codemirror_mode": {
    "name": "ipython",
    "version": 3
   },
   "file_extension": ".py",
   "mimetype": "text/x-python",
   "name": "python",
   "nbconvert_exporter": "python",
   "pygments_lexer": "ipython3",
   "version": "3.12.8"
  }
 },
 "nbformat": 4,
 "nbformat_minor": 5
}
