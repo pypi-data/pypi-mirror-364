{
 "cells": [
  {
   "cell_type": "code",
   "execution_count": 1,
   "id": "7401cc99-dab1-4b20-8f6d-ef517af067b8",
   "metadata": {
    "editable": true,
    "slideshow": {
     "slide_type": ""
    },
    "tags": []
   },
   "outputs": [],
   "source": [
    "%load_ext cmdstanjupyter"
   ]
  },
  {
   "cell_type": "code",
   "execution_count": 2,
   "id": "4443b7c1-74d4-4297-8d1e-e0d9cd97306b",
   "metadata": {
    "editable": true,
    "slideshow": {
     "slide_type": ""
    },
    "tags": []
   },
   "outputs": [
    {
     "name": "stderr",
     "output_type": "stream",
     "text": [
      "INFO:cmdstanjupyter:Creating CmdStanPy model & assigning it to variable \"paris_female_births\"\n",
      "11:53:21 - cmdstanpy - INFO - compiling stan file /home/brian/Dev/py/jupyter/CmdStanJupyter/.stan/paris_female_births.stan to exe file /home/brian/Dev/py/jupyter/CmdStanJupyter/.stan/paris_female_births\n",
      "11:53:36 - cmdstanpy - INFO - compiled model executable: /home/brian/Dev/py/jupyter/CmdStanJupyter/.stan/paris_female_births\n",
      "INFO:cmdstanjupyter:StanModel now available as variable \"paris_female_births\"!\n",
      " Compilation took 14 seconds.\n"
     ]
    }
   ],
   "source": [
    "%%stan paris_female_births\n",
    "// Stan code here!\n",
    "data {\n",
    "    int male;\n",
    "    int female;\n",
    "}\n",
    "parameters {\n",
    "    real<lower=0, upper=1> p;\n",
    "}\n",
    "model {\n",
    "    female ~ binomial(male + female, p);\n",
    "}"
   ]
  },
  {
   "cell_type": "code",
   "execution_count": 3,
   "id": "916d7bec-45db-4151-86c8-9952e99087fa",
   "metadata": {},
   "outputs": [
    {
     "name": "stdout",
     "output_type": "stream",
     "text": [
      "Python code here!\n"
     ]
    },
    {
     "data": {
      "text/plain": [
       "{'stan_version_major': '2',\n",
       " 'stan_version_minor': '36',\n",
       " 'stan_version_patch': '0',\n",
       " 'STAN_THREADS': 'false',\n",
       " 'STAN_MPI': 'false',\n",
       " 'STAN_OPENCL': 'false',\n",
       " 'STAN_NO_RANGE_CHECKS': 'false',\n",
       " 'STAN_CPP_OPTIMS': 'false'}"
      ]
     },
     "execution_count": 3,
     "metadata": {},
     "output_type": "execute_result"
    }
   ],
   "source": [
    "print(\"Python code here!\")\n",
    "paris_female_births.exe_info()"
   ]
  },
  {
   "cell_type": "code",
   "execution_count": 4,
   "id": "e076a6b3-be1e-4394-8606-f76554fa000b",
   "metadata": {},
   "outputs": [
    {
     "name": "stderr",
     "output_type": "stream",
     "text": [
      "INFO:cmdstanjupyter:Creating CmdStanPy model & assigning it to variable \"paris_female_births2\"\n",
      "11:53:36 - cmdstanpy - INFO - compiling stan file /home/brian/Dev/py/jupyter/CmdStanJupyter/example.stan to exe file /home/brian/Dev/py/jupyter/CmdStanJupyter/example\n",
      "11:53:50 - cmdstanpy - INFO - compiled model executable: /home/brian/Dev/py/jupyter/CmdStanJupyter/example\n",
      "INFO:cmdstanjupyter:StanModel now available as variable \"paris_female_births2\"!\n",
      " Compilation took 14 seconds.\n"
     ]
    },
    {
     "data": {
      "text/html": [
       "<style>pre { line-height: 125%; }\n",
       "td.linenos .normal { color: inherit; background-color: transparent; padding-left: 5px; padding-right: 5px; }\n",
       "span.linenos { color: inherit; background-color: transparent; padding-left: 5px; padding-right: 5px; }\n",
       "td.linenos .special { color: #000000; background-color: #ffffc0; padding-left: 5px; padding-right: 5px; }\n",
       "span.linenos.special { color: #000000; background-color: #ffffc0; padding-left: 5px; padding-right: 5px; }\n",
       ".output_html .hll { background-color: #ffffcc }\n",
       ".output_html { background: #f8f8f8; }\n",
       ".output_html .c { color: #3D7B7B; font-style: italic } /* Comment */\n",
       ".output_html .err { border: 1px solid #F00 } /* Error */\n",
       ".output_html .k { color: #008000; font-weight: bold } /* Keyword */\n",
       ".output_html .o { color: #666 } /* Operator */\n",
       ".output_html .ch { color: #3D7B7B; font-style: italic } /* Comment.Hashbang */\n",
       ".output_html .cm { color: #3D7B7B; font-style: italic } /* Comment.Multiline */\n",
       ".output_html .cp { color: #9C6500 } /* Comment.Preproc */\n",
       ".output_html .cpf { color: #3D7B7B; font-style: italic } /* Comment.PreprocFile */\n",
       ".output_html .c1 { color: #3D7B7B; font-style: italic } /* Comment.Single */\n",
       ".output_html .cs { color: #3D7B7B; font-style: italic } /* Comment.Special */\n",
       ".output_html .gd { color: #A00000 } /* Generic.Deleted */\n",
       ".output_html .ge { font-style: italic } /* Generic.Emph */\n",
       ".output_html .ges { font-weight: bold; font-style: italic } /* Generic.EmphStrong */\n",
       ".output_html .gr { color: #E40000 } /* Generic.Error */\n",
       ".output_html .gh { color: #000080; font-weight: bold } /* Generic.Heading */\n",
       ".output_html .gi { color: #008400 } /* Generic.Inserted */\n",
       ".output_html .go { color: #717171 } /* Generic.Output */\n",
       ".output_html .gp { color: #000080; font-weight: bold } /* Generic.Prompt */\n",
       ".output_html .gs { font-weight: bold } /* Generic.Strong */\n",
       ".output_html .gu { color: #800080; font-weight: bold } /* Generic.Subheading */\n",
       ".output_html .gt { color: #04D } /* Generic.Traceback */\n",
       ".output_html .kc { color: #008000; font-weight: bold } /* Keyword.Constant */\n",
       ".output_html .kd { color: #008000; font-weight: bold } /* Keyword.Declaration */\n",
       ".output_html .kn { color: #008000; font-weight: bold } /* Keyword.Namespace */\n",
       ".output_html .kp { color: #008000 } /* Keyword.Pseudo */\n",
       ".output_html .kr { color: #008000; font-weight: bold } /* Keyword.Reserved */\n",
       ".output_html .kt { color: #B00040 } /* Keyword.Type */\n",
       ".output_html .m { color: #666 } /* Literal.Number */\n",
       ".output_html .s { color: #BA2121 } /* Literal.String */\n",
       ".output_html .na { color: #687822 } /* Name.Attribute */\n",
       ".output_html .nb { color: #008000 } /* Name.Builtin */\n",
       ".output_html .nc { color: #00F; font-weight: bold } /* Name.Class */\n",
       ".output_html .no { color: #800 } /* Name.Constant */\n",
       ".output_html .nd { color: #A2F } /* Name.Decorator */\n",
       ".output_html .ni { color: #717171; font-weight: bold } /* Name.Entity */\n",
       ".output_html .ne { color: #CB3F38; font-weight: bold } /* Name.Exception */\n",
       ".output_html .nf { color: #00F } /* Name.Function */\n",
       ".output_html .nl { color: #767600 } /* Name.Label */\n",
       ".output_html .nn { color: #00F; font-weight: bold } /* Name.Namespace */\n",
       ".output_html .nt { color: #008000; font-weight: bold } /* Name.Tag */\n",
       ".output_html .nv { color: #19177C } /* Name.Variable */\n",
       ".output_html .ow { color: #A2F; font-weight: bold } /* Operator.Word */\n",
       ".output_html .w { color: #BBB } /* Text.Whitespace */\n",
       ".output_html .mb { color: #666 } /* Literal.Number.Bin */\n",
       ".output_html .mf { color: #666 } /* Literal.Number.Float */\n",
       ".output_html .mh { color: #666 } /* Literal.Number.Hex */\n",
       ".output_html .mi { color: #666 } /* Literal.Number.Integer */\n",
       ".output_html .mo { color: #666 } /* Literal.Number.Oct */\n",
       ".output_html .sa { color: #BA2121 } /* Literal.String.Affix */\n",
       ".output_html .sb { color: #BA2121 } /* Literal.String.Backtick */\n",
       ".output_html .sc { color: #BA2121 } /* Literal.String.Char */\n",
       ".output_html .dl { color: #BA2121 } /* Literal.String.Delimiter */\n",
       ".output_html .sd { color: #BA2121; font-style: italic } /* Literal.String.Doc */\n",
       ".output_html .s2 { color: #BA2121 } /* Literal.String.Double */\n",
       ".output_html .se { color: #AA5D1F; font-weight: bold } /* Literal.String.Escape */\n",
       ".output_html .sh { color: #BA2121 } /* Literal.String.Heredoc */\n",
       ".output_html .si { color: #A45A77; font-weight: bold } /* Literal.String.Interpol */\n",
       ".output_html .sx { color: #008000 } /* Literal.String.Other */\n",
       ".output_html .sr { color: #A45A77 } /* Literal.String.Regex */\n",
       ".output_html .s1 { color: #BA2121 } /* Literal.String.Single */\n",
       ".output_html .ss { color: #19177C } /* Literal.String.Symbol */\n",
       ".output_html .bp { color: #008000 } /* Name.Builtin.Pseudo */\n",
       ".output_html .fm { color: #00F } /* Name.Function.Magic */\n",
       ".output_html .vc { color: #19177C } /* Name.Variable.Class */\n",
       ".output_html .vg { color: #19177C } /* Name.Variable.Global */\n",
       ".output_html .vi { color: #19177C } /* Name.Variable.Instance */\n",
       ".output_html .vm { color: #19177C } /* Name.Variable.Magic */\n",
       ".output_html .il { color: #666 } /* Literal.Number.Integer.Long */\n",
       "pre { line-height: 125%; }\n",
       "td.linenos .normal { color: inherit; background-color: transparent; padding-left: 5px; padding-right: 5px; }\n",
       "span.linenos { color: inherit; background-color: transparent; padding-left: 5px; padding-right: 5px; }\n",
       "td.linenos .special { color: #000000; background-color: #ffffc0; padding-left: 5px; padding-right: 5px; }\n",
       "span.linenos.special { color: #000000; background-color: #ffffc0; padding-left: 5px; padding-right: 5px; }\n",
       ".jp-RenderedHTML .hll { background-color: #ffffcc }\n",
       ".jp-RenderedHTML { background: #f8f8f8; }\n",
       ".jp-RenderedHTML .c { color: #3D7B7B; font-style: italic } /* Comment */\n",
       ".jp-RenderedHTML .err { border: 1px solid #F00 } /* Error */\n",
       ".jp-RenderedHTML .k { color: #008000; font-weight: bold } /* Keyword */\n",
       ".jp-RenderedHTML .o { color: #666 } /* Operator */\n",
       ".jp-RenderedHTML .ch { color: #3D7B7B; font-style: italic } /* Comment.Hashbang */\n",
       ".jp-RenderedHTML .cm { color: #3D7B7B; font-style: italic } /* Comment.Multiline */\n",
       ".jp-RenderedHTML .cp { color: #9C6500 } /* Comment.Preproc */\n",
       ".jp-RenderedHTML .cpf { color: #3D7B7B; font-style: italic } /* Comment.PreprocFile */\n",
       ".jp-RenderedHTML .c1 { color: #3D7B7B; font-style: italic } /* Comment.Single */\n",
       ".jp-RenderedHTML .cs { color: #3D7B7B; font-style: italic } /* Comment.Special */\n",
       ".jp-RenderedHTML .gd { color: #A00000 } /* Generic.Deleted */\n",
       ".jp-RenderedHTML .ge { font-style: italic } /* Generic.Emph */\n",
       ".jp-RenderedHTML .ges { font-weight: bold; font-style: italic } /* Generic.EmphStrong */\n",
       ".jp-RenderedHTML .gr { color: #E40000 } /* Generic.Error */\n",
       ".jp-RenderedHTML .gh { color: #000080; font-weight: bold } /* Generic.Heading */\n",
       ".jp-RenderedHTML .gi { color: #008400 } /* Generic.Inserted */\n",
       ".jp-RenderedHTML .go { color: #717171 } /* Generic.Output */\n",
       ".jp-RenderedHTML .gp { color: #000080; font-weight: bold } /* Generic.Prompt */\n",
       ".jp-RenderedHTML .gs { font-weight: bold } /* Generic.Strong */\n",
       ".jp-RenderedHTML .gu { color: #800080; font-weight: bold } /* Generic.Subheading */\n",
       ".jp-RenderedHTML .gt { color: #04D } /* Generic.Traceback */\n",
       ".jp-RenderedHTML .kc { color: #008000; font-weight: bold } /* Keyword.Constant */\n",
       ".jp-RenderedHTML .kd { color: #008000; font-weight: bold } /* Keyword.Declaration */\n",
       ".jp-RenderedHTML .kn { color: #008000; font-weight: bold } /* Keyword.Namespace */\n",
       ".jp-RenderedHTML .kp { color: #008000 } /* Keyword.Pseudo */\n",
       ".jp-RenderedHTML .kr { color: #008000; font-weight: bold } /* Keyword.Reserved */\n",
       ".jp-RenderedHTML .kt { color: #B00040 } /* Keyword.Type */\n",
       ".jp-RenderedHTML .m { color: #666 } /* Literal.Number */\n",
       ".jp-RenderedHTML .s { color: #BA2121 } /* Literal.String */\n",
       ".jp-RenderedHTML .na { color: #687822 } /* Name.Attribute */\n",
       ".jp-RenderedHTML .nb { color: #008000 } /* Name.Builtin */\n",
       ".jp-RenderedHTML .nc { color: #00F; font-weight: bold } /* Name.Class */\n",
       ".jp-RenderedHTML .no { color: #800 } /* Name.Constant */\n",
       ".jp-RenderedHTML .nd { color: #A2F } /* Name.Decorator */\n",
       ".jp-RenderedHTML .ni { color: #717171; font-weight: bold } /* Name.Entity */\n",
       ".jp-RenderedHTML .ne { color: #CB3F38; font-weight: bold } /* Name.Exception */\n",
       ".jp-RenderedHTML .nf { color: #00F } /* Name.Function */\n",
       ".jp-RenderedHTML .nl { color: #767600 } /* Name.Label */\n",
       ".jp-RenderedHTML .nn { color: #00F; font-weight: bold } /* Name.Namespace */\n",
       ".jp-RenderedHTML .nt { color: #008000; font-weight: bold } /* Name.Tag */\n",
       ".jp-RenderedHTML .nv { color: #19177C } /* Name.Variable */\n",
       ".jp-RenderedHTML .ow { color: #A2F; font-weight: bold } /* Operator.Word */\n",
       ".jp-RenderedHTML .w { color: #BBB } /* Text.Whitespace */\n",
       ".jp-RenderedHTML .mb { color: #666 } /* Literal.Number.Bin */\n",
       ".jp-RenderedHTML .mf { color: #666 } /* Literal.Number.Float */\n",
       ".jp-RenderedHTML .mh { color: #666 } /* Literal.Number.Hex */\n",
       ".jp-RenderedHTML .mi { color: #666 } /* Literal.Number.Integer */\n",
       ".jp-RenderedHTML .mo { color: #666 } /* Literal.Number.Oct */\n",
       ".jp-RenderedHTML .sa { color: #BA2121 } /* Literal.String.Affix */\n",
       ".jp-RenderedHTML .sb { color: #BA2121 } /* Literal.String.Backtick */\n",
       ".jp-RenderedHTML .sc { color: #BA2121 } /* Literal.String.Char */\n",
       ".jp-RenderedHTML .dl { color: #BA2121 } /* Literal.String.Delimiter */\n",
       ".jp-RenderedHTML .sd { color: #BA2121; font-style: italic } /* Literal.String.Doc */\n",
       ".jp-RenderedHTML .s2 { color: #BA2121 } /* Literal.String.Double */\n",
       ".jp-RenderedHTML .se { color: #AA5D1F; font-weight: bold } /* Literal.String.Escape */\n",
       ".jp-RenderedHTML .sh { color: #BA2121 } /* Literal.String.Heredoc */\n",
       ".jp-RenderedHTML .si { color: #A45A77; font-weight: bold } /* Literal.String.Interpol */\n",
       ".jp-RenderedHTML .sx { color: #008000 } /* Literal.String.Other */\n",
       ".jp-RenderedHTML .sr { color: #A45A77 } /* Literal.String.Regex */\n",
       ".jp-RenderedHTML .s1 { color: #BA2121 } /* Literal.String.Single */\n",
       ".jp-RenderedHTML .ss { color: #19177C } /* Literal.String.Symbol */\n",
       ".jp-RenderedHTML .bp { color: #008000 } /* Name.Builtin.Pseudo */\n",
       ".jp-RenderedHTML .fm { color: #00F } /* Name.Function.Magic */\n",
       ".jp-RenderedHTML .vc { color: #19177C } /* Name.Variable.Class */\n",
       ".jp-RenderedHTML .vg { color: #19177C } /* Name.Variable.Global */\n",
       ".jp-RenderedHTML .vi { color: #19177C } /* Name.Variable.Instance */\n",
       ".jp-RenderedHTML .vm { color: #19177C } /* Name.Variable.Magic */\n",
       ".jp-RenderedHTML .il { color: #666 } /* Literal.Number.Integer.Long */</style><div class=\"highlight\"><pre><span></span><span class=\"c1\">// file: example.stan</span>\n",
       "<span class=\"kn\">data</span> <span class=\"p\">{</span>\n",
       "    <span class=\"kt\">int</span> <span class=\"n\">male</span><span class=\"p\">;</span>\n",
       "    <span class=\"kt\">int</span> <span class=\"n\">female</span><span class=\"p\">;</span>\n",
       "<span class=\"p\">}</span>\n",
       "\n",
       "<span class=\"kn\">parameters</span> <span class=\"p\">{</span>\n",
       "    <span class=\"kt\">real</span><span class=\"o\">&lt;</span><span class=\"k\">lower</span><span class=\"p\">=</span><span class=\"mf\">0</span><span class=\"p\">,</span><span class=\"w\"> </span><span class=\"k\">upper</span><span class=\"p\">=</span><span class=\"mf\">1</span><span class=\"o\">&gt;</span> <span class=\"n\">p</span><span class=\"p\">;</span>\n",
       "<span class=\"p\">}</span>\n",
       "\n",
       "<span class=\"kn\">model</span> <span class=\"p\">{</span>\n",
       "    <span class=\"n\">female</span> <span class=\"o\">~</span><span class=\"w\"> </span><span class=\"nb\">binomial</span><span class=\"p\">(</span><span class=\"n\">male</span> <span class=\"o\">+</span> <span class=\"n\">female</span><span class=\"p\">,</span> <span class=\"n\">p</span><span class=\"p\">);</span>\n",
       "<span class=\"p\">}</span>\n",
       "</pre></div>\n"
      ],
      "text/latex": [
       "\\begin{Verbatim}[commandchars=\\\\\\{\\}]\n",
       "\\PY{c+c1}{// file: example.stan}\n",
       "\\PY{k+kn}{data} \\PY{p}{\\PYZob{}}\n",
       "    \\PY{k+kt}{int} \\PY{n}{male}\\PY{p}{;}\n",
       "    \\PY{k+kt}{int} \\PY{n}{female}\\PY{p}{;}\n",
       "\\PY{p}{\\PYZcb{}}\n",
       "\n",
       "\\PY{k+kn}{parameters} \\PY{p}{\\PYZob{}}\n",
       "    \\PY{k+kt}{real}\\PY{o}{\\PYZlt{}}\\PY{k}{lower}\\PY{p}{=}\\PY{l+m+mf}{0}\\PY{p}{,}\\PY{+w}{ }\\PY{k}{upper}\\PY{p}{=}\\PY{l+m+mf}{1}\\PY{o}{\\PYZgt{}} \\PY{n}{p}\\PY{p}{;}\n",
       "\\PY{p}{\\PYZcb{}}\n",
       "\n",
       "\\PY{k+kn}{model} \\PY{p}{\\PYZob{}}\n",
       "    \\PY{n}{female} \\PY{o}{\\PYZti{}}\\PY{+w}{ }\\PY{n+nb}{binomial}\\PY{p}{(}\\PY{n}{male} \\PY{o}{+} \\PY{n}{female}\\PY{p}{,} \\PY{n}{p}\\PY{p}{)}\\PY{p}{;}\n",
       "\\PY{p}{\\PYZcb{}}\n",
       "\\end{Verbatim}\n"
      ],
      "text/plain": [
       "// file: example.stan\n",
       "data {\n",
       "    int male;\n",
       "    int female;\n",
       "}\n",
       "\n",
       "parameters {\n",
       "    real<lower=0, upper=1> p;\n",
       "}\n",
       "\n",
       "model {\n",
       "    female ~ binomial(male + female, p);\n",
       "}"
      ]
     },
     "metadata": {},
     "output_type": "display_data"
    }
   ],
   "source": [
    "%stanf example.stan paris_female_births2 --STAN_THREADS"
   ]
  },
  {
   "cell_type": "code",
   "execution_count": 5,
   "id": "e433f4e4-0c87-4fc7-a39e-c35c360dc7de",
   "metadata": {},
   "outputs": [
    {
     "data": {
      "text/plain": [
       "{'stan_version_major': '2',\n",
       " 'stan_version_minor': '36',\n",
       " 'stan_version_patch': '0',\n",
       " 'STAN_THREADS': 'true',\n",
       " 'STAN_MPI': 'false',\n",
       " 'STAN_OPENCL': 'false',\n",
       " 'STAN_NO_RANGE_CHECKS': 'false',\n",
       " 'STAN_CPP_OPTIMS': 'false'}"
      ]
     },
     "execution_count": 5,
     "metadata": {},
     "output_type": "execute_result"
    }
   ],
   "source": [
    "paris_female_births2.exe_info()"
   ]
  }
 ],
 "metadata": {
  "kernelspec": {
   "display_name": "Python 3 (ipykernel)",
   "language": "python",
   "name": "python3"
  },
  "language_info": {
   "codemirror_mode": {
    "name": "ipython",
    "version": 3
   },
   "file_extension": ".py",
   "mimetype": "text/x-python",
   "name": "python",
   "nbconvert_exporter": "python",
   "pygments_lexer": "ipython3",
   "version": "3.13.5"
  }
 },
 "nbformat": 4,
 "nbformat_minor": 5
}
