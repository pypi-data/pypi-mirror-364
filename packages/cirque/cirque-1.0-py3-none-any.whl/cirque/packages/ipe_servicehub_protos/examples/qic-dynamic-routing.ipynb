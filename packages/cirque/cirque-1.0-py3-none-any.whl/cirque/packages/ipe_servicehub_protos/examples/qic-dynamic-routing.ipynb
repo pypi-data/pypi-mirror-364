{
 "cells": [
  {
   "cell_type": "markdown",
   "id": "b41b7630",
   "metadata": {},
   "source": [
    "# Dynamic Routing\n",
    "\n",
    "How to change how DAC's and DAC's are connected to elements in the Digital Unit Cell"
   ]
  },
  {
   "cell_type": "code",
   "execution_count": 17,
   "id": "8a1ce46c",
   "metadata": {},
   "outputs": [],
   "source": []
  },
  {
   "cell_type": "code",
   "execution_count": 1,
   "id": "d57979f1",
   "metadata": {},
   "outputs": [],
   "source": [
    "# GRPC boilerplate; enable a connection to the platform and communicate to the UnitCellService\n",
    "\n",
    "# Generate the protobuf files, if they have not already been generated.\n",
    "# Genreally, you want to generate them using the `generate_python_interface`\n",
    "try:\n",
    "    import qic_unitcell_pb2_grpc as grpc_stub\n",
    "    import qic_unitcell_pb2 as messages\n",
    "except ModuleNotFoundError as e:\n",
    "    # We generate the module on the fly. If the script fails for some reason,\n",
    "    # another `ModuleNotFoundError` will be thrown \n",
    "    import os\n",
    "    from pathlib import Path\n",
    "    script_loc = Path.cwd() / '..' / 'generate_python_interface'\n",
    "    os.system(f'{script_loc} qic_unitcell.proto -- dir {Path.cwd()}')\n",
    "    \n",
    "    import qic_unitcell_pb2_grpc as grpc_stub\n",
    "    import qic_unitcell_pb2 as messages\n",
    "\n",
    "import grpc    \n",
    "\n",
    "# The platform to connect to\n",
    "platform = 'slot3-platform'\n",
    "\n",
    "conn = grpc.insecure_channel(f'{platform}:50058')\n",
    "\n",
    "service = grpc_stub.UnitCellServiceStub(conn)\n",
    "\n",
    "dac_types = {\n",
    "    0: 'not_connected',\n",
    "    1: 'manipulation',\n",
    "    2: 'readout',\n",
    "    3: 'coupling0',\n",
    "    4: 'coupling1'\n",
    "}\n",
    "\n",
    "def print_dac_signal_types():\n",
    "    \"\"\"\n",
    "    Prints which DAC is connected to which submodule\n",
    "    \"\"\"\n",
    "    res = service.GetDACSignalTypes(messages.Empty())\n",
    "    print('DAC    |  connection   ')\n",
    "    print('-------|---------------')\n",
    "    print('\\n'.join([f'{num:<6} | {dac_types[t]}' for num, t in enumerate(res.types)]))\n",
    "\n",
    "def print_dac_connection():\n",
    "    \"\"\"\n",
    "    Prints which Unit-Cell a DAC is connected to\n",
    "    \"\"\"\n",
    "    print('DAC   | Unit-cells connected to  ')\n",
    "    print('------|--------------------------')\n",
    "    for cell_index in range(0, 8):\n",
    "        routing = service.GetDACRoutingSelect(messages.DACIndex(value=cell_index)).cells\n",
    "        print(f'{cell_index:<5} | {routing}')"
   ]
  },
  {
   "cell_type": "markdown",
   "id": "350d0c5b",
   "metadata": {},
   "source": [
    "Using `print_dac_signal_types()` we can gather information on which DAC is connected to which submodule. Per default,\n",
    "\n",
    "- *Manipulation* signals from cells with *even* indices are connected to DACs 0 and 1\n",
    "- *Readout* signals from cells with *even* indices are connected to DACs 2 and 3\n",
    "- *Manipulation* signals from cells with *odd* indices are connected to DACs 4 and 5\n",
    "- *Readout* signals from cells with *odd* indices are connected to DACs 6 and 7\n",
    "\n",
    "The function uses `GetDACSignalTypes` once to get the connection information \n",
    "\n",
    "This is the output for 4 Unit Cells:\n",
    "\n",
    "DAC    |  connection   \n",
    "-------|---------------\n",
    "0      | manipulation\n",
    "1      | not_connected\n",
    "2      | readout\n",
    "3      | not_connected\n",
    "4      | manipulation\n",
    "5      | not_connected\n",
    "6      | readout\n",
    "7      | not_connected\n",
    "8      | not_connected\n",
    "9      | not_connected\n",
    "10     | not_connected\n",
    "11     | not_connected\n",
    "12     | not_connected\n",
    "13     | not_connected\n",
    "14     | not_connected\n",
    "15     | not_connected\n",
    "\n",
    "Note that the ADC's are real-valued, not complex-valued. # TODO: why?\n",
    "\n",
    "With `print_dac_connection()` we can see which (complex-valued) DAC is connected to which Unit-Cells.\n",
    "Using the same setup from above, the following is configured by default:\n",
    "\n",
    "DAC   | Unit-cells connected to  \n",
    "------|--------------------------\n",
    "0     | [0, 2]\n",
    "1     | []\n",
    "2     | [0, 2]\n",
    "3     | []\n",
    "4     | [1, 3]\n",
    "5     | []\n",
    "6     | [1, 3]\n",
    "7     | []\n",
    "\n",
    "As an example, let's swap manipulation and readout for the first Unit-Cell"
   ]
  },
  {
   "cell_type": "code",
   "execution_count": 2,
   "id": "e91669de",
   "metadata": {},
   "outputs": [
    {
     "data": {
      "text/plain": []
     },
     "execution_count": 2,
     "metadata": {},
     "output_type": "execute_result"
    }
   ],
   "source": [
    "# Route readout from cell 0 to DAC 0\n",
    "routing = messages.DACRouting(\n",
    "    type=2, # readout\n",
    "    dac=0,\n",
    "    cells=[0]\n",
    ")\n",
    "\n",
    "service.SetDACRoutingSelect(routing)\n",
    "\n",
    "# Route manipulation from cell 0 to DAC 2\n",
    "routing = messages.DACRouting(\n",
    "    type=1, # manipulation\n",
    "    dac=2,\n",
    "    cells=[0]\n",
    ")\n",
    "\n",
    "service.SetDACRoutingSelect(routing)"
   ]
  },
  {
   "cell_type": "markdown",
   "id": "66e177b7",
   "metadata": {},
   "source": [
    "Nothing changes when using `print_dac_connection()` since cell 0 is still connected to DAC's 0 and 2. However, we can see that using `print_dac_signal_types()` readout and manipulation has swapped"
   ]
  },
  {
   "cell_type": "code",
   "execution_count": 3,
   "id": "c19014a2",
   "metadata": {},
   "outputs": [
    {
     "name": "stdout",
     "output_type": "stream",
     "text": [
      "DAC    |  connection   \n",
      "-------|---------------\n",
      "0      | readout\n",
      "1      | not_connected\n",
      "2      | manipulation\n",
      "3      | not_connected\n",
      "4      | manipulation\n",
      "5      | not_connected\n",
      "6      | readout\n",
      "7      | not_connected\n",
      "8      | not_connected\n",
      "9      | not_connected\n",
      "10     | not_connected\n",
      "11     | not_connected\n",
      "12     | not_connected\n",
      "13     | not_connected\n",
      "14     | not_connected\n",
      "15     | not_connected\n"
     ]
    }
   ],
   "source": [
    "print_dac_signal_types()"
   ]
  },
  {
   "cell_type": "markdown",
   "id": "75af2fb1",
   "metadata": {},
   "source": [
    "Routing ADC's is similar but not as complicated. By default, all even cells are connected to ADC's 4 and 5 (which is ADC 2 when interpreted as one complex ADC) while all odd cells are connected to ADC's 6 and 7 (resp. complex ADC 3).\n",
    "\n",
    "Using `GetADCRoutingSelect` we can see which cell is connected to which ADC."
   ]
  },
  {
   "cell_type": "code",
   "execution_count": 4,
   "id": "17d951e0",
   "metadata": {},
   "outputs": [
    {
     "data": {
      "text/plain": [
       "[2, 3, 2, 3]"
      ]
     },
     "execution_count": 4,
     "metadata": {},
     "output_type": "execute_result"
    }
   ],
   "source": [
    "service.GetADCRoutingSelect(messages.Empty()).adcs"
   ]
  },
  {
   "cell_type": "markdown",
   "id": "d4919f9b",
   "metadata": {},
   "source": [
    "The function `GetADCConnectedCells` returns the indices of all Cells that are connected to an ADC"
   ]
  },
  {
   "cell_type": "code",
   "execution_count": 6,
   "id": "7f0f974d",
   "metadata": {},
   "outputs": [
    {
     "data": {
      "text/plain": [
       "[0, 1, 2, 3]"
      ]
     },
     "execution_count": 6,
     "metadata": {},
     "output_type": "execute_result"
    }
   ],
   "source": [
    "service.GetADCConnectedCells(messages.Empty()).cells"
   ]
  },
  {
   "cell_type": "markdown",
   "id": "bd1648b1",
   "metadata": {},
   "source": [
    "As an example, we can disconnect ADC 2 from cell 0 and ADC 3 from cell 1"
   ]
  },
  {
   "cell_type": "code",
   "execution_count": 7,
   "id": "7cb4cb00",
   "metadata": {},
   "outputs": [
    {
     "data": {
      "text/plain": []
     },
     "execution_count": 7,
     "metadata": {},
     "output_type": "execute_result"
    }
   ],
   "source": [
    "routing = messages.ADCRouting(\n",
    "    adc=2,\n",
    "    cells=[0],\n",
    "    mode=0 # 0: disconnect\n",
    ")\n",
    "\n",
    "service.SetADCRoutingSelect(routing)\n",
    "\n",
    "routing = messages.ADCRouting(\n",
    "    adc=3,\n",
    "    cells=[1],\n",
    "    mode=0 # 0: disconnect\n",
    ")\n",
    "\n",
    "service.SetADCRoutingSelect(routing)"
   ]
  },
  {
   "cell_type": "markdown",
   "id": "150013dd",
   "metadata": {},
   "source": [
    "We can find that now only cells 2 and 3 are connected."
   ]
  },
  {
   "cell_type": "code",
   "execution_count": 8,
   "id": "5386e8cb",
   "metadata": {},
   "outputs": [
    {
     "name": "stdout",
     "output_type": "stream",
     "text": [
      "[2, 3]\n",
      "[2, 3, 2, 3]\n"
     ]
    }
   ],
   "source": [
    "print(service.GetADCConnectedCells(messages.Empty()).cells)\n",
    "print(service.GetADCRoutingSelect(messages.Empty()).adcs)"
   ]
  },
  {
   "cell_type": "markdown",
   "id": "a7853c59",
   "metadata": {},
   "source": [
    "Let's now connect ADC 3 to cell 0 and ADC 2 to cell 1"
   ]
  },
  {
   "cell_type": "code",
   "execution_count": 9,
   "id": "c4a5fb65",
   "metadata": {},
   "outputs": [
    {
     "data": {
      "text/plain": []
     },
     "execution_count": 9,
     "metadata": {},
     "output_type": "execute_result"
    }
   ],
   "source": [
    "routing = messages.ADCRouting(\n",
    "    adc=3,\n",
    "    cells=[0],\n",
    "    mode=1 # 1: connect\n",
    ")\n",
    "\n",
    "service.SetADCRoutingSelect(routing)\n",
    "\n",
    "routing = messages.ADCRouting(\n",
    "    adc=2,\n",
    "    cells=[1],\n",
    "    mode=1 # 1: connect\n",
    ")\n",
    "\n",
    "service.SetADCRoutingSelect(routing)"
   ]
  },
  {
   "cell_type": "code",
   "execution_count": 10,
   "id": "dd0b8d14",
   "metadata": {},
   "outputs": [
    {
     "name": "stdout",
     "output_type": "stream",
     "text": [
      "[0, 1, 2, 3]\n",
      "[3, 2, 2, 3]\n"
     ]
    }
   ],
   "source": [
    "print(service.GetADCConnectedCells(messages.Empty()).cells)\n",
    "print(service.GetADCRoutingSelect(messages.Empty()).adcs)"
   ]
  },
  {
   "cell_type": "code",
   "execution_count": null,
   "id": "3e4b9c1f",
   "metadata": {},
   "outputs": [],
   "source": []
  }
 ],
 "metadata": {
  "kernelspec": {
   "display_name": "Python 3",
   "language": "python",
   "name": "python3"
  },
  "language_info": {
   "codemirror_mode": {
    "name": "ipython",
    "version": 3
   },
   "file_extension": ".py",
   "mimetype": "text/x-python",
   "name": "python",
   "nbconvert_exporter": "python",
   "pygments_lexer": "ipython3",
   "version": "3.6.8"
  }
 },
 "nbformat": 4,
 "nbformat_minor": 5
}
