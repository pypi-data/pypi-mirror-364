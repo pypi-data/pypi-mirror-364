{
 "cells": [
  {
   "cell_type": "markdown",
   "metadata": {},
   "source": [
    "# Programmatic example"
   ]
  },
  {
   "cell_type": "code",
   "execution_count": null,
   "metadata": {},
   "outputs": [],
   "source": [
    "import napari\n",
    "from skimage import data\n",
    "\n",
    "# init the viewer. The same viewer can be used for all animations.\n",
    "viewer = napari.view_image(data.cells3d(), channel_axis=1, ndisplay=3)\n"
   ]
  },
  {
   "cell_type": "code",
   "execution_count": null,
   "metadata": {},
   "outputs": [],
   "source": [
    "# helper function to dispaly the animation in the notebook\n",
    "from IPython.display import Video, display\n",
    "\n",
    "\n",
    "def jupyter_napari_animation(animation, **kwargs):\n",
    "    from pathlib import Path\n",
    "    from datetime import datetime\n",
    "\n",
    "    dir = Path.cwd() / \"media\"\n",
    "    dir.mkdir(exist_ok=True)\n",
    "    timestamp = datetime.now().strftime(\"%Y-%m-%d@%H-%M-%S\")\n",
    "    mov_name = \"napari_video\" + \"@\" + timestamp + \".mp4\"\n",
    "    path = dir / mov_name\n",
    "    animation.animate(path, **kwargs)\n",
    "    vid = Video(path, width=600, html_attributes=f\"controls autoplay loop\")\n",
    "    display(vid)\n"
   ]
  },
  {
   "cell_type": "code",
   "execution_count": null,
   "metadata": {},
   "outputs": [],
   "source": [
    "from napari_animation import Animation\n",
    "from napari_animation.easing import Easing\n",
    "\n",
    "viewer.camera.angles = (0, 0, 90)\n",
    "\n",
    "animation = Animation(viewer)\n",
    "viewer.camera.zoom = 1\n",
    "animation.capture_keyframe(steps=30)\n",
    "\n",
    "viewer.camera.zoom = 2\n",
    "animation.capture_keyframe(steps=60, ease=Easing.QUADRATIC)\n",
    "\n",
    "viewer.camera.angles = (20, -25, 140)\n",
    "animation.capture_keyframe(steps=60, ease=Easing.QUADRATIC)\n",
    "\n",
    "viewer.camera.zoom = 1\n",
    "animation.capture_keyframe(steps=60, ease=Easing.QUADRATIC)\n",
    "\n",
    "viewer.camera.angles = (0, 0, 90)\n",
    "animation.capture_keyframe(steps=60, ease=Easing.LINEAR)\n",
    "\n",
    "jupyter_napari_animation(animation, canvas_only=True, fps=60)"
   ]
  },
  {
   "cell_type": "code",
   "execution_count": null,
   "metadata": {},
   "outputs": [],
   "source": []
  }
 ],
 "metadata": {
  "kernelspec": {
   "display_name": "napari-env2",
   "language": "python",
   "name": "python3"
  },
  "language_info": {
   "codemirror_mode": {
    "name": "ipython",
    "version": 3
   },
   "file_extension": ".py",
   "mimetype": "text/x-python",
   "name": "python",
   "nbconvert_exporter": "python",
   "pygments_lexer": "ipython3",
   "version": "3.9.15"
  },
  "orig_nbformat": 4
 },
 "nbformat": 4,
 "nbformat_minor": 2
}
