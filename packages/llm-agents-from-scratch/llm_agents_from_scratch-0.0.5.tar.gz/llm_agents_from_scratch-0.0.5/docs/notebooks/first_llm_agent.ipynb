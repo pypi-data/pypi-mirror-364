{
 "cells": [
  {
   "cell_type": "markdown",
   "id": "93a2ace1-2f96-4bf0-9c7f-55e37799ad09",
   "metadata": {},
   "source": [
    "# Our First LLM Agent"
   ]
  },
  {
   "cell_type": "code",
   "execution_count": 1,
   "id": "1c074c89-e290-4f16-b4c3-80dbcb2541a2",
   "metadata": {},
   "outputs": [],
   "source": [
    "from llm_agents_from_scratch import LLMAgent"
   ]
  },
  {
   "cell_type": "markdown",
   "id": "37a14d79-bd26-4b19-966d-4f29047cebb5",
   "metadata": {},
   "source": [
    "## Create an `LLMAgent`"
   ]
  },
  {
   "cell_type": "markdown",
   "id": "d48e30aa-caa8-4984-9c98-048c86880586",
   "metadata": {},
   "source": [
    "### Define the backbone LLM"
   ]
  },
  {
   "cell_type": "code",
   "execution_count": 2,
   "id": "578979fe-3de7-4eec-acd6-fb90c876481b",
   "metadata": {},
   "outputs": [],
   "source": [
    "from llm_agents_from_scratch.llms import OllamaLLM"
   ]
  },
  {
   "cell_type": "code",
   "execution_count": 3,
   "id": "65f3a83d-b3bc-4e76-ba47-7e24120d33b3",
   "metadata": {},
   "outputs": [],
   "source": [
    "llm = OllamaLLM(model=\"qwen2.5:3b\")"
   ]
  },
  {
   "cell_type": "markdown",
   "id": "e173fe6d-239e-4129-a97a-10999f2a0732",
   "metadata": {},
   "source": [
    "### Define Tools"
   ]
  },
  {
   "cell_type": "code",
   "execution_count": 4,
   "id": "7477b302-af47-49de-a7e3-741586d90261",
   "metadata": {},
   "outputs": [],
   "source": [
    "from llm_agents_from_scratch import (\n",
    "    SimpleFunctionTool,\n",
    ")"
   ]
  },
  {
   "cell_type": "markdown",
   "id": "eb5cd91c-2123-48f4-9548-4d4cfa960bda",
   "metadata": {},
   "source": [
    "#### Simple function tools\n",
    "\n",
    "These tools use manual and simple conversions from Python types to valid JSON schema types."
   ]
  },
  {
   "cell_type": "code",
   "execution_count": 5,
   "id": "823e9414-2c20-4c33-8205-08bd162e7da2",
   "metadata": {},
   "outputs": [],
   "source": [
    "def add_one(x: str) -> float:\n",
    "    \"\"\"Adds one to a given number.\"\"\"\n",
    "    return float(x) + 1"
   ]
  },
  {
   "cell_type": "code",
   "execution_count": 6,
   "id": "6d6dc843-df79-415a-b87c-d6d7e01df77f",
   "metadata": {},
   "outputs": [],
   "source": [
    "add_one_tool = SimpleFunctionTool(func=add_one)"
   ]
  },
  {
   "cell_type": "code",
   "execution_count": 7,
   "id": "0ac20ebb-d9e7-4fc8-92cc-326950c6cb9c",
   "metadata": {},
   "outputs": [
    {
     "data": {
      "text/plain": [
       "ToolCallResult(tool_call=ToolCall(tool_name='add_one', arguments={'x': '3.15'}), content='4.15', error=False)"
      ]
     },
     "execution_count": 7,
     "metadata": {},
     "output_type": "execute_result"
    }
   ],
   "source": [
    "from llm_agents_from_scratch.data_structures.tool import ToolCall\n",
    "\n",
    "# test the tool\n",
    "tool_call = ToolCall(\n",
    "    tool_name=add_one_tool.name,\n",
    "    arguments={\"x\": \"3.15\"},\n",
    ")\n",
    "add_one_tool(tool_call)"
   ]
  },
  {
   "cell_type": "markdown",
   "id": "3dff626b-eab2-4b44-8220-ad2b19f502c3",
   "metadata": {},
   "source": [
    "### Define the LLM Agent"
   ]
  },
  {
   "cell_type": "code",
   "execution_count": 8,
   "id": "7ebe27bb-de33-4406-9e11-a5f427ef7ac7",
   "metadata": {},
   "outputs": [],
   "source": [
    "agent = LLMAgent(\n",
    "    llm=llm,\n",
    "    tools=[add_one_tool],\n",
    ")"
   ]
  },
  {
   "cell_type": "markdown",
   "id": "fcbe332e-5a33-4f1e-b111-ca84e02596ee",
   "metadata": {},
   "source": [
    "## Run a simple task"
   ]
  },
  {
   "cell_type": "code",
   "execution_count": 9,
   "id": "c3a940e0-3fb0-43e9-8858-f5277a79df37",
   "metadata": {},
   "outputs": [],
   "source": [
    "LOGGING_ENABLED = True"
   ]
  },
  {
   "cell_type": "code",
   "execution_count": 10,
   "id": "bfb51e69-ea36-495d-bcc1-fc7d164b6d40",
   "metadata": {},
   "outputs": [],
   "source": [
    "import logging\n",
    "\n",
    "from llm_agents_from_scratch.logger import enable_console_logging\n",
    "\n",
    "if LOGGING_ENABLED:\n",
    "    enable_console_logging(logging.INFO)"
   ]
  },
  {
   "cell_type": "code",
   "execution_count": 11,
   "id": "4d09a484-9eb7-4525-923e-d00ebfe0434a",
   "metadata": {},
   "outputs": [],
   "source": [
    "from llm_agents_from_scratch.data_structures import Task"
   ]
  },
  {
   "cell_type": "code",
   "execution_count": 12,
   "id": "1d5d512e-d400-4398-980f-a4142d367add",
   "metadata": {},
   "outputs": [],
   "source": [
    "task = Task(\n",
    "    instruction=\"Add one to fifty-five point three. Use an appropriate tool!\",\n",
    ")"
   ]
  },
  {
   "cell_type": "code",
   "execution_count": 13,
   "id": "e99cca54-0d21-4c9d-9a17-bf595d110fe5",
   "metadata": {},
   "outputs": [
    {
     "name": "stdout",
     "output_type": "stream",
     "text": [
      "INFO (llm_agents_fs.LLMAgent) :      🚀 Starting task: Add one to fifty-five point three. Use an appropriate tool!\n",
      "INFO (llm_agents_fs.TaskHandler) :      ⚙️ Processing Step: Add one to fifty-five point three. Use an appropriate tool!\n",
      "INFO (llm_agents_fs.TaskHandler) :      🛠️ Executing Tool Call: add_one\n",
      "INFO (llm_agents_fs.TaskHandler) :      ✅ Successful Tool Call: 56.3\n",
      "INFO (llm_agents_fs.TaskHandler) :      ✅ Step Result: Adding one to fifty-five point three gives us fifty-six point three.\n",
      "INFO (llm_agents_fs.TaskHandler) :      No new step required.\n",
      "INFO (llm_agents_fs.LLMAgent) :      🏁 Task completed: Adding one to fifty-five point three gives us fifty-six point three.\n"
     ]
    }
   ],
   "source": [
    "result = await agent.run(task)"
   ]
  },
  {
   "cell_type": "code",
   "execution_count": 14,
   "id": "0fde7c61-f0d9-4ef9-b0b6-90386667bbb8",
   "metadata": {},
   "outputs": [
    {
     "name": "stdout",
     "output_type": "stream",
     "text": [
      "The result is fifty-six point three.\n"
     ]
    }
   ],
   "source": [
    "print(result.task_result)"
   ]
  },
  {
   "cell_type": "code",
   "execution_count": 15,
   "id": "93b1cfa1-1ac0-420d-b36e-007de5cdfc7f",
   "metadata": {},
   "outputs": [
    {
     "name": "stdout",
     "output_type": "stream",
     "text": [
      "assistant: Add one to fifty-five point three. Use an appropriate tool!\n",
      "assistant: I need to make a tool call(s) to add_one\n",
      "tool: {\n",
      "    \"tool_call\": {\n",
      "        \"tool_name\": \"add_one\",\n",
      "        \"arguments\": {\n",
      "            \"x\": \"55.3\"\n",
      "        }\n",
      "    },\n",
      "    \"content\": \"56.3\",\n",
      "    \"error\": false\n",
      "}\n",
      "assistant: Adding one to fifty-five point three gives us fifty-six point three.\n"
     ]
    }
   ],
   "source": [
    "print(result.rollout)"
   ]
  },
  {
   "cell_type": "code",
   "execution_count": null,
   "id": "e1a01698-dcdc-4796-a41b-6029eafa9ab5",
   "metadata": {},
   "outputs": [],
   "source": []
  }
 ],
 "metadata": {
  "kernelspec": {
   "display_name": "Python 3 (ipykernel)",
   "language": "python",
   "name": "python3"
  },
  "language_info": {
   "codemirror_mode": {
    "name": "ipython",
    "version": 3
   },
   "file_extension": ".py",
   "mimetype": "text/x-python",
   "name": "python",
   "nbconvert_exporter": "python",
   "pygments_lexer": "ipython3",
   "version": "3.13.5"
  }
 },
 "nbformat": 4,
 "nbformat_minor": 5
}
