{
 "cells": [
  {
   "cell_type": "code",
   "execution_count": 4,
   "id": "7f21eee5",
   "metadata": {},
   "outputs": [
    {
     "data": {
      "text/plain": [
       "Pluto(uri=\"ip:192.168.2.1\") object \"PlutoSDR\" with following key properties:\n",
       "\n",
       "rx_lo:                   914.999998   MHz, Carrier frequency of RX path\n",
       "rx_hardwaregain_chan0    40           dB, Gain applied to RX path. Only applicable when gain_control_mode is set to 'manual'\n",
       "rx_rf_bandwidth:         1.0          MHz, Bandwidth of front-end analog filter of RX path\n",
       "gain_control_mode_chan0: manual       Receive path AGC Options: slow_attack, fast_attack, manual\n",
       "\n",
       "tx_lo:                   815.0        MHz, Carrier frequency of TX path\n",
       "tx_hardwaregain_chan0:   0            dB, Attenuation applied to TX path\n",
       "tx_rf_bandwidth:         1.0          MHz, Bandwidth of front-end analog filter of TX path\n",
       "tx_cyclic_buffer:        0            Toggles cyclic buffer\n",
       "\n",
       "filter:                  [128.0, 4.0, 128.0, 4.0] FIR filter file\n",
       "sample_rate:             0.999999     MSPS, Sample rate RX and TX paths\n",
       "loopback:                0            0=Disabled, 1=Digital, 2=RF\n"
      ]
     },
     "execution_count": 4,
     "metadata": {},
     "output_type": "execute_result"
    }
   ],
   "source": [
    "import adi\n",
    "import numpy as np\n",
    "sdr = adi.Pluto(\"ip:192.168.2.1\")\n",
    "sdr"
   ]
  },
  {
   "cell_type": "code",
   "execution_count": 6,
   "id": "d6fa9b86",
   "metadata": {},
   "outputs": [],
   "source": [
    "sdr.tx_lo = int(815e6)  # Set carrier frequency for transmission\n",
    "sdr.tx_hardwaregain_chan0 = 0"
   ]
  },
  {
   "cell_type": "code",
   "execution_count": 8,
   "id": "d5160e00",
   "metadata": {},
   "outputs": [],
   "source": [
    "N = 10000  # number of samples to transmit\n",
    "t = np.arange(N) / sdr.sample_rate  # time vector\n",
    "tx_signal = 0.5 * np.exp(2.0j * np.pi * 100e3 * t)  # complex sinusoid at 100 kHz\n",
    "tx_signal = tx_signal / np.max(np.abs(tx_signal)) * 2**14"
   ]
  },
  {
   "cell_type": "code",
   "execution_count": 9,
   "id": "48431cb7",
   "metadata": {},
   "outputs": [],
   "source": [
    "sdr.tx(tx_signal)"
   ]
  }
 ],
 "metadata": {
  "kernelspec": {
   "display_name": ".venv",
   "language": "python",
   "name": "python3"
  },
  "language_info": {
   "codemirror_mode": {
    "name": "ipython",
    "version": 3
   },
   "file_extension": ".py",
   "mimetype": "text/x-python",
   "name": "python",
   "nbconvert_exporter": "python",
   "pygments_lexer": "ipython3",
   "version": "3.13.5"
  }
 },
 "nbformat": 4,
 "nbformat_minor": 5
}
