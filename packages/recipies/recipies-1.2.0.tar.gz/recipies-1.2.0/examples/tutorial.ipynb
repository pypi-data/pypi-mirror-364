{
 "cells": [
  {
   "metadata": {},
   "cell_type": "markdown",
   "source": "# ReciPies Basics",
   "id": "3267852701fb9b12"
  },
  {
   "metadata": {},
   "cell_type": "markdown",
   "source": "## Imports",
   "id": "a5b43c00d911cf35"
  },
  {
   "metadata": {
    "ExecuteTime": {
     "end_time": "2025-07-23T12:14:22.478752Z",
     "start_time": "2025-07-23T12:14:22.475800Z"
    }
   },
   "cell_type": "code",
   "source": [
    "import numpy as np\n",
    "import polars as pl\n",
    "from src.recipies import Recipe\n",
    "from src.recipies.ingredients import Ingredients\n",
    "from datetime import datetime, MINYEAR"
   ],
   "id": "f6c8ec71d7eae73",
   "outputs": [],
   "execution_count": 77
  },
  {
   "metadata": {},
   "cell_type": "markdown",
   "source": [
    "## Creating our data as Polars DataFrame\n",
    "We will create a simple dataset to demonstrate the functionality of ReciPys. We have different datatypes, and a temporal aspect to our data. We also add some missing values to our data as this common."
   ],
   "id": "85aa2931591758b3"
  },
  {
   "metadata": {
    "ExecuteTime": {
     "end_time": "2025-07-23T12:14:22.493543Z",
     "start_time": "2025-07-23T12:14:22.489163Z"
    }
   },
   "cell_type": "code",
   "source": [
    "rand_state = np.random.RandomState(42)\n",
    "timecolumn = pl.concat([pl.datetime_range(datetime(MINYEAR, 1, 1,0), datetime(MINYEAR, 1, 1,5), \"1h\", eager=True),\n",
    "              pl.datetime_range(datetime(MINYEAR, 1, 1,0), datetime(MINYEAR, 1, 1,3), \"1h\", eager=True)])\n",
    "df = pl.DataFrame(\n",
    "{\n",
    "    \"id\": [1] * 6 + [2] * 4,\n",
    "    \"time\": timecolumn,\n",
    "    \"y\": rand_state.normal(size=(10,)),\n",
    "    \"x1\": rand_state.normal(loc=10, scale=5, size=(10,)),\n",
    "    \"x2\": rand_state.binomial(n=1, p=0.3, size=(10,)),\n",
    "    \"x3\": pl.Series([\"a\", \"b\", \"c\", \"a\", \"c\", \"b\", \"c\", \"a\", \"b\", \"c\"],dtype=pl.Categorical),\n",
    "    \"x4\": pl.Series([\"x\", \"y\", \"y\", \"x\", \"y\", \"y\", \"x\", \"x\", \"y\", \"x\"],dtype=pl.Categorical),\n",
    "}\n",
    ")\n",
    "df[[1, 2, 4, 7], \"x1\"] = None"
   ],
   "id": "c0e53e6851c885be",
   "outputs": [],
   "execution_count": 78
  },
  {
   "metadata": {
    "ExecuteTime": {
     "end_time": "2025-07-23T12:14:22.502807Z",
     "start_time": "2025-07-23T12:14:22.499678Z"
    }
   },
   "cell_type": "code",
   "source": "df",
   "id": "3a008bd48a39014d",
   "outputs": [
    {
     "data": {
      "text/plain": [
       "shape: (10, 7)\n",
       "┌─────┬─────────────────────┬───────────┬──────────┬─────┬─────┬─────┐\n",
       "│ id  ┆ time                ┆ y         ┆ x1       ┆ x2  ┆ x3  ┆ x4  │\n",
       "│ --- ┆ ---                 ┆ ---       ┆ ---      ┆ --- ┆ --- ┆ --- │\n",
       "│ i64 ┆ datetime[μs]        ┆ f64       ┆ f64      ┆ i64 ┆ cat ┆ cat │\n",
       "╞═════╪═════════════════════╪═══════════╪══════════╪═════╪═════╪═════╡\n",
       "│ 1   ┆ 0001-01-01 00:00:00 ┆ 0.496714  ┆ 7.682912 ┆ 0   ┆ a   ┆ x   │\n",
       "│ 1   ┆ 0001-01-01 01:00:00 ┆ -0.138264 ┆ null     ┆ 1   ┆ b   ┆ y   │\n",
       "│ 1   ┆ 0001-01-01 02:00:00 ┆ 0.647689  ┆ null     ┆ 0   ┆ c   ┆ y   │\n",
       "│ 1   ┆ 0001-01-01 03:00:00 ┆ 1.52303   ┆ 0.433599 ┆ 0   ┆ a   ┆ x   │\n",
       "│ 1   ┆ 0001-01-01 04:00:00 ┆ -0.234153 ┆ null     ┆ 0   ┆ c   ┆ y   │\n",
       "│ 1   ┆ 0001-01-01 05:00:00 ┆ -0.234137 ┆ 7.188562 ┆ 0   ┆ b   ┆ y   │\n",
       "│ 2   ┆ 0001-01-01 00:00:00 ┆ 1.579213  ┆ 4.935844 ┆ 0   ┆ c   ┆ x   │\n",
       "│ 2   ┆ 0001-01-01 01:00:00 ┆ 0.767435  ┆ null     ┆ 0   ┆ a   ┆ x   │\n",
       "│ 2   ┆ 0001-01-01 02:00:00 ┆ -0.469474 ┆ 5.45988  ┆ 0   ┆ b   ┆ y   │\n",
       "│ 2   ┆ 0001-01-01 03:00:00 ┆ 0.54256   ┆ 2.938481 ┆ 1   ┆ c   ┆ x   │\n",
       "└─────┴─────────────────────┴───────────┴──────────┴─────┴─────┴─────┘"
      ],
      "text/html": [
       "<div><style>\n",
       ".dataframe > thead > tr,\n",
       ".dataframe > tbody > tr {\n",
       "  text-align: right;\n",
       "  white-space: pre-wrap;\n",
       "}\n",
       "</style>\n",
       "<small>shape: (10, 7)</small><table border=\"1\" class=\"dataframe\"><thead><tr><th>id</th><th>time</th><th>y</th><th>x1</th><th>x2</th><th>x3</th><th>x4</th></tr><tr><td>i64</td><td>datetime[μs]</td><td>f64</td><td>f64</td><td>i64</td><td>cat</td><td>cat</td></tr></thead><tbody><tr><td>1</td><td>0001-01-01 00:00:00</td><td>0.496714</td><td>7.682912</td><td>0</td><td>&quot;a&quot;</td><td>&quot;x&quot;</td></tr><tr><td>1</td><td>0001-01-01 01:00:00</td><td>-0.138264</td><td>null</td><td>1</td><td>&quot;b&quot;</td><td>&quot;y&quot;</td></tr><tr><td>1</td><td>0001-01-01 02:00:00</td><td>0.647689</td><td>null</td><td>0</td><td>&quot;c&quot;</td><td>&quot;y&quot;</td></tr><tr><td>1</td><td>0001-01-01 03:00:00</td><td>1.52303</td><td>0.433599</td><td>0</td><td>&quot;a&quot;</td><td>&quot;x&quot;</td></tr><tr><td>1</td><td>0001-01-01 04:00:00</td><td>-0.234153</td><td>null</td><td>0</td><td>&quot;c&quot;</td><td>&quot;y&quot;</td></tr><tr><td>1</td><td>0001-01-01 05:00:00</td><td>-0.234137</td><td>7.188562</td><td>0</td><td>&quot;b&quot;</td><td>&quot;y&quot;</td></tr><tr><td>2</td><td>0001-01-01 00:00:00</td><td>1.579213</td><td>4.935844</td><td>0</td><td>&quot;c&quot;</td><td>&quot;x&quot;</td></tr><tr><td>2</td><td>0001-01-01 01:00:00</td><td>0.767435</td><td>null</td><td>0</td><td>&quot;a&quot;</td><td>&quot;x&quot;</td></tr><tr><td>2</td><td>0001-01-01 02:00:00</td><td>-0.469474</td><td>5.45988</td><td>0</td><td>&quot;b&quot;</td><td>&quot;y&quot;</td></tr><tr><td>2</td><td>0001-01-01 03:00:00</td><td>0.54256</td><td>2.938481</td><td>1</td><td>&quot;c&quot;</td><td>&quot;x&quot;</td></tr></tbody></table></div>"
      ]
     },
     "execution_count": 79,
     "metadata": {},
     "output_type": "execute_result"
    }
   ],
   "execution_count": 79
  },
  {
   "metadata": {},
   "cell_type": "markdown",
   "source": [
    "## Creating Ingredients\n",
    "To get started, we need to create an ingredients object. This object will be used to create a recipe."
   ],
   "id": "9f5f338e32925f7d"
  },
  {
   "metadata": {
    "ExecuteTime": {
     "end_time": "2025-07-23T12:14:22.527015Z",
     "start_time": "2025-07-23T12:14:22.525548Z"
    }
   },
   "cell_type": "code",
   "source": "ing = Ingredients(df)",
   "id": "445d2c3d24e72a43",
   "outputs": [],
   "execution_count": 80
  },
  {
   "metadata": {},
   "cell_type": "markdown",
   "source": "This ingredients object should contain the roles of the columns. The roles are used to determine how we can process the data. For example, the column \"y\" can be defined as an outcome column, which we can use later to define what we want to do with this type of columns:",
   "id": "629ab499d612ea14"
  },
  {
   "metadata": {
    "ExecuteTime": {
     "end_time": "2025-07-23T12:14:22.545459Z",
     "start_time": "2025-07-23T12:14:22.544020Z"
    }
   },
   "cell_type": "code",
   "source": [
    "roles = {\"y\": [\"outcome\"]}\n",
    "ing = Ingredients(df, copy=False, roles=roles)"
   ],
   "id": "12201717ef209ebf",
   "outputs": [],
   "execution_count": 81
  },
  {
   "metadata": {
    "ExecuteTime": {
     "end_time": "2025-07-23T12:14:22.565576Z",
     "start_time": "2025-07-23T12:14:22.564301Z"
    }
   },
   "cell_type": "code",
   "source": "",
   "id": "d0c30fa2cc26d014",
   "outputs": [],
   "execution_count": null
  },
  {
   "metadata": {},
   "cell_type": "markdown",
   "source": [
    "## Creating a recipe\n",
    "We can also directly create a recipy and specify the roles as arguments to the instantion. A recipy always needs to have an ingredients object and optionally also the target column, the feature columns, the group columns and the sequential or time column."
   ],
   "id": "7bd31c929bca1f96"
  },
  {
   "metadata": {
    "ExecuteTime": {
     "end_time": "2025-07-23T12:14:22.582406Z",
     "start_time": "2025-07-23T12:14:22.580773Z"
    }
   },
   "cell_type": "code",
   "source": [
    "ing = Ingredients(df)\n",
    "rec = Recipe(ing, outcomes=[\"y\"], predictors=[\"x1\", \"x2\", \"x3\", \"x4\"], groups=[\"id\"], sequences=[\"time\"])"
   ],
   "id": "b8e7bb611270a693",
   "outputs": [],
   "execution_count": 82
  },
  {
   "metadata": {
    "ExecuteTime": {
     "end_time": "2025-07-23T12:14:22.590457Z",
     "start_time": "2025-07-23T12:14:22.588402Z"
    }
   },
   "cell_type": "code",
   "source": "rec",
   "id": "a5a3b6981571c671",
   "outputs": [
    {
     "data": {
      "text/plain": [
       "Recipe\n",
       "\n",
       "Inputs:\n",
       "\n",
       "shape: (4, 2)\n",
       "┌───────────┬────────────┐\n",
       "│ role      ┆ #variables │\n",
       "│ ---       ┆ ---        │\n",
       "│ str       ┆ i64        │\n",
       "╞═══════════╪════════════╡\n",
       "│ outcome   ┆ 1          │\n",
       "│ predictor ┆ 4          │\n",
       "│ group     ┆ 1          │\n",
       "│ sequence  ┆ 1          │\n",
       "└───────────┴────────────┘\n",
       "\n",
       "Operations:\n"
      ]
     },
     "execution_count": 83,
     "metadata": {},
     "output_type": "execute_result"
    }
   ],
   "execution_count": 83
  },
  {
   "metadata": {},
   "cell_type": "markdown",
   "source": "",
   "id": "8f687a9f0cba0e9a"
  },
  {
   "metadata": {},
   "cell_type": "markdown",
   "source": "We see that the operations are not yet defined. We have to add steps to our recipe to define what we want to do with the data. But, first, we want to be able to select which columns we want to prepare in our recipe. \n",
   "id": "b5f0764404374a58"
  },
  {
   "metadata": {},
   "cell_type": "markdown",
   "source": "## Selectors",
   "id": "e7a6dad22ab4ad15"
  },
  {
   "metadata": {
    "ExecuteTime": {
     "end_time": "2025-07-23T12:14:22.599415Z",
     "start_time": "2025-07-23T12:14:22.597508Z"
    }
   },
   "cell_type": "code",
   "source": [
    "from src.recipies.selector import all_numeric_predictors\n",
    "all_numeric_predictors()"
   ],
   "id": "7bf4f0ad24c03353",
   "outputs": [
    {
     "data": {
      "text/plain": [
       "all numeric predictors"
      ]
     },
     "execution_count": 84,
     "metadata": {},
     "output_type": "execute_result"
    }
   ],
   "execution_count": 84
  },
  {
   "metadata": {
    "ExecuteTime": {
     "end_time": "2025-07-23T12:14:22.607762Z",
     "start_time": "2025-07-23T12:14:22.606453Z"
    }
   },
   "cell_type": "code",
   "source": "",
   "id": "137b16584401cd1",
   "outputs": [],
   "execution_count": null
  },
  {
   "metadata": {},
   "cell_type": "markdown",
   "source": [
    "## Adding steps\n",
    "Let's preprocess our data! First: we know that there is some missing data in our predictors. We can easily add a step to fill in the missing values with the mean of the column."
   ],
   "id": "89b85157eb9a39bd"
  },
  {
   "metadata": {
    "ExecuteTime": {
     "end_time": "2025-07-23T12:14:22.614893Z",
     "start_time": "2025-07-23T12:14:22.612803Z"
    }
   },
   "cell_type": "code",
   "source": [
    "from src.recipies.selector import all_numeric_predictors\n",
    "from src.recipies.step import StepImputeFill, StepImputeFastZeroFill\n",
    "\n",
    "rec = rec.add_step(StepImputeFill(sel=all_numeric_predictors(), strategy=\"mean\"))\n",
    "print(rec)\n",
    "\n",
    "# rec = rec.add_step(StepImputeFastZeroFill(sel=all_numeric_predictors()))"
   ],
   "id": "e5745786925bac65",
   "outputs": [
    {
     "name": "stdout",
     "output_type": "stream",
     "text": [
      "Recipe\n",
      "\n",
      "Inputs:\n",
      "\n",
      "shape: (4, 2)\n",
      "┌───────────┬────────────┐\n",
      "│ role      ┆ #variables │\n",
      "│ ---       ┆ ---        │\n",
      "│ str       ┆ i64        │\n",
      "╞═══════════╪════════════╡\n",
      "│ outcome   ┆ 1          │\n",
      "│ predictor ┆ 4          │\n",
      "│ group     ┆ 1          │\n",
      "│ sequence  ┆ 1          │\n",
      "└───────────┴────────────┘\n",
      "\n",
      "Operations:\n",
      "\n",
      "Impute with mean for all numeric predictors\n",
      "\n"
     ]
    }
   ],
   "execution_count": 85
  },
  {
   "metadata": {},
   "cell_type": "markdown",
   "source": [
    "## Prepping the recipe\n",
    "Let's prep the recipe. This will \"train\" the steps we added to the recipe to the data in order. The result will be a recipe object that is ready to bake any data that has the same schema as the data we used to prep the recipe. This is useful for example when we want to apply the same preprocessing steps to a test set or new data."
   ],
   "id": "d585dcfea78c1aaa"
  },
  {
   "metadata": {
    "ExecuteTime": {
     "end_time": "2025-07-23T12:14:22.624845Z",
     "start_time": "2025-07-23T12:14:22.622712Z"
    }
   },
   "cell_type": "code",
   "source": [
    "rec.prep(df)\n",
    "print(rec)\n"
   ],
   "id": "3d9bbdcae854fdb1",
   "outputs": [
    {
     "name": "stdout",
     "output_type": "stream",
     "text": [
      "Recipe\n",
      "\n",
      "Inputs:\n",
      "\n",
      "shape: (4, 2)\n",
      "┌───────────┬────────────┐\n",
      "│ role      ┆ #variables │\n",
      "│ ---       ┆ ---        │\n",
      "│ str       ┆ i64        │\n",
      "╞═══════════╪════════════╡\n",
      "│ outcome   ┆ 1          │\n",
      "│ predictor ┆ 4          │\n",
      "│ group     ┆ 1          │\n",
      "│ sequence  ┆ 1          │\n",
      "└───────────┴────────────┘\n",
      "\n",
      "Operations:\n",
      "\n",
      "Impute with mean for ['x1', 'x2'] [trained]\n",
      "\n"
     ]
    }
   ],
   "execution_count": 86
  },
  {
   "metadata": {},
   "cell_type": "markdown",
   "source": [
    "## Baking the recipe\n",
    "We now bake the recipe. This will apply the steps we added to the recipe to the data in order. The result will be a new DataFrame with the preprocessed data.\n"
   ],
   "id": "6a710c85f5837cae"
  },
  {
   "metadata": {
    "ExecuteTime": {
     "end_time": "2025-07-23T12:14:22.633378Z",
     "start_time": "2025-07-23T12:14:22.631497Z"
    }
   },
   "cell_type": "code",
   "source": [
    "baked_df = rec.bake(data=df)\n",
    "print(baked_df)"
   ],
   "id": "2dc45f21dce2de4",
   "outputs": [
    {
     "name": "stdout",
     "output_type": "stream",
     "text": [
      "shape: (10, 7)\n",
      "┌─────┬─────────────────────┬───────────┬──────────┬─────┬─────┬─────┐\n",
      "│ id  ┆ time                ┆ y         ┆ x1       ┆ x2  ┆ x3  ┆ x4  │\n",
      "│ --- ┆ ---                 ┆ ---       ┆ ---      ┆ --- ┆ --- ┆ --- │\n",
      "│ i64 ┆ datetime[μs]        ┆ f64       ┆ f64      ┆ i64 ┆ cat ┆ cat │\n",
      "╞═════╪═════════════════════╪═══════════╪══════════╪═════╪═════╪═════╡\n",
      "│ 1   ┆ 0001-01-01 00:00:00 ┆ 0.496714  ┆ 7.682912 ┆ 0   ┆ a   ┆ x   │\n",
      "│ 1   ┆ 0001-01-01 01:00:00 ┆ -0.138264 ┆ 5.101691 ┆ 1   ┆ b   ┆ y   │\n",
      "│ 1   ┆ 0001-01-01 02:00:00 ┆ 0.647689  ┆ 5.101691 ┆ 0   ┆ c   ┆ y   │\n",
      "│ 1   ┆ 0001-01-01 03:00:00 ┆ 1.52303   ┆ 0.433599 ┆ 0   ┆ a   ┆ x   │\n",
      "│ 1   ┆ 0001-01-01 04:00:00 ┆ -0.234153 ┆ 5.101691 ┆ 0   ┆ c   ┆ y   │\n",
      "│ 1   ┆ 0001-01-01 05:00:00 ┆ -0.234137 ┆ 7.188562 ┆ 0   ┆ b   ┆ y   │\n",
      "│ 2   ┆ 0001-01-01 00:00:00 ┆ 1.579213  ┆ 4.935844 ┆ 0   ┆ c   ┆ x   │\n",
      "│ 2   ┆ 0001-01-01 01:00:00 ┆ 0.767435  ┆ 4.444735 ┆ 0   ┆ a   ┆ x   │\n",
      "│ 2   ┆ 0001-01-01 02:00:00 ┆ -0.469474 ┆ 5.45988  ┆ 0   ┆ b   ┆ y   │\n",
      "│ 2   ┆ 0001-01-01 03:00:00 ┆ 0.54256   ┆ 2.938481 ┆ 1   ┆ c   ┆ x   │\n",
      "└─────┴─────────────────────┴───────────┴──────────┴─────┴─────┴─────┘\n"
     ]
    }
   ],
   "execution_count": 87
  },
  {
   "metadata": {},
   "cell_type": "markdown",
   "source": "Let's try and bake the recipe with a different dataframe that has the same schema but some missing values in the \"x1\" column. The recipe should fill in the trained missing values with the mean of the column.:\n",
   "id": "3c08f4faac2f4403"
  },
  {
   "metadata": {
    "ExecuteTime": {
     "end_time": "2025-07-23T12:15:35.982390Z",
     "start_time": "2025-07-23T12:15:35.978226Z"
    }
   },
   "cell_type": "code",
   "source": [
    "df2 = df.clone()\n",
    "df2[list(range(1,9)), \"x1\"] = None\n",
    "baked_df2 = rec.bake(data=df2)\n",
    "print(baked_df2)"
   ],
   "id": "111f9e34847ae623",
   "outputs": [
    {
     "name": "stdout",
     "output_type": "stream",
     "text": [
      "shape: (10, 7)\n",
      "┌─────┬─────────────────────┬───────────┬──────────┬─────┬─────┬─────┐\n",
      "│ id  ┆ time                ┆ y         ┆ x1       ┆ x2  ┆ x3  ┆ x4  │\n",
      "│ --- ┆ ---                 ┆ ---       ┆ ---      ┆ --- ┆ --- ┆ --- │\n",
      "│ i64 ┆ datetime[μs]        ┆ f64       ┆ f64      ┆ i64 ┆ cat ┆ cat │\n",
      "╞═════╪═════════════════════╪═══════════╪══════════╪═════╪═════╪═════╡\n",
      "│ 1   ┆ 0001-01-01 00:00:00 ┆ 0.496714  ┆ 7.682912 ┆ 0   ┆ a   ┆ x   │\n",
      "│ 1   ┆ 0001-01-01 01:00:00 ┆ -0.138264 ┆ 7.682912 ┆ 1   ┆ b   ┆ y   │\n",
      "│ 1   ┆ 0001-01-01 02:00:00 ┆ 0.647689  ┆ 7.682912 ┆ 0   ┆ c   ┆ y   │\n",
      "│ 1   ┆ 0001-01-01 03:00:00 ┆ 1.52303   ┆ 7.682912 ┆ 0   ┆ a   ┆ x   │\n",
      "│ 1   ┆ 0001-01-01 04:00:00 ┆ -0.234153 ┆ 7.682912 ┆ 0   ┆ c   ┆ y   │\n",
      "│ 1   ┆ 0001-01-01 05:00:00 ┆ -0.234137 ┆ 7.682912 ┆ 0   ┆ b   ┆ y   │\n",
      "│ 2   ┆ 0001-01-01 00:00:00 ┆ 1.579213  ┆ 2.938481 ┆ 0   ┆ c   ┆ x   │\n",
      "│ 2   ┆ 0001-01-01 01:00:00 ┆ 0.767435  ┆ 2.938481 ┆ 0   ┆ a   ┆ x   │\n",
      "│ 2   ┆ 0001-01-01 02:00:00 ┆ -0.469474 ┆ 2.938481 ┆ 0   ┆ b   ┆ y   │\n",
      "│ 2   ┆ 0001-01-01 03:00:00 ┆ 0.54256   ┆ 2.938481 ┆ 1   ┆ c   ┆ x   │\n",
      "└─────┴─────────────────────┴───────────┴──────────┴─────┴─────┴─────┘\n"
     ]
    }
   ],
   "execution_count": 92
  },
  {
   "metadata": {},
   "cell_type": "markdown",
   "source": "This is useful when we want to apply the same preprocessing steps to a test set, for example, to prevent data leakage.",
   "id": "cd9de71f11bae5e9"
  },
  {
   "metadata": {},
   "cell_type": "code",
   "outputs": [],
   "execution_count": null,
   "source": "",
   "id": "39a4755ddf3a6ac0"
  }
 ],
 "metadata": {
  "kernelspec": {
   "display_name": "Python 3",
   "language": "python",
   "name": "python3"
  },
  "language_info": {
   "codemirror_mode": {
    "name": "ipython",
    "version": 2
   },
   "file_extension": ".py",
   "mimetype": "text/x-python",
   "name": "python",
   "nbconvert_exporter": "python",
   "pygments_lexer": "ipython2",
   "version": "2.7.6"
  }
 },
 "nbformat": 4,
 "nbformat_minor": 5
}
