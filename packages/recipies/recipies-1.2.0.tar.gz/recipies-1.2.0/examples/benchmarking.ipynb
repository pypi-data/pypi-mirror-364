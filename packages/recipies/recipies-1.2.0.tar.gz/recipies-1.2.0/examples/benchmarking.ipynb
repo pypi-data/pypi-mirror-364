{
 "cells": [
  {
   "cell_type": "code",
   "id": "initial_id",
   "metadata": {
    "collapsed": true,
    "ExecuteTime": {
     "end_time": "2024-10-21T13:23:04.849278Z",
     "start_time": "2024-10-21T13:23:04.845532Z"
    }
   },
   "source": [
    "\n",
    "import polars as pl\n",
    "from pathlib import Path"
   ],
   "outputs": [],
   "execution_count": 6
  },
  {
   "metadata": {
    "ExecuteTime": {
     "end_time": "2024-10-21T13:23:15.814665Z",
     "start_time": "2024-10-21T13:23:15.809900Z"
    }
   },
   "cell_type": "code",
   "source": [
    "demo_folder = Path(\"../icu_demo_data/aki/mimic_demo/\")\n",
    "dyn = pl.read_parquet(demo_folder / \"dyn.parquet\")"
   ],
   "id": "efa91c7234915c0c",
   "outputs": [],
   "execution_count": 8
  },
  {
   "metadata": {
    "ExecuteTime": {
     "end_time": "2024-10-21T13:23:21.604926Z",
     "start_time": "2024-10-21T13:23:21.599913Z"
    }
   },
   "cell_type": "code",
   "source": "dyn.schema",
   "id": "9a5572b29988b340",
   "outputs": [
    {
     "data": {
      "text/plain": [
       "Schema([('stay_id', Int32),\n",
       "        ('time', Duration(time_unit='ms')),\n",
       "        ('alb', Float64),\n",
       "        ('alp', Float64),\n",
       "        ('alt', Float64),\n",
       "        ('ast', Float64),\n",
       "        ('be', Float64),\n",
       "        ('bicar', Float64),\n",
       "        ('bili', Float64),\n",
       "        ('bili_dir', Float64),\n",
       "        ('bnd', Float64),\n",
       "        ('bun', Float64),\n",
       "        ('ca', Float64),\n",
       "        ('cai', Float64),\n",
       "        ('ck', Float64),\n",
       "        ('ckmb', Float64),\n",
       "        ('cl', Float64),\n",
       "        ('crea', Float64),\n",
       "        ('crp', Float64),\n",
       "        ('dbp', Float64),\n",
       "        ('fgn', Float64),\n",
       "        ('fio2', Float64),\n",
       "        ('glu', Float64),\n",
       "        ('hgb', Float64),\n",
       "        ('hr', Float64),\n",
       "        ('inr_pt', Float64),\n",
       "        ('k', Float64),\n",
       "        ('lact', Float64),\n",
       "        ('lymph', Float64),\n",
       "        ('map', Float64),\n",
       "        ('mch', Float64),\n",
       "        ('mchc', Float64),\n",
       "        ('mcv', Float64),\n",
       "        ('methb', Float64),\n",
       "        ('mg', Float64),\n",
       "        ('na', Float64),\n",
       "        ('neut', Float64),\n",
       "        ('o2sat', Float64),\n",
       "        ('pco2', Float64),\n",
       "        ('ph', Float64),\n",
       "        ('phos', Float64),\n",
       "        ('plt', Float64),\n",
       "        ('po2', Float64),\n",
       "        ('ptt', Float64),\n",
       "        ('resp', Float64),\n",
       "        ('sbp', Float64),\n",
       "        ('temp', Float64),\n",
       "        ('tnt', Float64),\n",
       "        ('urine', Float64),\n",
       "        ('wbc', Float64)])"
      ]
     },
     "execution_count": 9,
     "metadata": {},
     "output_type": "execute_result"
    }
   ],
   "execution_count": 9
  },
  {
   "metadata": {},
   "cell_type": "code",
   "outputs": [],
   "execution_count": null,
   "source": [
    "Schema([('stay_id', Int32),\n",
    "        ('time', Duration(time_unit='ms')),\n",
    "        ('alb', Float64),\n",
    "        ('alp', Float64),\n",
    "        ('alt', Float64),\n",
    "        ('ast', Float64),\n",
    "        ('be', Float64),\n",
    "        ('bicar', Float64),\n",
    "        ('bili', Float64),\n",
    "        ('bili_dir', Float64),\n",
    "        ('bnd', Float64),\n",
    "        ('bun', Float64),\n",
    "        ('ca', Float64),\n",
    "        ('cai', Float64),\n",
    "        ('ck', Float64),\n",
    "        ('ckmb', Float64),\n",
    "        ('cl', Float64),\n",
    "        ('crea', Float64),\n",
    "        ('crp', Float64),\n",
    "        ('dbp', Float64),\n",
    "        ('fgn', Float64),\n",
    "        ('fio2', Float64),\n",
    "        ('glu', Float64),\n",
    "        ('hgb', Float64),\n",
    "        ('hr', Float64),\n",
    "        ('inr_pt', Float64),\n",
    "        ('k', Float64),\n",
    "        ('lact', Float64),\n",
    "        ('lymph', Float64),\n",
    "        ('map', Float64),\n",
    "        ('mch', Float64),\n",
    "        ('mchc', Float64),\n",
    "        ('mcv', Float64),\n",
    "        ('methb', Float64),\n",
    "        ('mg', Float64),\n",
    "        ('na', Float64),\n",
    "        ('neut', Float64),\n",
    "        ('o2sat', Float64),\n",
    "        ('pco2', Float64),\n",
    "        ('ph', Float64),\n",
    "        ('phos', Float64),\n",
    "        ('plt', Float64),\n",
    "        ('po2', Float64),\n",
    "        ('ptt', Float64),\n",
    "        ('resp', Float64),\n",
    "        ('sbp', Float64),\n",
    "        ('temp', Float64),\n",
    "        ('tnt', Float64),\n",
    "        ('urine', Float64),\n",
    "        ('wbc', Float64)])"
   ],
   "id": "687ee1561a15144e"
  },
  {
   "metadata": {
    "ExecuteTime": {
     "end_time": "2024-10-21T13:45:53.780166Z",
     "start_time": "2024-10-21T13:45:49.376812Z"
    }
   },
   "cell_type": "code",
   "source": [
    "import polars as pl\n",
    "import numpy as np\n",
    "from datetime import datetime, timedelta\n",
    "import random\n",
    "\n",
    "def generate_data(stay_ids: list[int], max_rows: int, start_time: datetime, timestep: timedelta, columns: list[str], missingness: dict[str, float]) -> pl.DataFrame:\n",
    "    \"\"\"\n",
    "    Generate a Polars DataFrame with the specified number of rows and schema for multiple stay IDs.\n",
    "\n",
    "    Parameters:\n",
    "    - stay_ids: The list of stay IDs to use.\n",
    "    - max_rows: The maximum number of rows to generate.\n",
    "    - start_time: The starting time for the time column.\n",
    "    - timestep: The time interval between rows.\n",
    "    - columns: A list of column names to generate data for.\n",
    "    - missingness: A dictionary where keys are column names and values are the percentage of missing values.\n",
    "\n",
    "    Returns:\n",
    "    - A Polars DataFrame with the generated data.\n",
    "    \"\"\"\n",
    "    # Distribute rows randomly among stay IDs\n",
    "    rows_per_stay_id = np.random.multinomial(max_rows, [1/len(stay_ids)]*len(stay_ids))\n",
    "\n",
    "    all_data = []\n",
    "\n",
    "    for stay_id, num_rows in zip(stay_ids, rows_per_stay_id):\n",
    "        # Generate the time column\n",
    "        time_column = [start_time + i * timestep for i in range(num_rows)]\n",
    "\n",
    "        # Initialize the data dictionary with the time and stay_id columns\n",
    "        data = {\n",
    "            \"stay_id\": [stay_id] * num_rows,\n",
    "            \"time\": time_column\n",
    "        }\n",
    "\n",
    "        # Generate random data for other columns\n",
    "        for column in columns:\n",
    "            col_data = np.random.rand(num_rows)\n",
    "            # Introduce missingness\n",
    "            if column in missingness:\n",
    "                missing_count = int(num_rows * missingness[column])\n",
    "                missing_indices = np.random.choice(num_rows, missing_count, replace=False)\n",
    "                col_data[missing_indices] = np.nan\n",
    "            data[column] = col_data\n",
    "\n",
    "        # Create the DataFrame for the current stay_id\n",
    "        df = pl.DataFrame(data)\n",
    "        all_data.append(df)\n",
    "\n",
    "    # Concatenate all DataFrames\n",
    "    final_df = pl.concat(all_data)\n",
    "\n",
    "    return final_df\n",
    "\n",
    "# Example usage\n",
    "max_rows = 100000\n",
    "stay_ids = random.sample(range(1, 10000), int(max_rows/24))\n",
    "start_time = datetime(2024, 1, 1)\n",
    "timestep = timedelta(hours=1)\n",
    "\n",
    "# Define the list of column names\n",
    "columns = [\"alb\", \"alp\", \"alt\", \"ast\", \"be\", \"bicar\", \"bili\", \"bili_dir\", \"bnd\", \"bun\", \"ca\", \"cai\", \"ck\", \"ckmb\", \"cl\", \"crea\", \"crp\", \"dbp\", \"fgn\", \"fio2\", \"glu\", \"hgb\", \"hr\", \"inr_pt\", \"k\", \"lact\", \"lymph\", \"map\", \"mch\", \"mchc\", \"mcv\", \"methb\", \"mg\", \"na\", \"neut\", \"o2sat\", \"pco2\", \"ph\", \"phos\", \"plt\", \"po2\", \"ptt\", \"resp\", \"sbp\", \"temp\", \"tnt\", \"urine\", \"wbc\"]\n",
    "\n",
    "# Define the missingness dictionary\n",
    "missingness = {item:random.uniform(0, 0.99) for item in columns}\n",
    "\n",
    "generated_df = generate_data(stay_ids, max_rows, start_time, timestep, columns, missingness)"
   ],
   "id": "79c8eb0f30180e4d",
   "outputs": [],
   "execution_count": 39
  },
  {
   "metadata": {
    "ExecuteTime": {
     "end_time": "2024-10-21T13:46:00.772463Z",
     "start_time": "2024-10-21T13:46:00.765226Z"
    }
   },
   "cell_type": "code",
   "source": "generated_df",
   "id": "21eea4ad2045c56b",
   "outputs": [
    {
     "data": {
      "text/plain": [
       "shape: (100_000, 50)\n",
       "┌─────────┬──────────────┬──────────┬──────────┬───┬──────────┬──────────┬──────────┬──────────┐\n",
       "│ stay_id ┆ time         ┆ alb      ┆ alp      ┆ … ┆ temp     ┆ tnt      ┆ urine    ┆ wbc      │\n",
       "│ ---     ┆ ---          ┆ ---      ┆ ---      ┆   ┆ ---      ┆ ---      ┆ ---      ┆ ---      │\n",
       "│ i64     ┆ datetime[μs] ┆ f64      ┆ f64      ┆   ┆ f64      ┆ f64      ┆ f64      ┆ f64      │\n",
       "╞═════════╪══════════════╪══════════╪══════════╪═══╪══════════╪══════════╪══════════╪══════════╡\n",
       "│ 7201    ┆ 2024-01-01   ┆ NaN      ┆ 0.253989 ┆ … ┆ NaN      ┆ NaN      ┆ 0.108756 ┆ NaN      │\n",
       "│         ┆ 00:00:00     ┆          ┆          ┆   ┆          ┆          ┆          ┆          │\n",
       "│ 7201    ┆ 2024-01-01   ┆ 0.768926 ┆ 0.213239 ┆ … ┆ 0.452434 ┆ NaN      ┆ 0.991794 ┆ NaN      │\n",
       "│         ┆ 01:00:00     ┆          ┆          ┆   ┆          ┆          ┆          ┆          │\n",
       "│ 7201    ┆ 2024-01-01   ┆ 0.276351 ┆ 0.349534 ┆ … ┆ NaN      ┆ NaN      ┆ 0.084913 ┆ NaN      │\n",
       "│         ┆ 02:00:00     ┆          ┆          ┆   ┆          ┆          ┆          ┆          │\n",
       "│ 7201    ┆ 2024-01-01   ┆ 0.733373 ┆ 0.670427 ┆ … ┆ NaN      ┆ NaN      ┆ 0.568799 ┆ NaN      │\n",
       "│         ┆ 03:00:00     ┆          ┆          ┆   ┆          ┆          ┆          ┆          │\n",
       "│ 7201    ┆ 2024-01-01   ┆ 0.948863 ┆ 0.479664 ┆ … ┆ NaN      ┆ 0.840452 ┆ 0.958739 ┆ 0.874881 │\n",
       "│         ┆ 04:00:00     ┆          ┆          ┆   ┆          ┆          ┆          ┆          │\n",
       "│ …       ┆ …            ┆ …        ┆ …        ┆ … ┆ …        ┆ …        ┆ …        ┆ …        │\n",
       "│ 5752    ┆ 2024-01-01   ┆ 0.230622 ┆ 0.604726 ┆ … ┆ NaN      ┆ NaN      ┆ 0.545084 ┆ NaN      │\n",
       "│         ┆ 12:00:00     ┆          ┆          ┆   ┆          ┆          ┆          ┆          │\n",
       "│ 5752    ┆ 2024-01-01   ┆ 0.561388 ┆ 0.75278  ┆ … ┆ NaN      ┆ NaN      ┆ NaN      ┆ NaN      │\n",
       "│         ┆ 13:00:00     ┆          ┆          ┆   ┆          ┆          ┆          ┆          │\n",
       "│ 5752    ┆ 2024-01-01   ┆ 0.338405 ┆ 0.083771 ┆ … ┆ NaN      ┆ 0.978479 ┆ 0.129108 ┆ NaN      │\n",
       "│         ┆ 14:00:00     ┆          ┆          ┆   ┆          ┆          ┆          ┆          │\n",
       "│ 5752    ┆ 2024-01-01   ┆ 0.852653 ┆ 0.605916 ┆ … ┆ 0.890129 ┆ NaN      ┆ 0.61309  ┆ NaN      │\n",
       "│         ┆ 15:00:00     ┆          ┆          ┆   ┆          ┆          ┆          ┆          │\n",
       "│ 5752    ┆ 2024-01-01   ┆ 0.86615  ┆ 0.309376 ┆ … ┆ NaN      ┆ NaN      ┆ 0.18232  ┆ NaN      │\n",
       "│         ┆ 16:00:00     ┆          ┆          ┆   ┆          ┆          ┆          ┆          │\n",
       "└─────────┴──────────────┴──────────┴──────────┴───┴──────────┴──────────┴──────────┴──────────┘"
      ],
      "text/html": [
       "<div><style>\n",
       ".dataframe > thead > tr,\n",
       ".dataframe > tbody > tr {\n",
       "  text-align: right;\n",
       "  white-space: pre-wrap;\n",
       "}\n",
       "</style>\n",
       "<small>shape: (100_000, 50)</small><table border=\"1\" class=\"dataframe\"><thead><tr><th>stay_id</th><th>time</th><th>alb</th><th>alp</th><th>alt</th><th>ast</th><th>be</th><th>bicar</th><th>bili</th><th>bili_dir</th><th>bnd</th><th>bun</th><th>ca</th><th>cai</th><th>ck</th><th>ckmb</th><th>cl</th><th>crea</th><th>crp</th><th>dbp</th><th>fgn</th><th>fio2</th><th>glu</th><th>hgb</th><th>hr</th><th>inr_pt</th><th>k</th><th>lact</th><th>lymph</th><th>map</th><th>mch</th><th>mchc</th><th>mcv</th><th>methb</th><th>mg</th><th>na</th><th>neut</th><th>o2sat</th><th>pco2</th><th>ph</th><th>phos</th><th>plt</th><th>po2</th><th>ptt</th><th>resp</th><th>sbp</th><th>temp</th><th>tnt</th><th>urine</th><th>wbc</th></tr><tr><td>i64</td><td>datetime[μs]</td><td>f64</td><td>f64</td><td>f64</td><td>f64</td><td>f64</td><td>f64</td><td>f64</td><td>f64</td><td>f64</td><td>f64</td><td>f64</td><td>f64</td><td>f64</td><td>f64</td><td>f64</td><td>f64</td><td>f64</td><td>f64</td><td>f64</td><td>f64</td><td>f64</td><td>f64</td><td>f64</td><td>f64</td><td>f64</td><td>f64</td><td>f64</td><td>f64</td><td>f64</td><td>f64</td><td>f64</td><td>f64</td><td>f64</td><td>f64</td><td>f64</td><td>f64</td><td>f64</td><td>f64</td><td>f64</td><td>f64</td><td>f64</td><td>f64</td><td>f64</td><td>f64</td><td>f64</td><td>f64</td><td>f64</td><td>f64</td></tr></thead><tbody><tr><td>7201</td><td>2024-01-01 00:00:00</td><td>NaN</td><td>0.253989</td><td>NaN</td><td>NaN</td><td>0.343446</td><td>0.062044</td><td>NaN</td><td>0.642601</td><td>NaN</td><td>NaN</td><td>0.238478</td><td>0.818324</td><td>0.745067</td><td>0.362134</td><td>NaN</td><td>NaN</td><td>0.810509</td><td>NaN</td><td>0.750668</td><td>0.772734</td><td>0.333509</td><td>NaN</td><td>0.213528</td><td>NaN</td><td>0.254461</td><td>0.698646</td><td>0.332606</td><td>0.286207</td><td>NaN</td><td>0.480025</td><td>0.503376</td><td>0.09808</td><td>NaN</td><td>0.691521</td><td>0.380763</td><td>0.541645</td><td>NaN</td><td>0.333954</td><td>0.393055</td><td>NaN</td><td>NaN</td><td>0.482675</td><td>NaN</td><td>NaN</td><td>NaN</td><td>NaN</td><td>0.108756</td><td>NaN</td></tr><tr><td>7201</td><td>2024-01-01 01:00:00</td><td>0.768926</td><td>0.213239</td><td>0.152267</td><td>0.042311</td><td>0.309759</td><td>NaN</td><td>0.926417</td><td>0.106144</td><td>0.498812</td><td>NaN</td><td>0.713818</td><td>0.672558</td><td>0.277455</td><td>0.457279</td><td>NaN</td><td>0.899289</td><td>NaN</td><td>NaN</td><td>NaN</td><td>0.82462</td><td>NaN</td><td>NaN</td><td>NaN</td><td>NaN</td><td>0.155954</td><td>0.024444</td><td>0.419664</td><td>0.009758</td><td>NaN</td><td>0.305064</td><td>NaN</td><td>0.247919</td><td>NaN</td><td>0.23277</td><td>0.477596</td><td>NaN</td><td>0.100539</td><td>0.303139</td><td>0.439882</td><td>NaN</td><td>NaN</td><td>NaN</td><td>0.619773</td><td>NaN</td><td>0.452434</td><td>NaN</td><td>0.991794</td><td>NaN</td></tr><tr><td>7201</td><td>2024-01-01 02:00:00</td><td>0.276351</td><td>0.349534</td><td>NaN</td><td>0.702336</td><td>0.398705</td><td>NaN</td><td>NaN</td><td>0.813082</td><td>0.422173</td><td>NaN</td><td>0.169122</td><td>0.715041</td><td>0.526684</td><td>0.038635</td><td>NaN</td><td>0.75354</td><td>NaN</td><td>NaN</td><td>NaN</td><td>0.610522</td><td>NaN</td><td>NaN</td><td>NaN</td><td>NaN</td><td>0.031457</td><td>0.212417</td><td>NaN</td><td>NaN</td><td>0.508623</td><td>0.809326</td><td>NaN</td><td>NaN</td><td>NaN</td><td>0.34529</td><td>0.668088</td><td>NaN</td><td>NaN</td><td>NaN</td><td>0.477014</td><td>NaN</td><td>NaN</td><td>0.152352</td><td>NaN</td><td>NaN</td><td>NaN</td><td>NaN</td><td>0.084913</td><td>NaN</td></tr><tr><td>7201</td><td>2024-01-01 03:00:00</td><td>0.733373</td><td>0.670427</td><td>NaN</td><td>0.375782</td><td>0.368085</td><td>NaN</td><td>0.269464</td><td>NaN</td><td>NaN</td><td>NaN</td><td>NaN</td><td>0.35851</td><td>0.152265</td><td>0.928841</td><td>NaN</td><td>0.290217</td><td>NaN</td><td>NaN</td><td>NaN</td><td>0.499142</td><td>NaN</td><td>NaN</td><td>NaN</td><td>NaN</td><td>0.343685</td><td>0.59537</td><td>0.682881</td><td>0.75407</td><td>0.776421</td><td>0.492791</td><td>NaN</td><td>NaN</td><td>NaN</td><td>0.163325</td><td>0.029648</td><td>NaN</td><td>0.57339</td><td>NaN</td><td>0.971492</td><td>NaN</td><td>NaN</td><td>0.346508</td><td>NaN</td><td>0.071894</td><td>NaN</td><td>NaN</td><td>0.568799</td><td>NaN</td></tr><tr><td>7201</td><td>2024-01-01 04:00:00</td><td>0.948863</td><td>0.479664</td><td>NaN</td><td>NaN</td><td>0.475121</td><td>NaN</td><td>NaN</td><td>0.259101</td><td>0.889947</td><td>0.57615</td><td>0.539198</td><td>NaN</td><td>0.849404</td><td>0.265578</td><td>NaN</td><td>NaN</td><td>0.745603</td><td>NaN</td><td>NaN</td><td>0.762885</td><td>NaN</td><td>NaN</td><td>NaN</td><td>NaN</td><td>0.316656</td><td>0.091905</td><td>0.096026</td><td>0.851654</td><td>0.125785</td><td>0.310958</td><td>NaN</td><td>NaN</td><td>NaN</td><td>0.521121</td><td>0.045947</td><td>NaN</td><td>0.324674</td><td>0.388788</td><td>0.147576</td><td>NaN</td><td>0.940269</td><td>0.853576</td><td>0.690004</td><td>NaN</td><td>NaN</td><td>0.840452</td><td>0.958739</td><td>0.874881</td></tr><tr><td>&hellip;</td><td>&hellip;</td><td>&hellip;</td><td>&hellip;</td><td>&hellip;</td><td>&hellip;</td><td>&hellip;</td><td>&hellip;</td><td>&hellip;</td><td>&hellip;</td><td>&hellip;</td><td>&hellip;</td><td>&hellip;</td><td>&hellip;</td><td>&hellip;</td><td>&hellip;</td><td>&hellip;</td><td>&hellip;</td><td>&hellip;</td><td>&hellip;</td><td>&hellip;</td><td>&hellip;</td><td>&hellip;</td><td>&hellip;</td><td>&hellip;</td><td>&hellip;</td><td>&hellip;</td><td>&hellip;</td><td>&hellip;</td><td>&hellip;</td><td>&hellip;</td><td>&hellip;</td><td>&hellip;</td><td>&hellip;</td><td>&hellip;</td><td>&hellip;</td><td>&hellip;</td><td>&hellip;</td><td>&hellip;</td><td>&hellip;</td><td>&hellip;</td><td>&hellip;</td><td>&hellip;</td><td>&hellip;</td><td>&hellip;</td><td>&hellip;</td><td>&hellip;</td><td>&hellip;</td><td>&hellip;</td><td>&hellip;</td></tr><tr><td>5752</td><td>2024-01-01 12:00:00</td><td>0.230622</td><td>0.604726</td><td>NaN</td><td>0.099939</td><td>0.509189</td><td>NaN</td><td>NaN</td><td>0.870416</td><td>0.040802</td><td>0.263998</td><td>0.077954</td><td>0.127428</td><td>0.511141</td><td>0.047803</td><td>NaN</td><td>NaN</td><td>NaN</td><td>NaN</td><td>NaN</td><td>0.050114</td><td>NaN</td><td>NaN</td><td>NaN</td><td>NaN</td><td>0.823463</td><td>0.180632</td><td>0.553115</td><td>0.330465</td><td>NaN</td><td>0.851108</td><td>NaN</td><td>0.363141</td><td>NaN</td><td>0.839141</td><td>0.418625</td><td>0.242803</td><td>0.506647</td><td>NaN</td><td>0.366353</td><td>NaN</td><td>NaN</td><td>NaN</td><td>0.98547</td><td>NaN</td><td>NaN</td><td>NaN</td><td>0.545084</td><td>NaN</td></tr><tr><td>5752</td><td>2024-01-01 13:00:00</td><td>0.561388</td><td>0.75278</td><td>NaN</td><td>NaN</td><td>0.156763</td><td>0.480414</td><td>NaN</td><td>0.490241</td><td>0.137495</td><td>NaN</td><td>0.092682</td><td>NaN</td><td>0.784596</td><td>0.883921</td><td>NaN</td><td>NaN</td><td>0.038173</td><td>NaN</td><td>NaN</td><td>0.709661</td><td>NaN</td><td>NaN</td><td>NaN</td><td>NaN</td><td>0.205482</td><td>0.880263</td><td>0.782223</td><td>0.21414</td><td>0.359732</td><td>0.119511</td><td>NaN</td><td>0.982561</td><td>NaN</td><td>NaN</td><td>0.233343</td><td>0.133841</td><td>0.238903</td><td>0.832177</td><td>0.290973</td><td>NaN</td><td>0.558533</td><td>0.487455</td><td>0.552856</td><td>NaN</td><td>NaN</td><td>NaN</td><td>NaN</td><td>NaN</td></tr><tr><td>5752</td><td>2024-01-01 14:00:00</td><td>0.338405</td><td>0.083771</td><td>NaN</td><td>NaN</td><td>0.903486</td><td>0.668105</td><td>NaN</td><td>0.853364</td><td>0.255978</td><td>NaN</td><td>0.675339</td><td>0.899852</td><td>0.439914</td><td>0.199979</td><td>NaN</td><td>0.507306</td><td>NaN</td><td>0.119532</td><td>NaN</td><td>0.970958</td><td>NaN</td><td>0.995487</td><td>NaN</td><td>NaN</td><td>0.792831</td><td>0.471849</td><td>0.594931</td><td>0.476527</td><td>NaN</td><td>0.899054</td><td>NaN</td><td>NaN</td><td>NaN</td><td>0.346871</td><td>0.733596</td><td>NaN</td><td>NaN</td><td>0.806138</td><td>0.733992</td><td>NaN</td><td>NaN</td><td>NaN</td><td>0.877479</td><td>NaN</td><td>NaN</td><td>0.978479</td><td>0.129108</td><td>NaN</td></tr><tr><td>5752</td><td>2024-01-01 15:00:00</td><td>0.852653</td><td>0.605916</td><td>0.789</td><td>NaN</td><td>0.917541</td><td>0.991582</td><td>NaN</td><td>0.670737</td><td>0.574423</td><td>NaN</td><td>0.044239</td><td>0.417545</td><td>0.698224</td><td>0.503783</td><td>NaN</td><td>0.432786</td><td>0.149825</td><td>NaN</td><td>NaN</td><td>0.085591</td><td>NaN</td><td>NaN</td><td>0.790744</td><td>NaN</td><td>0.84166</td><td>0.713072</td><td>0.157752</td><td>NaN</td><td>NaN</td><td>0.980502</td><td>NaN</td><td>NaN</td><td>NaN</td><td>0.911827</td><td>0.559503</td><td>NaN</td><td>0.623413</td><td>NaN</td><td>0.811895</td><td>NaN</td><td>NaN</td><td>0.847213</td><td>NaN</td><td>NaN</td><td>0.890129</td><td>NaN</td><td>0.61309</td><td>NaN</td></tr><tr><td>5752</td><td>2024-01-01 16:00:00</td><td>0.86615</td><td>0.309376</td><td>0.232055</td><td>0.770109</td><td>0.809282</td><td>0.222571</td><td>0.767262</td><td>0.857772</td><td>0.362359</td><td>NaN</td><td>0.77203</td><td>NaN</td><td>0.156631</td><td>0.343008</td><td>NaN</td><td>0.48346</td><td>NaN</td><td>NaN</td><td>NaN</td><td>0.88337</td><td>NaN</td><td>NaN</td><td>NaN</td><td>NaN</td><td>0.164726</td><td>0.613242</td><td>0.919169</td><td>NaN</td><td>NaN</td><td>0.939638</td><td>NaN</td><td>0.218845</td><td>0.444473</td><td>0.705239</td><td>0.033012</td><td>0.75377</td><td>0.485098</td><td>NaN</td><td>0.40353</td><td>NaN</td><td>NaN</td><td>NaN</td><td>NaN</td><td>NaN</td><td>NaN</td><td>NaN</td><td>0.18232</td><td>NaN</td></tr></tbody></table></div>"
      ]
     },
     "execution_count": 40,
     "metadata": {},
     "output_type": "execute_result"
    }
   ],
   "execution_count": 40
  },
  {
   "metadata": {
    "ExecuteTime": {
     "end_time": "2024-10-21T13:44:05.003568Z",
     "start_time": "2024-10-21T13:44:04.999088Z"
    }
   },
   "cell_type": "code",
   "source": "missingness",
   "id": "48e28d6e24362ff",
   "outputs": [
    {
     "data": {
      "text/plain": [
       "{'alb': 0.25010127125696996,\n",
       " 'alp': 0.5102602076878041,\n",
       " 'alt': 0.30452326742214636,\n",
       " 'ast': 0.14924902976492482,\n",
       " 'be': 0.4027434607113478,\n",
       " 'bicar': 0.2868813414946926,\n",
       " 'bili': 0.5902132411773542,\n",
       " 'bili_dir': 0.5763916533931818,\n",
       " 'bnd': 0.48467366314581356,\n",
       " 'bun': 0.9029655555280026,\n",
       " 'ca': 0.2796052527184514,\n",
       " 'cai': 0.1724840290557209,\n",
       " 'ck': 0.8526586116890228,\n",
       " 'ckmb': 0.6037706247321472,\n",
       " 'cl': 0.8187203129372831,\n",
       " 'crea': 0.7388299100875225,\n",
       " 'crp': 0.004227931164244445,\n",
       " 'dbp': 0.951370629023908,\n",
       " 'fgn': 0.736975358218586,\n",
       " 'fio2': 0.8068815555077843,\n",
       " 'glu': 0.4156104615593092,\n",
       " 'hgb': 0.7524756871376157,\n",
       " 'hr': 0.06430518681778655,\n",
       " 'inr_pt': 0.847477453257622,\n",
       " 'k': 0.3568237015640199,\n",
       " 'lact': 0.9351164496564076,\n",
       " 'lymph': 0.39060104567205056,\n",
       " 'map': 0.27839869524719696,\n",
       " 'mch': 0.9490364996264921,\n",
       " 'mchc': 0.5583716772936833,\n",
       " 'mcv': 0.573392986050853,\n",
       " 'methb': 0.6214581944706018,\n",
       " 'mg': 0.5121962922322404,\n",
       " 'na': 0.9381947173827705,\n",
       " 'neut': 0.7645619101954946,\n",
       " 'o2sat': 0.1819193994509847,\n",
       " 'pco2': 0.6771348923985702,\n",
       " 'ph': 0.8355140484792968,\n",
       " 'phos': 0.6263609646648456,\n",
       " 'plt': 0.24263431756524342,\n",
       " 'po2': 0.6391763069417824,\n",
       " 'ptt': 0.46717750469063185,\n",
       " 'resp': 0.8480444707018738,\n",
       " 'sbp': 0.8493693059977826,\n",
       " 'temp': 0.21022308048022412,\n",
       " 'tnt': 0.25698001316739105,\n",
       " 'urine': 0.06908932494315793,\n",
       " 'wbc': 0.14952109355239326}"
      ]
     },
     "execution_count": 33,
     "metadata": {},
     "output_type": "execute_result"
    }
   ],
   "execution_count": 33
  },
  {
   "metadata": {},
   "cell_type": "code",
   "outputs": [],
   "execution_count": null,
   "source": "",
   "id": "269d9c1cc0471e50"
  }
 ],
 "metadata": {
  "kernelspec": {
   "display_name": "Python 3",
   "language": "python",
   "name": "python3"
  },
  "language_info": {
   "codemirror_mode": {
    "name": "ipython",
    "version": 2
   },
   "file_extension": ".py",
   "mimetype": "text/x-python",
   "name": "python",
   "nbconvert_exporter": "python",
   "pygments_lexer": "ipython2",
   "version": "2.7.6"
  }
 },
 "nbformat": 4,
 "nbformat_minor": 5
}
