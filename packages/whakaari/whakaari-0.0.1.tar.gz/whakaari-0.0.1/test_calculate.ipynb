{
 "cells": [
  {
   "cell_type": "code",
   "id": "initial_id",
   "metadata": {
    "collapsed": true
   },
   "source": "from whakaari import CalculateTremorData",
   "outputs": [],
   "execution_count": null
  },
  {
   "metadata": {},
   "cell_type": "code",
   "source": [
    "start_date = '2025-01-01'\n",
    "end_date = '2025-05-28'"
   ],
   "id": "97521a5fe1e361a5",
   "outputs": [],
   "execution_count": null
  },
  {
   "metadata": {},
   "cell_type": "code",
   "source": [
    "calculate = CalculateTremorData(\n",
    "    station=\"OJN\",\n",
    "    channel=\"EHZ\",\n",
    "    network=\"VG\",\n",
    "    location='00',\n",
    "    verbose=True,\n",
    "    debug=True\n",
    ")"
   ],
   "id": "ff0b0db878515eb0",
   "outputs": [],
   "execution_count": null
  },
  {
   "metadata": {},
   "cell_type": "code",
   "source": [
    "calculate.update(\n",
    "    start_date=start_date,\n",
    "    end_date=end_date,\n",
    "    n_jobs=1\n",
    ")"
   ],
   "id": "5b5fec400a4cf245",
   "outputs": [],
   "execution_count": null
  },
  {
   "metadata": {
    "ExecuteTime": {
     "end_time": "2025-06-27T12:38:45.124383Z",
     "start_time": "2025-06-27T12:38:45.108560Z"
    }
   },
   "cell_type": "code",
   "source": "test = 5",
   "id": "cb82085cd4ceff8f",
   "outputs": [],
   "execution_count": 5
  },
  {
   "metadata": {
    "ExecuteTime": {
     "end_time": "2025-06-27T12:38:54.333989Z",
     "start_time": "2025-06-27T12:38:54.317910Z"
    }
   },
   "cell_type": "code",
   "source": "print(f\"{test:05d}\")",
   "id": "75cd366d83b61d0",
   "outputs": [
    {
     "name": "stdout",
     "output_type": "stream",
     "text": [
      "00005\n"
     ]
    }
   ],
   "execution_count": 6
  },
  {
   "metadata": {},
   "cell_type": "code",
   "outputs": [],
   "execution_count": null,
   "source": "",
   "id": "1cf57a058b7e20c8"
  }
 ],
 "metadata": {
  "kernelspec": {
   "display_name": "Python 3",
   "language": "python",
   "name": "python3"
  },
  "language_info": {
   "codemirror_mode": {
    "name": "ipython",
    "version": 2
   },
   "file_extension": ".py",
   "mimetype": "text/x-python",
   "name": "python",
   "nbconvert_exporter": "python",
   "pygments_lexer": "ipython2",
   "version": "2.7.6"
  }
 },
 "nbformat": 4,
 "nbformat_minor": 5
}
