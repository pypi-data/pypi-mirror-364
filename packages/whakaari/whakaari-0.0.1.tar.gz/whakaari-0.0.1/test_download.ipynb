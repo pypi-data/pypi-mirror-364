{
 "cells": [
  {
   "metadata": {
    "ExecuteTime": {
     "end_time": "2025-06-13T12:16:00.569632Z",
     "start_time": "2025-06-13T12:15:59.289027Z"
    }
   },
   "cell_type": "code",
   "source": [
    "from obspy.clients.fdsn import Client\n",
    "from obspy import UTCDateTime, read\n",
    "from scipy.integrate import cumtrapz\n",
    "from obspy.signal.filter import bandpass"
   ],
   "id": "initial_id",
   "outputs": [
    {
     "name": "stderr",
     "output_type": "stream",
     "text": [
      "D:\\Projects\\miniconda3\\envs\\whakaari\\lib\\site-packages\\obspy\\signal\\headers.py:93: FutureWarning: Passing (type, 1) or '1type' as a synonym of type is deprecated; in a future version of numpy, it will be understood as (type, (1,)) / '(1,)type'.\n",
      "  ], align=True)\n"
     ]
    }
   ],
   "execution_count": 1
  },
  {
   "metadata": {
    "ExecuteTime": {
     "end_time": "2025-06-13T12:16:00.649092Z",
     "start_time": "2025-06-13T12:16:00.569632Z"
    }
   },
   "cell_type": "code",
   "source": "client = Client('IRIS')",
   "id": "c14c564b0aa84289",
   "outputs": [],
   "execution_count": 2
  },
  {
   "metadata": {
    "ExecuteTime": {
     "end_time": "2025-06-13T12:16:00.665138Z",
     "start_time": "2025-06-13T12:16:00.649092Z"
    }
   },
   "cell_type": "code",
   "source": [
    "network = 'IU'\n",
    "station = 'ANMO'\n",
    "location = '*'\n",
    "channel = 'LHZ'\n",
    "start_date = UTCDateTime(\"2016-09-01T00:00:00.000\")\n",
    "end_date = UTCDateTime('2025-06-10T02:24:00.000000Z')"
   ],
   "id": "2f36230410a368e1",
   "outputs": [],
   "execution_count": 3
  },
  {
   "metadata": {
    "ExecuteTime": {
     "end_time": "2025-06-13T12:16:00.681167Z",
     "start_time": "2025-06-13T12:16:00.665138Z"
    }
   },
   "cell_type": "code",
   "source": "start_date.strftime('%Y%m%d')",
   "id": "16c33d2632a7192f",
   "outputs": [
    {
     "data": {
      "text/plain": [
       "'20160901'"
      ]
     },
     "execution_count": 4,
     "metadata": {},
     "output_type": "execute_result"
    }
   ],
   "execution_count": 4
  },
  {
   "metadata": {
    "ExecuteTime": {
     "end_time": "2025-06-13T12:16:04.708605Z",
     "start_time": "2025-06-13T12:16:00.681167Z"
    }
   },
   "cell_type": "code",
   "source": [
    "st = client.get_waveforms(network, station, location, channel,\n",
    "                                      start_date, start_date + 60 * 60 * 24)"
   ],
   "id": "25795c04d8266e04",
   "outputs": [],
   "execution_count": 5
  },
  {
   "metadata": {
    "ExecuteTime": {
     "end_time": "2025-06-13T12:16:04.900694Z",
     "start_time": "2025-06-13T12:16:04.709929Z"
    }
   },
   "cell_type": "code",
   "source": "st.write('test', format='MSEED')",
   "id": "f762aab3295c1f5a",
   "outputs": [],
   "execution_count": 6
  },
  {
   "metadata": {
    "ExecuteTime": {
     "end_time": "2025-06-13T12:16:41.651342Z",
     "start_time": "2025-06-13T12:16:40.840257Z"
    }
   },
   "cell_type": "code",
   "source": "st = read(r'D:\\Projects\\whakaari\\download\\NZ_ALRZ_2016-09-01_0', format='MSEED')",
   "id": "52641125996d6c9b",
   "outputs": [],
   "execution_count": 9
  },
  {
   "metadata": {
    "ExecuteTime": {
     "end_time": "2025-06-13T12:16:42.142049Z",
     "start_time": "2025-06-13T12:16:42.126277Z"
    }
   },
   "cell_type": "code",
   "source": "st.traces[0].stats",
   "id": "979b8d9bcdbb1ebe",
   "outputs": [
    {
     "data": {
      "text/plain": [
       "         network: NZ\n",
       "         station: ALRZ\n",
       "        location: 10\n",
       "         channel: EHN\n",
       "       starttime: 2016-08-31T21:35:58.678393Z\n",
       "         endtime: 2016-09-02T02:24:00.078393Z\n",
       "   sampling_rate: 100.0\n",
       "           delta: 0.01\n",
       "            npts: 10368141\n",
       "           calib: 1.0\n",
       "         _format: MSEED\n",
       "           mseed: AttribDict({'dataquality': 'D', 'number_of_records': 185146, 'encoding': 'FLOAT64', 'byteorder': '>', 'record_length': 512, 'filesize': 94794752})"
      ]
     },
     "execution_count": 10,
     "metadata": {},
     "output_type": "execute_result"
    }
   ],
   "execution_count": 10
  },
  {
   "metadata": {},
   "cell_type": "code",
   "source": "'2020 12 01 12 00 00'.rstrip()",
   "id": "230c6e524e8c0585",
   "outputs": [],
   "execution_count": null
  },
  {
   "metadata": {},
   "cell_type": "code",
   "source": "cumtrapz(st[0],  dx=1. / 100, initial=0)",
   "id": "7708afa5ad651724",
   "outputs": [],
   "execution_count": null
  },
  {
   "metadata": {},
   "cell_type": "code",
   "source": [
    "test = (start_date + (1 * 24 * 3600))\n",
    "test2 = st.traces[0].meta['starttime']"
   ],
   "id": "566cfc35ab0c56c",
   "outputs": [],
   "execution_count": null
  },
  {
   "metadata": {},
   "cell_type": "code",
   "source": "test, test2",
   "id": "9301ad300a4acba0",
   "outputs": [],
   "execution_count": null
  },
  {
   "metadata": {},
   "cell_type": "code",
   "source": "(test - test2) * 100",
   "id": "354c8dfd8d5b0355",
   "outputs": [],
   "execution_count": null
  },
  {
   "metadata": {},
   "cell_type": "code",
   "source": "i0 = int((start_date + (1 * 24 * 3600) - st.traces[0].meta['starttime']) * 100) + 1",
   "id": "5620f100bbac036a",
   "outputs": [],
   "execution_count": null
  },
  {
   "metadata": {},
   "cell_type": "code",
   "source": "i0",
   "id": "1b49af6a0e091c11",
   "outputs": [],
   "execution_count": null
  },
  {
   "metadata": {},
   "cell_type": "code",
   "source": "data = bandpass()",
   "id": "8e7100242459733d",
   "outputs": [],
   "execution_count": null
  }
 ],
 "metadata": {
  "kernelspec": {
   "display_name": "Python 3",
   "language": "python",
   "name": "python3"
  },
  "language_info": {
   "codemirror_mode": {
    "name": "ipython",
    "version": 2
   },
   "file_extension": ".py",
   "mimetype": "text/x-python",
   "name": "python",
   "nbconvert_exporter": "python",
   "pygments_lexer": "ipython2",
   "version": "2.7.6"
  }
 },
 "nbformat": 4,
 "nbformat_minor": 5
}
