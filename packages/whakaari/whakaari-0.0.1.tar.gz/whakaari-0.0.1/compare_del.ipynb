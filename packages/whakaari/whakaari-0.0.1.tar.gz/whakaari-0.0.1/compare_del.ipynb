{
 "cells": [
  {
   "cell_type": "code",
   "id": "initial_id",
   "metadata": {
    "collapsed": true,
    "ExecuteTime": {
     "end_time": "2025-07-23T07:42:12.700134Z",
     "start_time": "2025-07-23T07:42:12.027457Z"
    }
   },
   "source": [
    "import pandas as pd\n",
    "from datetime import timedelta"
   ],
   "outputs": [],
   "execution_count": 1
  },
  {
   "metadata": {
    "ExecuteTime": {
     "end_time": "2025-07-23T07:42:52.034284Z",
     "start_time": "2025-07-23T07:42:52.022252Z"
    }
   },
   "cell_type": "code",
   "source": [
    "csv = r\"D:\\Temp\\OJN_seismic_data.csv\"\n",
    "csv = r\"D:\\Projects\\whakaari\\output\\OJN_tremor_data_nitp.csv\"\n"
   ],
   "id": "ac4791829681d896",
   "outputs": [],
   "execution_count": 9
  },
  {
   "metadata": {
    "ExecuteTime": {
     "end_time": "2025-07-23T07:42:52.594231Z",
     "start_time": "2025-07-23T07:42:52.520698Z"
    }
   },
   "cell_type": "code",
   "source": "df = pd.read_csv(csv, parse_dates=['time'])",
   "id": "d5db972edf78819e",
   "outputs": [],
   "execution_count": 10
  },
  {
   "metadata": {
    "ExecuteTime": {
     "end_time": "2025-07-23T07:42:52.886278Z",
     "start_time": "2025-07-23T07:42:52.870375Z"
    }
   },
   "cell_type": "code",
   "source": "df[\"time\"] = pd.to_datetime(df[\"time\"])",
   "id": "f4142100ac54c1d8",
   "outputs": [],
   "execution_count": 11
  },
  {
   "metadata": {
    "ExecuteTime": {
     "end_time": "2025-07-23T07:42:53.221503Z",
     "start_time": "2025-07-23T07:42:53.208040Z"
    }
   },
   "cell_type": "code",
   "source": "new_df = df[[\"time\"]]",
   "id": "a6a0f7dd85333078",
   "outputs": [],
   "execution_count": 12
  },
  {
   "metadata": {
    "ExecuteTime": {
     "end_time": "2025-07-23T07:42:53.556455Z",
     "start_time": "2025-07-23T07:42:53.540485Z"
    }
   },
   "cell_type": "code",
   "source": "new_df[\"diff\"] = new_df[\"time\"].diff()",
   "id": "8279b2335603d1a8",
   "outputs": [
    {
     "name": "stderr",
     "output_type": "stream",
     "text": [
      "D:\\Projects\\miniconda3\\envs\\whakaari\\lib\\site-packages\\ipykernel_launcher.py:1: SettingWithCopyWarning: \n",
      "A value is trying to be set on a copy of a slice from a DataFrame.\n",
      "Try using .loc[row_indexer,col_indexer] = value instead\n",
      "\n",
      "See the caveats in the documentation: http://pandas.pydata.org/pandas-docs/stable/user_guide/indexing.html#returning-a-view-versus-a-copy\n",
      "  \"\"\"Entry point for launching an IPython kernel.\n"
     ]
    }
   ],
   "execution_count": 13
  },
  {
   "metadata": {
    "ExecuteTime": {
     "end_time": "2025-07-23T07:42:54.162713Z",
     "start_time": "2025-07-23T07:42:54.147597Z"
    }
   },
   "cell_type": "code",
   "source": "check_df = new_df[new_df[\"diff\"] != timedelta(minutes=10)]",
   "id": "22aa8afb2378e1b",
   "outputs": [],
   "execution_count": 14
  },
  {
   "metadata": {
    "ExecuteTime": {
     "end_time": "2025-07-23T07:42:54.627190Z",
     "start_time": "2025-07-23T07:42:54.610980Z"
    }
   },
   "cell_type": "code",
   "source": "check_df",
   "id": "6fc627030c7e60fb",
   "outputs": [
    {
     "data": {
      "text/plain": [
       "        time diff\n",
       "0 2024-12-31  NaT"
      ],
      "text/html": [
       "<div>\n",
       "<style scoped>\n",
       "    .dataframe tbody tr th:only-of-type {\n",
       "        vertical-align: middle;\n",
       "    }\n",
       "\n",
       "    .dataframe tbody tr th {\n",
       "        vertical-align: top;\n",
       "    }\n",
       "\n",
       "    .dataframe thead th {\n",
       "        text-align: right;\n",
       "    }\n",
       "</style>\n",
       "<table border=\"1\" class=\"dataframe\">\n",
       "  <thead>\n",
       "    <tr style=\"text-align: right;\">\n",
       "      <th></th>\n",
       "      <th>time</th>\n",
       "      <th>diff</th>\n",
       "    </tr>\n",
       "  </thead>\n",
       "  <tbody>\n",
       "    <tr>\n",
       "      <th>0</th>\n",
       "      <td>2024-12-31</td>\n",
       "      <td>NaT</td>\n",
       "    </tr>\n",
       "  </tbody>\n",
       "</table>\n",
       "</div>"
      ]
     },
     "execution_count": 15,
     "metadata": {},
     "output_type": "execute_result"
    }
   ],
   "execution_count": 15
  },
  {
   "metadata": {},
   "cell_type": "code",
   "outputs": [],
   "execution_count": null,
   "source": "",
   "id": "4e2b0198b7c203a4"
  }
 ],
 "metadata": {
  "kernelspec": {
   "display_name": "Python 3",
   "language": "python",
   "name": "python3"
  },
  "language_info": {
   "codemirror_mode": {
    "name": "ipython",
    "version": 2
   },
   "file_extension": ".py",
   "mimetype": "text/x-python",
   "name": "python",
   "nbconvert_exporter": "python",
   "pygments_lexer": "ipython2",
   "version": "2.7.6"
  }
 },
 "nbformat": 4,
 "nbformat_minor": 5
}
