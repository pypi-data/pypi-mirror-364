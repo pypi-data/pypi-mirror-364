{
 "cells": [
  {
   "cell_type": "code",
   "id": "initial_id",
   "metadata": {
    "collapsed": true,
    "ExecuteTime": {
     "end_time": "2025-06-17T08:42:57.006069Z",
     "start_time": "2025-06-17T08:42:54.273815Z"
    }
   },
   "source": "from whakaari import TremorData, ForecastModel",
   "outputs": [
    {
     "name": "stderr",
     "output_type": "stream",
     "text": [
      "D:\\Projects\\miniconda3\\envs\\whakaari\\lib\\site-packages\\obspy\\signal\\headers.py:93: FutureWarning: Passing (type, 1) or '1type' as a synonym of type is deprecated; in a future version of numpy, it will be understood as (type, (1,)) / '(1,)type'.\n",
      "  ], align=True)\n"
     ]
    }
   ],
   "execution_count": 1
  },
  {
   "metadata": {
    "ExecuteTime": {
     "end_time": "2025-06-17T08:43:42.793090Z",
     "start_time": "2025-06-17T08:43:42.666890Z"
    }
   },
   "cell_type": "code",
   "source": [
    "fm = ForecastModel(\n",
    "    station='BTP',\n",
    "    start_date=\"2024-01-01\",\n",
    "    end_date=\"2024-05-18\",\n",
    "    window=2.,\n",
    "    overlap=0.75,\n",
    "    look_forward=2.,\n",
    "    tremor_data_file=r\"/output_bak\\BTP_tremor_data.csv\",\n",
    "    eruptive_file=r\"D:\\Projects\\whakaari\\input\\BTP_eruptive_periods.txt\",\n",
    "    verbose=True\n",
    ")"
   ],
   "id": "d41601123b7fb9ea",
   "outputs": [
    {
     "name": "stdout",
     "output_type": "stream",
     "text": [
      "Version: 0.0.1\n",
      "📖 Reading from CSV file: D:\\Projects\\whakaari\\output\\BTP_tremor_data.csv\n",
      "Start date: 2024-01-03 00:00:00\n",
      "End date: 2024-05-18 00:00:00\n",
      "Tremor data: D:\\Projects\\whakaari\\output\\BTP_tremor_data.csv\n",
      "Root dir: D:\\Projects\\whakaari\n",
      "Output dir: D:\\Projects\\whakaari\\output\n",
      "Plot dir: D:\\Projects\\whakaari\\output\\plots\\fm_2.00_0.75_2.00_dsar-hf-mf-rsam\n",
      "Model dir: D:\\Projects\\whakaari\\output\\models\\fm_2.00_0.75_2.00_dsar-hf-mf-rsam\n",
      "Feature dir: D:\\Projects\\whakaari\\output\\features\n",
      "Prediction dir: D:\\Projects\\whakaari\\output\\predictions\\fm_2.00_0.75_2.00_dsar-hf-mf-rsam\n"
     ]
    }
   ],
   "execution_count": 3
  },
  {
   "metadata": {},
   "cell_type": "code",
   "source": "fm",
   "id": "10b99b47ba620627",
   "outputs": [],
   "execution_count": null
  },
  {
   "metadata": {},
   "cell_type": "code",
   "source": "",
   "id": "68f160283373c7a8",
   "outputs": [],
   "execution_count": null
  }
 ],
 "metadata": {
  "kernelspec": {
   "display_name": "Python 3",
   "language": "python",
   "name": "python3"
  },
  "language_info": {
   "codemirror_mode": {
    "name": "ipython",
    "version": 2
   },
   "file_extension": ".py",
   "mimetype": "text/x-python",
   "name": "python",
   "nbconvert_exporter": "python",
   "pygments_lexer": "ipython2",
   "version": "2.7.6"
  }
 },
 "nbformat": 4,
 "nbformat_minor": 5
}
