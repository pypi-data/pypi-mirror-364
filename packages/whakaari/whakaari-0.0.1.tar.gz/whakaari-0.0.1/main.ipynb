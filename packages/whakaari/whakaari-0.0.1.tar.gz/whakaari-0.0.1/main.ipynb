{
 "cells": [
  {
   "cell_type": "code",
   "id": "initial_id",
   "metadata": {
    "collapsed": true
   },
   "source": [
    "from whakaari import TremorData, ForecastModel\n",
    "import os\n",
    "import pandas as pd"
   ],
   "outputs": [],
   "execution_count": null
  },
  {
   "metadata": {},
   "cell_type": "code",
   "source": [
    "tremor_data = TremorData(\n",
    "    station='OJN',\n",
    "    data_dir=os.getcwd(),\n",
    "    eruptive_file=r'D:\\Projects\\whakaari\\input\\OJN_eruptive_periods.txt',\n",
    "    n_jobs=2,\n",
    "    verbose=True,\n",
    ")"
   ],
   "id": "3edb46c26d36f1cb",
   "outputs": [],
   "execution_count": null
  },
  {
   "metadata": {},
   "cell_type": "code",
   "source": [
    "tremor_data.stations = {\n",
    "    \"OJN\": {\n",
    "        'client_name': \"GEONET\",\n",
    "        'client_url': 'https://service.geonet.org.nz',\n",
    "        'channel': 'EHN',\n",
    "        'network': 'VG',\n",
    "        'location': '00',\n",
    "    },\n",
    "}"
   ],
   "id": "74588f2e70115581",
   "outputs": [],
   "execution_count": null
  },
  {
   "metadata": {},
   "cell_type": "code",
   "source": [
    "tremor_data.update(\n",
    "    datetime_start='2025-01-01 00:00:00',\n",
    "    datetime_end='2025-05-28 23:59:59',\n",
    "    sds_dir=r'D:\\Data\\OJN'\n",
    ")"
   ],
   "id": "476419a758a09230",
   "outputs": [],
   "execution_count": null
  },
  {
   "metadata": {},
   "cell_type": "code",
   "source": "# tremor_data.df",
   "id": "680f3983021e79e6",
   "outputs": [],
   "execution_count": null
  },
  {
   "metadata": {},
   "cell_type": "code",
   "source": "tremor_data.df.head()",
   "id": "cc70d90672d57c0",
   "outputs": [],
   "execution_count": null
  },
  {
   "metadata": {},
   "cell_type": "code",
   "source": "",
   "id": "d8f67405860ee1ba",
   "outputs": [],
   "execution_count": null
  }
 ],
 "metadata": {
  "kernelspec": {
   "display_name": "Python 3",
   "language": "python",
   "name": "python3"
  },
  "language_info": {
   "codemirror_mode": {
    "name": "ipython",
    "version": 2
   },
   "file_extension": ".py",
   "mimetype": "text/x-python",
   "name": "python",
   "nbconvert_exporter": "python",
   "pygments_lexer": "ipython2",
   "version": "2.7.6"
  }
 },
 "nbformat": 4,
 "nbformat_minor": 5
}
