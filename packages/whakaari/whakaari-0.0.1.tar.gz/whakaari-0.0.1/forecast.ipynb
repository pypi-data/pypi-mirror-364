{
 "cells": [
  {
   "cell_type": "code",
   "id": "initial_id",
   "metadata": {
    "collapsed": true
   },
   "source": [
    "from whakaari import ForecastModel\n",
    "from datetime import timedelta\n",
    "import warnings\n",
    "\n",
    "warnings.simplefilter('ignore', UserWarning)\n",
    "warnings.simplefilter('ignore', FutureWarning)"
   ],
   "outputs": [],
   "execution_count": null
  },
  {
   "metadata": {},
   "cell_type": "code",
   "source": [
    "data_streams = ['rsam','mf','hf','dsar']\n",
    "start_date='2025-01-01'\n",
    "end_date='2025-05-26'"
   ],
   "id": "de0c4b5203521189",
   "outputs": [],
   "execution_count": null
  },
  {
   "metadata": {},
   "cell_type": "code",
   "source": [
    "fm = ForecastModel(\n",
    "    station=\"OJN\",\n",
    "    start_date=start_date,\n",
    "    end_date=end_date,\n",
    "    window=2.0,\n",
    "    overlap=0.75,\n",
    "    look_forward=2.0,\n",
    "    eruptive_file=r\"D:\\Projects\\whakaari\\input\\OJN_eruptive_periods.txt\",\n",
    "    tremor_data_file=r\"D:\\Projects\\whakaari\\output\\OJN_tremor_data.csv\",\n",
    "    data_streams=data_streams,\n",
    "    verbose=True,\n",
    "    debug=False\n",
    ")"
   ],
   "id": "72a4327955a3fbae",
   "outputs": [],
   "execution_count": null
  },
  {
   "metadata": {},
   "cell_type": "code",
   "source": "drop_features = ['linear_trend_timewise','agg_linear_trend']",
   "id": "f8d20475e35f1a5a",
   "outputs": [],
   "execution_count": null
  },
  {
   "metadata": {},
   "cell_type": "code",
   "source": [
    "fm.train(\n",
    "    start_date=start_date,\n",
    "    end_date=end_date,\n",
    "    drop_features=drop_features,\n",
    "    retrain_model=False,\n",
    "    n_jobs=1,\n",
    ")"
   ],
   "id": "10b03287291e7b37",
   "outputs": [],
   "execution_count": null
  },
  {
   "metadata": {},
   "cell_type": "code",
   "source": "fm.debug",
   "id": "7e62d845df75d367",
   "outputs": [],
   "execution_count": null
  },
  {
   "metadata": {},
   "cell_type": "code",
   "source": "day = timedelta(days=1)",
   "id": "be7e21e23a8d865c",
   "outputs": [],
   "execution_count": null
  },
  {
   "metadata": {},
   "cell_type": "code",
   "source": [
    "fm.hires_forecast(\n",
    "    start_date=fm.data.datetime_end - 14 * day,\n",
    "    end_date=fm.data.datetime_end,\n",
    "    recalculate=True,\n",
    "    save='OJN_forecast.png',\n",
    "    nz_timezone=False,\n",
    "    n_jobs=4\n",
    ")"
   ],
   "id": "a5f8aff410d88f87",
   "outputs": [],
   "execution_count": null
  },
  {
   "metadata": {},
   "cell_type": "code",
   "source": "",
   "id": "70a3e141b727f3d5",
   "outputs": [],
   "execution_count": null
  }
 ],
 "metadata": {
  "kernelspec": {
   "display_name": "Python 3",
   "language": "python",
   "name": "python3"
  },
  "language_info": {
   "codemirror_mode": {
    "name": "ipython",
    "version": 2
   },
   "file_extension": ".py",
   "mimetype": "text/x-python",
   "name": "python",
   "nbconvert_exporter": "python",
   "pygments_lexer": "ipython2",
   "version": "2.7.6"
  }
 },
 "nbformat": 4,
 "nbformat_minor": 5
}
