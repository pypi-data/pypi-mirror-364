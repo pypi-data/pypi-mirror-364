{
 "cells": [
  {
   "cell_type": "code",
   "execution_count": 1,
   "id": "b163aef8",
   "metadata": {},
   "outputs": [],
   "source": [
    "from exhaustive import exhaustive"
   ]
  },
  {
   "cell_type": "code",
   "execution_count": 2,
   "id": "4fbc28bf",
   "metadata": {},
   "outputs": [
    {
     "name": "stdout",
     "output_type": "stream",
     "text": [
      "dN/dS estimate (random model): 3.356950003360457\n",
      "dN/dS estimate (JC69 model, gamma=0.1): 3.356950003360457\n",
      "dN/dS estimate (K2P model, gamma=0.1, alpha=0.5, beta=0.5): 2.201970506657141\n",
      "dN/dS estimate (HKY model, gamma=0.1, alpha=0.5, beta=0.5): 2.180867926825615\n"
     ]
    }
   ],
   "source": [
    "fasta_path = \"../../tiny.fa\"\n",
    "\n",
    "# Run with default parameters (random mutation model)\n",
    "dnds_value = exhaustive(path=fasta_path)\n",
    "print(f\"dN/dS estimate (random model): {dnds_value}\")\n",
    "\n",
    "# Test JC69 model with gamma parameter, e.g. gamma=0.1\n",
    "try:\n",
    "    dnds_jc69 = exhaustive(path=fasta_path, model=\"JC69\", gamma=1)\n",
    "    print(f\"dN/dS estimate (JC69 model, gamma=0.1): {dnds_jc69}\")\n",
    "except Exception as e:\n",
    "    print(f\"JC69 model test failed: {e}\")\n",
    "\n",
    "# test K2P model with gamma parameter, e.g. gamma=0.1, alpha=0.5, beta=0.5\n",
    "try:\n",
    "    dnds_k2p = exhaustive(path=fasta_path, model=\"K2P\", gamma=1, alpha=10, beta=0.5)\n",
    "    print(f\"dN/dS estimate (K2P model, gamma=0.1, alpha=0.5, beta=0.5): {dnds_k2p}\")\n",
    "except Exception as e:\n",
    "    print(f\"K2P model test failed: {e}\")\n",
    "\n",
    "# test HKY model with gamma parameter, e.g. gamma=0.1, alpha=0.5, beta=0.5, pi_a=0.25, pi_c=0.25, pi_g=0.25, pi_t=0.25\n",
    "try:\n",
    "    dnds_hky = exhaustive(path=fasta_path, model=\"HKY85\", gamma=1, alpha=10, beta=0.5,\n",
    "                          pi_a=0.25, pi_c=0.25, pi_g=0.2, pi_t=0.25)\n",
    "    print(f\"dN/dS estimate (HKY model, gamma=0.1, alpha=0.5, beta=0.5): {dnds_hky}\")\n",
    "except Exception as e:\n",
    "    print(f\"HKY model test failed: {e}\")\n",
    "\n"
   ]
  },
  {
   "cell_type": "code",
   "execution_count": 3,
   "id": "a544daf4",
   "metadata": {},
   "outputs": [],
   "source": [
    "from random_vcf import get_dnds"
   ]
  },
  {
   "cell_type": "code",
   "execution_count": null,
   "id": "b7b3a3bf",
   "metadata": {},
   "outputs": [],
   "source": [
    "def get_dnds(fasta: str, \n",
    "            vcf: str, \n",
    "            bed: str, \n",
    "            model:str, \n",
    "            alpha:float, \n",
    "            beta:float, \n",
    "            gamma:float, \n",
    "            pi_a:float,\n",
    "            pi_c:float,\n",
    "            pi_g:float,\n",
    "            pi_t:float,\n",
    "            context_model:str):"
   ]
  },
  {
   "cell_type": "code",
   "execution_count": 11,
   "id": "950fbd30",
   "metadata": {},
   "outputs": [
    {
     "data": {
      "text/plain": [
       "'/projects/AKEY/akey_vol2/cooper/MutagenesisForge/src/MutagenesisForge'"
      ]
     },
     "execution_count": 11,
     "metadata": {},
     "output_type": "execute_result"
    }
   ],
   "source": [
    "import os\n",
    "os.getcwd()"
   ]
  },
  {
   "cell_type": "code",
   "execution_count": 13,
   "id": "f66908dd",
   "metadata": {},
   "outputs": [
    {
     "name": "stderr",
     "output_type": "stream",
     "text": [
      "[E::bcf_hdr_parse_sample_line] Could not parse the \"#CHROM..\" line, either the fields are incorrect or spaces are present instead of tabs:\n",
      "\t#CHROM  POS  ID  REF  ALT  QUAL  FILTER  INFO  FORMAT  SAMPLE\n",
      "\n"
     ]
    },
    {
     "ename": "ValueError",
     "evalue": "file `b'../../test.vcf'` does not have valid header (mode=`b'r'`) - is it VCF/BCF format?",
     "output_type": "error",
     "traceback": [
      "\u001b[0;31m---------------------------------------------------------------------------\u001b[0m",
      "\u001b[0;31mValueError\u001b[0m                                Traceback (most recent call last)",
      "File \u001b[0;32m~/.cache/pypoetry/virtualenvs/mutagenesisforge-7QwQvyxo-py3.10/lib/python3.10/site-packages/pysam/libcbcf.pyx:4355\u001b[0m, in \u001b[0;36mpysam.libcbcf.VariantFile.open\u001b[0;34m()\u001b[0m\n",
      "File \u001b[0;32m~/.cache/pypoetry/virtualenvs/mutagenesisforge-7QwQvyxo-py3.10/lib/python3.10/site-packages/pysam/libcbcf.pyx:2210\u001b[0m, in \u001b[0;36mpysam.libcbcf.makeVariantHeader\u001b[0;34m()\u001b[0m\n",
      "\u001b[0;31mValueError\u001b[0m: cannot create VariantHeader",
      "\nDuring handling of the above exception, another exception occurred:\n",
      "\u001b[0;31mValueError\u001b[0m                                Traceback (most recent call last)",
      "Cell \u001b[0;32mIn[13], line 1\u001b[0m\n\u001b[0;32m----> 1\u001b[0m \u001b[43mget_dnds\u001b[49m\u001b[43m(\u001b[49m\n\u001b[1;32m      2\u001b[0m \u001b[43m    \u001b[49m\u001b[43mfasta\u001b[49m\u001b[38;5;241;43m=\u001b[39;49m\u001b[38;5;124;43m'\u001b[39;49m\u001b[38;5;124;43m/projects/AKEY/akey_vol2/References/Genomes/hs37d5/hs37d5.fa\u001b[39;49m\u001b[38;5;124;43m'\u001b[39;49m\u001b[43m,\u001b[49m\n\u001b[1;32m      3\u001b[0m \u001b[43m    \u001b[49m\u001b[43mvcf\u001b[49m\u001b[38;5;241;43m=\u001b[39;49m\u001b[38;5;124;43m'\u001b[39;49m\u001b[38;5;124;43m../../test.vcf\u001b[39;49m\u001b[38;5;124;43m'\u001b[39;49m\u001b[43m,\u001b[49m\n\u001b[1;32m      4\u001b[0m \u001b[43m    \u001b[49m\u001b[43mbed\u001b[49m\u001b[38;5;241;43m=\u001b[39;49m\u001b[38;5;124;43m'\u001b[39;49m\u001b[38;5;124;43m/projects/AKEY/akey_vol2/huixinx/Projects/01.eGTEx/NWGC/04.fig3/02.exp_mis_to_syn_ratio/step12.problematic.bed\u001b[39;49m\u001b[38;5;124;43m'\u001b[39;49m\u001b[43m,\u001b[49m\n\u001b[1;32m      5\u001b[0m \u001b[43m    \u001b[49m\u001b[43mmodel\u001b[49m\u001b[38;5;241;43m=\u001b[39;49m\u001b[38;5;124;43m'\u001b[39;49m\u001b[38;5;124;43mJC69\u001b[39;49m\u001b[38;5;124;43m'\u001b[39;49m\u001b[43m,\u001b[49m\n\u001b[1;32m      6\u001b[0m \u001b[43m    \u001b[49m\u001b[43malpha\u001b[49m\u001b[38;5;241;43m=\u001b[39;49m\u001b[38;5;241;43m0\u001b[39;49m\u001b[43m,\u001b[49m\n\u001b[1;32m      7\u001b[0m \u001b[43m    \u001b[49m\u001b[43mbeta\u001b[49m\u001b[38;5;241;43m=\u001b[39;49m\u001b[38;5;241;43m0\u001b[39;49m\u001b[43m,\u001b[49m\n\u001b[1;32m      8\u001b[0m \u001b[43m    \u001b[49m\u001b[43mgamma\u001b[49m\u001b[38;5;241;43m=\u001b[39;49m\u001b[38;5;241;43m0.1\u001b[39;49m\u001b[43m,\u001b[49m\n\u001b[1;32m      9\u001b[0m \u001b[43m    \u001b[49m\u001b[43mpi_a\u001b[49m\u001b[38;5;241;43m=\u001b[39;49m\u001b[38;5;241;43m0.25\u001b[39;49m\u001b[43m,\u001b[49m\n\u001b[1;32m     10\u001b[0m \u001b[43m    \u001b[49m\u001b[43mpi_c\u001b[49m\u001b[38;5;241;43m=\u001b[39;49m\u001b[38;5;241;43m0.25\u001b[39;49m\u001b[43m,\u001b[49m\n\u001b[1;32m     11\u001b[0m \u001b[43m    \u001b[49m\u001b[43mpi_g\u001b[49m\u001b[38;5;241;43m=\u001b[39;49m\u001b[38;5;241;43m0.25\u001b[39;49m\u001b[43m,\u001b[49m\n\u001b[1;32m     12\u001b[0m \u001b[43m    \u001b[49m\u001b[43mpi_t\u001b[49m\u001b[38;5;241;43m=\u001b[39;49m\u001b[38;5;241;43m0.25\u001b[39;49m\u001b[43m,\u001b[49m\n\u001b[1;32m     13\u001b[0m \u001b[43m    \u001b[49m\u001b[43mcontext_model\u001b[49m\u001b[38;5;241;43m=\u001b[39;49m\u001b[38;5;124;43m'\u001b[39;49m\u001b[38;5;124;43mcodon\u001b[39;49m\u001b[38;5;124;43m'\u001b[39;49m\u001b[43m,\u001b[49m\n\u001b[1;32m     14\u001b[0m \u001b[43m    \u001b[49m\u001b[43msim_num\u001b[49m\u001b[38;5;241;43m=\u001b[39;49m\u001b[38;5;241;43m1\u001b[39;49m\n\u001b[1;32m     15\u001b[0m \u001b[43m)\u001b[49m\n",
      "File \u001b[0;32m/projects/AKEY/akey_vol2/cooper/MutagenesisForge/src/MutagenesisForge/random_vcf.py:271\u001b[0m, in \u001b[0;36mget_dnds\u001b[0;34m(fasta, vcf, bed, sim_num, model, alpha, beta, gamma, pi_a, pi_c, pi_g, pi_t, context_model)\u001b[0m\n\u001b[1;32m    269\u001b[0m # read in the vcf file\n\u001b[1;32m    270\u001b[0m vcf_file = pysam.VariantFile(vcf)\n\u001b[0;32m--> 271\u001b[0m # read in the bed file\n\u001b[1;32m    272\u001b[0m regions = []\n\u001b[1;32m    273\u001b[0m with my_open(bed, \"r\") as f:\n",
      "File \u001b[0;32m~/.cache/pypoetry/virtualenvs/mutagenesisforge-7QwQvyxo-py3.10/lib/python3.10/site-packages/pysam/libcbcf.pyx:4117\u001b[0m, in \u001b[0;36mpysam.libcbcf.VariantFile.__init__\u001b[0;34m()\u001b[0m\n",
      "File \u001b[0;32m~/.cache/pypoetry/virtualenvs/mutagenesisforge-7QwQvyxo-py3.10/lib/python3.10/site-packages/pysam/libcbcf.pyx:4357\u001b[0m, in \u001b[0;36mpysam.libcbcf.VariantFile.open\u001b[0;34m()\u001b[0m\n",
      "\u001b[0;31mValueError\u001b[0m: file `b'../../test.vcf'` does not have valid header (mode=`b'r'`) - is it VCF/BCF format?"
     ]
    }
   ],
   "source": [
    "get_dnds(\n",
    "    fasta='/projects/AKEY/akey_vol2/References/Genomes/hs37d5/hs37d5.fa',\n",
    "    vcf='../../test.vcf',\n",
    "    bed='/projects/AKEY/akey_vol2/huixinx/Projects/01.eGTEx/NWGC/04.fig3/02.exp_mis_to_syn_ratio/step12.problematic.bed',\n",
    "    model='JC69',\n",
    "    alpha=0,\n",
    "    beta=0,\n",
    "    gamma=0.1,\n",
    "    pi_a=0.25,\n",
    "    pi_c=0.25,\n",
    "    pi_g=0.25,\n",
    "    pi_t=0.25,\n",
    "    context_model='codon',\n",
    "    sim_num=1\n",
    ")"
   ]
  }
 ],
 "metadata": {
  "kernelspec": {
   "display_name": "mutagenesisforge-7QwQvyxo-py3.10",
   "language": "python",
   "name": "python3"
  },
  "language_info": {
   "codemirror_mode": {
    "name": "ipython",
    "version": 3
   },
   "file_extension": ".py",
   "mimetype": "text/x-python",
   "name": "python",
   "nbconvert_exporter": "python",
   "pygments_lexer": "ipython3",
   "version": "3.10.9"
  }
 },
 "nbformat": 4,
 "nbformat_minor": 5
}
