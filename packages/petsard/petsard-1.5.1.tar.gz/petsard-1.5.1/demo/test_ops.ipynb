{
 "cells": [
  {
   "cell_type": "markdown",
   "metadata": {},
   "source": [
    "# PETsARD Operator 測試\n",
    "\n",
    "這個 notebook 用來測試各個 Operator 的功能，按照 test.ipynb 的設定進行調整。"
   ]
  },
  {
   "cell_type": "markdown",
   "metadata": {},
   "source": [
    "## LoaderOperator 測試"
   ]
  },
  {
   "cell_type": "code",
   "execution_count": 1,
   "metadata": {},
   "outputs": [
    {
     "name": "stdout",
     "output_type": "stream",
     "text": [
      "data: <class 'pandas.core.frame.DataFrame'>, meta: <class 'petsard.metadater.schema.schema_types.SchemaMetadata'>\n",
      "data shape: (48842, 15)\n",
      "metadata schema_id: adult-income\n"
     ]
    }
   ],
   "source": [
    "from petsard.operator import LoaderOperator\n",
    "\n",
    "# 測試 benchmark 資料載入\n",
    "loader_op = LoaderOperator(config={\"filepath\": \"benchmark://adult-income\"})\n",
    "\n",
    "# 執行載入\n",
    "loader_op.run(input={})\n",
    "\n",
    "# 取得結果\n",
    "data = loader_op.get_result()\n",
    "meta = loader_op.get_metadata()\n",
    "\n",
    "print(f\"data: {type(data)}, meta: {type(meta)}\")\n",
    "print(f\"data shape: {data.shape}\")\n",
    "print(f\"metadata schema_id: {meta.schema_id}\")"
   ]
  },
  {
   "cell_type": "code",
   "execution_count": 2,
   "metadata": {},
   "outputs": [
    {
     "name": "stdout",
     "output_type": "stream",
     "text": [
      "data: <class 'pandas.core.frame.DataFrame'>, meta: <class 'petsard.metadater.schema.schema_types.SchemaMetadata'>\n",
      "data shape: (48842, 15)\n"
     ]
    }
   ],
   "source": [
    "# 測試本地檔案載入\n",
    "loader_op_local = LoaderOperator(config={\"filepath\": \"benchmark/adult-income.csv\"})\n",
    "\n",
    "loader_op_local.run(input={})\n",
    "\n",
    "data_local = loader_op_local.get_result()\n",
    "meta_local = loader_op_local.get_metadata()\n",
    "\n",
    "print(f\"data: {type(data_local)}, meta: {type(meta_local)}\")\n",
    "print(f\"data shape: {data_local.shape}\")"
   ]
  },
  {
   "cell_type": "markdown",
   "metadata": {},
   "source": [
    "# Just simplify"
   ]
  },
  {
   "cell_type": "code",
   "execution_count": 3,
   "metadata": {},
   "outputs": [
    {
     "data": {
      "text/plain": [
       "(100, 15)"
      ]
     },
     "execution_count": 3,
     "metadata": {},
     "output_type": "execute_result"
    }
   ],
   "source": [
    "data = data.loc[0:99, :]\n",
    "data.shape"
   ]
  },
  {
   "cell_type": "markdown",
   "metadata": {},
   "source": [
    "## SplitterOperator 測試"
   ]
  },
  {
   "cell_type": "code",
   "execution_count": 4,
   "metadata": {},
   "outputs": [
    {
     "name": "stdout",
     "output_type": "stream",
     "text": [
      "train_data: <class 'pandas.core.frame.DataFrame'>, test_data: <class 'pandas.core.frame.DataFrame'>\n",
      "train_data shape: (80, 15), test_data shape: (20, 15)\n"
     ]
    }
   ],
   "source": [
    "from petsard.operator import SplitterOperator\n",
    "\n",
    "# 測試資料分割 - 使用與 test.ipynb 相同的配置\n",
    "splitter_op = SplitterOperator(config={\"num_samples\": 5, \"train_split_ratio\": 0.8})\n",
    "\n",
    "# 準備輸入資料\n",
    "splitter_input = {\"data\": data, \"metadata\": meta, \"exclude_index\": []}\n",
    "\n",
    "splitter_op.run(input=splitter_input)\n",
    "\n",
    "# 取得分割結果 - 使用第一次分割\n",
    "split_results = splitter_op.get_result()\n",
    "split_meta = splitter_op.get_metadata()\n",
    "\n",
    "# 取得第一次分割的訓練集和測試集 - 限制只能取第一個\n",
    "train_data = split_results[\"train\"]\n",
    "test_data = split_results[\"validation\"]\n",
    "\n",
    "print(f\"train_data: {type(train_data)}, test_data: {type(test_data)}\")\n",
    "print(f\"train_data shape: {train_data.shape}, test_data shape: {test_data.shape}\")"
   ]
  },
  {
   "cell_type": "code",
   "execution_count": 5,
   "metadata": {},
   "outputs": [
    {
     "name": "stdout",
     "output_type": "stream",
     "text": [
      "Custom split result keys: dict_keys(['train', 'validation'])\n"
     ]
    }
   ],
   "source": [
    "# 測試自定義資料分割\n",
    "splitter_op_custom = SplitterOperator(\n",
    "    config={\n",
    "        \"method\": \"custom_data\",\n",
    "        \"filepath\": {\n",
    "            \"ori\": \"benchmark/adult-income_ori.csv\",\n",
    "            \"control\": \"benchmark/adult-income_control.csv\",\n",
    "        },\n",
    "    }\n",
    ")\n",
    "\n",
    "# 自定義資料不需要輸入資料\n",
    "splitter_op_custom.run(input={\"exclude_index\": []})\n",
    "\n",
    "custom_split_result = splitter_op_custom.get_result()\n",
    "print(f\"Custom split result keys: {custom_split_result.keys()}\")"
   ]
  },
  {
   "cell_type": "markdown",
   "metadata": {},
   "source": [
    "## PreprocessorOperator 測試"
   ]
  },
  {
   "cell_type": "code",
   "execution_count": 6,
   "metadata": {},
   "outputs": [
    {
     "name": "stdout",
     "output_type": "stream",
     "text": [
      "default_preproc_data shape: (48, 15)\n"
     ]
    }
   ],
   "source": [
    "from petsard.operator import PreprocessorOperator\n",
    "\n",
    "# 測試預設預處理\n",
    "preproc_op = PreprocessorOperator(config={\"method\": \"default\"})\n",
    "\n",
    "preproc_input = {\"data\": train_data, \"metadata\": meta}\n",
    "\n",
    "preproc_op.run(input=preproc_input)\n",
    "\n",
    "default_preproc_data = preproc_op.get_result()\n",
    "preproc_meta = preproc_op.get_metadata()\n",
    "\n",
    "print(f\"default_preproc_data shape: {default_preproc_data.shape}\")"
   ]
  },
  {
   "cell_type": "code",
   "execution_count": 7,
   "metadata": {},
   "outputs": [
    {
     "name": "stdout",
     "output_type": "stream",
     "text": [
      "missing_preproc_data shape: (80, 15)\n",
      "Age column after missing value processing:\n",
      "0    25\n",
      "1    38\n",
      "2    28\n",
      "3    44\n",
      "4    18\n",
      "5    34\n",
      "6    63\n",
      "7    24\n",
      "8    55\n",
      "9    65\n",
      "Name: age, dtype: int8\n"
     ]
    }
   ],
   "source": [
    "# 測試僅處理缺失值\n",
    "preproc_op_missing = PreprocessorOperator(\n",
    "    config={\n",
    "        \"method\": \"custom\",\n",
    "        \"config\": {\n",
    "            \"missing\": {\n",
    "                \"age\": \"missing_mean\",\n",
    "            },\n",
    "        },\n",
    "        \"sequence\": [\"missing\"],\n",
    "    }\n",
    ")\n",
    "\n",
    "preproc_op_missing.run(input=preproc_input)\n",
    "\n",
    "missing_preproc_data = preproc_op_missing.get_result()\n",
    "\n",
    "print(f\"missing_preproc_data shape: {missing_preproc_data.shape}\")\n",
    "print(\"Age column after missing value processing:\")\n",
    "print(missing_preproc_data[\"age\"].head(10))"
   ]
  },
  {
   "cell_type": "code",
   "execution_count": 8,
   "metadata": {},
   "outputs": [
    {
     "name": "stdout",
     "output_type": "stream",
     "text": [
      "outlier_preproc_data shape: (48, 15)\n",
      "Age column after outlier processing:\n",
      "0    25\n",
      "1    38\n",
      "2    28\n",
      "3    24\n",
      "4    26\n",
      "5    43\n",
      "6    34\n",
      "7    34\n",
      "8    25\n",
      "9    25\n",
      "Name: age, dtype: int8\n"
     ]
    }
   ],
   "source": [
    "# 測試僅處理離群值\n",
    "preproc_op_outlier = PreprocessorOperator(\n",
    "    config={\n",
    "        \"method\": \"custom\",\n",
    "        \"config\": {\n",
    "            \"outlier\": {\n",
    "                \"age\": \"outlier_zscore\",\n",
    "            },\n",
    "        },\n",
    "        \"sequence\": [\"outlier\"],\n",
    "    }\n",
    ")\n",
    "\n",
    "preproc_op_outlier.run(input=preproc_input)\n",
    "\n",
    "outlier_preproc_data = preproc_op_outlier.get_result()\n",
    "\n",
    "print(f\"outlier_preproc_data shape: {outlier_preproc_data.shape}\")\n",
    "print(\"Age column after outlier processing:\")\n",
    "print(outlier_preproc_data[\"age\"].head(10))"
   ]
  },
  {
   "cell_type": "code",
   "execution_count": 9,
   "metadata": {},
   "outputs": [
    {
     "name": "stdout",
     "output_type": "stream",
     "text": [
      "encoder_preproc_data shape: (80, 20)\n",
      "Workclass columns after encoding:\n",
      "   workclass_Federal-gov  workclass_Local-gov  workclass_Private  \\\n",
      "0                    0.0                  0.0                1.0   \n",
      "1                    0.0                  0.0                1.0   \n",
      "2                    0.0                  1.0                0.0   \n",
      "3                    0.0                  0.0                1.0   \n",
      "4                    0.0                  0.0                0.0   \n",
      "5                    0.0                  0.0                1.0   \n",
      "6                    0.0                  0.0                0.0   \n",
      "7                    0.0                  0.0                1.0   \n",
      "8                    0.0                  0.0                1.0   \n",
      "9                    0.0                  0.0                1.0   \n",
      "\n",
      "   workclass_Self-emp-inc  workclass_Self-emp-not-inc  workclass_State-gov  \n",
      "0                     0.0                         0.0                  0.0  \n",
      "1                     0.0                         0.0                  0.0  \n",
      "2                     0.0                         0.0                  0.0  \n",
      "3                     0.0                         0.0                  0.0  \n",
      "4                     0.0                         0.0                  0.0  \n",
      "5                     0.0                         0.0                  0.0  \n",
      "6                     0.0                         1.0                  0.0  \n",
      "7                     0.0                         0.0                  0.0  \n",
      "8                     0.0                         0.0                  0.0  \n",
      "9                     0.0                         0.0                  0.0  \n"
     ]
    }
   ],
   "source": [
    "# 測試僅編碼處理\n",
    "preproc_op_encoder = PreprocessorOperator(\n",
    "    config={\n",
    "        \"method\": \"custom\",\n",
    "        \"config\": {\n",
    "            \"encoder\": {\n",
    "                \"workclass\": \"encoder_onehot\",\n",
    "            },\n",
    "        },\n",
    "        \"sequence\": [\"encoder\"],\n",
    "    }\n",
    ")\n",
    "\n",
    "preproc_op_encoder.run(input=preproc_input)\n",
    "\n",
    "encoder_preproc_data = preproc_op_encoder.get_result()\n",
    "\n",
    "print(f\"encoder_preproc_data shape: {encoder_preproc_data.shape}\")\n",
    "print(\"Workclass columns after encoding:\")\n",
    "workclass_cols = [\n",
    "    col for col in encoder_preproc_data.columns if col.startswith(\"workclass_\")\n",
    "]\n",
    "print(encoder_preproc_data[workclass_cols].head(10))"
   ]
  },
  {
   "cell_type": "code",
   "execution_count": 10,
   "metadata": {},
   "outputs": [
    {
     "name": "stdout",
     "output_type": "stream",
     "text": [
      "scaler_preproc_data shape: (80, 15)\n",
      "Age column after scaling:\n",
      "0    0.145455\n",
      "1    0.381818\n",
      "2    0.200000\n",
      "3    0.490909\n",
      "4    0.018182\n",
      "5    0.309091\n",
      "6    0.836364\n",
      "7    0.127273\n",
      "8    0.690909\n",
      "9    0.872727\n",
      "Name: age, dtype: float64\n"
     ]
    }
   ],
   "source": [
    "# 測試僅縮放處理\n",
    "preproc_op_scaler = PreprocessorOperator(\n",
    "    config={\n",
    "        \"method\": \"custom\",\n",
    "        \"config\": {\n",
    "            \"scaler\": {\n",
    "                \"age\": \"scaler_minmax\",\n",
    "            },\n",
    "        },\n",
    "        \"sequence\": [\"scaler\"],\n",
    "    }\n",
    ")\n",
    "\n",
    "preproc_op_scaler.run(input=preproc_input)\n",
    "\n",
    "scaler_preproc_data = preproc_op_scaler.get_result()\n",
    "\n",
    "print(f\"scaler_preproc_data shape: {scaler_preproc_data.shape}\")\n",
    "print(\"Age column after scaling:\")\n",
    "print(scaler_preproc_data[\"age\"].head(10))"
   ]
  },
  {
   "cell_type": "markdown",
   "metadata": {},
   "source": [
    "## SynthesizerOperator 測試"
   ]
  },
  {
   "cell_type": "code",
   "execution_count": 11,
   "metadata": {},
   "outputs": [
    {
     "name": "stdout",
     "output_type": "stream",
     "text": [
      "syn_data shape: (48, 15)\n",
      "syn_data type: <class 'pandas.core.frame.DataFrame'>\n"
     ]
    }
   ],
   "source": [
    "from petsard.operator import SynthesizerOperator\n",
    "\n",
    "# 測試合成器 - 使用預設方法\n",
    "synth_op = SynthesizerOperator(config={\"method\": \"default\"})\n",
    "\n",
    "synth_input = {\"data\": default_preproc_data, \"metadata\": preproc_meta}\n",
    "\n",
    "synth_op.run(input=synth_input)\n",
    "\n",
    "syn_data = synth_op.get_result()\n",
    "\n",
    "print(f\"syn_data shape: {syn_data.shape}\")\n",
    "print(f\"syn_data type: {type(syn_data)}\")"
   ]
  },
  {
   "cell_type": "markdown",
   "metadata": {},
   "source": [
    "## PostprocessorOperator 測試"
   ]
  },
  {
   "cell_type": "code",
   "execution_count": 12,
   "metadata": {},
   "outputs": [
    {
     "name": "stdout",
     "output_type": "stream",
     "text": [
      "postproc_data shape: (48, 15)\n",
      "postproc_data type: <class 'pandas.core.frame.DataFrame'>\n"
     ]
    }
   ],
   "source": [
    "from petsard.operator import PostprocessorOperator\n",
    "\n",
    "# 測試後處理\n",
    "postproc_op = PostprocessorOperator(config={\"method\": \"default\"})\n",
    "\n",
    "postproc_input = {\n",
    "    \"data\": syn_data,\n",
    "    \"preprocessor\": preproc_op.processor,\n",
    "}\n",
    "\n",
    "postproc_op.run(input=postproc_input)\n",
    "\n",
    "postproc_data = postproc_op.get_result()\n",
    "\n",
    "print(f\"postproc_data shape: {postproc_data.shape}\")\n",
    "print(f\"postproc_data type: {type(postproc_data)}\")"
   ]
  },
  {
   "cell_type": "markdown",
   "metadata": {},
   "source": [
    "## ConstrainerOperator 測試"
   ]
  },
  {
   "cell_type": "code",
   "execution_count": 13,
   "metadata": {},
   "outputs": [
    {
     "name": "stdout",
     "output_type": "stream",
     "text": [
      "cnst_data shape: (48, 15)\n",
      "cnst_data type: <class 'pandas.core.frame.DataFrame'>\n"
     ]
    }
   ],
   "source": [
    "from petsard.operator import ConstrainerOperator\n",
    "\n",
    "# 測試約束器 - 空配置\n",
    "constr_op = ConstrainerOperator(config={})\n",
    "\n",
    "constr_input = {\"data\": postproc_data}\n",
    "\n",
    "constr_op.run(input=constr_input)\n",
    "\n",
    "cnst_data = constr_op.get_result()\n",
    "\n",
    "print(f\"cnst_data shape: {cnst_data.shape}\")\n",
    "print(f\"cnst_data type: {type(cnst_data)}\")"
   ]
  },
  {
   "cell_type": "code",
   "execution_count": 14,
   "metadata": {},
   "outputs": [
    {
     "name": "stdout",
     "output_type": "stream",
     "text": [
      "satisfy_data shape: (48, 15)\n"
     ]
    }
   ],
   "source": [
    "# 測試約束器 - 使用 resample_until_satisfy\n",
    "satisfy_data = constr_op.constrainer.resample_until_satisfy(\n",
    "    data=postproc_data,\n",
    "    target_rows=postproc_data.shape[0],\n",
    "    synthesizer=synth_op.synthesizer,\n",
    "    max_trials=300,\n",
    "    sampling_ratio=10.0,\n",
    "    verbose_step=10,\n",
    ")\n",
    "\n",
    "print(f\"satisfy_data shape: {satisfy_data.shape}\")"
   ]
  },
  {
   "cell_type": "markdown",
   "metadata": {},
   "source": [
    "## EvaluatorOperator 測試"
   ]
  },
  {
   "cell_type": "code",
   "execution_count": 15,
   "metadata": {},
   "outputs": [
    {
     "name": "stdout",
     "output_type": "stream",
     "text": [
      "Generating report ...\n",
      "\n",
      "(1/2) Evaluating Column Shapes: |██████████| 15/15 [00:00<00:00, 2840.26it/s]|\n",
      "Column Shapes Score: 13.04%\n",
      "\n",
      "(2/2) Evaluating Column Pair Trends: |██████████| 105/105 [00:00<00:00, 480.42it/s]|\n",
      "Column Pair Trends Score: 2.01%\n",
      "\n",
      "Overall Score (Average): 7.52%\n",
      "\n",
      "Evaluation result keys: dict_keys(['global', 'columnwise', 'pairwise'])\n",
      "\n",
      "Global evaluation results:\n",
      "        Score  Column Shapes  Column Pair Trends\n",
      "result   0.08            NaN                 NaN\n",
      "\n",
      "Columnwise evaluation results:\n",
      "          Property        Metric  Score\n",
      "age  Column Shapes  KSComplement    0.0\n",
      "\n",
      "Pairwise evaluation results:\n",
      "                         Property                 Metric  Score  \\\n",
      "age workclass  Column Pair Trends  ContingencySimilarity    0.0   \n",
      "\n",
      "               Real Correlation  Synthetic Correlation Error  \n",
      "age workclass               NaN                    NaN  None  \n"
     ]
    }
   ],
   "source": [
    "from petsard.operator import EvaluatorOperator\n",
    "\n",
    "# 測試評估器 - 預設方法\n",
    "eval_op = EvaluatorOperator(config={\"method\": \"default\"})\n",
    "\n",
    "eval_input = {\n",
    "    \"data\": {\n",
    "        \"ori\": train_data,\n",
    "        \"control\": test_data,\n",
    "        \"syn\": syn_data,\n",
    "    }\n",
    "}\n",
    "\n",
    "eval_op.run(input=eval_input)\n",
    "\n",
    "eval_result = eval_op.get_result()\n",
    "\n",
    "print(f\"Evaluation result keys: {eval_result.keys()}\")\n",
    "print(\"\\nGlobal evaluation results:\")\n",
    "print(eval_result[\"global\"].head(1))\n",
    "print(\"\\nColumnwise evaluation results:\")\n",
    "print(eval_result[\"columnwise\"].head(1))\n",
    "print(\"\\nPairwise evaluation results:\")\n",
    "print(eval_result[\"pairwise\"].head(1))"
   ]
  },
  {
   "cell_type": "code",
   "execution_count": 16,
   "metadata": {},
   "outputs": [
    {
     "name": "stderr",
     "output_type": "stream",
     "text": [
      "The cardinality of the column workclass is too high. Ori: Over row numbers 80, column cardinality 7. Syn: Over row numbers 48, column cardinality 5. The column workclass is removed.\n",
      "The cardinality of the column education is too high. Ori: Over row numbers 80, column cardinality 13. Syn: Over row numbers 48, column cardinality 8. The column education is removed.\n",
      "The cardinality of the column marital-status is too high. Ori: Over row numbers 80, column cardinality 6. Syn: Over row numbers 48, column cardinality 5. The column marital-status is removed.\n",
      "The cardinality of the column occupation is too high. Ori: Over row numbers 80, column cardinality 15. Syn: Over row numbers 48, column cardinality 13. The column occupation is removed.\n"
     ]
    },
    {
     "name": "stdout",
     "output_type": "stream",
     "text": [
      "   ori_mean  ori_std  syn_mean  syn_std  diff\n",
      "0      0.89     0.04      0.74     0.09 -0.15\n"
     ]
    }
   ],
   "source": [
    "# 測試評估器 - MLUtility Classification\n",
    "eval_op_mlutility = EvaluatorOperator(\n",
    "    config={\n",
    "        \"method\": \"mlutility-classification\",\n",
    "        \"target\": \"income\",\n",
    "    }\n",
    ")\n",
    "\n",
    "eval_input_anon = {\n",
    "    \"data\": {\n",
    "        \"ori\": train_data,\n",
    "        \"control\": test_data,\n",
    "        \"syn\": satisfy_data,\n",
    "    }\n",
    "}\n",
    "\n",
    "eval_op_mlutility.run(input=eval_input_anon)\n",
    "\n",
    "eval_result_mlutility = eval_op_mlutility.get_result()\n",
    "\n",
    "print(eval_result_mlutility[\"global\"].head(1))"
   ]
  },
  {
   "cell_type": "markdown",
   "metadata": {},
   "source": [
    "## DescriberOperator 測試"
   ]
  },
  {
   "cell_type": "code",
   "execution_count": 17,
   "metadata": {},
   "outputs": [
    {
     "name": "stdout",
     "output_type": "stream",
     "text": [
      "Description result type: <class 'dict'>\n",
      "Description result keys: dict_keys(['global', 'columnwise', 'pairwise'])\n",
      "   row_count  col_count  na_count\n",
      "0         48         15         0\n",
      "      mean  median   std    min    max  kurtosis  skew     q1     q3  \\\n",
      "age  39.15   37.42  13.9  17.07  62.87     -1.32  0.12  26.84  51.35   \n",
      "\n",
      "     na_count nunique  \n",
      "age       0.0    <NA>  \n",
      "  column1 column2  corr\n",
      "0     age     age   1.0\n"
     ]
    }
   ],
   "source": [
    "from petsard.operator import DescriberOperator\n",
    "\n",
    "# 測試描述器\n",
    "desc_op = DescriberOperator(config={\"method\": \"default\"})\n",
    "\n",
    "desc_input = {\"data\": {\"data\": satisfy_data}}\n",
    "\n",
    "desc_op.run(input=desc_input)\n",
    "\n",
    "desc_result = desc_op.get_result()\n",
    "\n",
    "print(f\"Description result type: {type(desc_result)}\")\n",
    "if isinstance(desc_result, dict):\n",
    "    print(f\"Description result keys: {desc_result.keys()}\")\n",
    "\n",
    "    print(desc_result[\"global\"].head(1))\n",
    "    print(desc_result[\"columnwise\"].head(1))\n",
    "    print(desc_result[\"pairwise\"].head(1))"
   ]
  },
  {
   "cell_type": "markdown",
   "metadata": {},
   "source": [
    "## ReporterOperator 測試"
   ]
  },
  {
   "cell_type": "code",
   "execution_count": 18,
   "metadata": {},
   "outputs": [
    {
     "name": "stdout",
     "output_type": "stream",
     "text": [
      "Now is petsard_Postprocessor[exp1] save to csv...\n",
      "Save data report result: {'Postprocessor[exp1]':           age         workclass         fnlwgt     education  educational-num  \\\n",
      "0   36.642211           Private  250793.966037       Masters        10.345755   \n",
      "1   44.706248           Private  156377.255439  Some-college        13.097054   \n",
      "2   35.453962       Federal-gov  199957.967416  Some-college        13.489458   \n",
      "3   51.236294           Private  139443.081765       HS-grad        11.505136   \n",
      "4   17.069239           Private  342704.289117       HS-grad         8.227708   \n",
      "5   51.693226           Private  176796.515149  Some-college        13.758820   \n",
      "6   24.672330           Private  177494.983911       HS-grad        10.556416   \n",
      "7   32.096902           Private  233204.318395       HS-grad        10.918013   \n",
      "8   52.113291           Private  164775.600311       HS-grad         9.404755   \n",
      "9   18.290989           Private  165095.103263  Some-college         9.244325   \n",
      "10  62.245879           Private  314991.622267       Masters         8.658995   \n",
      "11  28.791958           Private   85861.173314  Some-college        10.630223   \n",
      "12  46.225951           Private  366449.180895          11th        10.155993   \n",
      "13  61.955259  Self-emp-not-inc  258782.344189       HS-grad         7.491737   \n",
      "14  19.534740           Private   99122.760414  Some-college         8.730804   \n",
      "15  24.082504           Private  338349.626190     Assoc-voc         6.410269   \n",
      "16  24.195969           Private  109771.420127  Some-college         9.397354   \n",
      "17  21.536770           Private  267074.092187  Some-college         8.780836   \n",
      "18  54.788160           Private   89274.935830     Bachelors        13.924263   \n",
      "19  29.256894           Private  393703.488195       HS-grad        12.103050   \n",
      "20  27.013146                 ?   83089.639154       HS-grad        11.023803   \n",
      "21  57.751836           Private  354243.949596       Masters         8.335200   \n",
      "22  43.063631           Private  186176.910492          11th         6.794414   \n",
      "23  57.305224                 ?  258615.115827       HS-grad        10.001158   \n",
      "24  41.614411  Self-emp-not-inc  298483.255139  Some-college        10.123349   \n",
      "25  35.237996           Private  457210.546978     Bachelors        12.010452   \n",
      "26  21.268429           Private  241122.908166     Bachelors        12.763987   \n",
      "27  31.685349  Self-emp-not-inc  202277.002103       HS-grad        10.665601   \n",
      "28  56.741132                 ?   44151.703371       HS-grad        12.178455   \n",
      "29  43.891049           Private  125960.977633    Assoc-acdm        13.909923   \n",
      "30  24.696658           Private  154855.694524     Assoc-voc        11.206019   \n",
      "31  50.415345           Private  134250.663159       HS-grad         9.933050   \n",
      "32  28.039123           Private   64024.145768  Some-college        10.782394   \n",
      "33  42.489766         Local-gov  154382.379567    Assoc-acdm        13.538443   \n",
      "34  26.317354           Private  421197.054494          10th        11.776236   \n",
      "35  49.872644                 ?  121259.811189  Some-college        11.128295   \n",
      "36  48.529858           Private   50918.016344  Some-college        13.682139   \n",
      "37  45.948256           Private  169288.289607     Bachelors        10.408347   \n",
      "38  38.189584           Private  409156.410336  Some-college         7.074140   \n",
      "39  55.356193  Self-emp-not-inc  374143.127992  Some-college         7.002958   \n",
      "40  28.411481           Private  216056.008841          10th         7.346703   \n",
      "41  19.990320           Private  340565.734287          10th         9.873681   \n",
      "42  59.224523                 ?  341111.914362     Bachelors         8.240462   \n",
      "43  25.108918         Local-gov  160727.650070     Bachelors         8.201980   \n",
      "44  32.205421           Private  122876.201409  Some-college        13.301102   \n",
      "45  62.868421           Private  197969.155645       Masters         9.573294   \n",
      "46  54.833889           Private  366826.493209       HS-grad        11.339913   \n",
      "47  34.512708           Private  416756.374800  Some-college        11.903330   \n",
      "\n",
      "        marital-status         occupation   relationship                race  \\\n",
      "0        Never-married     Prof-specialty        Husband               White   \n",
      "1   Married-civ-spouse       Tech-support        Husband               White   \n",
      "2   Married-civ-spouse  Machine-op-inspct  Not-in-family               White   \n",
      "3        Never-married              Sales        Husband               White   \n",
      "4   Married-civ-spouse  Machine-op-inspct        Husband               White   \n",
      "5   Married-civ-spouse      Other-service  Not-in-family               White   \n",
      "6        Never-married   Transport-moving      Own-child               White   \n",
      "7            Separated       Armed-Forces        Husband               White   \n",
      "8   Married-civ-spouse                  ?      Own-child               White   \n",
      "9        Never-married    Exec-managerial  Not-in-family               White   \n",
      "10       Never-married     Prof-specialty        Husband               White   \n",
      "11  Married-civ-spouse    Exec-managerial      Own-child               White   \n",
      "12       Never-married  Machine-op-inspct      Own-child               Black   \n",
      "13  Married-civ-spouse      Other-service        Husband               White   \n",
      "14  Married-civ-spouse    Farming-fishing  Not-in-family               White   \n",
      "15       Never-married       Craft-repair        Husband               White   \n",
      "16           Separated              Sales        Husband               White   \n",
      "17       Never-married      Other-service  Not-in-family  Amer-Indian-Eskimo   \n",
      "18       Never-married       Armed-Forces  Not-in-family               White   \n",
      "19  Married-civ-spouse      Other-service  Not-in-family               White   \n",
      "20       Never-married     Prof-specialty        Husband               White   \n",
      "21       Never-married     Prof-specialty        Husband               White   \n",
      "22  Married-civ-spouse      Other-service        Husband               Black   \n",
      "23  Married-civ-spouse  Machine-op-inspct        Husband               White   \n",
      "24           Separated  Machine-op-inspct        Husband               White   \n",
      "25  Married-civ-spouse  Handlers-cleaners  Not-in-family               White   \n",
      "26  Married-civ-spouse              Sales  Not-in-family               White   \n",
      "27  Married-civ-spouse    Exec-managerial        Husband               White   \n",
      "28  Married-civ-spouse                  ?      Own-child               White   \n",
      "29  Married-civ-spouse       Adm-clerical        Husband               White   \n",
      "30       Never-married  Machine-op-inspct        Husband               White   \n",
      "31  Married-civ-spouse       Tech-support        Husband               White   \n",
      "32           Separated  Machine-op-inspct  Not-in-family               White   \n",
      "33       Never-married      Other-service        Husband               White   \n",
      "34  Married-civ-spouse    Farming-fishing        Husband               White   \n",
      "35             Widowed                  ?  Not-in-family               White   \n",
      "36       Never-married    Exec-managerial        Husband               White   \n",
      "37       Never-married  Machine-op-inspct        Husband               White   \n",
      "38       Never-married              Sales      Own-child               White   \n",
      "39       Never-married       Craft-repair        Husband               White   \n",
      "40  Married-civ-spouse    Farming-fishing        Husband               White   \n",
      "41            Divorced    Exec-managerial        Husband               White   \n",
      "42             Widowed                  ?        Husband               White   \n",
      "43             Widowed                  ?        Husband               White   \n",
      "44  Married-civ-spouse    Farming-fishing        Husband               White   \n",
      "45           Separated       Tech-support        Husband               White   \n",
      "46            Divorced  Handlers-cleaners        Husband               Black   \n",
      "47       Never-married      Other-service  Not-in-family               Black   \n",
      "\n",
      "    gender  capital-gain  capital-loss  hours-per-week      native-country  \\\n",
      "0     Male           0.0           0.0       35.418647       United-States   \n",
      "1     Male           0.0           0.0       41.948932       United-States   \n",
      "2     Male           0.0           0.0       35.472010       United-States   \n",
      "3     Male           0.0           0.0       47.099717       United-States   \n",
      "4     Male           0.0           0.0       38.717119              Mexico   \n",
      "5     Male           0.0           0.0       49.930830       United-States   \n",
      "6     Male           0.0           0.0       35.358755  Dominican-Republic   \n",
      "7     Male           0.0           0.0       49.333787       United-States   \n",
      "8     Male           0.0           0.0       49.944391       United-States   \n",
      "9     Male           0.0           0.0       39.829951       United-States   \n",
      "10  Female           0.0           0.0       48.508708       United-States   \n",
      "11  Female           0.0           0.0       49.482209       United-States   \n",
      "12    Male           0.0           0.0       43.718363       United-States   \n",
      "13    Male           0.0           0.0       36.025691       United-States   \n",
      "14  Female           0.0           0.0       42.281525       United-States   \n",
      "15    Male           0.0           0.0       35.006012              Mexico   \n",
      "16    Male           0.0           0.0       36.621907       United-States   \n",
      "17    Male           0.0           0.0       47.026526       United-States   \n",
      "18    Male           0.0           0.0       41.865123       United-States   \n",
      "19    Male           0.0           0.0       37.965987       United-States   \n",
      "20    Male           0.0           0.0       45.208478       United-States   \n",
      "21    Male           0.0           0.0       39.965574       United-States   \n",
      "22    Male           0.0           0.0       41.561764       United-States   \n",
      "23    Male           0.0           0.0       47.777140       United-States   \n",
      "24    Male           0.0           0.0       35.120535       United-States   \n",
      "25    Male           0.0           0.0       35.000000       United-States   \n",
      "26  Female           0.0           0.0       39.569193       United-States   \n",
      "27    Male           0.0           0.0       49.586488       United-States   \n",
      "28    Male           0.0           0.0       47.110883       United-States   \n",
      "29    Male           0.0           0.0       49.688702       United-States   \n",
      "30    Male           0.0           0.0       48.188997       United-States   \n",
      "31    Male           0.0           0.0       42.889808       United-States   \n",
      "32  Female           0.0           0.0       47.488109       United-States   \n",
      "33    Male           0.0           0.0       46.508263       United-States   \n",
      "34    Male           0.0           0.0       35.726984       United-States   \n",
      "35    Male           0.0           0.0       35.437095       United-States   \n",
      "36    Male           0.0           0.0       39.561116       United-States   \n",
      "37    Male           0.0           0.0       38.464044       United-States   \n",
      "38    Male           0.0           0.0       36.091635       United-States   \n",
      "39  Female           0.0           0.0       35.653133       United-States   \n",
      "40    Male           0.0           0.0       35.191929       United-States   \n",
      "41    Male           0.0           0.0       35.079345       United-States   \n",
      "42    Male           0.0           0.0       49.759107       United-States   \n",
      "43    Male           0.0           0.0       49.722047       United-States   \n",
      "44    Male           0.0           0.0       45.400262       United-States   \n",
      "45  Female           0.0           0.0       45.839833              Mexico   \n",
      "46    Male           0.0           0.0       49.989079       United-States   \n",
      "47  Female           0.0           0.0       43.949570       United-States   \n",
      "\n",
      "   income  \n",
      "0   <=50K  \n",
      "1   <=50K  \n",
      "2   <=50K  \n",
      "3   <=50K  \n",
      "4   <=50K  \n",
      "5   <=50K  \n",
      "6   <=50K  \n",
      "7   <=50K  \n",
      "8   <=50K  \n",
      "9   <=50K  \n",
      "10  <=50K  \n",
      "11  <=50K  \n",
      "12  <=50K  \n",
      "13  <=50K  \n",
      "14   >50K  \n",
      "15  <=50K  \n",
      "16  <=50K  \n",
      "17  <=50K  \n",
      "18  <=50K  \n",
      "19  <=50K  \n",
      "20  <=50K  \n",
      "21  <=50K  \n",
      "22   >50K  \n",
      "23  <=50K  \n",
      "24  <=50K  \n",
      "25  <=50K  \n",
      "26  <=50K  \n",
      "27  <=50K  \n",
      "28  <=50K  \n",
      "29   >50K  \n",
      "30  <=50K  \n",
      "31   >50K  \n",
      "32  <=50K  \n",
      "33   >50K  \n",
      "34   >50K  \n",
      "35  <=50K  \n",
      "36   >50K  \n",
      "37  <=50K  \n",
      "38  <=50K  \n",
      "39  <=50K  \n",
      "40  <=50K  \n",
      "41  <=50K  \n",
      "42  <=50K  \n",
      "43   >50K  \n",
      "44   >50K  \n",
      "45  <=50K  \n",
      "46  <=50K  \n",
      "47  <=50K  }\n"
     ]
    }
   ],
   "source": [
    "from petsard.operator import ReporterOperator\n",
    "\n",
    "# 測試報告器 - Save Data\n",
    "reporter_op_data = ReporterOperator(\n",
    "    config={\n",
    "        \"method\": \"save_data\",\n",
    "        \"source\": \"Postprocessor\",\n",
    "    }\n",
    ")\n",
    "\n",
    "report_data_input = {\"data\": {(\"Postprocessor\", \"exp1\"): satisfy_data}}\n",
    "\n",
    "reporter_op_data.run(input=report_data_input)\n",
    "\n",
    "report_result_data = reporter_op_data.get_result()\n",
    "\n",
    "print(f\"Save data report result: {report_result_data}\")"
   ]
  },
  {
   "cell_type": "code",
   "execution_count": 19,
   "metadata": {},
   "outputs": [
    {
     "name": "stdout",
     "output_type": "stream",
     "text": [
      "Now is petsard[Report]_[global] save to csv...\n",
      "Save report result: {'[global]':       full_expt_name Evaluator  eval1_row_count  eval1_col_count  \\\n",
      "0  Evaluator[global]  [global]               48               15   \n",
      "\n",
      "   eval1_na_count  \n",
      "0               0  }\n"
     ]
    }
   ],
   "source": [
    "# 測試報告器 - Save Report\n",
    "reporter_op_report = ReporterOperator(\n",
    "    config={\n",
    "        \"method\": \"save_report\",\n",
    "        \"granularity\": \"global\",\n",
    "    }\n",
    ")\n",
    "\n",
    "report_report_input = {\n",
    "    \"data\": {\n",
    "        (\"Evaluator\", \"eval1_[global]\"): desc_result[\"global\"],\n",
    "    }\n",
    "}\n",
    "\n",
    "reporter_op_report.run(input=report_report_input)\n",
    "\n",
    "report_result_report = reporter_op_report.get_result()\n",
    "\n",
    "print(f\"Save report result: {report_result_report}\")"
   ]
  },
  {
   "cell_type": "markdown",
   "metadata": {},
   "source": [
    "## 總結\n",
    "\n",
    "這個 notebook 展示了如何使用各個 Operator 類別來執行 PETsARD 的功能，按照 test.ipynb 的設定進行調整：\n",
    "\n",
    "1. **LoaderOperator**: 載入資料和元資料\n",
    "2. **SplitterOperator**: 分割資料為訓練集和測試集\n",
    "3. **PreprocessorOperator**: 資料預處理（缺失值、離群值、編碼、縮放）\n",
    "4. **SynthesizerOperator**: 合成資料\n",
    "5. **PostprocessorOperator**: 後處理合成資料\n",
    "6. **ConstrainerOperator**: 應用資料約束\n",
    "7. **EvaluatorOperator**: 評估合成資料品質\n",
    "8. **DescriberOperator**: 描述資料特性\n",
    "9. **ReporterOperator**: 生成報告\n",
    "\n",
    "每個 Operator 都遵循相同的模式：\n",
    "- 使用配置初始化\n",
    "- 準備輸入資料\n",
    "- 執行 `run()` 方法\n",
    "- 使用 `get_result()` 取得結果\n",
    "- 使用 `get_metadata()` 取得元資料（如果適用）\n",
    "\n",
    "這種設計讓每個模組都可以獨立測試，不需要依賴 Status 物件。"
   ]
  }
 ],
 "metadata": {
  "kernelspec": {
   "display_name": ".venv",
   "language": "python",
   "name": "python3"
  },
  "language_info": {
   "codemirror_mode": {
    "name": "ipython",
    "version": 3
   },
   "file_extension": ".py",
   "mimetype": "text/x-python",
   "name": "python",
   "nbconvert_exporter": "python",
   "pygments_lexer": "ipython3",
   "version": "3.11.12"
  }
 },
 "nbformat": 4,
 "nbformat_minor": 4
}
