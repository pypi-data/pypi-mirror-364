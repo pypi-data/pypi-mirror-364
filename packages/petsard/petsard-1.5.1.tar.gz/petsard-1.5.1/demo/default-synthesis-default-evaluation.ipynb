{
 "cells": [
  {
   "cell_type": "markdown",
   "metadata": {},
   "source": [
    "# Environment setting\n",
    "環境設定"
   ]
  },
  {
   "cell_type": "code",
   "execution_count": 14,
   "metadata": {},
   "outputs": [],
   "source": [
    "import os\n",
    "import requests\n",
    "from pathlib import Path\n",
    "\n",
    "\n",
    "# determine branch, default is main\n",
    "branch = \"main\"\n",
    "\n",
    "# Check if running in Google Colab\n",
    "is_colab = \"COLAB_GPU\" in os.environ\n",
    "\n",
    "if is_colab:\n",
    "    # Download the utils.py file from GitHub\n",
    "    utils_url = (\n",
    "        f\"https://raw.githubusercontent.com/nics-tw/petsard/{branch}/demo/utils.py\"\n",
    "    )\n",
    "    response = requests.get(utils_url)\n",
    "\n",
    "    if response.status_code == 200:\n",
    "        # Save the utils.py file\n",
    "        with open(\"utils.py\", \"w\") as f:\n",
    "            f.write(response.text)\n",
    "\n",
    "        # Create an empty __init__.py\n",
    "        Path(\"__init__.py\").touch()\n",
    "    else:\n",
    "        raise RuntimeError(\n",
    "            f\"Failed to download utils.py. Status code: {response.status_code}\"\n",
    "        )"
   ]
  },
  {
   "cell_type": "code",
   "execution_count": null,
   "metadata": {},
   "outputs": [],
   "source": [
    "# Now import and run the setup\n",
    "from utils import (\n",
    "    get_yaml_path,\n",
    "    setup_environment,\n",
    ")\n",
    "\n",
    "\n",
    "setup_environment(\n",
    "    is_colab,\n",
    "    branch,\n",
    "    benchmark_data=[\n",
    "        \"adult-income\",\n",
    "    ],\n",
    ")"
   ]
  },
  {
   "cell_type": "code",
   "execution_count": 16,
   "metadata": {},
   "outputs": [],
   "source": [
    "from petsard import Executor"
   ]
  },
  {
   "cell_type": "markdown",
   "metadata": {},
   "source": [
    "# YAML Configuration for PETsARD\n",
    "PETsARD 的 YAML 設定"
   ]
  },
  {
   "cell_type": "markdown",
   "metadata": {},
   "source": [
    "## Default Synthesis and Default Evaluation\n",
    "預設合成與預設評測"
   ]
  },
  {
   "cell_type": "code",
   "execution_count": 17,
   "metadata": {},
   "outputs": [
    {
     "name": "stdout",
     "output_type": "stream",
     "text": [
      "Configuration content:\n",
      "---\n",
      "Loader:\n",
      "  data:\n",
      "    filepath: 'benchmark/adult-income.csv'\n",
      "Splitter:\n",
      "  demo:\n",
      "    num_samples: 1\n",
      "    train_split_ratio: 0.8\n",
      "Preprocessor:\n",
      "  demo:\n",
      "    method: 'default'\n",
      "Synthesizer:\n",
      "  demo:\n",
      "    method: 'default'\n",
      "Postprocessor:\n",
      "  demo:\n",
      "    method: 'default'\n",
      "Evaluator:\n",
      "  demo-diagnostic:\n",
      "    method: 'sdmetrics-diagnosticreport'\n",
      "  demo-quality:\n",
      "    method: 'sdmetrics-qualityreport'\n",
      "  demo-singlingout:\n",
      "    method: 'anonymeter-singlingout'\n",
      "  demo-linkability:\n",
      "    method: 'anonymeter-linkability'\n",
      "    aux_cols:\n",
      "      -\n",
      "        - 'age'\n",
      "        - 'marital-status'\n",
      "        - 'relationship'\n",
      "        - 'gender'\n",
      "      -\n",
      "        - 'workclass'\n",
      "        - 'educational-num'\n",
      "        - 'occupation'\n",
      "        - 'income'\n",
      "  demo-inference:\n",
      "    method: 'anonymeter-inference'\n",
      "    secret: 'income'\n",
      "  demo-classification:\n",
      "    method: 'mlutility-classification'\n",
      "    target: 'income'\n",
      "Reporter:\n",
      "  output:\n",
      "    method: 'save_data'\n",
      "    source: 'Synthesizer'\n",
      "  save_report_global:\n",
      "    method: 'save_report'\n",
      "    granularity: 'global'\n",
      "...\n"
     ]
    }
   ],
   "source": [
    "yaml_file_case: str = \"default-synthesis-default-evaluation.yaml\"\n",
    "\n",
    "yaml_path_case: str = get_yaml_path(\n",
    "    is_colab=is_colab,\n",
    "    yaml_file=yaml_file_case,\n",
    "    branch=branch,\n",
    ")"
   ]
  },
  {
   "cell_type": "markdown",
   "metadata": {},
   "source": [
    "### Execution and Result\n",
    "執行與結果"
   ]
  },
  {
   "cell_type": "code",
   "execution_count": 18,
   "metadata": {},
   "outputs": [
    {
     "name": "stdout",
     "output_type": "stream",
     "text": [
      "Generating report ...\n",
      "\n",
      "(1/2) Evaluating Data Validity: |██████████| 15/15 [00:00<00:00, 1154.23it/s]|\n",
      "Data Validity Score: 100.0%\n",
      "\n",
      "(2/2) Evaluating Data Structure: |██████████| 1/1 [00:00<00:00, 1328.15it/s]|\n",
      "Data Structure Score: 100.0%\n",
      "\n",
      "Overall Score (Average): 100.0%\n",
      "\n",
      "Now is petsard_Loader[data]_Splitter[demo_[1-1]]_Preprocessor[demo]_Synthesizer[demo] save to csv...\n",
      "Now is petsard[Report]_[global] save to csv...\n",
      "Generating report ...\n",
      "\n",
      "(1/2) Evaluating Column Shapes: |██████████| 15/15 [00:00<00:00, 132.11it/s]|\n",
      "Column Shapes Score: 68.53%\n",
      "\n",
      "(2/2) Evaluating Column Pair Trends: |██████████| 105/105 [00:00<00:00, 332.24it/s]|\n",
      "Column Pair Trends Score: 55.3%\n",
      "\n",
      "Overall Score (Average): 61.91%\n",
      "\n",
      "Now is petsard_Loader[data]_Splitter[demo_[1-1]]_Preprocessor[demo]_Synthesizer[demo] save to csv...\n",
      "Now is petsard[Report]_[global] save to csv...\n"
     ]
    },
    {
     "name": "stderr",
     "output_type": "stream",
     "text": [
      "Found 1659 failed queries out of 2000. Check DEBUG messages for more details.\n",
      "Reached maximum number of attempts 500000 when generating singling out queries. Returning 103 instead of the requested 2000.To avoid this, increase the number of attempts or set it to ``None`` to disable The limitation entirely.\n",
      "Attack `multivariate` could generate only 103 singling out queries out of the requested 2000. This can probably lead to an underestimate of the singling out risk.\n"
     ]
    },
    {
     "name": "stdout",
     "output_type": "stream",
     "text": [
      "Now is petsard_Loader[data]_Splitter[demo_[1-1]]_Preprocessor[demo]_Synthesizer[demo] save to csv...\n",
      "Now is petsard[Report]_[global] save to csv...\n",
      "Now is petsard_Loader[data]_Splitter[demo_[1-1]]_Preprocessor[demo]_Synthesizer[demo] save to csv...\n",
      "Now is petsard[Report]_[global] save to csv...\n",
      "Now is petsard_Loader[data]_Splitter[demo_[1-1]]_Preprocessor[demo]_Synthesizer[demo] save to csv...\n",
      "Now is petsard[Report]_[global] save to csv...\n",
      "Now is petsard_Loader[data]_Splitter[demo_[1-1]]_Preprocessor[demo]_Synthesizer[demo] save to csv...\n",
      "Now is petsard[Report]_[global] save to csv...\n"
     ]
    }
   ],
   "source": [
    "exec_case = Executor(config=yaml_path_case)\n",
    "exec_case.run()"
   ]
  },
  {
   "cell_type": "code",
   "execution_count": 19,
   "metadata": {},
   "outputs": [
    {
     "data": {
      "text/plain": [
       "{'Loader[data]_Splitter[demo_[1-1]]_Preprocessor[demo]_Synthesizer[demo]':        age     workclass  fnlwgt     education  educational-num  \\\n",
       " 0       38             ?  152837  Some-college               12   \n",
       " 1       64             ?  160293          11th               10   \n",
       " 2       25  Self-emp-inc  255388          12th                8   \n",
       " 3       22     State-gov  145029  Some-college               12   \n",
       " 4       25     Local-gov  208350  Some-college                5   \n",
       " ...    ...           ...     ...           ...              ...   \n",
       " 39068   33     Local-gov  193139  Some-college               13   \n",
       " 39069   25     Local-gov  370843  Some-college               12   \n",
       " 39070   59  Self-emp-inc  100188  Some-college                6   \n",
       " 39071   71     Local-gov   67851     Bachelors                8   \n",
       " 39072   47             ?  112905     Preschool                9   \n",
       " \n",
       "            marital-status         occupation    relationship   race  gender  \\\n",
       " 0      Married-civ-spouse  Machine-op-inspct   Not-in-family  White    Male   \n",
       " 1      Married-civ-spouse       Craft-repair            Wife  White  Female   \n",
       " 2       Married-AF-spouse     Prof-specialty   Not-in-family  White    Male   \n",
       " 3      Married-civ-spouse       Craft-repair   Not-in-family  White    Male   \n",
       " 4      Married-civ-spouse              Sales       Unmarried  White    Male   \n",
       " ...                   ...                ...             ...    ...     ...   \n",
       " 39068  Married-civ-spouse     Prof-specialty            Wife  White  Female   \n",
       " 39069  Married-civ-spouse              Sales  Other-relative  White    Male   \n",
       " 39070  Married-civ-spouse                  ?   Not-in-family  White    Male   \n",
       " 39071  Married-civ-spouse      Other-service   Not-in-family  White    Male   \n",
       " 39072  Married-civ-spouse  Handlers-cleaners   Not-in-family  White    Male   \n",
       " \n",
       "        capital-gain  capital-loss  hours-per-week      native-country income  \n",
       " 0                 0           955              35                   ?   >50K  \n",
       " 1                 0           245              33              Mexico   >50K  \n",
       " 2                 0           772              43                   ?  <=50K  \n",
       " 3                 0           809              36                   ?   >50K  \n",
       " 4                 4             3              55  Holand-Netherlands  <=50K  \n",
       " ...             ...           ...             ...                 ...    ...  \n",
       " 39068             0          4075              46                   ?  <=50K  \n",
       " 39069           453             0              42                   ?   >50K  \n",
       " 39070             6           439              52                   ?  <=50K  \n",
       " 39071             0            36              37                   ?  <=50K  \n",
       " 39072             0             0              36                   ?  <=50K  \n",
       " \n",
       " [39073 rows x 15 columns],\n",
       " '[global]':                                       full_expt_name Loader    Splitter  \\\n",
       " 0  Loader[data]_Splitter[demo_[1-1]]_Preprocessor...   data  demo_[1-1]   \n",
       " \n",
       "   Preprocessor Synthesizer Postprocessor Evaluator  demo-diagnostic_Score  \\\n",
       " 0         demo        demo          demo  [global]                    1.0   \n",
       " \n",
       "    demo-diagnostic_Data Validity  demo-diagnostic_Data Structure  ...  \\\n",
       " 0                            NaN                             NaN  ...   \n",
       " \n",
       "    demo-inference_attack_rate_err  demo-inference_baseline_rate  \\\n",
       " 0                            0.02                           0.6   \n",
       " \n",
       "    demo-inference_baseline_rate_err  demo-inference_control_rate  \\\n",
       " 0                              0.02                         0.66   \n",
       " \n",
       "    demo-inference_control_rate_err  demo-classification_ori_mean  \\\n",
       " 0                             0.02                          0.86   \n",
       " \n",
       "    demo-classification_ori_std  demo-classification_syn_mean  \\\n",
       " 0                         0.01                          0.79   \n",
       " \n",
       "    demo-classification_syn_std  demo-classification_diff  \n",
       " 0                         0.05                     -0.07  \n",
       " \n",
       " [1 rows x 45 columns]}"
      ]
     },
     "execution_count": 19,
     "metadata": {},
     "output_type": "execute_result"
    }
   ],
   "source": [
    "exec_case.status.get_report()"
   ]
  },
  {
   "cell_type": "code",
   "execution_count": 20,
   "metadata": {},
   "outputs": [
    {
     "data": {
      "text/plain": [
       "{'global':    ori_mean  ori_std  syn_mean  syn_std  diff\n",
       " 0      0.86     0.01      0.79     0.05 -0.07,\n",
       " 'details': {'ori': {'logistic_regression': 0.8567918927218753,\n",
       "   'svc': 0.8551540587572934,\n",
       "   'random_forest': 0.8601699252738254,\n",
       "   'gradient_boosting': 0.8690756474562391},\n",
       "  'syn': {'logistic_regression': 0.7058040741119869,\n",
       "   'svc': 0.8155389497389702,\n",
       "   'random_forest': 0.8115467294503019,\n",
       "   'gradient_boosting': 0.8205548162555021}}}"
      ]
     },
     "execution_count": 20,
     "metadata": {},
     "output_type": "execute_result"
    }
   ],
   "source": [
    "exec_case.status.status[\"Evaluator\"][\"operator\"].get_result()"
   ]
  },
  {
   "cell_type": "code",
   "execution_count": 21,
   "metadata": {},
   "outputs": [
    {
     "data": {
      "text/html": [
       "<div>\n",
       "<style scoped>\n",
       "    .dataframe tbody tr th:only-of-type {\n",
       "        vertical-align: middle;\n",
       "    }\n",
       "\n",
       "    .dataframe tbody tr th {\n",
       "        vertical-align: top;\n",
       "    }\n",
       "\n",
       "    .dataframe thead th {\n",
       "        text-align: right;\n",
       "    }\n",
       "</style>\n",
       "<table border=\"1\" class=\"dataframe\">\n",
       "  <thead>\n",
       "    <tr style=\"text-align: right;\">\n",
       "      <th></th>\n",
       "      <th>full_expt_name</th>\n",
       "      <th>Loader</th>\n",
       "      <th>Splitter</th>\n",
       "      <th>Preprocessor</th>\n",
       "      <th>Synthesizer</th>\n",
       "      <th>Postprocessor</th>\n",
       "      <th>Evaluator</th>\n",
       "      <th>demo-diagnostic_Score</th>\n",
       "      <th>demo-diagnostic_Data Validity</th>\n",
       "      <th>demo-diagnostic_Data Structure</th>\n",
       "      <th>...</th>\n",
       "      <th>demo-inference_attack_rate_err</th>\n",
       "      <th>demo-inference_baseline_rate</th>\n",
       "      <th>demo-inference_baseline_rate_err</th>\n",
       "      <th>demo-inference_control_rate</th>\n",
       "      <th>demo-inference_control_rate_err</th>\n",
       "      <th>demo-classification_ori_mean</th>\n",
       "      <th>demo-classification_ori_std</th>\n",
       "      <th>demo-classification_syn_mean</th>\n",
       "      <th>demo-classification_syn_std</th>\n",
       "      <th>demo-classification_diff</th>\n",
       "    </tr>\n",
       "  </thead>\n",
       "  <tbody>\n",
       "    <tr>\n",
       "      <th>0</th>\n",
       "      <td>Loader[data]_Splitter[demo_[1-1]]_Preprocessor...</td>\n",
       "      <td>data</td>\n",
       "      <td>demo_[1-1]</td>\n",
       "      <td>demo</td>\n",
       "      <td>demo</td>\n",
       "      <td>demo</td>\n",
       "      <td>[global]</td>\n",
       "      <td>1.0</td>\n",
       "      <td>NaN</td>\n",
       "      <td>NaN</td>\n",
       "      <td>...</td>\n",
       "      <td>0.02</td>\n",
       "      <td>0.6</td>\n",
       "      <td>0.02</td>\n",
       "      <td>0.66</td>\n",
       "      <td>0.02</td>\n",
       "      <td>0.86</td>\n",
       "      <td>0.01</td>\n",
       "      <td>0.79</td>\n",
       "      <td>0.05</td>\n",
       "      <td>-0.07</td>\n",
       "    </tr>\n",
       "  </tbody>\n",
       "</table>\n",
       "<p>1 rows × 45 columns</p>\n",
       "</div>"
      ],
      "text/plain": [
       "                                      full_expt_name Loader    Splitter  \\\n",
       "0  Loader[data]_Splitter[demo_[1-1]]_Preprocessor...   data  demo_[1-1]   \n",
       "\n",
       "  Preprocessor Synthesizer Postprocessor Evaluator  demo-diagnostic_Score  \\\n",
       "0         demo        demo          demo  [global]                    1.0   \n",
       "\n",
       "   demo-diagnostic_Data Validity  demo-diagnostic_Data Structure  ...  \\\n",
       "0                            NaN                             NaN  ...   \n",
       "\n",
       "   demo-inference_attack_rate_err  demo-inference_baseline_rate  \\\n",
       "0                            0.02                           0.6   \n",
       "\n",
       "   demo-inference_baseline_rate_err  demo-inference_control_rate  \\\n",
       "0                              0.02                         0.66   \n",
       "\n",
       "   demo-inference_control_rate_err  demo-classification_ori_mean  \\\n",
       "0                             0.02                          0.86   \n",
       "\n",
       "   demo-classification_ori_std  demo-classification_syn_mean  \\\n",
       "0                         0.01                          0.79   \n",
       "\n",
       "   demo-classification_syn_std  demo-classification_diff  \n",
       "0                         0.05                     -0.07  \n",
       "\n",
       "[1 rows x 45 columns]"
      ]
     },
     "execution_count": 21,
     "metadata": {},
     "output_type": "execute_result"
    }
   ],
   "source": [
    "exec_case.get_result()[\n",
    "    \"Loader[data]_Splitter[demo_[1-1]]_Preprocessor[demo]_Synthesizer[demo]_Postprocessor[demo]_Evaluator[demo-classification]_Reporter[save_report_global]\"\n",
    "][\"[global]\"]"
   ]
  }
 ],
 "metadata": {
  "kernelspec": {
   "display_name": ".venv",
   "language": "python",
   "name": "python3"
  },
  "language_info": {
   "codemirror_mode": {
    "name": "ipython",
    "version": 3
   },
   "file_extension": ".py",
   "mimetype": "text/x-python",
   "name": "python",
   "nbconvert_exporter": "python",
   "pygments_lexer": "ipython3",
   "version": "3.11.12"
  }
 },
 "nbformat": 4,
 "nbformat_minor": 2
}
