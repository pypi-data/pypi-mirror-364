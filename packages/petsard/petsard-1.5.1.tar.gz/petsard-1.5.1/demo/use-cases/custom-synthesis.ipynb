{
 "cells": [
  {
   "cell_type": "markdown",
   "metadata": {},
   "source": [
    "# Environment setting\n",
    "環境設定"
   ]
  },
  {
   "cell_type": "code",
   "execution_count": 1,
   "metadata": {},
   "outputs": [],
   "source": [
    "import os\n",
    "import requests\n",
    "import sys\n",
    "from pathlib import Path\n",
    "from pprint import pprint\n",
    "from typing import Optional\n",
    "\n",
    "import pandas as pd\n",
    "\n",
    "\n",
    "# determine branch, default is main\n",
    "branch: str = \"main\"\n",
    "\n",
    "# determine subfolder, default is None (petsard/demo/)\n",
    "subfolder: Optional[str] = \"use-cases\"\n",
    "\n",
    "\n",
    "# Check if running in Google Colab, if so, download the utils.py file from GitHub\n",
    "is_colab: bool = \"COLAB_GPU\" in os.environ\n",
    "if is_colab:\n",
    "    utils_url = (\n",
    "        f\"https://raw.githubusercontent.com/nics-tw/petsard/{branch}/demo/utils.py\"\n",
    "    )\n",
    "    response = requests.get(utils_url)\n",
    "\n",
    "    if response.status_code == 200:\n",
    "        with open(\"utils.py\", \"w\") as f:\n",
    "            f.write(response.text)\n",
    "\n",
    "        Path(\"__init__.py\").touch()\n",
    "    else:\n",
    "        raise RuntimeError(\n",
    "            f\"Failed to download utils.py. Status code: {response.status_code}\"\n",
    "        )\n",
    "\n",
    "\n",
    "# If not colab, and also contains subfolderl, add the correct path of util.py\n",
    "else:\n",
    "    if subfolder:\n",
    "        sys.path.append(os.path.dirname(os.getcwd()))"
   ]
  },
  {
   "cell_type": "code",
   "execution_count": null,
   "metadata": {},
   "outputs": [],
   "source": [
    "# Now import and run the setup\n",
    "from utils import (\n",
    "    get_yaml_path,\n",
    "    setup_environment,\n",
    ")\n",
    "\n",
    "\n",
    "setup_environment(\n",
    "    is_colab,\n",
    "    branch,\n",
    "    benchmark_data=[\n",
    "        \"adult-income\",\n",
    "    ],\n",
    "    example_files=[\n",
    "        \"demo/custom-evaluation.py\",\n",
    "    ],\n",
    "    subfolder=subfolder,\n",
    ")"
   ]
  },
  {
   "cell_type": "code",
   "execution_count": 3,
   "metadata": {},
   "outputs": [],
   "source": [
    "from petsard import Executor"
   ]
  },
  {
   "cell_type": "markdown",
   "metadata": {},
   "source": [
    "# YAML Configuration for PETsARD\n",
    "PETsARD 的 YAML 設定"
   ]
  },
  {
   "cell_type": "markdown",
   "metadata": {},
   "source": [
    "## Custom Evaluation\n",
    "自定義評測"
   ]
  },
  {
   "cell_type": "code",
   "execution_count": 4,
   "metadata": {},
   "outputs": [
    {
     "name": "stdout",
     "output_type": "stream",
     "text": [
      "Configuration content:\n",
      "---\n",
      "Loader:\n",
      "  data:\n",
      "    filepath: 'benchmark://adult-income'\n",
      "Preprocessor:\n",
      "  demo:\n",
      "    method: 'default'\n",
      "Synthesizer:\n",
      "  custom:\n",
      "    method: 'custom_method'\n",
      "    module_path: 'custom-synthesis.py'  # Path to your custom synthesizer\n",
      "    class_name: 'MySynthesizer_Shuffle'  # Synthesizer class name\n",
      "Postprocessor:\n",
      "  demo:\n",
      "    method: 'default'\n",
      "Evaluator:\n",
      "  demo:\n",
      "    method: 'default'\n",
      "Reporter:\n",
      "  save_report_global:\n",
      "    method: 'save_report'\n",
      "    granularity: 'global'\n",
      "...\n"
     ]
    }
   ],
   "source": [
    "yaml_file_case: str = \"custom-synthesis.yaml\"\n",
    "\n",
    "yaml_path_case: str = get_yaml_path(\n",
    "    is_colab=is_colab,\n",
    "    yaml_file=yaml_file_case,\n",
    "    branch=branch,\n",
    "    subfolder=subfolder,\n",
    ")"
   ]
  },
  {
   "cell_type": "markdown",
   "metadata": {},
   "source": [
    "### Execution and Result\n",
    "執行與結果"
   ]
  },
  {
   "cell_type": "code",
   "execution_count": 5,
   "metadata": {},
   "outputs": [
    {
     "name": "stdout",
     "output_type": "stream",
     "text": [
      "Generating report ...\n",
      "\n",
      "(1/2) Evaluating Column Shapes: |██████████| 15/15 [00:00<00:00, 108.29it/s]|\n",
      "Column Shapes Score: 95.5%\n",
      "\n",
      "(2/2) Evaluating Column Pair Trends: |██████████| 105/105 [00:00<00:00, 372.25it/s]|\n",
      "Column Pair Trends Score: 59.01%\n",
      "\n",
      "Overall Score (Average): 77.25%\n",
      "\n",
      "Now is petsard[Report]_[global] save to csv...\n"
     ]
    }
   ],
   "source": [
    "# Initialize and run executor\n",
    "exec_case = Executor(config=yaml_path_case)\n",
    "exec_case.run()"
   ]
  },
  {
   "cell_type": "code",
   "execution_count": 6,
   "metadata": {},
   "outputs": [
    {
     "data": {
      "text/html": [
       "<div>\n",
       "<style scoped>\n",
       "    .dataframe tbody tr th:only-of-type {\n",
       "        vertical-align: middle;\n",
       "    }\n",
       "\n",
       "    .dataframe tbody tr th {\n",
       "        vertical-align: top;\n",
       "    }\n",
       "\n",
       "    .dataframe thead th {\n",
       "        text-align: right;\n",
       "    }\n",
       "</style>\n",
       "<table border=\"1\" class=\"dataframe\">\n",
       "  <thead>\n",
       "    <tr style=\"text-align: right;\">\n",
       "      <th></th>\n",
       "      <th>full_expt_name</th>\n",
       "      <th>Loader</th>\n",
       "      <th>Preprocessor</th>\n",
       "      <th>Synthesizer</th>\n",
       "      <th>Postprocessor</th>\n",
       "      <th>Evaluator</th>\n",
       "      <th>demo_Score</th>\n",
       "      <th>demo_Column Shapes</th>\n",
       "      <th>demo_Column Pair Trends</th>\n",
       "    </tr>\n",
       "  </thead>\n",
       "  <tbody>\n",
       "    <tr>\n",
       "      <th>result</th>\n",
       "      <td>Loader[data]_Preprocessor[demo]_Synthesizer[cu...</td>\n",
       "      <td>data</td>\n",
       "      <td>demo</td>\n",
       "      <td>custom</td>\n",
       "      <td>demo</td>\n",
       "      <td>[global]</td>\n",
       "      <td>0.77</td>\n",
       "      <td>NaN</td>\n",
       "      <td>NaN</td>\n",
       "    </tr>\n",
       "  </tbody>\n",
       "</table>\n",
       "</div>"
      ],
      "text/plain": [
       "                                           full_expt_name Loader Preprocessor  \\\n",
       "result  Loader[data]_Preprocessor[demo]_Synthesizer[cu...   data         demo   \n",
       "\n",
       "       Synthesizer Postprocessor Evaluator  demo_Score  demo_Column Shapes  \\\n",
       "result      custom          demo  [global]        0.77                 NaN   \n",
       "\n",
       "        demo_Column Pair Trends  \n",
       "result                      NaN  "
      ]
     },
     "execution_count": 6,
     "metadata": {},
     "output_type": "execute_result"
    }
   ],
   "source": [
    "exec_case.get_result()[\n",
    "    \"Loader[data]_Preprocessor[demo]_Synthesizer[custom]_Postprocessor[demo]_Evaluator[demo]_Reporter[save_report_global]\"\n",
    "][\"[global]\"]"
   ]
  }
 ],
 "metadata": {
  "kernelspec": {
   "display_name": ".venv",
   "language": "python",
   "name": "python3"
  },
  "language_info": {
   "codemirror_mode": {
    "name": "ipython",
    "version": 3
   },
   "file_extension": ".py",
   "mimetype": "text/x-python",
   "name": "python",
   "nbconvert_exporter": "python",
   "pygments_lexer": "ipython3",
   "version": "3.11.12"
  }
 },
 "nbformat": 4,
 "nbformat_minor": 2
}
