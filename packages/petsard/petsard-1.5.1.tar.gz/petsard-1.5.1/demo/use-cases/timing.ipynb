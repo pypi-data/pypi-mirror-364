{
 "cells": [
  {
   "cell_type": "markdown",
   "metadata": {},
   "source": [
    "# Environment setting\n",
    "環境設定"
   ]
  },
  {
   "cell_type": "code",
   "execution_count": 1,
   "metadata": {},
   "outputs": [],
   "source": [
    "import os\n",
    "import requests\n",
    "import sys\n",
    "from pathlib import Path\n",
    "from pprint import pprint\n",
    "from typing import Optional\n",
    "\n",
    "import pandas as pd\n",
    "\n",
    "\n",
    "# determine branch, default is main\n",
    "branch: str = \"main\"\n",
    "\n",
    "# determine subfolder, default is None (petsard/demo/)\n",
    "subfolder: Optional[str] = \"use-cases\"\n",
    "\n",
    "\n",
    "# Check if running in Google Colab, if so, download the utils.py file from GitHub\n",
    "is_colab: bool = \"COLAB_GPU\" in os.environ\n",
    "if is_colab:\n",
    "    utils_url = (\n",
    "        f\"https://raw.githubusercontent.com/nics-tw/petsard/{branch}/demo/utils.py\"\n",
    "    )\n",
    "    response = requests.get(utils_url)\n",
    "\n",
    "    if response.status_code == 200:\n",
    "        with open(\"utils.py\", \"w\") as f:\n",
    "            f.write(response.text)\n",
    "\n",
    "        Path(\"__init__.py\").touch()\n",
    "    else:\n",
    "        raise RuntimeError(\n",
    "            f\"Failed to download utils.py. Status code: {response.status_code}\"\n",
    "        )\n",
    "\n",
    "\n",
    "# If not colab, and also contains subfolderl, add the correct path of util.py\n",
    "else:\n",
    "    if subfolder:\n",
    "        sys.path.append(os.path.dirname(os.getcwd()))"
   ]
  },
  {
   "cell_type": "code",
   "execution_count": null,
   "metadata": {},
   "outputs": [],
   "source": [
    "# Now import and run the setup\n",
    "from utils import (\n",
    "    get_yaml_path,\n",
    "    setup_environment,\n",
    ")\n",
    "\n",
    "\n",
    "setup_environment(\n",
    "    is_colab,\n",
    "    branch,\n",
    "    benchmark_data=[\n",
    "        \"adult-income\",\n",
    "    ],\n",
    "    subfolder=subfolder,\n",
    ")"
   ]
  },
  {
   "cell_type": "code",
   "execution_count": 3,
   "metadata": {},
   "outputs": [],
   "source": [
    "from petsard import Executor"
   ]
  },
  {
   "cell_type": "markdown",
   "metadata": {},
   "source": [
    "# YAML Configuration for PETsARD\n",
    "PETsARD 的 YAML 設定"
   ]
  },
  {
   "cell_type": "markdown",
   "metadata": {},
   "source": [
    "## Timing\n",
    "運作計時"
   ]
  },
  {
   "cell_type": "code",
   "execution_count": 4,
   "metadata": {},
   "outputs": [
    {
     "name": "stdout",
     "output_type": "stream",
     "text": [
      "Configuration content:\n",
      "---\n",
      "Loader:\n",
      "  data:\n",
      "    filepath: 'benchmark/adult-income.csv'\n",
      "Synthesizer:\n",
      "  default:\n",
      "    method: 'default'\n",
      "Evaluator:\n",
      "  default:\n",
      "    method: 'default'\n",
      "Reporter:\n",
      "  save_timing:\n",
      "    method: 'save_timing'\n",
      "    time_unit: 'seconds'\n",
      "...\n"
     ]
    }
   ],
   "source": [
    "yaml_file_case: str = \"timing.yaml\"\n",
    "\n",
    "yaml_path_case: str = get_yaml_path(\n",
    "    is_colab=is_colab,\n",
    "    yaml_file=yaml_file_case,\n",
    "    branch=branch,\n",
    "    subfolder=subfolder,\n",
    ")"
   ]
  },
  {
   "cell_type": "markdown",
   "metadata": {},
   "source": [
    "### Execution and Result\n",
    "執行與結果"
   ]
  },
  {
   "cell_type": "code",
   "execution_count": 5,
   "metadata": {},
   "outputs": [
    {
     "name": "stdout",
     "output_type": "stream",
     "text": [
      "Generating report ...\n",
      "\n",
      "(1/2) Evaluating Column Shapes: |██████████| 15/15 [00:00<00:00, 104.48it/s]|\n",
      "Column Shapes Score: 74.03%\n",
      "\n",
      "(2/2) Evaluating Column Pair Trends: |██████████| 105/105 [00:00<00:00, 322.72it/s]|\n",
      "Column Pair Trends Score: 62.1%\n",
      "\n",
      "Overall Score (Average): 68.06%\n",
      "\n",
      "Now is petsard_timing save to csv...\n"
     ]
    }
   ],
   "source": [
    "# Initialize and run executor\n",
    "exec_case = Executor(config=yaml_path_case)\n",
    "exec_case.run()"
   ]
  },
  {
   "cell_type": "code",
   "execution_count": 6,
   "metadata": {},
   "outputs": [
    {
     "data": {
      "text/html": [
       "<div>\n",
       "<style scoped>\n",
       "    .dataframe tbody tr th:only-of-type {\n",
       "        vertical-align: middle;\n",
       "    }\n",
       "\n",
       "    .dataframe tbody tr th {\n",
       "        vertical-align: top;\n",
       "    }\n",
       "\n",
       "    .dataframe thead th {\n",
       "        text-align: right;\n",
       "    }\n",
       "</style>\n",
       "<table border=\"1\" class=\"dataframe\">\n",
       "  <thead>\n",
       "    <tr style=\"text-align: right;\">\n",
       "      <th></th>\n",
       "      <th>record_id</th>\n",
       "      <th>module_name</th>\n",
       "      <th>experiment_name</th>\n",
       "      <th>step_name</th>\n",
       "      <th>start_time</th>\n",
       "      <th>end_time</th>\n",
       "      <th>duration_seconds</th>\n",
       "      <th>source</th>\n",
       "      <th>status</th>\n",
       "    </tr>\n",
       "  </thead>\n",
       "  <tbody>\n",
       "    <tr>\n",
       "      <th>0</th>\n",
       "      <td>timing_000001_20250626_104151</td>\n",
       "      <td>LoaderOp</td>\n",
       "      <td>default</td>\n",
       "      <td>run</td>\n",
       "      <td>2025-06-26T10:41:51.034953</td>\n",
       "      <td>2025-06-26T10:41:51.158467</td>\n",
       "      <td>0.12</td>\n",
       "      <td>logging</td>\n",
       "      <td>completed</td>\n",
       "    </tr>\n",
       "    <tr>\n",
       "      <th>1</th>\n",
       "      <td>timing_000002_20250626_104151</td>\n",
       "      <td>SynthesizerOp</td>\n",
       "      <td>default</td>\n",
       "      <td>run</td>\n",
       "      <td>2025-06-26T10:41:51.158614</td>\n",
       "      <td>2025-06-26T10:41:56.170903</td>\n",
       "      <td>5.01</td>\n",
       "      <td>logging</td>\n",
       "      <td>completed</td>\n",
       "    </tr>\n",
       "    <tr>\n",
       "      <th>2</th>\n",
       "      <td>timing_000003_20250626_104156</td>\n",
       "      <td>EvaluatorOp</td>\n",
       "      <td>default</td>\n",
       "      <td>run</td>\n",
       "      <td>2025-06-26T10:41:56.171123</td>\n",
       "      <td>2025-06-26T10:41:56.740014</td>\n",
       "      <td>0.57</td>\n",
       "      <td>logging</td>\n",
       "      <td>completed</td>\n",
       "    </tr>\n",
       "    <tr>\n",
       "      <th>3</th>\n",
       "      <td>timing_000004_20250626_104156</td>\n",
       "      <td>ReporterOp</td>\n",
       "      <td>default</td>\n",
       "      <td>run</td>\n",
       "      <td>2025-06-26T10:41:56.740906</td>\n",
       "      <td>2025-06-26T10:41:56.741791</td>\n",
       "      <td>0.00</td>\n",
       "      <td>logging</td>\n",
       "      <td>completed</td>\n",
       "    </tr>\n",
       "  </tbody>\n",
       "</table>\n",
       "</div>"
      ],
      "text/plain": [
       "                       record_id    module_name experiment_name step_name  \\\n",
       "0  timing_000001_20250626_104151       LoaderOp         default       run   \n",
       "1  timing_000002_20250626_104151  SynthesizerOp         default       run   \n",
       "2  timing_000003_20250626_104156    EvaluatorOp         default       run   \n",
       "3  timing_000004_20250626_104156     ReporterOp         default       run   \n",
       "\n",
       "                   start_time                    end_time  duration_seconds  \\\n",
       "0  2025-06-26T10:41:51.034953  2025-06-26T10:41:51.158467              0.12   \n",
       "1  2025-06-26T10:41:51.158614  2025-06-26T10:41:56.170903              5.01   \n",
       "2  2025-06-26T10:41:56.171123  2025-06-26T10:41:56.740014              0.57   \n",
       "3  2025-06-26T10:41:56.740906  2025-06-26T10:41:56.741791              0.00   \n",
       "\n",
       "    source     status  \n",
       "0  logging  completed  \n",
       "1  logging  completed  \n",
       "2  logging  completed  \n",
       "3  logging  completed  "
      ]
     },
     "execution_count": 6,
     "metadata": {},
     "output_type": "execute_result"
    }
   ],
   "source": [
    "exec_case.get_timing()"
   ]
  }
 ],
 "metadata": {
  "kernelspec": {
   "display_name": ".venv",
   "language": "python",
   "name": "python3"
  },
  "language_info": {
   "codemirror_mode": {
    "name": "ipython",
    "version": 3
   },
   "file_extension": ".py",
   "mimetype": "text/x-python",
   "name": "python",
   "nbconvert_exporter": "python",
   "pygments_lexer": "ipython3",
   "version": "3.11.12"
  }
 },
 "nbformat": 4,
 "nbformat_minor": 2
}
