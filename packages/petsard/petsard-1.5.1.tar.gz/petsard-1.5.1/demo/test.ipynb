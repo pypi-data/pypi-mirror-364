{
 "cells": [
  {
   "cell_type": "markdown",
   "id": "918b0dc6",
   "metadata": {},
   "source": [
    "## Loader - Benchmark"
   ]
  },
  {
   "cell_type": "code",
   "execution_count": 1,
   "id": "b92d2515",
   "metadata": {},
   "outputs": [
    {
     "name": "stdout",
     "output_type": "stream",
     "text": [
      "data: <class 'pandas.core.frame.DataFrame'>, meta: <class 'petsard.metadater.schema.schema_types.SchemaMetadata'>\n"
     ]
    }
   ],
   "source": [
    "from petsard.loader import Loader\n",
    "\n",
    "load = Loader(filepath=\"benchmark://adult-income\")\n",
    "data, meta = load.load()\n",
    "print(f\"data: {type(data)}, meta: {type(meta)}\")"
   ]
  },
  {
   "cell_type": "markdown",
   "id": "8f260cc1",
   "metadata": {},
   "source": [
    "# Loader - Load from csv"
   ]
  },
  {
   "cell_type": "code",
   "execution_count": 2,
   "id": "be112b79",
   "metadata": {},
   "outputs": [
    {
     "name": "stdout",
     "output_type": "stream",
     "text": [
      "data: <class 'pandas.core.frame.DataFrame'>, meta: <class 'petsard.metadater.schema.schema_types.SchemaMetadata'>\n"
     ]
    }
   ],
   "source": [
    "load = Loader(filepath=\"benchmark/adult-income.csv\")\n",
    "data, meta = load.load()\n",
    "print(f\"data: {type(data)}, meta: {type(meta)}\")"
   ]
  },
  {
   "cell_type": "markdown",
   "id": "31094cbd",
   "metadata": {},
   "source": [
    "# Just simplify"
   ]
  },
  {
   "cell_type": "code",
   "execution_count": 3,
   "id": "cc27d12a",
   "metadata": {},
   "outputs": [
    {
     "data": {
      "text/plain": [
       "(100, 15)"
      ]
     },
     "execution_count": 3,
     "metadata": {},
     "output_type": "execute_result"
    }
   ],
   "source": [
    "data = data.loc[0:99, :]\n",
    "data.shape"
   ]
  },
  {
   "cell_type": "markdown",
   "id": "9586539d",
   "metadata": {},
   "source": [
    "# Splitter"
   ]
  },
  {
   "cell_type": "code",
   "execution_count": 4,
   "id": "a77beb51",
   "metadata": {},
   "outputs": [
    {
     "name": "stdout",
     "output_type": "stream",
     "text": [
      "train_data: <class 'pandas.core.frame.DataFrame'>, test_data: <class 'pandas.core.frame.DataFrame'>\n",
      "train_data shape: (80, 15), test_data shape: (20, 15)\n"
     ]
    }
   ],
   "source": [
    "from petsard.loader import Splitter\n",
    "\n",
    "split = Splitter(num_samples=5, train_split_ratio=0.8)\n",
    "split_data, split_meta, exist_index = split.split(data=data)\n",
    "\n",
    "train_data = split_data[1][\"train\"]  # 第一次分割的訓練集\n",
    "test_data = split_data[1][\"validation\"]  # 第一次分割的測試集\n",
    "\n",
    "print(f\"train_data: {type(train_data)}, test_data: {type(test_data)}\")\n",
    "print(f\"train_data shape: {train_data.shape}, test_data shape: {test_data.shape}\")"
   ]
  },
  {
   "cell_type": "markdown",
   "id": "custom_data",
   "metadata": {},
   "source": [
    "## Splitter - custom_data"
   ]
  },
  {
   "cell_type": "code",
   "execution_count": 5,
   "id": "custom_split",
   "metadata": {},
   "outputs": [
    {
     "name": "stdout",
     "output_type": "stream",
     "text": [
      "train_data: <class 'pandas.core.frame.DataFrame'>, test_data: <class 'pandas.core.frame.DataFrame'>\n",
      "train_data shape: (39073, 15), test_data shape: (9769, 15)\n"
     ]
    }
   ],
   "source": [
    "split = Splitter(\n",
    "    method=\"custom_data\",\n",
    "    filepath={\n",
    "        \"ori\": \"benchmark/adult-income_ori.csv\",\n",
    "        \"control\": \"benchmark/adult-income_control.csv\",\n",
    "    },\n",
    ")\n",
    "split_data, split_meta, exist_index = split.split()\n",
    "\n",
    "train_data = split_data[1][\"train\"]  # 第一次分割的訓練集\n",
    "test_data = split_data[1][\"validation\"]  # 第一次分割的測試集\n",
    "\n",
    "print(f\"train_data: {type(train_data)}, test_data: {type(test_data)}\")\n",
    "print(f\"train_data shape: {train_data.shape}, test_data shape: {test_data.shape}\")"
   ]
  },
  {
   "cell_type": "markdown",
   "id": "processor",
   "metadata": {},
   "source": [
    "# Processor (Pre-proc)"
   ]
  },
  {
   "cell_type": "code",
   "execution_count": 6,
   "id": "default_proc",
   "metadata": {},
   "outputs": [
    {
     "name": "stdout",
     "output_type": "stream",
     "text": [
      "default_preproc_data shape: (22795, 15)\n"
     ]
    }
   ],
   "source": [
    "from petsard.processor import Processor\n",
    "\n",
    "default_proc = Processor(\n",
    "    metadata=meta,\n",
    ")\n",
    "\n",
    "default_proc.fit(data=train_data)\n",
    "\n",
    "default_preproc_data = default_proc.transform(data=train_data)\n",
    "print(f\"default_preproc_data shape: {default_preproc_data.shape}\")"
   ]
  },
  {
   "cell_type": "markdown",
   "id": "missing_only",
   "metadata": {},
   "source": [
    "## Processor - Missing only"
   ]
  },
  {
   "cell_type": "code",
   "execution_count": 7,
   "id": "missing_proc",
   "metadata": {},
   "outputs": [
    {
     "name": "stdout",
     "output_type": "stream",
     "text": [
      "preproc_data shape: (39073, 15)\n"
     ]
    },
    {
     "data": {
      "text/plain": [
       "0    25\n",
       "1    38\n",
       "2    28\n",
       "3    44\n",
       "4    18\n",
       "5    34\n",
       "6    29\n",
       "7    24\n",
       "8    55\n",
       "9    36\n",
       "Name: age, dtype: int8"
      ]
     },
     "execution_count": 7,
     "metadata": {},
     "output_type": "execute_result"
    }
   ],
   "source": [
    "proc = Processor(\n",
    "    metadata=meta,\n",
    "    config={\n",
    "        \"missing\": {\n",
    "            \"age\": \"missing_mean\",\n",
    "        },\n",
    "    },\n",
    ")\n",
    "\n",
    "proc.fit(\n",
    "    data=train_data,\n",
    "    sequence=[\"missing\"],\n",
    ")\n",
    "\n",
    "preproc_data = proc.transform(data=train_data)\n",
    "print(f\"preproc_data shape: {preproc_data.shape}\")\n",
    "preproc_data[\"age\"].head(10)"
   ]
  },
  {
   "cell_type": "markdown",
   "id": "outlier_only",
   "metadata": {},
   "source": [
    "## Processor - Outlier only"
   ]
  },
  {
   "cell_type": "code",
   "execution_count": 8,
   "id": "outlier_proc",
   "metadata": {},
   "outputs": [
    {
     "name": "stdout",
     "output_type": "stream",
     "text": [
      "preproc_data shape: (22799, 15)\n"
     ]
    },
    {
     "data": {
      "text/plain": [
       "0    25\n",
       "1    38\n",
       "2    28\n",
       "3    29\n",
       "4    24\n",
       "5    36\n",
       "6    26\n",
       "7    58\n",
       "8    43\n",
       "9    40\n",
       "Name: age, dtype: int8"
      ]
     },
     "execution_count": 8,
     "metadata": {},
     "output_type": "execute_result"
    }
   ],
   "source": [
    "proc = Processor(\n",
    "    metadata=meta,\n",
    "    config={\n",
    "        \"outlier\": {\n",
    "            \"age\": \"outlier_zscore\",\n",
    "        },\n",
    "    },\n",
    ")\n",
    "\n",
    "proc.fit(\n",
    "    data=train_data,\n",
    "    sequence=[\"outlier\"],\n",
    ")\n",
    "\n",
    "preproc_data = proc.transform(data=train_data)\n",
    "print(f\"preproc_data shape: {preproc_data.shape}\")\n",
    "preproc_data[\"age\"].head(10)"
   ]
  },
  {
   "cell_type": "markdown",
   "id": "encoder_only",
   "metadata": {},
   "source": [
    "## Processor - Encoder only"
   ]
  },
  {
   "cell_type": "code",
   "execution_count": 9,
   "id": "encoder_proc",
   "metadata": {},
   "outputs": [
    {
     "name": "stdout",
     "output_type": "stream",
     "text": [
      "preproc_data shape: (39073, 22)\n"
     ]
    },
    {
     "data": {
      "text/html": [
       "<div>\n",
       "<style scoped>\n",
       "    .dataframe tbody tr th:only-of-type {\n",
       "        vertical-align: middle;\n",
       "    }\n",
       "\n",
       "    .dataframe tbody tr th {\n",
       "        vertical-align: top;\n",
       "    }\n",
       "\n",
       "    .dataframe thead th {\n",
       "        text-align: right;\n",
       "    }\n",
       "</style>\n",
       "<table border=\"1\" class=\"dataframe\">\n",
       "  <thead>\n",
       "    <tr style=\"text-align: right;\">\n",
       "      <th></th>\n",
       "      <th>workclass_Federal-gov</th>\n",
       "      <th>workclass_Local-gov</th>\n",
       "      <th>workclass_Never-worked</th>\n",
       "      <th>workclass_Private</th>\n",
       "      <th>workclass_Self-emp-inc</th>\n",
       "      <th>workclass_Self-emp-not-inc</th>\n",
       "      <th>workclass_State-gov</th>\n",
       "      <th>workclass_Without-pay</th>\n",
       "    </tr>\n",
       "  </thead>\n",
       "  <tbody>\n",
       "    <tr>\n",
       "      <th>0</th>\n",
       "      <td>0.0</td>\n",
       "      <td>0.0</td>\n",
       "      <td>0.0</td>\n",
       "      <td>1.0</td>\n",
       "      <td>0.0</td>\n",
       "      <td>0.0</td>\n",
       "      <td>0.0</td>\n",
       "      <td>0.0</td>\n",
       "    </tr>\n",
       "    <tr>\n",
       "      <th>1</th>\n",
       "      <td>0.0</td>\n",
       "      <td>0.0</td>\n",
       "      <td>0.0</td>\n",
       "      <td>1.0</td>\n",
       "      <td>0.0</td>\n",
       "      <td>0.0</td>\n",
       "      <td>0.0</td>\n",
       "      <td>0.0</td>\n",
       "    </tr>\n",
       "    <tr>\n",
       "      <th>2</th>\n",
       "      <td>0.0</td>\n",
       "      <td>1.0</td>\n",
       "      <td>0.0</td>\n",
       "      <td>0.0</td>\n",
       "      <td>0.0</td>\n",
       "      <td>0.0</td>\n",
       "      <td>0.0</td>\n",
       "      <td>0.0</td>\n",
       "    </tr>\n",
       "    <tr>\n",
       "      <th>3</th>\n",
       "      <td>0.0</td>\n",
       "      <td>0.0</td>\n",
       "      <td>0.0</td>\n",
       "      <td>1.0</td>\n",
       "      <td>0.0</td>\n",
       "      <td>0.0</td>\n",
       "      <td>0.0</td>\n",
       "      <td>0.0</td>\n",
       "    </tr>\n",
       "    <tr>\n",
       "      <th>4</th>\n",
       "      <td>0.0</td>\n",
       "      <td>0.0</td>\n",
       "      <td>0.0</td>\n",
       "      <td>0.0</td>\n",
       "      <td>0.0</td>\n",
       "      <td>0.0</td>\n",
       "      <td>0.0</td>\n",
       "      <td>0.0</td>\n",
       "    </tr>\n",
       "    <tr>\n",
       "      <th>5</th>\n",
       "      <td>0.0</td>\n",
       "      <td>0.0</td>\n",
       "      <td>0.0</td>\n",
       "      <td>1.0</td>\n",
       "      <td>0.0</td>\n",
       "      <td>0.0</td>\n",
       "      <td>0.0</td>\n",
       "      <td>0.0</td>\n",
       "    </tr>\n",
       "    <tr>\n",
       "      <th>6</th>\n",
       "      <td>0.0</td>\n",
       "      <td>0.0</td>\n",
       "      <td>0.0</td>\n",
       "      <td>0.0</td>\n",
       "      <td>0.0</td>\n",
       "      <td>0.0</td>\n",
       "      <td>0.0</td>\n",
       "      <td>0.0</td>\n",
       "    </tr>\n",
       "    <tr>\n",
       "      <th>7</th>\n",
       "      <td>0.0</td>\n",
       "      <td>0.0</td>\n",
       "      <td>0.0</td>\n",
       "      <td>1.0</td>\n",
       "      <td>0.0</td>\n",
       "      <td>0.0</td>\n",
       "      <td>0.0</td>\n",
       "      <td>0.0</td>\n",
       "    </tr>\n",
       "    <tr>\n",
       "      <th>8</th>\n",
       "      <td>0.0</td>\n",
       "      <td>0.0</td>\n",
       "      <td>0.0</td>\n",
       "      <td>1.0</td>\n",
       "      <td>0.0</td>\n",
       "      <td>0.0</td>\n",
       "      <td>0.0</td>\n",
       "      <td>0.0</td>\n",
       "    </tr>\n",
       "    <tr>\n",
       "      <th>9</th>\n",
       "      <td>1.0</td>\n",
       "      <td>0.0</td>\n",
       "      <td>0.0</td>\n",
       "      <td>0.0</td>\n",
       "      <td>0.0</td>\n",
       "      <td>0.0</td>\n",
       "      <td>0.0</td>\n",
       "      <td>0.0</td>\n",
       "    </tr>\n",
       "  </tbody>\n",
       "</table>\n",
       "</div>"
      ],
      "text/plain": [
       "   workclass_Federal-gov  workclass_Local-gov  workclass_Never-worked  \\\n",
       "0                    0.0                  0.0                     0.0   \n",
       "1                    0.0                  0.0                     0.0   \n",
       "2                    0.0                  1.0                     0.0   \n",
       "3                    0.0                  0.0                     0.0   \n",
       "4                    0.0                  0.0                     0.0   \n",
       "5                    0.0                  0.0                     0.0   \n",
       "6                    0.0                  0.0                     0.0   \n",
       "7                    0.0                  0.0                     0.0   \n",
       "8                    0.0                  0.0                     0.0   \n",
       "9                    1.0                  0.0                     0.0   \n",
       "\n",
       "   workclass_Private  workclass_Self-emp-inc  workclass_Self-emp-not-inc  \\\n",
       "0                1.0                     0.0                         0.0   \n",
       "1                1.0                     0.0                         0.0   \n",
       "2                0.0                     0.0                         0.0   \n",
       "3                1.0                     0.0                         0.0   \n",
       "4                0.0                     0.0                         0.0   \n",
       "5                1.0                     0.0                         0.0   \n",
       "6                0.0                     0.0                         0.0   \n",
       "7                1.0                     0.0                         0.0   \n",
       "8                1.0                     0.0                         0.0   \n",
       "9                0.0                     0.0                         0.0   \n",
       "\n",
       "   workclass_State-gov  workclass_Without-pay  \n",
       "0                  0.0                    0.0  \n",
       "1                  0.0                    0.0  \n",
       "2                  0.0                    0.0  \n",
       "3                  0.0                    0.0  \n",
       "4                  0.0                    0.0  \n",
       "5                  0.0                    0.0  \n",
       "6                  0.0                    0.0  \n",
       "7                  0.0                    0.0  \n",
       "8                  0.0                    0.0  \n",
       "9                  0.0                    0.0  "
      ]
     },
     "execution_count": 9,
     "metadata": {},
     "output_type": "execute_result"
    }
   ],
   "source": [
    "proc = Processor(\n",
    "    metadata=meta,\n",
    "    config={\n",
    "        \"encoder\": {\n",
    "            \"workclass\": \"encoder_onehot\",\n",
    "        },\n",
    "    },\n",
    ")\n",
    "\n",
    "proc.fit(\n",
    "    data=train_data,\n",
    "    sequence=[\"encoder\"],\n",
    ")\n",
    "\n",
    "preproc_data = proc.transform(data=train_data)\n",
    "print(f\"preproc_data shape: {preproc_data.shape}\")\n",
    "preproc_data.loc[\n",
    "    :, [col for col in preproc_data.columns if col.startswith(\"workclass_\")]\n",
    "].head(10)"
   ]
  },
  {
   "cell_type": "markdown",
   "id": "scaler_only",
   "metadata": {},
   "source": [
    "## Processor - Scaler only"
   ]
  },
  {
   "cell_type": "code",
   "execution_count": 10,
   "id": "scaler_proc",
   "metadata": {},
   "outputs": [
    {
     "name": "stdout",
     "output_type": "stream",
     "text": [
      "preproc_data shape: (39073, 15)\n"
     ]
    },
    {
     "data": {
      "text/plain": [
       "0    0.109589\n",
       "1    0.287671\n",
       "2    0.150685\n",
       "3    0.369863\n",
       "4    0.013699\n",
       "5    0.232877\n",
       "6    0.164384\n",
       "7    0.095890\n",
       "8    0.520548\n",
       "9    0.260274\n",
       "Name: age, dtype: float64"
      ]
     },
     "execution_count": 10,
     "metadata": {},
     "output_type": "execute_result"
    }
   ],
   "source": [
    "proc = Processor(\n",
    "    metadata=meta,\n",
    "    config={\n",
    "        \"scaler\": {\n",
    "            \"age\": \"scaler_minmax\",\n",
    "        },\n",
    "    },\n",
    ")\n",
    "\n",
    "proc.fit(\n",
    "    data=train_data,\n",
    "    sequence=[\"scaler\"],\n",
    ")\n",
    "\n",
    "preproc_data = proc.transform(data=train_data)\n",
    "print(f\"preproc_data shape: {preproc_data.shape}\")\n",
    "preproc_data[\"age\"].head(10)"
   ]
  },
  {
   "cell_type": "markdown",
   "id": "synthesizer",
   "metadata": {},
   "source": [
    "# Synthesizer"
   ]
  },
  {
   "cell_type": "code",
   "execution_count": 11,
   "id": "synth_default",
   "metadata": {},
   "outputs": [
    {
     "name": "stdout",
     "output_type": "stream",
     "text": [
      "syn_data shape: (22795, 15)\n"
     ]
    }
   ],
   "source": [
    "from petsard.synthesizer import Synthesizer\n",
    "\n",
    "syn = Synthesizer(\n",
    "    method=\"default\",\n",
    ")\n",
    "\n",
    "syn.create(metadata=meta)\n",
    "syn_data = syn.fit_sample(data=default_preproc_data)\n",
    "print(f\"syn_data shape: {syn_data.shape}\")"
   ]
  },
  {
   "cell_type": "markdown",
   "id": "postprocessor",
   "metadata": {},
   "source": [
    "# Processor (Post-proc)"
   ]
  },
  {
   "cell_type": "code",
   "execution_count": 12,
   "id": "postproc",
   "metadata": {},
   "outputs": [
    {
     "name": "stdout",
     "output_type": "stream",
     "text": [
      "postproc_data shape: (22795, 15)\n"
     ]
    }
   ],
   "source": [
    "postproc_data = default_proc.inverse_transform(data=syn_data)\n",
    "print(f\"postproc_data shape: {postproc_data.shape}\")"
   ]
  },
  {
   "cell_type": "markdown",
   "id": "4a8f758e",
   "metadata": {},
   "source": [
    "# Constrainer"
   ]
  },
  {
   "cell_type": "code",
   "execution_count": 13,
   "id": "87155e9d",
   "metadata": {},
   "outputs": [
    {
     "name": "stdout",
     "output_type": "stream",
     "text": [
      "cnst_data shape: (22795, 15)\n",
      "satisfy_data shape: (22795, 15)\n"
     ]
    }
   ],
   "source": [
    "from petsard.constrainer import Constrainer\n",
    "\n",
    "config = {}\n",
    "cnst = Constrainer(config=config)\n",
    "cnst_data = cnst.apply(df=postproc_data)\n",
    "print(f\"cnst_data shape: {cnst_data.shape}\")\n",
    "\n",
    "satisfy_data = cnst.resample_until_satisfy(\n",
    "    data=postproc_data,\n",
    "    target_rows=postproc_data.shape[0],\n",
    "    synthesizer=syn,\n",
    "    max_trials=300,\n",
    "    sampling_ratio=10.0,\n",
    "    verbose_step=10,\n",
    ")\n",
    "print(f\"satisfy_data shape: {satisfy_data.shape}\")"
   ]
  },
  {
   "cell_type": "markdown",
   "id": "00fb592c",
   "metadata": {},
   "source": [
    "## Constrainer - nan_groups"
   ]
  },
  {
   "cell_type": "code",
   "execution_count": 14,
   "id": "7519689a",
   "metadata": {},
   "outputs": [
    {
     "name": "stdout",
     "output_type": "stream",
     "text": [
      "cnst_data shape: (22795, 15)\n",
      "satisfy_data shape: (22795, 15)\n"
     ]
    }
   ],
   "source": [
    "config = {\n",
    "    \"nan_groups\": {\n",
    "        \"gender\": \"delete\",  # gender 缺值的紀錄直接刪除\n",
    "        \"age\": {  # age 缺值的紀錄把 workclass, education, education-num 欄位設為缺值\n",
    "            \"erase\": [\"workclass\", \"education\", \"educational-num\"],\n",
    "        },\n",
    "        \"marital-status\": {\n",
    "            \"copy\": \"relationship\",  # marital-status 缺值的紀錄把 relationship 欄位的值複製過來\n",
    "        },\n",
    "    }\n",
    "}\n",
    "cnst = Constrainer(config=config)\n",
    "cnst_data = cnst.apply(df=postproc_data)\n",
    "print(f\"cnst_data shape: {cnst_data.shape}\")\n",
    "\n",
    "satisfy_data = cnst.resample_until_satisfy(\n",
    "    data=postproc_data,\n",
    "    target_rows=postproc_data.shape[0],\n",
    "    synthesizer=syn,\n",
    "    max_trials=300,\n",
    "    sampling_ratio=10.0,\n",
    "    verbose_step=10,\n",
    ")\n",
    "print(f\"satisfy_data shape: {satisfy_data.shape}\")"
   ]
  },
  {
   "cell_type": "markdown",
   "id": "e3217bb7",
   "metadata": {},
   "source": [
    "## Constrainer - field_constraints"
   ]
  },
  {
   "cell_type": "code",
   "execution_count": 15,
   "id": "06cb5943",
   "metadata": {},
   "outputs": [
    {
     "name": "stdout",
     "output_type": "stream",
     "text": [
      "cnst_data shape: (21921, 15)\n",
      "satisfy_data shape: (22795, 15)\n"
     ]
    }
   ],
   "source": [
    "config = {\n",
    "    \"field_constraints\": [\n",
    "        \"age >= 20 & age <= 70\",  # age 欄位的值必須在 20 到 70 歲之間\n",
    "    ],\n",
    "}\n",
    "cnst = Constrainer(config=config)\n",
    "cnst_data = cnst.apply(df=postproc_data)\n",
    "print(f\"cnst_data shape: {cnst_data.shape}\")\n",
    "\n",
    "satisfy_data = cnst.resample_until_satisfy(\n",
    "    data=postproc_data,\n",
    "    target_rows=postproc_data.shape[0],\n",
    "    synthesizer=syn,\n",
    "    max_trials=300,\n",
    "    sampling_ratio=10.0,\n",
    "    verbose_step=10,\n",
    ")\n",
    "print(f\"satisfy_data shape: {satisfy_data.shape}\")"
   ]
  },
  {
   "cell_type": "markdown",
   "id": "7c38a624",
   "metadata": {},
   "source": [
    "## Constrainer - field_combinations"
   ]
  },
  {
   "cell_type": "code",
   "execution_count": 16,
   "id": "da4fd9ae",
   "metadata": {},
   "outputs": [
    {
     "name": "stdout",
     "output_type": "stream",
     "text": [
      "cnst_data shape: (11434, 15)\n",
      "satisfy_data shape: (22795, 15)\n"
     ]
    }
   ],
   "source": [
    "config = {\n",
    "    \"field_combinations\": [\n",
    "        (\n",
    "            {\n",
    "                \"marital-status\": \"relationship\"\n",
    "            },  # 指定 'marital-status' 和 'relationship' 欄位之間的關係\n",
    "            {  # 定義每個 'marital-status' 對應的 'relationship' 欄位值\n",
    "                \"Divorced\": [\"Not-in-family\", \"Own-child\", \"Unmarried\"],\n",
    "                \"Married-civ-spouse\": [\"Husband\", \"Wife\"],\n",
    "                \"Married-spouse-absent\": [\"Not-in-family\"],\n",
    "                \"Separated\": [\"Not-in-family\", \"Unmarried\"],\n",
    "                \"Never-married\": [\"Not-in-family\", \"Own-child\", \"Unmarried\"],\n",
    "                \"Widowed\": [\"Not-in-family\", \"Unmarried\"],\n",
    "            },\n",
    "        )\n",
    "    ],\n",
    "}\n",
    "cnst = Constrainer(config=config)\n",
    "cnst_data = cnst.apply(df=postproc_data)\n",
    "print(f\"cnst_data shape: {cnst_data.shape}\")\n",
    "\n",
    "satisfy_data = cnst.resample_until_satisfy(\n",
    "    data=postproc_data,\n",
    "    target_rows=postproc_data.shape[0],\n",
    "    synthesizer=syn,\n",
    "    max_trials=300,\n",
    "    sampling_ratio=10.0,\n",
    "    verbose_step=10,\n",
    ")\n",
    "print(f\"satisfy_data shape: {satisfy_data.shape}\")"
   ]
  },
  {
   "cell_type": "markdown",
   "id": "evaluator",
   "metadata": {},
   "source": [
    "# Evaluator"
   ]
  },
  {
   "cell_type": "code",
   "execution_count": 17,
   "id": "eval_default",
   "metadata": {},
   "outputs": [
    {
     "name": "stdout",
     "output_type": "stream",
     "text": [
      "Generating report ...\n",
      "\n",
      "(1/2) Evaluating Column Shapes: |██████████| 15/15 [00:12<00:00,  1.22it/s]|\n",
      "Column Shapes Score: 12.51%\n",
      "\n",
      "(2/2) Evaluating Column Pair Trends: |██████████| 105/105 [15:10<00:00,  8.67s/it]|\n",
      "Column Pair Trends Score: 3.19%\n",
      "\n",
      "Overall Score (Average): 7.85%\n",
      "\n",
      "        Score  Column Shapes  Column Pair Trends\n",
      "result   0.08            NaN                 NaN\n",
      "          Property        Metric  Score\n",
      "age  Column Shapes  KSComplement    0.0\n",
      "                         Property                 Metric         Score  \\\n",
      "age workclass  Column Pair Trends  ContingencySimilarity -2.220446e-16   \n",
      "\n",
      "               Real Correlation  Synthetic Correlation Error  \n",
      "age workclass               NaN                    NaN  None  \n"
     ]
    }
   ],
   "source": [
    "from petsard.evaluator import Evaluator\n",
    "\n",
    "evaluation = Evaluator(method=\"default\")\n",
    "evaluation.create()\n",
    "\n",
    "eval_result = evaluation.eval(\n",
    "    data={\n",
    "        \"ori\": train_data,\n",
    "        \"control\": test_data,\n",
    "        \"syn\": syn_data,\n",
    "    }\n",
    ")\n",
    "\n",
    "print(eval_result[\"global\"].head(1))\n",
    "print(eval_result[\"columnwise\"].head(1))\n",
    "print(eval_result[\"pairwise\"].head(1))"
   ]
  },
  {
   "cell_type": "markdown",
   "id": "evaluator_methods",
   "metadata": {},
   "source": [
    "## Evaluator - Singling-out"
   ]
  },
  {
   "cell_type": "code",
   "execution_count": 18,
   "id": "eval_privacy",
   "metadata": {},
   "outputs": [
    {
     "name": "stderr",
     "output_type": "stream",
     "text": [
      "Found 3 failed queries out of 3. Check DEBUG messages for more details.\n"
     ]
    },
    {
     "name": "stdout",
     "output_type": "stream",
     "text": [
      "        risk  risk_CI_btm  risk_CI_top  attack_rate  attack_rate_err  \\\n",
      "result   0.0          0.0         0.55         0.28             0.28   \n",
      "\n",
      "        baseline_rate  baseline_rate_err  control_rate  control_rate_err  \n",
      "result           0.28               0.28          0.28              0.28  \n",
      "{'attack_queries': [], 'baseline_queries': []}\n"
     ]
    },
    {
     "name": "stderr",
     "output_type": "stream",
     "text": [
      "/Users/justyn.chen/Library/CloudStorage/Dropbox/5_Career 工作/20231016_NICS 資安院/3_工藝：PETsARD/petsard/.venv/lib/python3.11/site-packages/anonymeter/stats/confidence.py:218: UserWarning: Attack is as good or worse as baseline model. Estimated rates: attack = 0.28074851587752275, baseline = 0.28074851587752275. Analysis results cannot be trusted.\n",
      "  self._sanity_check()\n"
     ]
    }
   ],
   "source": [
    "evaluation = Evaluator(\n",
    "    method=\"anonymeter-singlingout\",\n",
    "    n_attacks=3,\n",
    ")\n",
    "evaluation.create()\n",
    "\n",
    "eval_result = evaluation.eval(\n",
    "    data={\n",
    "        \"ori\": train_data,\n",
    "        \"control\": test_data,\n",
    "        \"syn\": satisfy_data,\n",
    "    }\n",
    ")\n",
    "\n",
    "print(eval_result[\"global\"].head(1))\n",
    "print(eval_result[\"details\"])"
   ]
  },
  {
   "cell_type": "markdown",
   "id": "b5925c41",
   "metadata": {},
   "source": [
    "## Evaluator - Linkability"
   ]
  },
  {
   "cell_type": "code",
   "execution_count": 19,
   "id": "b63a808d",
   "metadata": {},
   "outputs": [
    {
     "name": "stdout",
     "output_type": "stream",
     "text": [
      "        risk  risk_CI_btm  risk_CI_top  attack_rate  attack_rate_err  \\\n",
      "result   0.0          0.0         0.55         0.28             0.28   \n",
      "\n",
      "        baseline_rate  baseline_rate_err  control_rate  control_rate_err  \n",
      "result           0.28               0.28          0.28              0.28  \n",
      "{'attack_links': {}, 'baseline_links': {}, 'control_links': {}}\n"
     ]
    },
    {
     "name": "stderr",
     "output_type": "stream",
     "text": [
      "/Users/justyn.chen/Library/CloudStorage/Dropbox/5_Career 工作/20231016_NICS 資安院/3_工藝：PETsARD/petsard/.venv/lib/python3.11/site-packages/anonymeter/stats/confidence.py:218: UserWarning: Attack is as good or worse as baseline model. Estimated rates: attack = 0.28074851587752275, baseline = 0.28074851587752275. Analysis results cannot be trusted.\n",
      "  self._sanity_check()\n"
     ]
    }
   ],
   "source": [
    "evaluation = Evaluator(\n",
    "    method=\"anonymeter-linkability\",\n",
    "    n_attacks=3,\n",
    "    aux_cols=[\n",
    "        [\"age\", \"marital-status\", \"relationship\", \"race\", \"gender\"],\n",
    "        [\"workclass\", \"education\", \"educational-num\", \"occupation\"],\n",
    "    ],\n",
    ")\n",
    "evaluation.create()\n",
    "\n",
    "eval_result = evaluation.eval(\n",
    "    data={\n",
    "        \"ori\": train_data,\n",
    "        \"control\": test_data,\n",
    "        \"syn\": satisfy_data,\n",
    "    }\n",
    ")\n",
    "\n",
    "print(eval_result[\"global\"].head(1))\n",
    "print(eval_result[\"details\"])"
   ]
  },
  {
   "cell_type": "markdown",
   "id": "63feff14",
   "metadata": {},
   "source": [
    "## Evaluator - Inference"
   ]
  },
  {
   "cell_type": "code",
   "execution_count": 20,
   "id": "fe60cbda",
   "metadata": {},
   "outputs": [
    {
     "name": "stdout",
     "output_type": "stream",
     "text": [
      "        risk  risk_CI_btm  risk_CI_top  attack_rate  attack_rate_err  \\\n",
      "result   0.0          0.0          0.9         0.28             0.28   \n",
      "\n",
      "        baseline_rate  baseline_rate_err  control_rate  control_rate_err  \n",
      "result           0.43               0.37          0.57              0.37  \n",
      "None\n"
     ]
    },
    {
     "name": "stderr",
     "output_type": "stream",
     "text": [
      "/Users/justyn.chen/Library/CloudStorage/Dropbox/5_Career 工作/20231016_NICS 資安院/3_工藝：PETsARD/petsard/.venv/lib/python3.11/site-packages/anonymeter/stats/confidence.py:218: UserWarning: Attack is as good or worse as baseline model. Estimated rates: attack = 0.28074851587752275, baseline = 0.42691617195917425. Analysis results cannot be trusted.\n",
      "  self._sanity_check()\n"
     ]
    }
   ],
   "source": [
    "evaluation = Evaluator(\n",
    "    method=\"anonymeter-inference\",\n",
    "    n_attacks=3,\n",
    "    secret=\"income\",\n",
    ")\n",
    "evaluation.create()\n",
    "\n",
    "eval_result = evaluation.eval(\n",
    "    data={\n",
    "        \"ori\": train_data,\n",
    "        \"control\": test_data,\n",
    "        \"syn\": satisfy_data,\n",
    "    }\n",
    ")\n",
    "\n",
    "print(eval_result[\"global\"].head(1))\n",
    "print(eval_result[\"details\"])"
   ]
  },
  {
   "cell_type": "markdown",
   "id": "4ea5f7e1",
   "metadata": {},
   "source": [
    "## Evaluator - Diagnostic"
   ]
  },
  {
   "cell_type": "code",
   "execution_count": 21,
   "id": "feb781d6",
   "metadata": {},
   "outputs": [
    {
     "name": "stdout",
     "output_type": "stream",
     "text": [
      "Generating report ...\n",
      "\n",
      "(1/2) Evaluating Data Validity: |██████████| 15/15 [00:00<00:00, 1134.99it/s]|\n",
      "Data Validity Score: 100.0%\n",
      "\n",
      "(2/2) Evaluating Data Structure: |██████████| 1/1 [00:00<00:00, 1388.38it/s]|\n",
      "Data Structure Score: 100.0%\n",
      "\n",
      "Overall Score (Average): 100.0%\n",
      "\n",
      "        Score  Data Validity  Data Structure\n",
      "result    1.0            NaN             NaN\n",
      "          Property             Metric  Score\n",
      "age  Data Validity  BoundaryAdherence    1.0\n",
      "          Property             Metric  Score\n",
      "age  Data Validity  BoundaryAdherence    1.0\n"
     ]
    }
   ],
   "source": [
    "evaluation = Evaluator(method=\"sdmetrics-diagnosticreport\")\n",
    "evaluation.create()\n",
    "\n",
    "eval_result = evaluation.eval(\n",
    "    data={\n",
    "        \"ori\": train_data,\n",
    "        \"control\": test_data,\n",
    "        \"syn\": satisfy_data,\n",
    "    }\n",
    ")\n",
    "\n",
    "print(eval_result[\"global\"].head(1))\n",
    "print(eval_result[\"columnwise\"].head(1))\n",
    "print(eval_result[\"pairwise\"].head(1))"
   ]
  },
  {
   "cell_type": "markdown",
   "id": "3ee78252",
   "metadata": {},
   "source": [
    "## Evaluator - Quality"
   ]
  },
  {
   "cell_type": "code",
   "execution_count": 22,
   "id": "1dfd8150",
   "metadata": {},
   "outputs": [
    {
     "name": "stdout",
     "output_type": "stream",
     "text": [
      "Generating report ...\n",
      "\n",
      "(1/2) Evaluating Column Shapes: |██████████| 15/15 [00:00<00:00, 145.69it/s]|\n",
      "Column Shapes Score: 94.23%\n",
      "\n",
      "(2/2) Evaluating Column Pair Trends: |██████████| 105/105 [00:00<00:00, 409.22it/s]|\n",
      "Column Pair Trends Score: 60.21%\n",
      "\n",
      "Overall Score (Average): 77.22%\n",
      "\n",
      "        Score  Column Shapes  Column Pair Trends\n",
      "result   0.77            NaN                 NaN\n",
      "          Property        Metric     Score\n",
      "age  Column Shapes  KSComplement  0.961759\n",
      "                         Property                 Metric     Score  \\\n",
      "age workclass  Column Pair Trends  ContingencySimilarity  0.859197   \n",
      "\n",
      "               Real Correlation  Synthetic Correlation Error  \n",
      "age workclass               NaN                    NaN  None  \n"
     ]
    }
   ],
   "source": [
    "evaluation = Evaluator(method=\"sdmetrics-qualityreport\")\n",
    "evaluation.create()\n",
    "\n",
    "eval_result = evaluation.eval(\n",
    "    data={\n",
    "        \"ori\": train_data,\n",
    "        \"control\": test_data,\n",
    "        \"syn\": satisfy_data,\n",
    "    }\n",
    ")\n",
    "\n",
    "print(eval_result[\"global\"].head(1))\n",
    "print(eval_result[\"columnwise\"].head(1))\n",
    "print(eval_result[\"pairwise\"].head(1))"
   ]
  },
  {
   "cell_type": "code",
   "execution_count": 23,
   "id": "e9ece145",
   "metadata": {},
   "outputs": [
    {
     "name": "stdout",
     "output_type": "stream",
     "text": [
      "   ori_mean  ori_std  syn_mean  syn_std  diff\n",
      "0      0.86     0.01      0.77      0.0 -0.09\n"
     ]
    }
   ],
   "source": [
    "evaluation = Evaluator(\n",
    "    method=\"mlutility-classification\",\n",
    "    target=\"income\",\n",
    ")\n",
    "evaluation.create()\n",
    "\n",
    "eval_result = evaluation.eval(\n",
    "    data={\n",
    "        \"ori\": train_data,\n",
    "        \"control\": test_data,\n",
    "        \"syn\": satisfy_data,\n",
    "    }\n",
    ")\n",
    "\n",
    "print(eval_result[\"global\"].head(1))"
   ]
  },
  {
   "cell_type": "markdown",
   "id": "54043aa5",
   "metadata": {},
   "source": [
    "## Evaluator - Classification"
   ]
  },
  {
   "cell_type": "markdown",
   "id": "describer",
   "metadata": {},
   "source": [
    "# Describer"
   ]
  },
  {
   "cell_type": "code",
   "execution_count": 24,
   "id": "desc_test",
   "metadata": {},
   "outputs": [
    {
     "name": "stdout",
     "output_type": "stream",
     "text": [
      "   row_count  col_count  na_count\n",
      "0      22795         15         0\n",
      "     mean  median    std   min   max  kurtosis  skew     q1     q3  na_count  \\\n",
      "age  38.2   36.86  12.11  17.0  78.0     -0.44  0.47  28.52  46.49       0.0   \n",
      "\n",
      "    nunique  \n",
      "age    <NA>  \n",
      "  column1 column2  corr\n",
      "0     age     age   1.0\n"
     ]
    }
   ],
   "source": [
    "from petsard.evaluator import Describer\n",
    "\n",
    "\n",
    "desc = Describer(method=\"default\")\n",
    "desc.create()\n",
    "\n",
    "desc_result = desc.eval(\n",
    "    data={\n",
    "        \"data\": satisfy_data,\n",
    "    }\n",
    ")\n",
    "\n",
    "print(desc_result[\"global\"].head(1))\n",
    "print(desc_result[\"columnwise\"].head(1))\n",
    "print(desc_result[\"pairwise\"].head(1))"
   ]
  },
  {
   "cell_type": "markdown",
   "id": "reporter",
   "metadata": {},
   "source": [
    "# Reporter"
   ]
  },
  {
   "cell_type": "markdown",
   "id": "dd040cfc",
   "metadata": {},
   "source": [
    "## Reporter - Save Data"
   ]
  },
  {
   "cell_type": "code",
   "execution_count": 25,
   "id": "714f633d",
   "metadata": {},
   "outputs": [
    {
     "name": "stdout",
     "output_type": "stream",
     "text": [
      "Now is petsard_Postprocessor[exp1] save to csv...\n"
     ]
    }
   ],
   "source": [
    "from petsard.reporter import Reporter\n",
    "\n",
    "rpt = Reporter(\n",
    "    method=\"save_data\",\n",
    "    source=\"Postprocessor\",\n",
    ")\n",
    "rpt.create({(\"Postprocessor\", \"exp1\"): satisfy_data})\n",
    "rpt.report()"
   ]
  },
  {
   "cell_type": "markdown",
   "id": "1e6dfbfb",
   "metadata": {},
   "source": [
    "## Reporter - Save Report"
   ]
  },
  {
   "cell_type": "code",
   "execution_count": 26,
   "id": "reporter_savereport",
   "metadata": {},
   "outputs": [
    {
     "name": "stdout",
     "output_type": "stream",
     "text": [
      "Now is petsard[Report]_[global] save to csv...\n"
     ]
    }
   ],
   "source": [
    "rpt = Reporter(\n",
    "    method=\"save_report\",\n",
    "    granularity=\"global\",\n",
    ")\n",
    "rpt.create(\n",
    "    {\n",
    "        (\"Evaluator\", \"eval1_[global]\"): desc_result[\"global\"],\n",
    "    }\n",
    ")\n",
    "rpt.report()"
   ]
  }
 ],
 "metadata": {
  "kernelspec": {
   "display_name": ".venv",
   "language": "python",
   "name": "python3"
  },
  "language_info": {
   "codemirror_mode": {
    "name": "ipython",
    "version": 3
   },
   "file_extension": ".py",
   "mimetype": "text/x-python",
   "name": "python",
   "nbconvert_exporter": "python",
   "pygments_lexer": "ipython3",
   "version": "3.11.12"
  }
 },
 "nbformat": 4,
 "nbformat_minor": 5
}
