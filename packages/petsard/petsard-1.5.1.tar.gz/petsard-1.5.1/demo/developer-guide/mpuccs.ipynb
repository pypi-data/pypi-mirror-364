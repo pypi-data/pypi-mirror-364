{
 "cells": [
  {
   "cell_type": "markdown",
   "metadata": {},
   "source": [
    "# Environment setting\n",
    "環境設定"
   ]
  },
  {
   "cell_type": "code",
   "execution_count": 1,
   "metadata": {},
   "outputs": [],
   "source": [
    "import os\n",
    "import requests\n",
    "import sys\n",
    "from pathlib import Path\n",
    "from pprint import pprint\n",
    "from typing import Optional\n",
    "\n",
    "import pandas as pd\n",
    "\n",
    "\n",
    "# determine branch, default is main\n",
    "branch: str = \"main\"\n",
    "\n",
    "# determine subfolder, default is None (petsard/demo/)\n",
    "subfolder: Optional[str] = \"developer-guide\"\n",
    "\n",
    "\n",
    "# Check if running in Google Colab, if so, download the utils.py file from GitHub\n",
    "is_colab: bool = \"COLAB_GPU\" in os.environ\n",
    "if is_colab:\n",
    "    utils_url = (\n",
    "        f\"https://raw.githubusercontent.com/nics-tw/petsard/{branch}/demo/utils.py\"\n",
    "    )\n",
    "    response = requests.get(utils_url)\n",
    "\n",
    "    if response.status_code == 200:\n",
    "        with open(\"utils.py\", \"w\") as f:\n",
    "            f.write(response.text)\n",
    "\n",
    "        Path(\"__init__.py\").touch()\n",
    "    else:\n",
    "        raise RuntimeError(\n",
    "            f\"Failed to download utils.py. Status code: {response.status_code}\"\n",
    "        )\n",
    "\n",
    "\n",
    "# If not colab, and also contains subfolderl, add the correct path of util.py\n",
    "else:\n",
    "    if subfolder:\n",
    "        sys.path.append(os.path.dirname(os.getcwd()))"
   ]
  },
  {
   "cell_type": "code",
   "execution_count": null,
   "metadata": {},
   "outputs": [],
   "source": [
    "# Now import and run the setup\n",
    "from utils import (\n",
    "    get_yaml_path,\n",
    "    setup_environment,\n",
    ")\n",
    "\n",
    "\n",
    "setup_environment(\n",
    "    is_colab,\n",
    "    branch,\n",
    "    benchmark_data=[\n",
    "        \"adult-income\",\n",
    "    ],\n",
    "    subfolder=subfolder,\n",
    ")"
   ]
  },
  {
   "cell_type": "code",
   "execution_count": 3,
   "metadata": {},
   "outputs": [],
   "source": [
    "from petsard import Executor"
   ]
  },
  {
   "cell_type": "markdown",
   "metadata": {},
   "source": [
    "# YAML Configuration for PETsARD\n",
    "PETsARD 的 YAML 設定"
   ]
  },
  {
   "cell_type": "markdown",
   "metadata": {},
   "source": [
    "## mpUCCs Singling-Out evaluation\n",
    "最大部分唯一欄位組合 指認性評測"
   ]
  },
  {
   "cell_type": "code",
   "execution_count": 4,
   "metadata": {},
   "outputs": [
    {
     "name": "stdout",
     "output_type": "stream",
     "text": [
      "Configuration content:\n",
      "---\n",
      "Loader:\n",
      "  data:\n",
      "    filepath: 'benchmark/adult-income.csv'\n",
      "Splitter:\n",
      "  demo:\n",
      "    num_samples: 1\n",
      "    train_split_ratio: 0.8\n",
      "Preprocessor:\n",
      "  demo:\n",
      "    method: 'default'\n",
      "Synthesizer:\n",
      "  demo:\n",
      "    method: 'default'\n",
      "Postprocessor:\n",
      "  demo:\n",
      "    method: 'default'\n",
      "Evaluator:\n",
      "  demo-mpuccs:\n",
      "    method: 'mpuccs'\n",
      "    n_cols:\n",
      "      - 1\n",
      "      - 2\n",
      "      - 3\n",
      "Reporter:\n",
      "  output:\n",
      "    method: 'save_data'\n",
      "    source: 'Synthesizer'\n",
      "  save_report_global:\n",
      "    method: 'save_report'\n",
      "    granularity: 'global'\n",
      "  save_report_details:\n",
      "    method: 'save_report'\n",
      "    granularity: 'details'\n",
      "  save_report_tree:\n",
      "    method: 'save_report'\n",
      "    granularity: 'tree'\n",
      "...\n"
     ]
    }
   ],
   "source": [
    "yaml_file_case: str = \"mpuccs.yaml\"\n",
    "\n",
    "yaml_path_case: str = get_yaml_path(\n",
    "    is_colab=is_colab,\n",
    "    yaml_file=yaml_file_case,\n",
    "    branch=branch,\n",
    "    subfolder=subfolder,\n",
    ")"
   ]
  },
  {
   "cell_type": "markdown",
   "metadata": {},
   "source": [
    "### Execution and Result\n",
    "執行與結果"
   ]
  },
  {
   "cell_type": "code",
   "execution_count": null,
   "metadata": {},
   "outputs": [],
   "source": [
    "exec_case = Executor(config=yaml_path_case)\n",
    "exec_case.run()"
   ]
  },
  {
   "cell_type": "code",
   "execution_count": null,
   "metadata": {},
   "outputs": [
    {
     "data": {
      "text/html": [
       "<div>\n",
       "<style scoped>\n",
       "    .dataframe tbody tr th:only-of-type {\n",
       "        vertical-align: middle;\n",
       "    }\n",
       "\n",
       "    .dataframe tbody tr th {\n",
       "        vertical-align: top;\n",
       "    }\n",
       "\n",
       "    .dataframe thead th {\n",
       "        text-align: right;\n",
       "    }\n",
       "</style>\n",
       "<table border=\"1\" class=\"dataframe\">\n",
       "  <thead>\n",
       "    <tr style=\"text-align: right;\">\n",
       "      <th></th>\n",
       "      <th>full_expt_name</th>\n",
       "      <th>Loader</th>\n",
       "      <th>Splitter</th>\n",
       "      <th>Preprocessor</th>\n",
       "      <th>Synthesizer</th>\n",
       "      <th>Postprocessor</th>\n",
       "      <th>Evaluator</th>\n",
       "      <th>demo-mpuccs_total_syn_records</th>\n",
       "      <th>demo-mpuccs_total_ori_records</th>\n",
       "      <th>demo-mpuccs_total_identified</th>\n",
       "      <th>demo-mpuccs_identification_rate</th>\n",
       "      <th>demo-mpuccs_weighted_identification_rate</th>\n",
       "      <th>demo-mpuccs_total_combinations_checked</th>\n",
       "      <th>demo-mpuccs_total_combinations_pruned</th>\n",
       "      <th>demo-mpuccs_config_n_cols</th>\n",
       "      <th>demo-mpuccs_config_min_entropy_delta</th>\n",
       "      <th>demo-mpuccs_config_field_decay_factor</th>\n",
       "      <th>demo-mpuccs_config_renyi_alpha</th>\n",
       "      <th>demo-mpuccs_config_numeric_precision</th>\n",
       "      <th>demo-mpuccs_config_datetime_precision</th>\n",
       "    </tr>\n",
       "  </thead>\n",
       "  <tbody>\n",
       "    <tr>\n",
       "      <th>0</th>\n",
       "      <td>Loader[data]_Splitter[demo_[1-1]]_Preprocessor...</td>\n",
       "      <td>data</td>\n",
       "      <td>demo_[1-1]</td>\n",
       "      <td>demo</td>\n",
       "      <td>demo</td>\n",
       "      <td>demo</td>\n",
       "      <td>[global]</td>\n",
       "      <td>39073</td>\n",
       "      <td>39041</td>\n",
       "      <td>24340</td>\n",
       "      <td>0.622937</td>\n",
       "      <td>0.133116</td>\n",
       "      <td>4943</td>\n",
       "      <td>2568</td>\n",
       "      <td>[1, 2, 3, 4, 5]</td>\n",
       "      <td>0.0</td>\n",
       "      <td>0.5</td>\n",
       "      <td>2.0</td>\n",
       "      <td>None</td>\n",
       "      <td>None</td>\n",
       "    </tr>\n",
       "  </tbody>\n",
       "</table>\n",
       "</div>"
      ],
      "text/plain": [
       "                                      full_expt_name Loader    Splitter  \\\n",
       "0  Loader[data]_Splitter[demo_[1-1]]_Preprocessor...   data  demo_[1-1]   \n",
       "\n",
       "  Preprocessor Synthesizer Postprocessor Evaluator  \\\n",
       "0         demo        demo          demo  [global]   \n",
       "\n",
       "   demo-mpuccs_total_syn_records  demo-mpuccs_total_ori_records  \\\n",
       "0                          39073                          39041   \n",
       "\n",
       "   demo-mpuccs_total_identified  demo-mpuccs_identification_rate  \\\n",
       "0                         24340                         0.622937   \n",
       "\n",
       "   demo-mpuccs_weighted_identification_rate  \\\n",
       "0                                  0.133116   \n",
       "\n",
       "   demo-mpuccs_total_combinations_checked  \\\n",
       "0                                    4943   \n",
       "\n",
       "   demo-mpuccs_total_combinations_pruned demo-mpuccs_config_n_cols  \\\n",
       "0                                   2568           [1, 2, 3, 4, 5]   \n",
       "\n",
       "   demo-mpuccs_config_min_entropy_delta  \\\n",
       "0                                   0.0   \n",
       "\n",
       "   demo-mpuccs_config_field_decay_factor  demo-mpuccs_config_renyi_alpha  \\\n",
       "0                                    0.5                             2.0   \n",
       "\n",
       "  demo-mpuccs_config_numeric_precision demo-mpuccs_config_datetime_precision  \n",
       "0                                 None                                  None  "
      ]
     },
     "execution_count": 7,
     "metadata": {},
     "output_type": "execute_result"
    }
   ],
   "source": [
    "exec_case.get_result()[\n",
    "    \"Loader[data]_Splitter[demo_[1-1]]_Preprocessor[demo]_Synthesizer[demo]_Postprocessor[demo]_Evaluator[demo-mpuccs]_Reporter[save_report_global]\"\n",
    "][\"[global]\"]"
   ]
  }
 ],
 "metadata": {
  "kernelspec": {
   "display_name": ".venv",
   "language": "python",
   "name": "python3"
  },
  "language_info": {
   "codemirror_mode": {
    "name": "ipython",
    "version": 3
   },
   "file_extension": ".py",
   "mimetype": "text/x-python",
   "name": "python",
   "nbconvert_exporter": "python",
   "pygments_lexer": "ipython3",
   "version": "3.11.12"
  }
 },
 "nbformat": 4,
 "nbformat_minor": 2
}
