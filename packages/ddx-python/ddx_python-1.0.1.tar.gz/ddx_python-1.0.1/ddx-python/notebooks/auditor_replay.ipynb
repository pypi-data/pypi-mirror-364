{
 "cells": [
  {
   "cell_type": "code",
   "execution_count": null,
   "id": "781693bc-9c75-4959-ae36-9171075f9c63",
   "metadata": {},
   "outputs": [],
   "source": [
    "%load_ext autoreload\n",
    "%autoreload 2"
   ]
  },
  {
   "cell_type": "code",
   "execution_count": null,
   "id": "f26a3382-a0c5-4291-8cf0-c4a678908543",
   "metadata": {},
   "outputs": [],
   "source": [
    "!pip uninstall -y psycopg2 psycopg2-binary\n",
    "!pip install psycopg2-binary"
   ]
  },
  {
   "cell_type": "code",
   "execution_count": null,
   "id": "f8c5295e-072c-432b-8df9-075095bed783",
   "metadata": {},
   "outputs": [],
   "source": [
    "import pandas as pd\n",
    "import numpy as np\n",
    "import psycopg2\n",
    "import copy\n",
    "import os\n",
    "import sys\n",
    "import simplejson as json\n",
    "from typing import Dict\n",
    "pd.options.plotting.backend = \"plotly\"\n",
    "\n",
    "from ddx._rust.decimal import Decimal\n",
    "\n",
    "module_path = os.path.abspath(os.path.join('../'))\n",
    "if module_path not in sys.path:\n",
    "    sys.path.append(module_path)\n",
    "\n",
    "print(sys.path)\n",
    "\n",
    "from ddx.auditor.auditor_driver import AuditorDriver\n",
    "from ddx.common.epoch_params import EpochParams\n",
    "from ddx.common.trade_mining_params import TradeMiningParams\n",
    "from web3.auto import w3\n",
    "from ddx._rust.common.state import Item, ItemKind"
   ]
  },
  {
   "cell_type": "markdown",
   "id": "2c6d3d7f-9490-41f5-b8eb-9ce08fdc3abd",
   "metadata": {},
   "source": [
    "# Auditor replay"
   ]
  },
  {
   "cell_type": "markdown",
   "id": "7893224c-105c-4109-93ab-1295f2769e8e",
   "metadata": {},
   "source": [
    "## Postgres"
   ]
  },
  {
   "cell_type": "markdown",
   "id": "32d99d32-c101-457c-9982-9483a4e2fbe7",
   "metadata": {},
   "source": [
    "### Connection"
   ]
  },
  {
   "cell_type": "code",
   "execution_count": null,
   "id": "aead8a29-de74-45a9-8467-c68442bd8385",
   "metadata": {},
   "outputs": [],
   "source": [
    "# SERVER\n",
    "db_name = os.environ['OPERATOR_DB_NAME']\n",
    "db_host = os.environ['PGHOST']\n",
    "db_password = os.environ['PG_JUPYTER_READONLY_PW']\n",
    "db_port = os.environ['PGPORT']\n",
    "db_username = os.environ['PG_JUPYTER_READONLY_ROLE']"
   ]
  },
  {
   "cell_type": "code",
   "execution_count": null,
   "id": "f6201be3-ab66-4687-a4df-3f12a1e3a427",
   "metadata": {},
   "outputs": [],
   "source": [
    "# Connect to an existing database\n",
    "try:\n",
    "    connection = psycopg2.connect(user=db_username,\n",
    "                                  password=db_password,\n",
    "                                  host=db_host,\n",
    "                                  port=db_port,\n",
    "                                  database=db_name)\n",
    "\n",
    "    # Create a cursor to perform database operations\n",
    "    cursor = connection.cursor()\n",
    "    # Print PostgreSQL details\n",
    "    print(\"PostgreSQL server information\")\n",
    "    print(connection.get_dsn_parameters(), \"\\n\")\n",
    "    # Executing a SQL query\n",
    "    cursor.execute(\"SELECT version();\")\n",
    "    # Fetch result\n",
    "    record = cursor.fetchone()\n",
    "    print(\"You are connected to - \", record, \"\\n\")\n",
    "finally:\n",
    "    if connection:\n",
    "        # cursor.close()\n",
    "        # connection.close()\n",
    "        print(\"PostgreSQL connection is closed (but not really)\")"
   ]
  },
  {
   "cell_type": "markdown",
   "id": "d2f02b79-613b-4ac6-a7bf-d46f2af57507",
   "metadata": {},
   "source": [
    "### SQL library"
   ]
  },
  {
   "cell_type": "code",
   "execution_count": null,
   "id": "470929e3-af36-4a54-b1ec-7eb32938b15f",
   "metadata": {},
   "outputs": [],
   "source": [
    "# Get table names\n",
    "get_table_names_sql = \"\"\"SELECT table_name FROM information_schema.tables\"\"\"\n",
    "\n",
    "# Get tx log table\n",
    "get_tx_log_table_sql = \"\"\"SELECT * FROM tx_log\"\"\"\n",
    "\n",
    "# Get tx log table during epoch id\n",
    "def get_tx_log_table_during_epoch_id_sql(epoch_id):\n",
    "    return f\"\"\"SELECT * FROM tx_log WHERE epoch_id = {epoch_id}\"\"\"\n",
    "\n",
    "# Get tx log table after epoch id\n",
    "def get_tx_log_table_after_epoch_id_sql(epoch_id):\n",
    "    return f\"\"\"SELECT * FROM tx_log WHERE epoch_id >= {epoch_id}\"\"\"\n",
    "\n",
    "# Get request log table\n",
    "get_request_log_table_sql = \"\"\"SELECT * FROM request.queue\"\"\"\n",
    "\n",
    "# Get request log table\n",
    "def get_request_log_table_before_request_index_sql(request_index):\n",
    "    return f\"\"\"SELECT * FROM request.queue WHERE request_index <= {request_index}\"\"\"\n",
    "\n",
    "# Get request log table\n",
    "def get_request_log_table_after_request_index_sql(request_index):\n",
    "    return f\"\"\"SELECT * FROM request.queue WHERE request_index >= {request_index}\"\"\"\n",
    "\n",
    "# Get table\n",
    "def get_table_before_max_tx_sql(table_name: str, epoch_id: int, tx_ordinal: int):\n",
    "    return f\"\"\"SELECT * FROM {table_name} WHERE (epoch_id < {epoch_id}) OR (epoch_id = {epoch_id} AND tx_ordinal <= {tx_ordinal})\"\"\"\n",
    "\n",
    "# Get state snapshot table for epoch id\n",
    "def get_state_snapshot_table_for_epoch_id_sql(epoch_id):\n",
    "    return f\"\"\"WITH epoch_ver AS (\n",
    "      SELECT leaf_key, max(epoch_id) as epoch_id\n",
    "        FROM verified_state.versions\n",
    "      WHERE epoch_id <= {epoch_id}\n",
    "      GROUP BY leaf_key\n",
    "    )\n",
    "    SELECT m.leaf_key, s.abi_schema, s.leaf\n",
    "      FROM verified_state.versions m\n",
    "    INNER JOIN epoch_ver e ON e.leaf_key = m.leaf_key AND e.epoch_id = m.epoch_id\n",
    "    INNER JOIN verified_state.items s ON s.leaf_hash = m.leaf_hash;\"\"\""
   ]
  },
  {
   "cell_type": "code",
   "execution_count": null,
   "id": "7443d8ca-61ad-4f35-a4e6-bcdc21803bc5",
   "metadata": {},
   "outputs": [],
   "source": [
    "epoch_id = 5\n",
    "\n",
    "state_snapshot_df = pd.read_sql_query(get_state_snapshot_table_for_epoch_id_sql(epoch_id - 1), connection)\n",
    "\n",
    "tx_log_df = pd.read_sql_query(get_tx_log_table_after_epoch_id_sql(epoch_id), connection)\n",
    "\n",
    "def to_camel_case(snake_str):\n",
    "    components = snake_str.split('_')\n",
    "    # We capitalize the first letter of each component except the first one\n",
    "    # with the 'title' method and join them together.\n",
    "    return components[0] + ''.join(x.title() for x in components[1:])\n",
    "\n",
    "tx_log_df['state_root_hash'] = tx_log_df['state_root_hash'].apply(lambda x: f'0x{x.hex()}')\n",
    "\n",
    "tx_log_df.columns = [to_camel_case(col) for col in tx_log_df.columns]\n",
    "# tx_log_df = tx_log_df[(tx_log_df['epochId'] == epoch_id) | (tx_log_df['epochId'] == epoch_id + 1)]\n",
    "tx_log_df.sort_values(['requestIndex', 'txOrdinal'], ascending=[True, True], inplace=True)\n",
    "\n",
    "tx_log_df.tail()\n",
    "\n",
    "state_snapshot_dict = {f'0x{key.hex()}': f'0x{val.hex()}' for (key, _, val) in state_snapshot_df.to_records(index=False)}\n",
    "\n",
    "tx_log = tx_log_df.to_dict(orient='records')"
   ]
  },
  {
   "cell_type": "code",
   "execution_count": null,
   "id": "e6529414-106d-42fa-8d5c-82da388b969a",
   "metadata": {},
   "outputs": [],
   "source": [
    "state_snapshot_key = '0x0200aa6676733e2e259d879127519d973ac71135f7972576ebd1000000000000'\n",
    "state_snapshot_value = '0x00000000000000000000000000000000000000000000000000000000000000200000000000000000000000000000000000000000000000000000000000000020000000000000000000000000000000000000000000000000000000000000000200000000000000000000000000000000000000000000000000000000000000400000000000000000000000000000000000000000000000000000000000000080000000000000000000000000000000000000000000000000000000000000014000000000000000000000000000000000000000000000000000000000000000030000000000000000000000000000000000000000000000000000000000000000000000000000000000000000000000000000000000000000000000000000004000000000000000000000000000000000000000000000000000000000000000800000000000000000000000000000000000000000000000000000000000000001000000000000000000000000d8ca39d276c05a370174ce872b7278fcf734afac000000000000000000000000000000000000000000000000000000000000000100000000000000000000000000000000000000000000000000005af3107a40000000000000000000000000000000000000000000000000000000000000000040000000000000000000000000000000000000000000000000000000000000006000000000000000000000000000000000000000000000000000000000000000000000000000000000000000000000000000000000000000000000000000000000'\n",
    "state_snapshot_key = bytes.fromhex(state_snapshot_key[2:])\n",
    "# Peel the item discriminant off (the first byte of the\n",
    "# leaf key) to determine what kind of leaf it is\n",
    "item_discriminant = ItemKind(w3.to_int(state_snapshot_key[:1]))\n",
    "\n",
    "item = Item.abi_decode_value_into_item(\n",
    "    item_discriminant, bytes.fromhex(state_snapshot_value[2:])\n",
    ")\n",
    "item_discriminant, item"
   ]
  },
  {
   "cell_type": "code",
   "execution_count": null,
   "id": "56151fb7-8655-4eb0-9156-ed19d4e9259c",
   "metadata": {},
   "outputs": [],
   "source": [
    "auditor_driver = AuditorDriver(\n",
    "    'http://af1.derivadex.io',\n",
    "    None,\n",
    "    EpochParams(\n",
    "        300,\n",
    "        30,\n",
    "        3000,\n",
    "        9000,\n",
    "        3000,\n",
    "        3000,\n",
    "        100,\n",
    "    ),\n",
    "    TradeMiningParams(\n",
    "        1000,\n",
    "        (Decimal(\"35_000_000\") / (10 * 365 * 3)).recorded_amount(),\n",
    "        Decimal(\"0.2\"),\n",
    "    ),\n",
    "    '[[1000000, 10000], [0, 10000000]]',\n",
    "    'geth',\n",
    ")\n",
    "\n",
    "auditor_driver._reset()\n",
    "\n",
    "auditor_driver.process_state_snapshot(epoch_id, chunks[51])\n",
    "\n",
    "# # Initialize the current local state root hash to the SMT's root\n",
    "# # hash after having loaded the state snapshot\n",
    "# auditor_driver.current_state_root_hash = f'0x{auditor_driver.smt.root().as_bytes().hex()}'\n",
    "# auditor_driver.current_batch_state_root_hash = auditor_driver.current_state_root_hash\n",
    "\n",
    "# auditor_driver.latest_batch_id = tx_log[0][\"batchId\"]\n",
    "\n",
    "# for tx_log_event in tx_log:\n",
    "#     auditor_driver.process_tx_log_event(tx_log_event, True)\n",
    "\n",
    "# final_root_hash = f'0x{auditor_driver.smt.root().as_bytes().hex()}'"
   ]
  },
  {
   "cell_type": "code",
   "execution_count": null,
   "id": "1dab50ad-b0ff-4b2b-aefa-013a27e19d90",
   "metadata": {},
   "outputs": [],
   "source": []
  }
 ],
 "metadata": {
  "kernelspec": {
   "display_name": "Python 3 (ipykernel)",
   "language": "python",
   "name": "python3"
  },
  "language_info": {
   "codemirror_mode": {
    "name": "ipython",
    "version": 3
   },
   "file_extension": ".py",
   "mimetype": "text/x-python",
   "name": "python",
   "nbconvert_exporter": "python",
   "pygments_lexer": "ipython3",
   "version": "3.10.9"
  }
 },
 "nbformat": 4,
 "nbformat_minor": 5
}
